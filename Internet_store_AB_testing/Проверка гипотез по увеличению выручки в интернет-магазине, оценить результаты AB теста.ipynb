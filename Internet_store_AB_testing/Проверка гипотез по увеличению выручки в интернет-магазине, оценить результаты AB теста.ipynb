{
 "cells": [
  {
   "cell_type": "markdown",
   "metadata": {},
   "source": [
    "# Принятие решений в бизнесе"
   ]
  },
  {
   "cell_type": "markdown",
   "metadata": {},
   "source": [
    "## Контекст"
   ]
  },
  {
   "cell_type": "markdown",
   "metadata": {},
   "source": [
    "<div style=\"background:#e5e5e5; color:#000; padding:10px\">\n",
    "Вместе с отделом маркетинга мы подготовили список гипотез для увеличения выручки.\n",
    "\n",
    "Надо приоритизировать гипотезы, запустить A/B-тест и проанализировать результаты. \n",
    "</div>"
   ]
  },
  {
   "cell_type": "markdown",
   "metadata": {},
   "source": [
    "## Часть 1. Приоритизация гипотез."
   ]
  },
  {
   "cell_type": "markdown",
   "metadata": {},
   "source": [
    "<div style=\"background:#e5e5e5; color:#000; padding:10px\">\n",
    "\n",
    "**Дано:**\n",
    "    \n",
    "9 гипотез по увеличению выручки интернет-магазина с указанными параметрами Reach, Impact, Confidence, Effort.\n",
    "\n",
    "\n",
    "**Найти:**\n",
    "\n",
    "Применить фреймворки ICE, RICE и приоритизировать гипотезы.\n",
    "    \n",
    "</div>"
   ]
  },
  {
   "cell_type": "markdown",
   "metadata": {},
   "source": [
    "**Входные данные:**\n",
    "\n",
    "Hypothesis — краткое описание гипотезы;\n",
    "\n",
    "Reach — охват пользователей по 10-балльной шкале;\n",
    "\n",
    "Impact — влияние на пользователей по 10-балльной шкале;\n",
    "\n",
    "Confidence — уверенность в гипотезе по 10-балльной шкале;\n",
    "\n",
    "Efforts — затраты ресурсов на проверку гипотезы по 10-балльной шкале. Чем больше значение Efforts, тем дороже проверка гипотезы."
   ]
  },
  {
   "cell_type": "code",
   "execution_count": 1,
   "metadata": {},
   "outputs": [],
   "source": [
    "import pandas as pd\n",
    "import datetime as dt\n",
    "import numpy as np\n",
    "import matplotlib.pyplot as plt\n",
    "from matplotlib.pyplot import figure\n",
    "import scipy.stats as stats\n",
    "\n",
    "\n"
   ]
  },
  {
   "cell_type": "code",
   "execution_count": 2,
   "metadata": {
    "scrolled": false
   },
   "outputs": [
    {
     "data": {
      "text/html": [
       "<div>\n",
       "<style scoped>\n",
       "    .dataframe tbody tr th:only-of-type {\n",
       "        vertical-align: middle;\n",
       "    }\n",
       "\n",
       "    .dataframe tbody tr th {\n",
       "        vertical-align: top;\n",
       "    }\n",
       "\n",
       "    .dataframe thead th {\n",
       "        text-align: right;\n",
       "    }\n",
       "</style>\n",
       "<table border=\"1\" class=\"dataframe\">\n",
       "  <thead>\n",
       "    <tr style=\"text-align: right;\">\n",
       "      <th></th>\n",
       "      <th>hypothesis</th>\n",
       "      <th>reach</th>\n",
       "      <th>impact</th>\n",
       "      <th>confidence</th>\n",
       "      <th>efforts</th>\n",
       "    </tr>\n",
       "  </thead>\n",
       "  <tbody>\n",
       "    <tr>\n",
       "      <th>0</th>\n",
       "      <td>Добавить два новых канала привлечения трафика, что позволит привлекать на 30% больше пользователей</td>\n",
       "      <td>3</td>\n",
       "      <td>10</td>\n",
       "      <td>8</td>\n",
       "      <td>6</td>\n",
       "    </tr>\n",
       "    <tr>\n",
       "      <th>1</th>\n",
       "      <td>Запустить собственную службу доставки, что сократит срок доставки заказов</td>\n",
       "      <td>2</td>\n",
       "      <td>5</td>\n",
       "      <td>4</td>\n",
       "      <td>10</td>\n",
       "    </tr>\n",
       "    <tr>\n",
       "      <th>2</th>\n",
       "      <td>Добавить блоки рекомендаций товаров на сайт интернет магазина, чтобы повысить конверсию и средний чек заказа</td>\n",
       "      <td>8</td>\n",
       "      <td>3</td>\n",
       "      <td>7</td>\n",
       "      <td>3</td>\n",
       "    </tr>\n",
       "    <tr>\n",
       "      <th>3</th>\n",
       "      <td>Изменить структура категорий, что увеличит конверсию, т.к. пользователи быстрее найдут нужный товар</td>\n",
       "      <td>8</td>\n",
       "      <td>3</td>\n",
       "      <td>3</td>\n",
       "      <td>8</td>\n",
       "    </tr>\n",
       "    <tr>\n",
       "      <th>4</th>\n",
       "      <td>Изменить цвет фона главной страницы, чтобы увеличить вовлеченность пользователей</td>\n",
       "      <td>3</td>\n",
       "      <td>1</td>\n",
       "      <td>1</td>\n",
       "      <td>1</td>\n",
       "    </tr>\n",
       "    <tr>\n",
       "      <th>5</th>\n",
       "      <td>Добавить страницу отзывов клиентов о магазине, что позволит увеличить количество заказов</td>\n",
       "      <td>3</td>\n",
       "      <td>2</td>\n",
       "      <td>2</td>\n",
       "      <td>3</td>\n",
       "    </tr>\n",
       "    <tr>\n",
       "      <th>6</th>\n",
       "      <td>Показать на главной странице баннеры с актуальными акциями и распродажами, чтобы увеличить конверсию</td>\n",
       "      <td>5</td>\n",
       "      <td>3</td>\n",
       "      <td>8</td>\n",
       "      <td>3</td>\n",
       "    </tr>\n",
       "    <tr>\n",
       "      <th>7</th>\n",
       "      <td>Добавить форму подписки на все основные страницы, чтобы собрать базу клиентов для email-рассылок</td>\n",
       "      <td>10</td>\n",
       "      <td>7</td>\n",
       "      <td>8</td>\n",
       "      <td>5</td>\n",
       "    </tr>\n",
       "    <tr>\n",
       "      <th>8</th>\n",
       "      <td>Запустить акцию, дающую скидку на товар в день рождения</td>\n",
       "      <td>1</td>\n",
       "      <td>9</td>\n",
       "      <td>9</td>\n",
       "      <td>5</td>\n",
       "    </tr>\n",
       "  </tbody>\n",
       "</table>\n",
       "</div>"
      ],
      "text/plain": [
       "                                                                                                     hypothesis  reach  impact  confidence  efforts\n",
       "0            Добавить два новых канала привлечения трафика, что позволит привлекать на 30% больше пользователей      3      10           8        6\n",
       "1                                     Запустить собственную службу доставки, что сократит срок доставки заказов      2       5           4       10\n",
       "2  Добавить блоки рекомендаций товаров на сайт интернет магазина, чтобы повысить конверсию и средний чек заказа      8       3           7        3\n",
       "3           Изменить структура категорий, что увеличит конверсию, т.к. пользователи быстрее найдут нужный товар      8       3           3        8\n",
       "4                              Изменить цвет фона главной страницы, чтобы увеличить вовлеченность пользователей      3       1           1        1\n",
       "5                      Добавить страницу отзывов клиентов о магазине, что позволит увеличить количество заказов      3       2           2        3\n",
       "6          Показать на главной странице баннеры с актуальными акциями и распродажами, чтобы увеличить конверсию      5       3           8        3\n",
       "7              Добавить форму подписки на все основные страницы, чтобы собрать базу клиентов для email-рассылок     10       7           8        5\n",
       "8                                                       Запустить акцию, дающую скидку на товар в день рождения      1       9           9        5"
      ]
     },
     "metadata": {},
     "output_type": "display_data"
    }
   ],
   "source": [
    "# знакомимся с данными\n",
    "data = pd.read_csv('/datasets/hypothesis.csv')\n",
    "data.columns = data.columns.str.lower()\n",
    "\n",
    "pd.set_option('max_colwidth', 120)\n",
    "pd.set_option('display.width', 500)\n",
    "\n",
    "display(data)"
   ]
  },
  {
   "cell_type": "code",
   "execution_count": 3,
   "metadata": {
    "scrolled": true
   },
   "outputs": [
    {
     "data": {
      "text/html": [
       "<div>\n",
       "<style scoped>\n",
       "    .dataframe tbody tr th:only-of-type {\n",
       "        vertical-align: middle;\n",
       "    }\n",
       "\n",
       "    .dataframe tbody tr th {\n",
       "        vertical-align: top;\n",
       "    }\n",
       "\n",
       "    .dataframe thead th {\n",
       "        text-align: right;\n",
       "    }\n",
       "</style>\n",
       "<table border=\"1\" class=\"dataframe\">\n",
       "  <thead>\n",
       "    <tr style=\"text-align: right;\">\n",
       "      <th></th>\n",
       "      <th>hypothesis</th>\n",
       "      <th>ice</th>\n",
       "    </tr>\n",
       "  </thead>\n",
       "  <tbody>\n",
       "    <tr>\n",
       "      <th>8</th>\n",
       "      <td>Запустить акцию, дающую скидку на товар в день рождения</td>\n",
       "      <td>16.20</td>\n",
       "    </tr>\n",
       "    <tr>\n",
       "      <th>0</th>\n",
       "      <td>Добавить два новых канала привлечения трафика, что позволит привлекать на 30% больше пользователей</td>\n",
       "      <td>13.33</td>\n",
       "    </tr>\n",
       "    <tr>\n",
       "      <th>7</th>\n",
       "      <td>Добавить форму подписки на все основные страницы, чтобы собрать базу клиентов для email-рассылок</td>\n",
       "      <td>11.20</td>\n",
       "    </tr>\n",
       "    <tr>\n",
       "      <th>6</th>\n",
       "      <td>Показать на главной странице баннеры с актуальными акциями и распродажами, чтобы увеличить конверсию</td>\n",
       "      <td>8.00</td>\n",
       "    </tr>\n",
       "    <tr>\n",
       "      <th>2</th>\n",
       "      <td>Добавить блоки рекомендаций товаров на сайт интернет магазина, чтобы повысить конверсию и средний чек заказа</td>\n",
       "      <td>7.00</td>\n",
       "    </tr>\n",
       "    <tr>\n",
       "      <th>1</th>\n",
       "      <td>Запустить собственную службу доставки, что сократит срок доставки заказов</td>\n",
       "      <td>2.00</td>\n",
       "    </tr>\n",
       "    <tr>\n",
       "      <th>5</th>\n",
       "      <td>Добавить страницу отзывов клиентов о магазине, что позволит увеличить количество заказов</td>\n",
       "      <td>1.33</td>\n",
       "    </tr>\n",
       "    <tr>\n",
       "      <th>3</th>\n",
       "      <td>Изменить структура категорий, что увеличит конверсию, т.к. пользователи быстрее найдут нужный товар</td>\n",
       "      <td>1.12</td>\n",
       "    </tr>\n",
       "    <tr>\n",
       "      <th>4</th>\n",
       "      <td>Изменить цвет фона главной страницы, чтобы увеличить вовлеченность пользователей</td>\n",
       "      <td>1.00</td>\n",
       "    </tr>\n",
       "  </tbody>\n",
       "</table>\n",
       "</div>"
      ],
      "text/plain": [
       "                                                                                                     hypothesis    ice\n",
       "8                                                       Запустить акцию, дающую скидку на товар в день рождения  16.20\n",
       "0            Добавить два новых канала привлечения трафика, что позволит привлекать на 30% больше пользователей  13.33\n",
       "7              Добавить форму подписки на все основные страницы, чтобы собрать базу клиентов для email-рассылок  11.20\n",
       "6          Показать на главной странице баннеры с актуальными акциями и распродажами, чтобы увеличить конверсию   8.00\n",
       "2  Добавить блоки рекомендаций товаров на сайт интернет магазина, чтобы повысить конверсию и средний чек заказа   7.00\n",
       "1                                     Запустить собственную службу доставки, что сократит срок доставки заказов   2.00\n",
       "5                      Добавить страницу отзывов клиентов о магазине, что позволит увеличить количество заказов   1.33\n",
       "3           Изменить структура категорий, что увеличит конверсию, т.к. пользователи быстрее найдут нужный товар   1.12\n",
       "4                              Изменить цвет фона главной страницы, чтобы увеличить вовлеченность пользователей   1.00"
      ]
     },
     "metadata": {},
     "output_type": "display_data"
    }
   ],
   "source": [
    "# приоритизируем гипотезы по ICE\n",
    "data['ice'] = data['impact'] * data['confidence'] / data['efforts']\n",
    "display(round(data[['hypothesis', 'ice']], 2).sort_values(by='ice', ascending = False))"
   ]
  },
  {
   "cell_type": "code",
   "execution_count": 4,
   "metadata": {},
   "outputs": [
    {
     "data": {
      "text/html": [
       "<div>\n",
       "<style scoped>\n",
       "    .dataframe tbody tr th:only-of-type {\n",
       "        vertical-align: middle;\n",
       "    }\n",
       "\n",
       "    .dataframe tbody tr th {\n",
       "        vertical-align: top;\n",
       "    }\n",
       "\n",
       "    .dataframe thead th {\n",
       "        text-align: right;\n",
       "    }\n",
       "</style>\n",
       "<table border=\"1\" class=\"dataframe\">\n",
       "  <thead>\n",
       "    <tr style=\"text-align: right;\">\n",
       "      <th></th>\n",
       "      <th>hypothesis</th>\n",
       "      <th>rice</th>\n",
       "    </tr>\n",
       "  </thead>\n",
       "  <tbody>\n",
       "    <tr>\n",
       "      <th>7</th>\n",
       "      <td>Добавить форму подписки на все основные страницы, чтобы собрать базу клиентов для email-рассылок</td>\n",
       "      <td>112.0</td>\n",
       "    </tr>\n",
       "    <tr>\n",
       "      <th>2</th>\n",
       "      <td>Добавить блоки рекомендаций товаров на сайт интернет магазина, чтобы повысить конверсию и средний чек заказа</td>\n",
       "      <td>56.0</td>\n",
       "    </tr>\n",
       "    <tr>\n",
       "      <th>0</th>\n",
       "      <td>Добавить два новых канала привлечения трафика, что позволит привлекать на 30% больше пользователей</td>\n",
       "      <td>40.0</td>\n",
       "    </tr>\n",
       "    <tr>\n",
       "      <th>6</th>\n",
       "      <td>Показать на главной странице баннеры с актуальными акциями и распродажами, чтобы увеличить конверсию</td>\n",
       "      <td>40.0</td>\n",
       "    </tr>\n",
       "    <tr>\n",
       "      <th>8</th>\n",
       "      <td>Запустить акцию, дающую скидку на товар в день рождения</td>\n",
       "      <td>16.2</td>\n",
       "    </tr>\n",
       "    <tr>\n",
       "      <th>3</th>\n",
       "      <td>Изменить структура категорий, что увеличит конверсию, т.к. пользователи быстрее найдут нужный товар</td>\n",
       "      <td>9.0</td>\n",
       "    </tr>\n",
       "    <tr>\n",
       "      <th>1</th>\n",
       "      <td>Запустить собственную службу доставки, что сократит срок доставки заказов</td>\n",
       "      <td>4.0</td>\n",
       "    </tr>\n",
       "    <tr>\n",
       "      <th>5</th>\n",
       "      <td>Добавить страницу отзывов клиентов о магазине, что позволит увеличить количество заказов</td>\n",
       "      <td>4.0</td>\n",
       "    </tr>\n",
       "    <tr>\n",
       "      <th>4</th>\n",
       "      <td>Изменить цвет фона главной страницы, чтобы увеличить вовлеченность пользователей</td>\n",
       "      <td>3.0</td>\n",
       "    </tr>\n",
       "  </tbody>\n",
       "</table>\n",
       "</div>"
      ],
      "text/plain": [
       "                                                                                                     hypothesis   rice\n",
       "7              Добавить форму подписки на все основные страницы, чтобы собрать базу клиентов для email-рассылок  112.0\n",
       "2  Добавить блоки рекомендаций товаров на сайт интернет магазина, чтобы повысить конверсию и средний чек заказа   56.0\n",
       "0            Добавить два новых канала привлечения трафика, что позволит привлекать на 30% больше пользователей   40.0\n",
       "6          Показать на главной странице баннеры с актуальными акциями и распродажами, чтобы увеличить конверсию   40.0\n",
       "8                                                       Запустить акцию, дающую скидку на товар в день рождения   16.2\n",
       "3           Изменить структура категорий, что увеличит конверсию, т.к. пользователи быстрее найдут нужный товар    9.0\n",
       "1                                     Запустить собственную службу доставки, что сократит срок доставки заказов    4.0\n",
       "5                      Добавить страницу отзывов клиентов о магазине, что позволит увеличить количество заказов    4.0\n",
       "4                              Изменить цвет фона главной страницы, чтобы увеличить вовлеченность пользователей    3.0"
      ]
     },
     "metadata": {},
     "output_type": "display_data"
    }
   ],
   "source": [
    "# приоритизируем гипотезы по RICE\n",
    "data['rice'] = data['reach'] * data['impact'] * data['confidence'] / data['efforts']\n",
    "display(data[['hypothesis', 'rice']].sort_values(by='rice', ascending = False))"
   ]
  },
  {
   "cell_type": "markdown",
   "metadata": {},
   "source": [
    "**Выводы по оценке гипотез:**\n",
    "\n",
    "1. Наиболее перспективные гипотезы по ICE под номерами: 8, 0, 7, 6.\n",
    "1. Наиболее перспективные гипотезы по RICE под номерами: 7, 2, 0, 6.\n",
    "\n",
    "Отличие фреймворка RICE в параметре Reach - скольких пользователей затронет изменение.\n",
    "\n",
    "Ввиду этого, за счет малого охвата, лидирующая в ICE гипотеза №8 уже не входит в ТОП по оценке RICE.\n",
    "\n",
    "В то же время, из-за большого охвата в ТОП поднялась гипотеза 2, хотя impact у нее небольшой.\n",
    "\n",
    "Ядро гипотез осталось прежним: 0, 7, 6.\n",
    "\n",
    "На основании результатов оценки гипотез предлагаю следовать фреймворку RICE: проверить 7, 2, 0, 6."
   ]
  },
  {
   "cell_type": "markdown",
   "metadata": {},
   "source": [
    "## Часть 2. Анализ A/B-теста"
   ]
  },
  {
   "cell_type": "markdown",
   "metadata": {},
   "source": [
    "<div style=\"background:#e5e5e5; color:#000; padding:10px\">\n",
    "    \n",
    "**Дано:**\n",
    "    \n",
    "2 таблицы с результатами теста: orders, visits.\n",
    "    \n",
    "**Проанализировать:**\n",
    "1. Построить график кумулятивной выручки по группам;\n",
    "\n",
    "1. Построить график кумулятивного среднего чека по группам;\n",
    "\n",
    "1. Построить график относительного изменения кумулятивного среднего чека группы B к группе A;\n",
    "\n",
    "1. Построить график кумулятивного среднего количества заказов на посетителя по группам;\n",
    "\n",
    "1. Построить график относительного изменения кумулятивного среднего количества заказов на посетителя группы B к группе A;\n",
    "\n",
    "1. Построить точечный график количества заказов по пользователям;\n",
    "\n",
    "1. Посчитать 95-й и 99-й перцентили количества заказов на пользователя. Выберите границу для определения аномальных пользователей;\n",
    "\n",
    "1. Построить точечный график стоимостей заказов;\n",
    "\n",
    "1. Посчитать 95-й и 99-й перцентили стоимости заказов. Выберите границу для определения аномальных заказов;\n",
    "\n",
    "1. Посчитать статистическую значимость различий в среднем количестве заказов на посетителя между группами по «сырым» данным;\n",
    "\n",
    "1. Посчитать статистическую значимость различий в среднем чеке заказа между группами по «сырым» данным;\n",
    "\n",
    "1. Посчитать статистическую значимость различий в среднем количестве заказов на посетителя между группами по «очищенным» данным;\n",
    "\n",
    "1. Посчитать статистическую значимость различий в среднем чеке заказа между группами по «очищенным» данным;\n",
    "\n",
    "1. Принять решение по результатам теста. Варианты решений:\n",
    "    1. Остановить тест, зафиксировать победу одной из групп.\n",
    "    2. Остановить тест, зафиксировать отсутствие различий между группами.\n",
    "    3. Продолжить тест.\n",
    "</div>"
   ]
  },
  {
   "cell_type": "markdown",
   "metadata": {},
   "source": [
    "**Входные данные:**\n",
    "\n",
    "**Таблица orders:**\n",
    "\n",
    "transactionId — идентификатор заказа;\n",
    "\n",
    "visitorId — идентификатор пользователя, совершившего заказ;\n",
    "\n",
    "date — дата, когда был совершён заказ;\n",
    "\n",
    "revenue — выручка заказа;\n",
    "\n",
    "group — группа A/B-теста, в которую попал заказ.\n",
    "\n",
    "**Таблица visitors**\n",
    "\n",
    "date — дата;\n",
    "\n",
    "group — группа A/B-теста;\n",
    "\n",
    "visitors — количество пользователей в указанную дату в указанной группе A/B-теста."
   ]
  },
  {
   "cell_type": "code",
   "execution_count": 5,
   "metadata": {},
   "outputs": [
    {
     "data": {
      "text/html": [
       "<div>\n",
       "<style scoped>\n",
       "    .dataframe tbody tr th:only-of-type {\n",
       "        vertical-align: middle;\n",
       "    }\n",
       "\n",
       "    .dataframe tbody tr th {\n",
       "        vertical-align: top;\n",
       "    }\n",
       "\n",
       "    .dataframe thead th {\n",
       "        text-align: right;\n",
       "    }\n",
       "</style>\n",
       "<table border=\"1\" class=\"dataframe\">\n",
       "  <thead>\n",
       "    <tr style=\"text-align: right;\">\n",
       "      <th></th>\n",
       "      <th>transactionId</th>\n",
       "      <th>visitorId</th>\n",
       "      <th>date</th>\n",
       "      <th>revenue</th>\n",
       "      <th>group</th>\n",
       "    </tr>\n",
       "  </thead>\n",
       "  <tbody>\n",
       "    <tr>\n",
       "      <th>0</th>\n",
       "      <td>3667963787</td>\n",
       "      <td>3312258926</td>\n",
       "      <td>2019-08-15</td>\n",
       "      <td>1650</td>\n",
       "      <td>B</td>\n",
       "    </tr>\n",
       "    <tr>\n",
       "      <th>1</th>\n",
       "      <td>2804400009</td>\n",
       "      <td>3642806036</td>\n",
       "      <td>2019-08-15</td>\n",
       "      <td>730</td>\n",
       "      <td>B</td>\n",
       "    </tr>\n",
       "    <tr>\n",
       "      <th>2</th>\n",
       "      <td>2961555356</td>\n",
       "      <td>4069496402</td>\n",
       "      <td>2019-08-15</td>\n",
       "      <td>400</td>\n",
       "      <td>A</td>\n",
       "    </tr>\n",
       "    <tr>\n",
       "      <th>3</th>\n",
       "      <td>3797467345</td>\n",
       "      <td>1196621759</td>\n",
       "      <td>2019-08-15</td>\n",
       "      <td>9759</td>\n",
       "      <td>B</td>\n",
       "    </tr>\n",
       "    <tr>\n",
       "      <th>4</th>\n",
       "      <td>2282983706</td>\n",
       "      <td>2322279887</td>\n",
       "      <td>2019-08-15</td>\n",
       "      <td>2308</td>\n",
       "      <td>B</td>\n",
       "    </tr>\n",
       "  </tbody>\n",
       "</table>\n",
       "</div>"
      ],
      "text/plain": [
       "   transactionId   visitorId       date  revenue group\n",
       "0     3667963787  3312258926 2019-08-15     1650     B\n",
       "1     2804400009  3642806036 2019-08-15      730     B\n",
       "2     2961555356  4069496402 2019-08-15      400     A\n",
       "3     3797467345  1196621759 2019-08-15     9759     B\n",
       "4     2282983706  2322279887 2019-08-15     2308     B"
      ]
     },
     "metadata": {},
     "output_type": "display_data"
    }
   ],
   "source": [
    "# изучаем таблицу orders\n",
    "# меняем тип даты\n",
    "orders = pd.read_csv('/datasets/orders.csv')\n",
    "orders['date'] = orders['date'].map(\n",
    "    lambda x: dt.datetime.strptime(x, '%Y-%m-%d'))\n",
    "display(orders.head())"
   ]
  },
  {
   "cell_type": "code",
   "execution_count": 6,
   "metadata": {},
   "outputs": [
    {
     "data": {
      "text/html": [
       "<div>\n",
       "<style scoped>\n",
       "    .dataframe tbody tr th:only-of-type {\n",
       "        vertical-align: middle;\n",
       "    }\n",
       "\n",
       "    .dataframe tbody tr th {\n",
       "        vertical-align: top;\n",
       "    }\n",
       "\n",
       "    .dataframe thead th {\n",
       "        text-align: right;\n",
       "    }\n",
       "</style>\n",
       "<table border=\"1\" class=\"dataframe\">\n",
       "  <thead>\n",
       "    <tr style=\"text-align: right;\">\n",
       "      <th></th>\n",
       "      <th>date</th>\n",
       "      <th>group</th>\n",
       "      <th>visitors</th>\n",
       "    </tr>\n",
       "  </thead>\n",
       "  <tbody>\n",
       "    <tr>\n",
       "      <th>0</th>\n",
       "      <td>2019-08-01</td>\n",
       "      <td>A</td>\n",
       "      <td>719</td>\n",
       "    </tr>\n",
       "    <tr>\n",
       "      <th>1</th>\n",
       "      <td>2019-08-02</td>\n",
       "      <td>A</td>\n",
       "      <td>619</td>\n",
       "    </tr>\n",
       "    <tr>\n",
       "      <th>2</th>\n",
       "      <td>2019-08-03</td>\n",
       "      <td>A</td>\n",
       "      <td>507</td>\n",
       "    </tr>\n",
       "    <tr>\n",
       "      <th>3</th>\n",
       "      <td>2019-08-04</td>\n",
       "      <td>A</td>\n",
       "      <td>717</td>\n",
       "    </tr>\n",
       "    <tr>\n",
       "      <th>4</th>\n",
       "      <td>2019-08-05</td>\n",
       "      <td>A</td>\n",
       "      <td>756</td>\n",
       "    </tr>\n",
       "  </tbody>\n",
       "</table>\n",
       "</div>"
      ],
      "text/plain": [
       "        date group  visitors\n",
       "0 2019-08-01     A       719\n",
       "1 2019-08-02     A       619\n",
       "2 2019-08-03     A       507\n",
       "3 2019-08-04     A       717\n",
       "4 2019-08-05     A       756"
      ]
     },
     "metadata": {},
     "output_type": "display_data"
    }
   ],
   "source": [
    "# изучаем таблицу visitors\n",
    "# меняем тип даты\n",
    "visitors = pd.read_csv('/datasets/visitors.csv')\n",
    "visitors['date'] = visitors['date'].map(\n",
    "    lambda x: dt.datetime.strptime(x, '%Y-%m-%d'))\n",
    "display(visitors.head())"
   ]
  },
  {
   "cell_type": "code",
   "execution_count": 7,
   "metadata": {},
   "outputs": [
    {
     "name": "stdout",
     "output_type": "stream",
     "text": [
      "0\n",
      "0\n"
     ]
    }
   ],
   "source": [
    "# проверяем на дубли\n",
    "print(orders.duplicated().sum())\n",
    "print(visitors.duplicated().sum())"
   ]
  },
  {
   "cell_type": "code",
   "execution_count": 8,
   "metadata": {
    "scrolled": true
   },
   "outputs": [
    {
     "name": "stdout",
     "output_type": "stream",
     "text": [
      "0\n"
     ]
    }
   ],
   "source": [
    "# проверка на попадание одного заказа в обе группы\n",
    "orders_A = orders[orders['group'] == 'A']['transactionId'].unique()\n",
    "print(orders[orders['group'] == 'B']['transactionId'].isin(orders_A).sum())"
   ]
  },
  {
   "cell_type": "code",
   "execution_count": 9,
   "metadata": {},
   "outputs": [
    {
     "name": "stdout",
     "output_type": "stream",
     "text": [
      "92\n"
     ]
    }
   ],
   "source": [
    "# проверка на попадание одного юзера в обе группы\n",
    "orders_A = orders[orders['group'] == 'A']['visitorId'].unique()\n",
    "print(orders[orders['group'] == 'B']['visitorId'].isin(orders_A).sum())"
   ]
  },
  {
   "cell_type": "code",
   "execution_count": 10,
   "metadata": {},
   "outputs": [
    {
     "data": {
      "text/html": [
       "<div>\n",
       "<style scoped>\n",
       "    .dataframe tbody tr th:only-of-type {\n",
       "        vertical-align: middle;\n",
       "    }\n",
       "\n",
       "    .dataframe tbody tr th {\n",
       "        vertical-align: top;\n",
       "    }\n",
       "\n",
       "    .dataframe thead th {\n",
       "        text-align: right;\n",
       "    }\n",
       "</style>\n",
       "<table border=\"1\" class=\"dataframe\">\n",
       "  <thead>\n",
       "    <tr style=\"text-align: right;\">\n",
       "      <th></th>\n",
       "      <th>date</th>\n",
       "      <th>visitorsPerDateA</th>\n",
       "    </tr>\n",
       "  </thead>\n",
       "  <tbody>\n",
       "    <tr>\n",
       "      <th>0</th>\n",
       "      <td>2019-08-01</td>\n",
       "      <td>719</td>\n",
       "    </tr>\n",
       "    <tr>\n",
       "      <th>1</th>\n",
       "      <td>2019-08-02</td>\n",
       "      <td>619</td>\n",
       "    </tr>\n",
       "    <tr>\n",
       "      <th>2</th>\n",
       "      <td>2019-08-03</td>\n",
       "      <td>507</td>\n",
       "    </tr>\n",
       "    <tr>\n",
       "      <th>3</th>\n",
       "      <td>2019-08-04</td>\n",
       "      <td>717</td>\n",
       "    </tr>\n",
       "    <tr>\n",
       "      <th>4</th>\n",
       "      <td>2019-08-05</td>\n",
       "      <td>756</td>\n",
       "    </tr>\n",
       "  </tbody>\n",
       "</table>\n",
       "</div>"
      ],
      "text/plain": [
       "        date  visitorsPerDateA\n",
       "0 2019-08-01               719\n",
       "1 2019-08-02               619\n",
       "2 2019-08-03               507\n",
       "3 2019-08-04               717\n",
       "4 2019-08-05               756"
      ]
     },
     "metadata": {},
     "output_type": "display_data"
    },
    {
     "data": {
      "text/html": [
       "<div>\n",
       "<style scoped>\n",
       "    .dataframe tbody tr th:only-of-type {\n",
       "        vertical-align: middle;\n",
       "    }\n",
       "\n",
       "    .dataframe tbody tr th {\n",
       "        vertical-align: top;\n",
       "    }\n",
       "\n",
       "    .dataframe thead th {\n",
       "        text-align: right;\n",
       "    }\n",
       "</style>\n",
       "<table border=\"1\" class=\"dataframe\">\n",
       "  <thead>\n",
       "    <tr style=\"text-align: right;\">\n",
       "      <th></th>\n",
       "      <th>date</th>\n",
       "      <th>visitorsCummulativeA</th>\n",
       "    </tr>\n",
       "  </thead>\n",
       "  <tbody>\n",
       "    <tr>\n",
       "      <th>0</th>\n",
       "      <td>2019-08-01</td>\n",
       "      <td>719</td>\n",
       "    </tr>\n",
       "    <tr>\n",
       "      <th>1</th>\n",
       "      <td>2019-08-02</td>\n",
       "      <td>1338</td>\n",
       "    </tr>\n",
       "    <tr>\n",
       "      <th>2</th>\n",
       "      <td>2019-08-03</td>\n",
       "      <td>1845</td>\n",
       "    </tr>\n",
       "    <tr>\n",
       "      <th>3</th>\n",
       "      <td>2019-08-04</td>\n",
       "      <td>2562</td>\n",
       "    </tr>\n",
       "    <tr>\n",
       "      <th>4</th>\n",
       "      <td>2019-08-05</td>\n",
       "      <td>3318</td>\n",
       "    </tr>\n",
       "  </tbody>\n",
       "</table>\n",
       "</div>"
      ],
      "text/plain": [
       "        date  visitorsCummulativeA\n",
       "0 2019-08-01                   719\n",
       "1 2019-08-02                  1338\n",
       "2 2019-08-03                  1845\n",
       "3 2019-08-04                  2562\n",
       "4 2019-08-05                  3318"
      ]
     },
     "metadata": {},
     "output_type": "display_data"
    }
   ],
   "source": [
    "# считаем дневное количество посетителей в группе А, а также кумулятивное количество посетителей группы\n",
    "vistiorsAdaily = visitors[visitors['group'] == 'A'][['date', 'visitors']]\n",
    "vistiorsAdaily.columns = ['date', 'visitorsPerDateA']\n",
    "display(vistiorsAdaily.head())\n",
    "\n",
    "visitorsACummulative = (\n",
    "    vistiorsAdaily.apply(lambda x: vistiorsAdaily[vistiorsAdaily['date'] <= x['date']]\n",
    "                  .agg({'date': 'max', 'visitorsPerDateA': 'sum'}), axis = 1)\n",
    ")\n",
    "visitorsACummulative.columns = ['date','visitorsCummulativeA']\n",
    "\n",
    "display(visitorsACummulative.head())"
   ]
  },
  {
   "cell_type": "code",
   "execution_count": 11,
   "metadata": {},
   "outputs": [
    {
     "data": {
      "text/html": [
       "<div>\n",
       "<style scoped>\n",
       "    .dataframe tbody tr th:only-of-type {\n",
       "        vertical-align: middle;\n",
       "    }\n",
       "\n",
       "    .dataframe tbody tr th {\n",
       "        vertical-align: top;\n",
       "    }\n",
       "\n",
       "    .dataframe thead th {\n",
       "        text-align: right;\n",
       "    }\n",
       "</style>\n",
       "<table border=\"1\" class=\"dataframe\">\n",
       "  <thead>\n",
       "    <tr style=\"text-align: right;\">\n",
       "      <th></th>\n",
       "      <th>date</th>\n",
       "      <th>visitorsPerDateB</th>\n",
       "    </tr>\n",
       "  </thead>\n",
       "  <tbody>\n",
       "    <tr>\n",
       "      <th>31</th>\n",
       "      <td>2019-08-01</td>\n",
       "      <td>713</td>\n",
       "    </tr>\n",
       "    <tr>\n",
       "      <th>32</th>\n",
       "      <td>2019-08-02</td>\n",
       "      <td>581</td>\n",
       "    </tr>\n",
       "    <tr>\n",
       "      <th>33</th>\n",
       "      <td>2019-08-03</td>\n",
       "      <td>509</td>\n",
       "    </tr>\n",
       "    <tr>\n",
       "      <th>34</th>\n",
       "      <td>2019-08-04</td>\n",
       "      <td>770</td>\n",
       "    </tr>\n",
       "    <tr>\n",
       "      <th>35</th>\n",
       "      <td>2019-08-05</td>\n",
       "      <td>707</td>\n",
       "    </tr>\n",
       "  </tbody>\n",
       "</table>\n",
       "</div>"
      ],
      "text/plain": [
       "         date  visitorsPerDateB\n",
       "31 2019-08-01               713\n",
       "32 2019-08-02               581\n",
       "33 2019-08-03               509\n",
       "34 2019-08-04               770\n",
       "35 2019-08-05               707"
      ]
     },
     "metadata": {},
     "output_type": "display_data"
    },
    {
     "data": {
      "text/html": [
       "<div>\n",
       "<style scoped>\n",
       "    .dataframe tbody tr th:only-of-type {\n",
       "        vertical-align: middle;\n",
       "    }\n",
       "\n",
       "    .dataframe tbody tr th {\n",
       "        vertical-align: top;\n",
       "    }\n",
       "\n",
       "    .dataframe thead th {\n",
       "        text-align: right;\n",
       "    }\n",
       "</style>\n",
       "<table border=\"1\" class=\"dataframe\">\n",
       "  <thead>\n",
       "    <tr style=\"text-align: right;\">\n",
       "      <th></th>\n",
       "      <th>date</th>\n",
       "      <th>visitorsCummulativeB</th>\n",
       "    </tr>\n",
       "  </thead>\n",
       "  <tbody>\n",
       "    <tr>\n",
       "      <th>31</th>\n",
       "      <td>2019-08-01</td>\n",
       "      <td>713</td>\n",
       "    </tr>\n",
       "    <tr>\n",
       "      <th>32</th>\n",
       "      <td>2019-08-02</td>\n",
       "      <td>1294</td>\n",
       "    </tr>\n",
       "    <tr>\n",
       "      <th>33</th>\n",
       "      <td>2019-08-03</td>\n",
       "      <td>1803</td>\n",
       "    </tr>\n",
       "    <tr>\n",
       "      <th>34</th>\n",
       "      <td>2019-08-04</td>\n",
       "      <td>2573</td>\n",
       "    </tr>\n",
       "    <tr>\n",
       "      <th>35</th>\n",
       "      <td>2019-08-05</td>\n",
       "      <td>3280</td>\n",
       "    </tr>\n",
       "  </tbody>\n",
       "</table>\n",
       "</div>"
      ],
      "text/plain": [
       "         date  visitorsCummulativeB\n",
       "31 2019-08-01                   713\n",
       "32 2019-08-02                  1294\n",
       "33 2019-08-03                  1803\n",
       "34 2019-08-04                  2573\n",
       "35 2019-08-05                  3280"
      ]
     },
     "metadata": {},
     "output_type": "display_data"
    }
   ],
   "source": [
    "# считаем дневное количество посетителей в группе B, а также кумулятивное количество посетителей группы\n",
    "vistiorsBdaily = visitors[visitors['group'] == 'B'][['date', 'visitors']]\n",
    "vistiorsBdaily.columns = ['date', 'visitorsPerDateB']\n",
    "display(vistiorsBdaily.head())\n",
    "\n",
    "visitorsBCummulative = (\n",
    "    vistiorsBdaily.apply(lambda x: vistiorsBdaily[vistiorsBdaily['date'] <= x['date']]\n",
    "                  .agg({'date': 'max', 'visitorsPerDateB': 'sum'}), axis = 1)\n",
    ")\n",
    "visitorsBCummulative.columns = ['date', 'visitorsCummulativeB']\n",
    "display(visitorsBCummulative.head())"
   ]
  },
  {
   "cell_type": "code",
   "execution_count": 12,
   "metadata": {},
   "outputs": [
    {
     "data": {
      "text/html": [
       "<div>\n",
       "<style scoped>\n",
       "    .dataframe tbody tr th:only-of-type {\n",
       "        vertical-align: middle;\n",
       "    }\n",
       "\n",
       "    .dataframe tbody tr th {\n",
       "        vertical-align: top;\n",
       "    }\n",
       "\n",
       "    .dataframe thead th {\n",
       "        text-align: right;\n",
       "    }\n",
       "</style>\n",
       "<table border=\"1\" class=\"dataframe\">\n",
       "  <thead>\n",
       "    <tr style=\"text-align: right;\">\n",
       "      <th></th>\n",
       "      <th>date</th>\n",
       "      <th>ordersPerDateA</th>\n",
       "      <th>revenuePerDateA</th>\n",
       "    </tr>\n",
       "  </thead>\n",
       "  <tbody>\n",
       "    <tr>\n",
       "      <th>0</th>\n",
       "      <td>2019-08-01</td>\n",
       "      <td>24</td>\n",
       "      <td>148579</td>\n",
       "    </tr>\n",
       "    <tr>\n",
       "      <th>1</th>\n",
       "      <td>2019-08-02</td>\n",
       "      <td>20</td>\n",
       "      <td>93822</td>\n",
       "    </tr>\n",
       "    <tr>\n",
       "      <th>2</th>\n",
       "      <td>2019-08-03</td>\n",
       "      <td>24</td>\n",
       "      <td>112473</td>\n",
       "    </tr>\n",
       "    <tr>\n",
       "      <th>3</th>\n",
       "      <td>2019-08-04</td>\n",
       "      <td>16</td>\n",
       "      <td>70825</td>\n",
       "    </tr>\n",
       "    <tr>\n",
       "      <th>4</th>\n",
       "      <td>2019-08-05</td>\n",
       "      <td>25</td>\n",
       "      <td>124218</td>\n",
       "    </tr>\n",
       "  </tbody>\n",
       "</table>\n",
       "</div>"
      ],
      "text/plain": [
       "        date  ordersPerDateA  revenuePerDateA\n",
       "0 2019-08-01              24           148579\n",
       "1 2019-08-02              20            93822\n",
       "2 2019-08-03              24           112473\n",
       "3 2019-08-04              16            70825\n",
       "4 2019-08-05              25           124218"
      ]
     },
     "metadata": {},
     "output_type": "display_data"
    },
    {
     "data": {
      "text/html": [
       "<div>\n",
       "<style scoped>\n",
       "    .dataframe tbody tr th:only-of-type {\n",
       "        vertical-align: middle;\n",
       "    }\n",
       "\n",
       "    .dataframe tbody tr th {\n",
       "        vertical-align: top;\n",
       "    }\n",
       "\n",
       "    .dataframe thead th {\n",
       "        text-align: right;\n",
       "    }\n",
       "</style>\n",
       "<table border=\"1\" class=\"dataframe\">\n",
       "  <thead>\n",
       "    <tr style=\"text-align: right;\">\n",
       "      <th></th>\n",
       "      <th>date</th>\n",
       "      <th>ordersCummulativeA</th>\n",
       "      <th>revenueCummulativeA</th>\n",
       "    </tr>\n",
       "  </thead>\n",
       "  <tbody>\n",
       "    <tr>\n",
       "      <th>0</th>\n",
       "      <td>2019-08-01</td>\n",
       "      <td>24</td>\n",
       "      <td>148579</td>\n",
       "    </tr>\n",
       "    <tr>\n",
       "      <th>1</th>\n",
       "      <td>2019-08-02</td>\n",
       "      <td>44</td>\n",
       "      <td>242401</td>\n",
       "    </tr>\n",
       "    <tr>\n",
       "      <th>2</th>\n",
       "      <td>2019-08-03</td>\n",
       "      <td>68</td>\n",
       "      <td>354874</td>\n",
       "    </tr>\n",
       "    <tr>\n",
       "      <th>3</th>\n",
       "      <td>2019-08-04</td>\n",
       "      <td>84</td>\n",
       "      <td>425699</td>\n",
       "    </tr>\n",
       "    <tr>\n",
       "      <th>4</th>\n",
       "      <td>2019-08-05</td>\n",
       "      <td>109</td>\n",
       "      <td>549917</td>\n",
       "    </tr>\n",
       "  </tbody>\n",
       "</table>\n",
       "</div>"
      ],
      "text/plain": [
       "        date  ordersCummulativeA  revenueCummulativeA\n",
       "0 2019-08-01                  24               148579\n",
       "1 2019-08-02                  44               242401\n",
       "2 2019-08-03                  68               354874\n",
       "3 2019-08-04                  84               425699\n",
       "4 2019-08-05                 109               549917"
      ]
     },
     "execution_count": 12,
     "metadata": {},
     "output_type": "execute_result"
    }
   ],
   "source": [
    "# считаем дневное количество заказов и дневную выручку в группе А, а также кумулятивные значения заказов и выручки\n",
    "ordersAdaily = (orders[orders['group'] == 'A'][['date', 'transactionId', 'visitorId', 'revenue']] \n",
    ".groupby('date', as_index = False)\n",
    ".agg({'transactionId': 'nunique', 'revenue': 'sum'})\n",
    ")\n",
    "ordersAdaily.columns = ['date', 'ordersPerDateA', 'revenuePerDateA']\n",
    "display(ordersAdaily.head())\n",
    "\n",
    "ordersACummulative = (\n",
    "    ordersAdaily.apply(lambda x: ordersAdaily[ordersAdaily['date'] <= x['date']]\n",
    "                      .agg({'date': 'max', 'ordersPerDateA': 'sum', 'revenuePerDateA': 'sum'}), axis = 1)\n",
    "\n",
    ")\n",
    "ordersACummulative.columns = ['date', 'ordersCummulativeA', 'revenueCummulativeA']\n",
    "ordersACummulative.head()"
   ]
  },
  {
   "cell_type": "code",
   "execution_count": 13,
   "metadata": {},
   "outputs": [
    {
     "data": {
      "text/html": [
       "<div>\n",
       "<style scoped>\n",
       "    .dataframe tbody tr th:only-of-type {\n",
       "        vertical-align: middle;\n",
       "    }\n",
       "\n",
       "    .dataframe tbody tr th {\n",
       "        vertical-align: top;\n",
       "    }\n",
       "\n",
       "    .dataframe thead th {\n",
       "        text-align: right;\n",
       "    }\n",
       "</style>\n",
       "<table border=\"1\" class=\"dataframe\">\n",
       "  <thead>\n",
       "    <tr style=\"text-align: right;\">\n",
       "      <th></th>\n",
       "      <th>date</th>\n",
       "      <th>ordersPerDateB</th>\n",
       "      <th>revenuePerDateB</th>\n",
       "    </tr>\n",
       "  </thead>\n",
       "  <tbody>\n",
       "    <tr>\n",
       "      <th>0</th>\n",
       "      <td>2019-08-01</td>\n",
       "      <td>21</td>\n",
       "      <td>101217</td>\n",
       "    </tr>\n",
       "    <tr>\n",
       "      <th>1</th>\n",
       "      <td>2019-08-02</td>\n",
       "      <td>24</td>\n",
       "      <td>165531</td>\n",
       "    </tr>\n",
       "    <tr>\n",
       "      <th>2</th>\n",
       "      <td>2019-08-03</td>\n",
       "      <td>16</td>\n",
       "      <td>114248</td>\n",
       "    </tr>\n",
       "    <tr>\n",
       "      <th>3</th>\n",
       "      <td>2019-08-04</td>\n",
       "      <td>17</td>\n",
       "      <td>108571</td>\n",
       "    </tr>\n",
       "    <tr>\n",
       "      <th>4</th>\n",
       "      <td>2019-08-05</td>\n",
       "      <td>23</td>\n",
       "      <td>92428</td>\n",
       "    </tr>\n",
       "  </tbody>\n",
       "</table>\n",
       "</div>"
      ],
      "text/plain": [
       "        date  ordersPerDateB  revenuePerDateB\n",
       "0 2019-08-01              21           101217\n",
       "1 2019-08-02              24           165531\n",
       "2 2019-08-03              16           114248\n",
       "3 2019-08-04              17           108571\n",
       "4 2019-08-05              23            92428"
      ]
     },
     "metadata": {},
     "output_type": "display_data"
    },
    {
     "data": {
      "text/html": [
       "<div>\n",
       "<style scoped>\n",
       "    .dataframe tbody tr th:only-of-type {\n",
       "        vertical-align: middle;\n",
       "    }\n",
       "\n",
       "    .dataframe tbody tr th {\n",
       "        vertical-align: top;\n",
       "    }\n",
       "\n",
       "    .dataframe thead th {\n",
       "        text-align: right;\n",
       "    }\n",
       "</style>\n",
       "<table border=\"1\" class=\"dataframe\">\n",
       "  <thead>\n",
       "    <tr style=\"text-align: right;\">\n",
       "      <th></th>\n",
       "      <th>date</th>\n",
       "      <th>ordersCummulativeB</th>\n",
       "      <th>revenueCummulativeB</th>\n",
       "    </tr>\n",
       "  </thead>\n",
       "  <tbody>\n",
       "    <tr>\n",
       "      <th>0</th>\n",
       "      <td>2019-08-01</td>\n",
       "      <td>21</td>\n",
       "      <td>101217</td>\n",
       "    </tr>\n",
       "    <tr>\n",
       "      <th>1</th>\n",
       "      <td>2019-08-02</td>\n",
       "      <td>45</td>\n",
       "      <td>266748</td>\n",
       "    </tr>\n",
       "    <tr>\n",
       "      <th>2</th>\n",
       "      <td>2019-08-03</td>\n",
       "      <td>61</td>\n",
       "      <td>380996</td>\n",
       "    </tr>\n",
       "    <tr>\n",
       "      <th>3</th>\n",
       "      <td>2019-08-04</td>\n",
       "      <td>78</td>\n",
       "      <td>489567</td>\n",
       "    </tr>\n",
       "    <tr>\n",
       "      <th>4</th>\n",
       "      <td>2019-08-05</td>\n",
       "      <td>101</td>\n",
       "      <td>581995</td>\n",
       "    </tr>\n",
       "  </tbody>\n",
       "</table>\n",
       "</div>"
      ],
      "text/plain": [
       "        date  ordersCummulativeB  revenueCummulativeB\n",
       "0 2019-08-01                  21               101217\n",
       "1 2019-08-02                  45               266748\n",
       "2 2019-08-03                  61               380996\n",
       "3 2019-08-04                  78               489567\n",
       "4 2019-08-05                 101               581995"
      ]
     },
     "execution_count": 13,
     "metadata": {},
     "output_type": "execute_result"
    }
   ],
   "source": [
    "# считаем дневное количество заказов и дневную выручку в группе B, а также кумулятивные значения заказов и выручки\n",
    "ordersBdaily = (orders[orders['group'] == 'B'][['date', 'transactionId', 'visitorId', 'revenue']]\n",
    ".groupby('date', as_index = False)\n",
    ".agg({'transactionId': 'nunique', 'revenue': 'sum'})\n",
    ")\n",
    "ordersBdaily.columns = ['date', 'ordersPerDateB', 'revenuePerDateB']\n",
    "display(ordersBdaily.head())\n",
    "      \n",
    "ordersBCummulative = (ordersBdaily.apply(lambda x: ordersBdaily[ordersBdaily['date'] <= x['date']]\n",
    ".agg({'date': 'max', 'ordersPerDateB': 'sum', 'revenuePerDateB': 'sum'}), axis = 1\n",
    "))\n",
    "ordersBCummulative.columns = ['date', 'ordersCummulativeB', 'revenueCummulativeB']\n",
    "ordersBCummulative.head()"
   ]
  },
  {
   "cell_type": "code",
   "execution_count": 14,
   "metadata": {},
   "outputs": [
    {
     "data": {
      "text/html": [
       "<div>\n",
       "<style scoped>\n",
       "    .dataframe tbody tr th:only-of-type {\n",
       "        vertical-align: middle;\n",
       "    }\n",
       "\n",
       "    .dataframe tbody tr th {\n",
       "        vertical-align: top;\n",
       "    }\n",
       "\n",
       "    .dataframe thead th {\n",
       "        text-align: right;\n",
       "    }\n",
       "</style>\n",
       "<table border=\"1\" class=\"dataframe\">\n",
       "  <thead>\n",
       "    <tr style=\"text-align: right;\">\n",
       "      <th></th>\n",
       "      <th>date</th>\n",
       "      <th>visitorsPerDateA</th>\n",
       "      <th>visitorsPerDateB</th>\n",
       "      <th>visitorsCummulativeA</th>\n",
       "      <th>visitorsCummulativeB</th>\n",
       "      <th>ordersPerDateA</th>\n",
       "      <th>revenuePerDateA</th>\n",
       "      <th>ordersPerDateB</th>\n",
       "      <th>revenuePerDateB</th>\n",
       "      <th>ordersCummulativeA</th>\n",
       "      <th>revenueCummulativeA</th>\n",
       "      <th>ordersCummulativeB</th>\n",
       "      <th>revenueCummulativeB</th>\n",
       "    </tr>\n",
       "  </thead>\n",
       "  <tbody>\n",
       "    <tr>\n",
       "      <th>0</th>\n",
       "      <td>2019-08-01</td>\n",
       "      <td>719</td>\n",
       "      <td>713</td>\n",
       "      <td>719</td>\n",
       "      <td>713</td>\n",
       "      <td>24</td>\n",
       "      <td>148579</td>\n",
       "      <td>21</td>\n",
       "      <td>101217</td>\n",
       "      <td>24</td>\n",
       "      <td>148579</td>\n",
       "      <td>21</td>\n",
       "      <td>101217</td>\n",
       "    </tr>\n",
       "    <tr>\n",
       "      <th>1</th>\n",
       "      <td>2019-08-02</td>\n",
       "      <td>619</td>\n",
       "      <td>581</td>\n",
       "      <td>1338</td>\n",
       "      <td>1294</td>\n",
       "      <td>20</td>\n",
       "      <td>93822</td>\n",
       "      <td>24</td>\n",
       "      <td>165531</td>\n",
       "      <td>44</td>\n",
       "      <td>242401</td>\n",
       "      <td>45</td>\n",
       "      <td>266748</td>\n",
       "    </tr>\n",
       "    <tr>\n",
       "      <th>2</th>\n",
       "      <td>2019-08-03</td>\n",
       "      <td>507</td>\n",
       "      <td>509</td>\n",
       "      <td>1845</td>\n",
       "      <td>1803</td>\n",
       "      <td>24</td>\n",
       "      <td>112473</td>\n",
       "      <td>16</td>\n",
       "      <td>114248</td>\n",
       "      <td>68</td>\n",
       "      <td>354874</td>\n",
       "      <td>61</td>\n",
       "      <td>380996</td>\n",
       "    </tr>\n",
       "    <tr>\n",
       "      <th>3</th>\n",
       "      <td>2019-08-04</td>\n",
       "      <td>717</td>\n",
       "      <td>770</td>\n",
       "      <td>2562</td>\n",
       "      <td>2573</td>\n",
       "      <td>16</td>\n",
       "      <td>70825</td>\n",
       "      <td>17</td>\n",
       "      <td>108571</td>\n",
       "      <td>84</td>\n",
       "      <td>425699</td>\n",
       "      <td>78</td>\n",
       "      <td>489567</td>\n",
       "    </tr>\n",
       "    <tr>\n",
       "      <th>4</th>\n",
       "      <td>2019-08-05</td>\n",
       "      <td>756</td>\n",
       "      <td>707</td>\n",
       "      <td>3318</td>\n",
       "      <td>3280</td>\n",
       "      <td>25</td>\n",
       "      <td>124218</td>\n",
       "      <td>23</td>\n",
       "      <td>92428</td>\n",
       "      <td>109</td>\n",
       "      <td>549917</td>\n",
       "      <td>101</td>\n",
       "      <td>581995</td>\n",
       "    </tr>\n",
       "    <tr>\n",
       "      <th>5</th>\n",
       "      <td>2019-08-06</td>\n",
       "      <td>667</td>\n",
       "      <td>655</td>\n",
       "      <td>3985</td>\n",
       "      <td>3935</td>\n",
       "      <td>18</td>\n",
       "      <td>48484</td>\n",
       "      <td>28</td>\n",
       "      <td>242342</td>\n",
       "      <td>127</td>\n",
       "      <td>598401</td>\n",
       "      <td>129</td>\n",
       "      <td>824337</td>\n",
       "    </tr>\n",
       "    <tr>\n",
       "      <th>6</th>\n",
       "      <td>2019-08-07</td>\n",
       "      <td>644</td>\n",
       "      <td>709</td>\n",
       "      <td>4629</td>\n",
       "      <td>4644</td>\n",
       "      <td>18</td>\n",
       "      <td>142417</td>\n",
       "      <td>24</td>\n",
       "      <td>225334</td>\n",
       "      <td>145</td>\n",
       "      <td>740818</td>\n",
       "      <td>153</td>\n",
       "      <td>1049671</td>\n",
       "    </tr>\n",
       "    <tr>\n",
       "      <th>7</th>\n",
       "      <td>2019-08-08</td>\n",
       "      <td>610</td>\n",
       "      <td>654</td>\n",
       "      <td>5239</td>\n",
       "      <td>5298</td>\n",
       "      <td>16</td>\n",
       "      <td>96279</td>\n",
       "      <td>27</td>\n",
       "      <td>220918</td>\n",
       "      <td>161</td>\n",
       "      <td>837097</td>\n",
       "      <td>180</td>\n",
       "      <td>1270589</td>\n",
       "    </tr>\n",
       "    <tr>\n",
       "      <th>8</th>\n",
       "      <td>2019-08-09</td>\n",
       "      <td>617</td>\n",
       "      <td>610</td>\n",
       "      <td>5856</td>\n",
       "      <td>5908</td>\n",
       "      <td>16</td>\n",
       "      <td>188506</td>\n",
       "      <td>25</td>\n",
       "      <td>160812</td>\n",
       "      <td>177</td>\n",
       "      <td>1025603</td>\n",
       "      <td>205</td>\n",
       "      <td>1431401</td>\n",
       "    </tr>\n",
       "    <tr>\n",
       "      <th>9</th>\n",
       "      <td>2019-08-10</td>\n",
       "      <td>406</td>\n",
       "      <td>369</td>\n",
       "      <td>6262</td>\n",
       "      <td>6277</td>\n",
       "      <td>16</td>\n",
       "      <td>210495</td>\n",
       "      <td>23</td>\n",
       "      <td>107802</td>\n",
       "      <td>193</td>\n",
       "      <td>1236098</td>\n",
       "      <td>228</td>\n",
       "      <td>1539203</td>\n",
       "    </tr>\n",
       "  </tbody>\n",
       "</table>\n",
       "</div>"
      ],
      "text/plain": [
       "        date  visitorsPerDateA  visitorsPerDateB  visitorsCummulativeA  visitorsCummulativeB  ordersPerDateA  revenuePerDateA  ordersPerDateB  revenuePerDateB  ordersCummulativeA  revenueCummulativeA  ordersCummulativeB  revenueCummulativeB\n",
       "0 2019-08-01               719               713                   719                   713              24           148579              21           101217                  24               148579                  21               101217\n",
       "1 2019-08-02               619               581                  1338                  1294              20            93822              24           165531                  44               242401                  45               266748\n",
       "2 2019-08-03               507               509                  1845                  1803              24           112473              16           114248                  68               354874                  61               380996\n",
       "3 2019-08-04               717               770                  2562                  2573              16            70825              17           108571                  84               425699                  78               489567\n",
       "4 2019-08-05               756               707                  3318                  3280              25           124218              23            92428                 109               549917                 101               581995\n",
       "5 2019-08-06               667               655                  3985                  3935              18            48484              28           242342                 127               598401                 129               824337\n",
       "6 2019-08-07               644               709                  4629                  4644              18           142417              24           225334                 145               740818                 153              1049671\n",
       "7 2019-08-08               610               654                  5239                  5298              16            96279              27           220918                 161               837097                 180              1270589\n",
       "8 2019-08-09               617               610                  5856                  5908              16           188506              25           160812                 177              1025603                 205              1431401\n",
       "9 2019-08-10               406               369                  6262                  6277              16           210495              23           107802                 193              1236098                 228              1539203"
      ]
     },
     "metadata": {},
     "output_type": "display_data"
    }
   ],
   "source": [
    "# объединяем таблицы\n",
    "data = (vistiorsAdaily.merge(vistiorsBdaily, left_on = 'date', right_on = 'date', how = 'left')\n",
    "        .merge(visitorsACummulative, left_on = 'date', right_on = 'date', how = 'left')\n",
    "        .merge(visitorsBCummulative, left_on = 'date', right_on = 'date', how = 'left')\n",
    "        .merge(ordersAdaily, left_on = 'date', right_on = 'date', how = 'left')\n",
    "        .merge(ordersBdaily, left_on = 'date', right_on = 'date', how = 'left')\n",
    "        .merge(ordersACummulative, left_on = 'date', right_on = 'date', how = 'left')\n",
    "        .merge(ordersBCummulative, left_on = 'date', right_on = 'date', how = 'left')\n",
    "       )\n",
    "display(data.head(10))"
   ]
  },
  {
   "cell_type": "code",
   "execution_count": 15,
   "metadata": {},
   "outputs": [
    {
     "name": "stdout",
     "output_type": "stream",
     "text": [
      "даты ок\n"
     ]
    }
   ],
   "source": [
    "#print (f\"Минимальная дата заказа: {orders['date'].min()}\")\n",
    "#print (f\"Максимальная дата заказа: {orders['date'].max()}\")\n",
    "#print (f\"Минимальная дата посещения: {visitors['date'].min()}\")\n",
    "#print (f\"Максимальная дата посещения: {visitors['date'].max()}\")\n",
    "#print (f\"Минимальная дата сводной: {data['date'].min()}\")\n",
    "#print (f\"Максимальная дата сводной: {data['date'].max()}\")\n",
    "\n",
    "if {orders['date'].min()} == {visitors['date'].min()} == {data['date'].min()} and {orders['date'].max()} == {visitors['date'].max()} == {data['date'].max()}:\n",
    "    print ('даты ок')\n",
    "else:\n",
    "    print('даты не ок')"
   ]
  },
  {
   "cell_type": "markdown",
   "metadata": {},
   "source": [
    "### График кумулятивной выручки по группам"
   ]
  },
  {
   "cell_type": "code",
   "execution_count": 16,
   "metadata": {},
   "outputs": [
    {
     "data": {
      "image/png": "[encoded data removed]",
      "text/plain": [
       "<Figure size 864x432 with 1 Axes>"
      ]
     },
     "metadata": {
      "needs_background": "light"
     },
     "output_type": "display_data"
    }
   ],
   "source": [
    "# график кумулятивной выручки по группам\n",
    "f = plt.figure()\n",
    "f.set_figwidth(12)\n",
    "f.set_figheight(6)\n",
    "plt.plot(data['date'], data['revenueCummulativeA'], label = 'A')\n",
    "plt.plot(data['date'], data['revenueCummulativeB'], label = 'B')\n",
    "plt.xlabel(\"Дата\")\n",
    "plt.ylabel(\"Суммарная выручка\")\n",
    "plt.title(\"Кумулятивная выручка по группам\")\n",
    "\n",
    "plt.legend() \n",
    "plt.show()\n"
   ]
  },
  {
   "cell_type": "markdown",
   "metadata": {},
   "source": [
    "**Вывод:**\n",
    "Выручка планомерно увеличивается на протяжении всего теста.\n",
    "\n",
    "Однако, графики в нескольких точках резко растут.\n",
    "\n",
    "Это может сигнализировать о всплеске количества заказов или о появлении аномально дорогих заказов в выборке."
   ]
  },
  {
   "cell_type": "markdown",
   "metadata": {},
   "source": [
    "### График кумулятивного среднего чека по группам"
   ]
  },
  {
   "cell_type": "code",
   "execution_count": 17,
   "metadata": {},
   "outputs": [
    {
     "data": {
      "image/png": "[encoded data removed]",
      "text/plain": [
       "<Figure size 864x432 with 1 Axes>"
      ]
     },
     "metadata": {
      "needs_background": "light"
     },
     "output_type": "display_data"
    }
   ],
   "source": [
    "# график кумулятивного среднего чека по группам\n",
    "f = plt.figure()\n",
    "f.set_figwidth(12)\n",
    "f.set_figheight(6)\n",
    "plt.plot(data['date'], data['revenueCummulativeA'] / data['ordersCummulativeA'], label = 'A')\n",
    "plt.plot(data['date'], data['revenueCummulativeB'] / data['ordersCummulativeB'], label = 'B')\n",
    "plt.xlabel(\"Дата\")\n",
    "plt.ylabel(\"Средний чек\")\n",
    "plt.title(\"Кумулятивный средний чек по группам\")\n",
    "plt.legend() \n",
    "plt.show()\n"
   ]
  },
  {
   "cell_type": "markdown",
   "metadata": {},
   "source": [
    "**Вывод:**\n",
    "\n",
    "В группе B наблюдаются всплески, ввиду попадания крупных заказов. \n",
    "\n",
    "Показатели группы B все еще не пришли к реальному среднему чеку."
   ]
  },
  {
   "cell_type": "markdown",
   "metadata": {},
   "source": [
    "### График относительного изменения кумулятивного среднего чека группы B к группе A"
   ]
  },
  {
   "cell_type": "code",
   "execution_count": 18,
   "metadata": {},
   "outputs": [
    {
     "data": {
      "image/png": "[encoded data removed]",
      "text/plain": [
       "<Figure size 864x432 with 1 Axes>"
      ]
     },
     "metadata": {
      "needs_background": "light"
     },
     "output_type": "display_data"
    }
   ],
   "source": [
    "# график относительного изменения кумулятивного среднего чека группы B к группе A\n",
    "f = plt.figure()\n",
    "f.set_figwidth(12)\n",
    "f.set_figheight(6)\n",
    "plt.plot(data['date'], (data['revenueCummulativeB'] / data['ordersCummulativeB']) / (data['revenueCummulativeA'] / data['ordersCummulativeA'])-1)\n",
    "plt.axhline(y=0, color='black', linestyle='--') \n",
    "plt.xlabel(\"Дата\")\n",
    "plt.ylabel(\"Различие среднего чека между группами\")\n",
    "plt.title(\"Относительное изменение кумулятивного среднего чека группы B к A\")\n",
    "plt.show()"
   ]
  },
  {
   "cell_type": "markdown",
   "metadata": {},
   "source": [
    "**Вывод:**\n",
    "\n",
    "Группа B не стабильна по показателям среднеднего чека, в какой-то момент времени средний чек стал меньше, чем в группе А.\n",
    "\n",
    "Ввиду всплеска средний чек группы B снова вырос, но  затем вновь наблюдается его снижение."
   ]
  },
  {
   "cell_type": "markdown",
   "metadata": {},
   "source": [
    "### График кумулятивного среднего количества заказов на посетителя по группам"
   ]
  },
  {
   "cell_type": "code",
   "execution_count": 19,
   "metadata": {},
   "outputs": [
    {
     "data": {
      "image/png": "[encoded data removed]",
      "text/plain": [
       "<Figure size 864x432 with 1 Axes>"
      ]
     },
     "metadata": {
      "needs_background": "light"
     },
     "output_type": "display_data"
    }
   ],
   "source": [
    "# график кумулятивного среднего количества заказов на посетителя по группам\n",
    "f = plt.figure()\n",
    "f.set_figwidth(12)\n",
    "f.set_figheight(6)\n",
    "plt.plot(data['date'], (data['ordersCummulativeA'] / data['visitorsCummulativeA']), label = 'A')\n",
    "plt.plot(data['date'], (data['ordersCummulativeB'] / data['visitorsCummulativeB']), label = 'B')\n",
    "plt.legend() \n",
    "plt.xlabel(\"Дата\")\n",
    "plt.ylabel(\"Конверсия\")\n",
    "plt.title(\"Кумулятивное среднее количество заказов на посетителя\")\n",
    "plt.show()"
   ]
  },
  {
   "cell_type": "markdown",
   "metadata": {},
   "source": [
    "**Вывод:**\n",
    "\n",
    "Среднее количество заказов у группы B стабильно больше. "
   ]
  },
  {
   "cell_type": "markdown",
   "metadata": {},
   "source": [
    "### График относительного изменения кумулятивного среднего количества заказов на посетителя группы B к группе A"
   ]
  },
  {
   "cell_type": "code",
   "execution_count": 20,
   "metadata": {},
   "outputs": [
    {
     "data": {
      "image/png": "[encoded data removed]",
      "text/plain": [
       "<Figure size 864x432 with 1 Axes>"
      ]
     },
     "metadata": {
      "needs_background": "light"
     },
     "output_type": "display_data"
    }
   ],
   "source": [
    "# график относительного изменения кумулятивного среднего количества заказов на посетителя группы B к группе A\n",
    "f = plt.figure()\n",
    "f.set_figwidth(12)\n",
    "f.set_figheight(6)\n",
    "plt.plot(data['date'], (data['ordersCummulativeB'] / data['visitorsCummulativeB']) / (data['ordersCummulativeA'] / data['visitorsCummulativeA'])-1)\n",
    "plt.axhline(y=0, color='black', linestyle='--') \n",
    "plt.axhline(y=0.15, color='grey', linestyle='--')\n",
    "plt.xlabel(\"Дата\")\n",
    "plt.ylabel(\"Разница конверсии\")\n",
    "plt.title(\"Относительное изменение кумулятивного среднего количества заказов на посетителя\")\n",
    "plt.show()\n"
   ]
  },
  {
   "cell_type": "markdown",
   "metadata": {},
   "source": [
    "**Вывод:**\n",
    "\n",
    "На графике видно, что относительное кумулятивное среднее значительно лучше у группы B."
   ]
  },
  {
   "cell_type": "code",
   "execution_count": 21,
   "metadata": {},
   "outputs": [
    {
     "data": {
      "text/html": [
       "<div>\n",
       "<style scoped>\n",
       "    .dataframe tbody tr th:only-of-type {\n",
       "        vertical-align: middle;\n",
       "    }\n",
       "\n",
       "    .dataframe tbody tr th {\n",
       "        vertical-align: top;\n",
       "    }\n",
       "\n",
       "    .dataframe thead th {\n",
       "        text-align: right;\n",
       "    }\n",
       "</style>\n",
       "<table border=\"1\" class=\"dataframe\">\n",
       "  <thead>\n",
       "    <tr style=\"text-align: right;\">\n",
       "      <th></th>\n",
       "      <th>visitorId</th>\n",
       "      <th>orders</th>\n",
       "    </tr>\n",
       "  </thead>\n",
       "  <tbody>\n",
       "    <tr>\n",
       "      <th>1023</th>\n",
       "      <td>4256040402</td>\n",
       "      <td>11</td>\n",
       "    </tr>\n",
       "    <tr>\n",
       "      <th>591</th>\n",
       "      <td>2458001652</td>\n",
       "      <td>11</td>\n",
       "    </tr>\n",
       "    <tr>\n",
       "      <th>569</th>\n",
       "      <td>2378935119</td>\n",
       "      <td>9</td>\n",
       "    </tr>\n",
       "    <tr>\n",
       "      <th>487</th>\n",
       "      <td>2038680547</td>\n",
       "      <td>8</td>\n",
       "    </tr>\n",
       "    <tr>\n",
       "      <th>44</th>\n",
       "      <td>199603092</td>\n",
       "      <td>5</td>\n",
       "    </tr>\n",
       "  </tbody>\n",
       "</table>\n",
       "</div>"
      ],
      "text/plain": [
       "       visitorId  orders\n",
       "1023  4256040402      11\n",
       "591   2458001652      11\n",
       "569   2378935119       9\n",
       "487   2038680547       8\n",
       "44     199603092       5"
      ]
     },
     "metadata": {},
     "output_type": "display_data"
    }
   ],
   "source": [
    "# считаем количество заказов по пользователям\n",
    "ordersByUsers = (orders.groupby('visitorId', as_index = False)\n",
    "                .agg({'transactionId': 'nunique'})\n",
    "                .sort_values(by='transactionId', ascending = False)\n",
    "                )\n",
    "ordersByUsers.columns = ['visitorId', 'orders']\n",
    "display(ordersByUsers.head())"
   ]
  },
  {
   "cell_type": "markdown",
   "metadata": {},
   "source": [
    "### Точечный график количества заказов по пользователям"
   ]
  },
  {
   "cell_type": "code",
   "execution_count": 22,
   "metadata": {},
   "outputs": [
    {
     "data": {
      "image/png": "[encoded data removed]",
      "text/plain": [
       "<Figure size 720x432 with 1 Axes>"
      ]
     },
     "metadata": {
      "needs_background": "light"
     },
     "output_type": "display_data"
    }
   ],
   "source": [
    "# точечный график количества заказов по пользователям\n",
    "f = plt.figure()\n",
    "f.set_figwidth(10)\n",
    "f.set_figheight(6)\n",
    "x_values = pd.Series(range(0,len(ordersByUsers)))\n",
    "\n",
    "plt.scatter(x_values, ordersByUsers['orders']) \n",
    "\n",
    "plt.ylabel(\"Количество заказов\")\n",
    "plt.title(\"Количество заказов по пользователям\")\n",
    "plt.show()"
   ]
  },
  {
   "cell_type": "markdown",
   "metadata": {},
   "source": [
    "**Вывод:**\n",
    "\n",
    "Большинство юзеров совершили не более 2-х покупок, в то же время есть отдельные пользователи, совершившие более 10 заказов."
   ]
  },
  {
   "cell_type": "markdown",
   "metadata": {},
   "source": [
    "### 95-й и 99-й перцентили количества заказов на пользователя"
   ]
  },
  {
   "cell_type": "code",
   "execution_count": 23,
   "metadata": {},
   "outputs": [
    {
     "name": "stdout",
     "output_type": "stream",
     "text": [
      "[2. 4.]\n"
     ]
    }
   ],
   "source": [
    "# 95-й и 99-й перцентили количества заказов на пользователя\n",
    "print(np.percentile(ordersByUsers['orders'], [95, 99]))"
   ]
  },
  {
   "cell_type": "markdown",
   "metadata": {},
   "source": [
    "**Вывод:**\n",
    "\n",
    "Не более 5% пользователей оформляли 2+ заказов, и только лишь 1% пользователей сделали не менее 4-х заказов.\n",
    "\n",
    "Примем за аномальных пользователей тех, кто совершил более 2-х покупок."
   ]
  },
  {
   "cell_type": "markdown",
   "metadata": {},
   "source": [
    "### Точечный график стоимостей заказов"
   ]
  },
  {
   "cell_type": "code",
   "execution_count": 24,
   "metadata": {},
   "outputs": [
    {
     "data": {
      "image/png": "[encoded data removed]",
      "text/plain": [
       "<Figure size 720x432 with 1 Axes>"
      ]
     },
     "metadata": {
      "needs_background": "light"
     },
     "output_type": "display_data"
    }
   ],
   "source": [
    "# точечный график стоимостей заказов\n",
    "f = plt.figure()\n",
    "f.set_figwidth(10)\n",
    "f.set_figheight(6)\n",
    "x_values = pd.Series(range(0,len(orders['revenue'])))\n",
    "plt.scatter(x_values, orders['revenue']) \n",
    "\n",
    "plt.ylabel(\"Стоимость заказа\")\n",
    "plt.title(\"Стоимость заказов\")\n",
    "plt.show()"
   ]
  },
  {
   "cell_type": "markdown",
   "metadata": {},
   "source": [
    "**Вывод:**\n",
    "\n",
    "Есть выбросы по стоимости заказов, однако бОльшая часть заказов находится в ценовом диапазоне до 50К."
   ]
  },
  {
   "cell_type": "markdown",
   "metadata": {},
   "source": [
    "### 95-й и 99-й перцентили стоимости заказов"
   ]
  },
  {
   "cell_type": "code",
   "execution_count": 25,
   "metadata": {},
   "outputs": [
    {
     "name": "stdout",
     "output_type": "stream",
     "text": [
      "[28000.  58233.2]\n"
     ]
    }
   ],
   "source": [
    "# 95-й и 99-й перцентили стоимости заказов\n",
    "print(np.percentile(orders['revenue'], [95,99]))"
   ]
  },
  {
   "cell_type": "markdown",
   "metadata": {},
   "source": [
    "**Вывод:**\n",
    "\n",
    "5% пользователей заплатили более 28000 руб. за заказ, не более 1% посетителей потратили более 58233 руб.\n",
    "\n",
    "Примем за аномальных пользователей тех, кто потратил более 28К."
   ]
  },
  {
   "cell_type": "code",
   "execution_count": 26,
   "metadata": {},
   "outputs": [
    {
     "data": {
      "text/html": [
       "<div>\n",
       "<style scoped>\n",
       "    .dataframe tbody tr th:only-of-type {\n",
       "        vertical-align: middle;\n",
       "    }\n",
       "\n",
       "    .dataframe tbody tr th {\n",
       "        vertical-align: top;\n",
       "    }\n",
       "\n",
       "    .dataframe thead th {\n",
       "        text-align: right;\n",
       "    }\n",
       "</style>\n",
       "<table border=\"1\" class=\"dataframe\">\n",
       "  <thead>\n",
       "    <tr style=\"text-align: right;\">\n",
       "      <th></th>\n",
       "      <th>visitorId</th>\n",
       "      <th>orders</th>\n",
       "    </tr>\n",
       "  </thead>\n",
       "  <tbody>\n",
       "    <tr>\n",
       "      <th>499</th>\n",
       "      <td>4256040402</td>\n",
       "      <td>7</td>\n",
       "    </tr>\n",
       "    <tr>\n",
       "      <th>227</th>\n",
       "      <td>2038680547</td>\n",
       "      <td>5</td>\n",
       "    </tr>\n",
       "    <tr>\n",
       "      <th>278</th>\n",
       "      <td>2458001652</td>\n",
       "      <td>5</td>\n",
       "    </tr>\n",
       "    <tr>\n",
       "      <th>269</th>\n",
       "      <td>2378935119</td>\n",
       "      <td>4</td>\n",
       "    </tr>\n",
       "    <tr>\n",
       "      <th>18</th>\n",
       "      <td>199603092</td>\n",
       "      <td>4</td>\n",
       "    </tr>\n",
       "  </tbody>\n",
       "</table>\n",
       "</div>"
      ],
      "text/plain": [
       "      visitorId  orders\n",
       "499  4256040402       7\n",
       "227  2038680547       5\n",
       "278  2458001652       5\n",
       "269  2378935119       4\n",
       "18    199603092       4"
      ]
     },
     "metadata": {},
     "output_type": "display_data"
    }
   ],
   "source": [
    "# количество заказов на одного юзера по группам\n",
    "ordersByUsersA = (orders[orders['group'] == 'A'].groupby('visitorId', as_index = False)\n",
    "                .agg({'transactionId': 'nunique'})\n",
    "                )\n",
    "ordersByUsersA.columns = ['visitorId', 'orders']\n",
    "display(ordersByUsersA.sort_values(by='orders', ascending = False).head())\n",
    "\n",
    "ordersByUsersB = (orders[orders['group'] == 'B'].groupby('visitorId', as_index = False)\n",
    "                .agg({'transactionId': 'nunique'})\n",
    "                )\n",
    "ordersByUsersB.columns = ['visitorId', 'orders']"
   ]
  },
  {
   "cell_type": "markdown",
   "metadata": {},
   "source": [
    "### Статистическая значимость различий в среднем количестве заказов на посетителя между группами по «сырым» данным"
   ]
  },
  {
   "cell_type": "markdown",
   "metadata": {},
   "source": [
    "Посчитаем статистическую значимость различия в среднем количестве заказов между группами по \"сырым\" данным.\n",
    "\n",
    "* Нулевая гипотеза: статистически значимых различий в среднем числе заказов между группами нет.\n",
    "* Альтернативная гипотеза: статистически значимые различия в среднем числе заказов между группами есть.\n",
    "\n",
    "Уровень статистической значимости alpha = 0.05.\n",
    "\n",
    "Ввиду того, что в данных могут быть большие (по сравнению с нормальным распределением) выбросы, используем для проверки U-критерий Манна-Уитни."
   ]
  },
  {
   "cell_type": "code",
   "execution_count": 27,
   "metadata": {},
   "outputs": [
    {
     "name": "stdout",
     "output_type": "stream",
     "text": [
      "p-значение:  0.016792355056752608\n",
      "Отвергаем нулевую гипотезу: разница статистически значима\n",
      "Относительная разница групп: 0.138\n"
     ]
    }
   ],
   "source": [
    "# статистическая значимость различий в среднем количестве заказов на посетителя между группами по «сырым» данным\n",
    "sampleA = pd.concat([ordersByUsersA['orders'],pd.Series(0, index=np.arange(data['visitorsPerDateA'].sum() - len(ordersByUsersA['orders'])), name='orders')],axis=0)\n",
    "sampleB = pd.concat([ordersByUsersB['orders'],pd.Series(0, index=np.arange(data['visitorsPerDateB'].sum() - len(ordersByUsersB['orders'])), name='orders')],axis=0)\n",
    "\n",
    "alpha = 0.05\n",
    "results = stats.mannwhitneyu(sampleA, sampleB)[1]\n",
    "\n",
    "print('p-значение: ', results)\n",
    "if results < alpha:\n",
    "    print('Отвергаем нулевую гипотезу: разница статистически значима')\n",
    "else:\n",
    "    print(\n",
    "        'Не получилось отвергнуть нулевую гипотезу, вывод о различии сделать нельзя'\n",
    "    ) \n",
    "print('Относительная разница групп:', \"{0:.3f}\".format(sampleB.mean() / sampleA.mean() - 1))"
   ]
  },
  {
   "cell_type": "markdown",
   "metadata": {},
   "source": [
    "**Вывод:**\n",
    "\n",
    "По «сырым» данным наблюдаются различия в среднем числе заказов групп A и B.\n",
    "    \n",
    "Первое число — p-value = 0.017 меньше 0.05. \n",
    "\n",
    "Значит, нулевую гипотезу о том, что статистически значимых различий в среднем числе заказов между группами нет, отвергаем. \n",
    "\n",
    "Относительный выигрыш группы B равен 13.8%."
   ]
  },
  {
   "cell_type": "markdown",
   "metadata": {},
   "source": [
    "### Статистическая значимость различий в среднем чеке заказа между группами по «сырым» данным"
   ]
  },
  {
   "cell_type": "markdown",
   "metadata": {},
   "source": [
    "Посчитаем статистическую значимость различия в среднем чеке заказа между группами по \"сырым\" данным.\n",
    "\n",
    "* Нулевая гипотеза: статистически значимых различий в среднем чеке между группами нет.\n",
    "* Альтернативная гипотеза: статистически значимые различия в среднем чеке между группами есть.\n",
    "\n",
    "Уровень статистической значимости alpha = 0.05.\n",
    "\n",
    "Ввиду того, что в данных могут быть большие (по сравнению с нормальным распределением) выбросы, используем для проверки U-критерий Манна-Уитни."
   ]
  },
  {
   "cell_type": "code",
   "execution_count": 28,
   "metadata": {
    "scrolled": true
   },
   "outputs": [
    {
     "name": "stdout",
     "output_type": "stream",
     "text": [
      "p-значение:  0.7292909855432458\n",
      "Не получилось отвергнуть нулевую гипотезу, вывод о различии сделать нельзя\n",
      "Относительная разница групп: 0.259\n"
     ]
    }
   ],
   "source": [
    "# статистическая значимость различий в среднем чеке заказа между группами по «сырым» данным\n",
    "\n",
    "alpha = 0.05\n",
    "results = stats.mannwhitneyu(orders[orders['group']=='A']['revenue'], orders[orders['group']=='B']['revenue'])[1]\n",
    "print('p-значение: ', results)\n",
    "if results < alpha:\n",
    "    print('Отвергаем нулевую гипотезу: разница статистически значима')\n",
    "else:\n",
    "    print(\n",
    "        'Не получилось отвергнуть нулевую гипотезу, вывод о различии сделать нельзя'\n",
    "    ) \n",
    "print('Относительная разница групп:', '{0:.3f}'.format(orders[orders['group']=='B']['revenue'].mean()/orders[orders['group']=='A']['revenue'].mean()-1))\n",
    "\n"
   ]
  },
  {
   "cell_type": "markdown",
   "metadata": {},
   "source": [
    "**Вывод:**\n",
    "\n",
    "P-value значительно больше 0.05. \n",
    "\n",
    "Значит, причин отвергать нулевую гипотезу и считать, что в среднем чеке есть различия, нет. \n",
    "\n",
    "Относительная разница групп может быть вызвана аномально большими заказами, проверим это при тесте \"очищенных\" данных.\n"
   ]
  },
  {
   "cell_type": "code",
   "execution_count": 29,
   "metadata": {},
   "outputs": [
    {
     "name": "stdout",
     "output_type": "stream",
     "text": [
      "1099    148427295\n",
      "18      199603092\n",
      "928     204675465\n",
      "23      237748145\n",
      "37      249864742\n",
      "Name: visitorId, dtype: int64\n",
      "74\n"
     ]
    }
   ],
   "source": [
    "# удаляем аномально активных клиентов и аномально дорогие заказы\n",
    "usersWithManyOrders = pd.concat(\n",
    "    [\n",
    "        ordersByUsersA[ordersByUsersA['orders'] > np.percentile(ordersByUsers['orders'], 95)]['visitorId'],\n",
    "        ordersByUsersB[ordersByUsersB['orders'] > np.percentile(ordersByUsers['orders'], 95)]['visitorId'],\n",
    "    ],\n",
    "    axis=0,\n",
    ")\n",
    "usersWithExpensiveOrders = orders[orders['revenue'] > np.percentile(orders['revenue'], 95)]['visitorId']\n",
    "abnormalUsers = (\n",
    "    pd.concat([usersWithManyOrders, usersWithExpensiveOrders], axis=0)\n",
    "    .drop_duplicates()\n",
    "    .sort_values()\n",
    ")\n",
    "\n",
    "print(abnormalUsers.head(5))\n",
    "print(abnormalUsers.shape[0]) "
   ]
  },
  {
   "cell_type": "code",
   "execution_count": 30,
   "metadata": {},
   "outputs": [],
   "source": [
    "sampleAFiltered = pd.concat(\n",
    "    [ordersByUsersA[np.logical_not(ordersByUsersA['visitorId'].isin(abnormalUsers))]['orders'],\n",
    "    pd.Series(0, index=np.arange(data['visitorsPerDateA'].sum() - len(ordersByUsersA['orders'])), name='orders')],\n",
    "    axis=0,\n",
    ")\n",
    "\n",
    "sampleBFiltered = pd.concat(\n",
    "    [ordersByUsersB[np.logical_not(ordersByUsersB['visitorId'].isin(abnormalUsers))]['orders'],\n",
    "    pd.Series(0,index=np.arange(data['visitorsPerDateB'].sum() - len(ordersByUsersB['orders'])),name='orders')],\n",
    "    axis=0,\n",
    ")"
   ]
  },
  {
   "cell_type": "markdown",
   "metadata": {},
   "source": [
    "### Статистическая значимость различий в среднем количестве заказов на посетителя между группами по «очищенным» данным"
   ]
  },
  {
   "cell_type": "markdown",
   "metadata": {},
   "source": [
    "Посчитаем статистическую значимость различия в среднем количестве заказов между группами по \"очищенным\" данным.\n",
    "\n",
    "* Нулевая гипотеза: статистически значимых различий в среднем числе заказов между группами нет.\n",
    "* Альтернативная гипотеза: статистически значимые различия в среднем числе заказов между группами есть.\n",
    "\n",
    "Уровень статистической значимости alpha = 0.05.\n",
    "\n",
    "Ввиду того, что в данных могут быть большие (по сравнению с нормальным распределением) выбросы, используем для проверки U-критерий Манна-Уитни."
   ]
  },
  {
   "cell_type": "code",
   "execution_count": 31,
   "metadata": {},
   "outputs": [
    {
     "name": "stdout",
     "output_type": "stream",
     "text": [
      "p-значение:  0.013042592743036745\n",
      "Отвергаем нулевую гипотезу: разница статистически значима\n",
      "Относительная разница групп: 0.173\n"
     ]
    }
   ],
   "source": [
    "# статистическая значимость различий в среднем количестве заказов на посетителя между группами по «очищенным» данным\n",
    "alpha = 0.05\n",
    "results = stats.mannwhitneyu(sampleAFiltered, sampleBFiltered)[1]\n",
    "print('p-значение: ', results)\n",
    "if results < alpha:\n",
    "    print('Отвергаем нулевую гипотезу: разница статистически значима')\n",
    "else:\n",
    "    print(\n",
    "        'Не получилось отвергнуть нулевую гипотезу, вывод о различии сделать нельзя'\n",
    "    ) \n",
    "\n",
    "print('Относительная разница групп:', '{0:.3f}'.format(sampleBFiltered.mean()/sampleAFiltered.mean()-1))"
   ]
  },
  {
   "cell_type": "markdown",
   "metadata": {},
   "source": [
    "**Вывод:**\n",
    "\n",
    "По «очищенным» данным наблюдаются различия в среднем числе заказов групп A и B.\n",
    "    \n",
    "p-value = 0.013 меньше 0.05. \n",
    "\n",
    "Значит, нулевую гипотезу о том, что статистически значимых различий в среднем числе заказов между группами нет, отвергаем. \n",
    "\n",
    "Относительный выигрыш группы B равен 17.3%."
   ]
  },
  {
   "cell_type": "markdown",
   "metadata": {},
   "source": [
    "### Статистическая значимость различий в среднем чеке заказа между группами по «очищенным» данным"
   ]
  },
  {
   "cell_type": "markdown",
   "metadata": {},
   "source": [
    "Посчитаем статистическую значимость различия в среднем чеке заказа между группами по \"очищенным\" данным.\n",
    "\n",
    "* Нулевая гипотеза: статистически значимых различий в среднем чеке между группами нет.\n",
    "* Альтернативная гипотеза: статистически значимые различия в среднем чеке между группами есть.\n",
    "\n",
    "Уровень статистической значимости alpha = 0.05.\n",
    "\n",
    "Ввиду того, что в данных могут быть большие (по сравнению с нормальным распределением) выбросы, используем для проверки U-критерий Манна-Уитни."
   ]
  },
  {
   "cell_type": "code",
   "execution_count": 32,
   "metadata": {},
   "outputs": [
    {
     "name": "stdout",
     "output_type": "stream",
     "text": [
      "p-значение:  0.738481751314565\n",
      "Не получилось отвергнуть нулевую гипотезу, вывод о различии сделать нельзя\n",
      "Относительная разница групп: -0.020\n"
     ]
    }
   ],
   "source": [
    "# статистическая значимость различий в среднем чеке заказа между группами по «очищенным» данным\n",
    "alpha = 0.05\n",
    "results = stats.mannwhitneyu(orders[np.logical_and(orders['group'] == 'A',\n",
    "np.logical_not(orders['visitorId'].isin(abnormalUsers)))]['revenue'], orders[\n",
    "np.logical_and(orders['group'] == 'B', np.logical_not(orders['visitorId'].isin(abnormalUsers)))\n",
    "]['revenue'])[1]\n",
    "\n",
    "print('p-значение: ', results)\n",
    "if results < alpha:\n",
    "    print('Отвергаем нулевую гипотезу: разница статистически значима')\n",
    "else:\n",
    "    print(\n",
    "        'Не получилось отвергнуть нулевую гипотезу, вывод о различии сделать нельзя'\n",
    "    ) \n",
    "\n",
    "\n",
    "print('Относительная разница групп:', \"{0:.3f}\".format(orders[np.logical_and(orders['group'] == 'B',\n",
    "np.logical_not(orders['visitorId'].isin(abnormalUsers)))]['revenue'].mean() \n",
    "                       / orders[np.logical_and(orders['group'] == 'A',\n",
    "                np.logical_not(orders['visitorId'].isin(abnormalUsers)))]['revenue'].mean() - 1)\n",
    ") "
   ]
  },
  {
   "cell_type": "markdown",
   "metadata": {},
   "source": [
    "**Вывод:**\n",
    "\n",
    "P-value значительно больше 0.05. \n",
    "\n",
    "Значит, причин отвергать нулевую гипотезу и считать, что в среднем чеке есть различия, нет. \n",
    "\n",
    "Относительная разница групп после очистки данных сократилась до 2% в пользу группы А."
   ]
  },
  {
   "cell_type": "markdown",
   "metadata": {},
   "source": [
    "### Графики кумулятивной выручки и кумулятивного среднего чека по группам после \"очистки\""
   ]
  },
  {
   "cell_type": "markdown",
   "metadata": {},
   "source": [
    "<div style=\"background:#e5e5e5; color:#000; padding:10px\">\n",
    "Предлагаю посмотреть на график кумулятивной выручки и кумулятивного среднего чека по группам после \"очистки\".\n",
    "</div>"
   ]
  },
  {
   "cell_type": "code",
   "execution_count": 33,
   "metadata": {
    "scrolled": true
   },
   "outputs": [
    {
     "name": "stdout",
     "output_type": "stream",
     "text": [
      "      transactionId   visitorId       date  revenue group\n",
      "0        3667963787  3312258926 2019-08-15     1650     B\n",
      "1        2804400009  3642806036 2019-08-15      730     B\n",
      "2        2961555356  4069496402 2019-08-15      400     A\n",
      "3        3797467345  1196621759 2019-08-15     9759     B\n",
      "4        2282983706  2322279887 2019-08-15     2308     B\n",
      "...             ...         ...        ...      ...   ...\n",
      "1190       38478481  1197745035 2019-08-14     8600     B\n",
      "1191     3592955527   608641596 2019-08-14    16490     B\n",
      "1192     2662137336  3733762160 2019-08-14     6490     B\n",
      "1193     2203539145   370388673 2019-08-14     3190     A\n",
      "1194     1807773912   573423106 2019-08-14    10550     A\n",
      "\n",
      "[1033 rows x 5 columns]\n"
     ]
    }
   ],
   "source": [
    "# очищаем orders от аномальных заказов\n",
    "data_filtered = orders[np.logical_not(orders['visitorId'].isin(abnormalUsers))]\n",
    "print(data_filtered)"
   ]
  },
  {
   "cell_type": "code",
   "execution_count": 34,
   "metadata": {},
   "outputs": [
    {
     "data": {
      "text/html": [
       "<div>\n",
       "<style scoped>\n",
       "    .dataframe tbody tr th:only-of-type {\n",
       "        vertical-align: middle;\n",
       "    }\n",
       "\n",
       "    .dataframe tbody tr th {\n",
       "        vertical-align: top;\n",
       "    }\n",
       "\n",
       "    .dataframe thead th {\n",
       "        text-align: right;\n",
       "    }\n",
       "</style>\n",
       "<table border=\"1\" class=\"dataframe\">\n",
       "  <thead>\n",
       "    <tr style=\"text-align: right;\">\n",
       "      <th></th>\n",
       "      <th>date</th>\n",
       "      <th>ordersPerDateA</th>\n",
       "      <th>revenuePerDateA</th>\n",
       "    </tr>\n",
       "  </thead>\n",
       "  <tbody>\n",
       "    <tr>\n",
       "      <th>0</th>\n",
       "      <td>2019-08-01</td>\n",
       "      <td>16</td>\n",
       "      <td>54351</td>\n",
       "    </tr>\n",
       "    <tr>\n",
       "      <th>1</th>\n",
       "      <td>2019-08-02</td>\n",
       "      <td>19</td>\n",
       "      <td>92132</td>\n",
       "    </tr>\n",
       "    <tr>\n",
       "      <th>2</th>\n",
       "      <td>2019-08-03</td>\n",
       "      <td>24</td>\n",
       "      <td>112473</td>\n",
       "    </tr>\n",
       "    <tr>\n",
       "      <th>3</th>\n",
       "      <td>2019-08-04</td>\n",
       "      <td>13</td>\n",
       "      <td>66415</td>\n",
       "    </tr>\n",
       "    <tr>\n",
       "      <th>4</th>\n",
       "      <td>2019-08-05</td>\n",
       "      <td>25</td>\n",
       "      <td>124218</td>\n",
       "    </tr>\n",
       "  </tbody>\n",
       "</table>\n",
       "</div>"
      ],
      "text/plain": [
       "        date  ordersPerDateA  revenuePerDateA\n",
       "0 2019-08-01              16            54351\n",
       "1 2019-08-02              19            92132\n",
       "2 2019-08-03              24           112473\n",
       "3 2019-08-04              13            66415\n",
       "4 2019-08-05              25           124218"
      ]
     },
     "metadata": {},
     "output_type": "display_data"
    },
    {
     "data": {
      "text/html": [
       "<div>\n",
       "<style scoped>\n",
       "    .dataframe tbody tr th:only-of-type {\n",
       "        vertical-align: middle;\n",
       "    }\n",
       "\n",
       "    .dataframe tbody tr th {\n",
       "        vertical-align: top;\n",
       "    }\n",
       "\n",
       "    .dataframe thead th {\n",
       "        text-align: right;\n",
       "    }\n",
       "</style>\n",
       "<table border=\"1\" class=\"dataframe\">\n",
       "  <thead>\n",
       "    <tr style=\"text-align: right;\">\n",
       "      <th></th>\n",
       "      <th>date</th>\n",
       "      <th>ordersCummulativeA</th>\n",
       "      <th>revenueCummulativeA</th>\n",
       "    </tr>\n",
       "  </thead>\n",
       "  <tbody>\n",
       "    <tr>\n",
       "      <th>0</th>\n",
       "      <td>2019-08-01</td>\n",
       "      <td>16</td>\n",
       "      <td>54351</td>\n",
       "    </tr>\n",
       "    <tr>\n",
       "      <th>1</th>\n",
       "      <td>2019-08-02</td>\n",
       "      <td>35</td>\n",
       "      <td>146483</td>\n",
       "    </tr>\n",
       "    <tr>\n",
       "      <th>2</th>\n",
       "      <td>2019-08-03</td>\n",
       "      <td>59</td>\n",
       "      <td>258956</td>\n",
       "    </tr>\n",
       "    <tr>\n",
       "      <th>3</th>\n",
       "      <td>2019-08-04</td>\n",
       "      <td>72</td>\n",
       "      <td>325371</td>\n",
       "    </tr>\n",
       "    <tr>\n",
       "      <th>4</th>\n",
       "      <td>2019-08-05</td>\n",
       "      <td>97</td>\n",
       "      <td>449589</td>\n",
       "    </tr>\n",
       "  </tbody>\n",
       "</table>\n",
       "</div>"
      ],
      "text/plain": [
       "        date  ordersCummulativeA  revenueCummulativeA\n",
       "0 2019-08-01                  16                54351\n",
       "1 2019-08-02                  35               146483\n",
       "2 2019-08-03                  59               258956\n",
       "3 2019-08-04                  72               325371\n",
       "4 2019-08-05                  97               449589"
      ]
     },
     "execution_count": 34,
     "metadata": {},
     "output_type": "execute_result"
    }
   ],
   "source": [
    "# считаем новые ordersPerDate и revenuePerDate для группы А\n",
    "ordersAdaily_filtered = (data_filtered[data_filtered['group'] == 'A'][['date', 'transactionId', 'visitorId', 'revenue']] \n",
    ".groupby('date', as_index = False)\n",
    ".agg({'transactionId': 'nunique', 'revenue': 'sum'})\n",
    ")\n",
    "ordersAdaily_filtered.columns = ['date', 'ordersPerDateA', 'revenuePerDateA']\n",
    "display(ordersAdaily_filtered.head())\n",
    "\n",
    "ordersACummulative_filtered = (\n",
    "    ordersAdaily_filtered.apply(lambda x: ordersAdaily_filtered[ordersAdaily_filtered['date'] <= x['date']]\n",
    "                      .agg({'date': 'max', 'ordersPerDateA': 'sum', 'revenuePerDateA': 'sum'}), axis = 1)\n",
    "\n",
    ")\n",
    "ordersACummulative_filtered.columns = ['date', 'ordersCummulativeA', 'revenueCummulativeA']\n",
    "ordersACummulative_filtered.head()"
   ]
  },
  {
   "cell_type": "code",
   "execution_count": 35,
   "metadata": {},
   "outputs": [
    {
     "data": {
      "text/html": [
       "<div>\n",
       "<style scoped>\n",
       "    .dataframe tbody tr th:only-of-type {\n",
       "        vertical-align: middle;\n",
       "    }\n",
       "\n",
       "    .dataframe tbody tr th {\n",
       "        vertical-align: top;\n",
       "    }\n",
       "\n",
       "    .dataframe thead th {\n",
       "        text-align: right;\n",
       "    }\n",
       "</style>\n",
       "<table border=\"1\" class=\"dataframe\">\n",
       "  <thead>\n",
       "    <tr style=\"text-align: right;\">\n",
       "      <th></th>\n",
       "      <th>date</th>\n",
       "      <th>ordersPerDateB</th>\n",
       "      <th>revenuePerDateB</th>\n",
       "    </tr>\n",
       "  </thead>\n",
       "  <tbody>\n",
       "    <tr>\n",
       "      <th>0</th>\n",
       "      <td>2019-08-01</td>\n",
       "      <td>19</td>\n",
       "      <td>78258</td>\n",
       "    </tr>\n",
       "    <tr>\n",
       "      <th>1</th>\n",
       "      <td>2019-08-02</td>\n",
       "      <td>21</td>\n",
       "      <td>93234</td>\n",
       "    </tr>\n",
       "    <tr>\n",
       "      <th>2</th>\n",
       "      <td>2019-08-03</td>\n",
       "      <td>16</td>\n",
       "      <td>114248</td>\n",
       "    </tr>\n",
       "    <tr>\n",
       "      <th>3</th>\n",
       "      <td>2019-08-04</td>\n",
       "      <td>15</td>\n",
       "      <td>74421</td>\n",
       "    </tr>\n",
       "    <tr>\n",
       "      <th>4</th>\n",
       "      <td>2019-08-05</td>\n",
       "      <td>21</td>\n",
       "      <td>61658</td>\n",
       "    </tr>\n",
       "  </tbody>\n",
       "</table>\n",
       "</div>"
      ],
      "text/plain": [
       "        date  ordersPerDateB  revenuePerDateB\n",
       "0 2019-08-01              19            78258\n",
       "1 2019-08-02              21            93234\n",
       "2 2019-08-03              16           114248\n",
       "3 2019-08-04              15            74421\n",
       "4 2019-08-05              21            61658"
      ]
     },
     "metadata": {},
     "output_type": "display_data"
    },
    {
     "data": {
      "text/html": [
       "<div>\n",
       "<style scoped>\n",
       "    .dataframe tbody tr th:only-of-type {\n",
       "        vertical-align: middle;\n",
       "    }\n",
       "\n",
       "    .dataframe tbody tr th {\n",
       "        vertical-align: top;\n",
       "    }\n",
       "\n",
       "    .dataframe thead th {\n",
       "        text-align: right;\n",
       "    }\n",
       "</style>\n",
       "<table border=\"1\" class=\"dataframe\">\n",
       "  <thead>\n",
       "    <tr style=\"text-align: right;\">\n",
       "      <th></th>\n",
       "      <th>date</th>\n",
       "      <th>ordersCummulativeB</th>\n",
       "      <th>revenueCummulativeB</th>\n",
       "    </tr>\n",
       "  </thead>\n",
       "  <tbody>\n",
       "    <tr>\n",
       "      <th>0</th>\n",
       "      <td>2019-08-01</td>\n",
       "      <td>19</td>\n",
       "      <td>78258</td>\n",
       "    </tr>\n",
       "    <tr>\n",
       "      <th>1</th>\n",
       "      <td>2019-08-02</td>\n",
       "      <td>40</td>\n",
       "      <td>171492</td>\n",
       "    </tr>\n",
       "    <tr>\n",
       "      <th>2</th>\n",
       "      <td>2019-08-03</td>\n",
       "      <td>56</td>\n",
       "      <td>285740</td>\n",
       "    </tr>\n",
       "    <tr>\n",
       "      <th>3</th>\n",
       "      <td>2019-08-04</td>\n",
       "      <td>71</td>\n",
       "      <td>360161</td>\n",
       "    </tr>\n",
       "    <tr>\n",
       "      <th>4</th>\n",
       "      <td>2019-08-05</td>\n",
       "      <td>92</td>\n",
       "      <td>421819</td>\n",
       "    </tr>\n",
       "  </tbody>\n",
       "</table>\n",
       "</div>"
      ],
      "text/plain": [
       "        date  ordersCummulativeB  revenueCummulativeB\n",
       "0 2019-08-01                  19                78258\n",
       "1 2019-08-02                  40               171492\n",
       "2 2019-08-03                  56               285740\n",
       "3 2019-08-04                  71               360161\n",
       "4 2019-08-05                  92               421819"
      ]
     },
     "execution_count": 35,
     "metadata": {},
     "output_type": "execute_result"
    }
   ],
   "source": [
    "# считаем новые ordersPerDate и revenuePerDate для группы B\n",
    "ordersBdaily_filtered = (data_filtered[data_filtered['group'] == 'B'][['date', 'transactionId', 'visitorId', 'revenue']] \n",
    ".groupby('date', as_index = False)\n",
    ".agg({'transactionId': 'nunique', 'revenue': 'sum'})\n",
    ")\n",
    "ordersBdaily_filtered.columns = ['date', 'ordersPerDateB', 'revenuePerDateB']\n",
    "display(ordersBdaily_filtered.head())\n",
    "\n",
    "ordersBCummulative_filtered = (\n",
    "    ordersBdaily_filtered.apply(lambda x: ordersBdaily_filtered[ordersBdaily_filtered['date'] <= x['date']]\n",
    "                      .agg({'date': 'max', 'ordersPerDateB': 'sum', 'revenuePerDateB': 'sum'}), axis = 1)\n",
    "\n",
    ")\n",
    "ordersBCummulative_filtered.columns = ['date', 'ordersCummulativeB', 'revenueCummulativeB']\n",
    "ordersBCummulative_filtered.head()"
   ]
  },
  {
   "cell_type": "code",
   "execution_count": 36,
   "metadata": {},
   "outputs": [
    {
     "data": {
      "image/png": "[encoded data removed]",
      "text/plain": [
       "<Figure size 864x432 with 1 Axes>"
      ]
     },
     "metadata": {
      "needs_background": "light"
     },
     "output_type": "display_data"
    }
   ],
   "source": [
    "# график кумулятивной выручки по группам после \"очистки\"\n",
    "f = plt.figure()\n",
    "f.set_figwidth(12)\n",
    "f.set_figheight(6)\n",
    "plt.plot(data['date'], ordersACummulative_filtered['revenueCummulativeA'], label = 'A')\n",
    "plt.plot(data['date'], ordersBCummulative_filtered['revenueCummulativeB'], label = 'B')\n",
    "\n",
    "plt.legend() \n",
    "plt.xlabel(\"Дата\")\n",
    "plt.ylabel(\"Выручка\")\n",
    "plt.title(\"Кумулятивная выручка по группам после 'очистки'\")\n",
    "plt.show()"
   ]
  },
  {
   "cell_type": "code",
   "execution_count": 37,
   "metadata": {
    "scrolled": false
   },
   "outputs": [
    {
     "data": {
      "image/png": "[encoded data removed]",
      "text/plain": [
       "<Figure size 864x432 with 1 Axes>"
      ]
     },
     "metadata": {
      "needs_background": "light"
     },
     "output_type": "display_data"
    }
   ],
   "source": [
    "# график кумулятивного среднего чека по группам после 'очистки'\n",
    "f = plt.figure()\n",
    "f.set_figwidth(12)\n",
    "f.set_figheight(6)\n",
    "plt.plot(data['date'], ordersACummulative_filtered['revenueCummulativeA'] / ordersACummulative_filtered['ordersCummulativeA'], label = 'A')\n",
    "plt.plot(data['date'], ordersBCummulative_filtered['revenueCummulativeB'] / ordersBCummulative_filtered['ordersCummulativeB'], label = 'B')\n",
    "plt.legend() \n",
    "plt.xlabel(\"Дата\")\n",
    "plt.ylabel(\"Средний чек\")\n",
    "plt.title(\"Кумулятивный средний чек по группам после 'очистки'\")\n",
    "plt.show()"
   ]
  },
  {
   "cell_type": "code",
   "execution_count": 38,
   "metadata": {},
   "outputs": [
    {
     "data": {
      "image/png": "[encoded data removed]",
      "text/plain": [
       "<Figure size 864x432 with 1 Axes>"
      ]
     },
     "metadata": {
      "needs_background": "light"
     },
     "output_type": "display_data"
    }
   ],
   "source": [
    "# график относительного изменения кумулятивного среднего чека по группам после \"очистки\" \n",
    "f = plt.figure()\n",
    "f.set_figwidth(12)\n",
    "f.set_figheight(6)\n",
    "plt.plot(data['date'], (ordersBCummulative_filtered['revenueCummulativeB'] / ordersBCummulative_filtered['ordersCummulativeB']) / (ordersACummulative_filtered['revenueCummulativeA'] / ordersACummulative_filtered['ordersCummulativeA'])-1)\n",
    "plt.axhline(y=0, color='black', linestyle='--') \n",
    "plt.xlabel(\"Дата\")\n",
    "plt.ylabel(\"Различие среднего чека между группами\")\n",
    "plt.title(\"Относительное изменение кумулятивного среднего чека группы B к A после 'очистки'\")\n",
    "plt.show()"
   ]
  },
  {
   "cell_type": "markdown",
   "metadata": {},
   "source": [
    "### Общие выводы по работе:"
   ]
  },
  {
   "cell_type": "markdown",
   "metadata": {},
   "source": [
    "\n",
    "1. Кумулятивная выручка группы B больше как по \"сырым\" данным, так и после фильтрации.\n",
    "\n",
    "\n",
    "2. Есть статистически значимое различие в среднем количестве заказов на пользователя между группами как по сырым данным, так и после фильтрации аномалий. Относительный выигрыш группы B равен 17.3%.\n",
    "\n",
    "\n",
    "3. График различия конверсий между группами сообщает, что результаты группы B лучше группы A: имеют тенденцию к росту.\n",
    "\n",
    "\n",
    "4. Нет статистически значимого различия по среднему чеку между группами. График различия среднего чека колеблется как по \"сырым\" данным, так и после \"очистки\", сделать из этого графика определённые выводы нельзя.\n",
    "\n",
    "\n",
    "5. Тест следует остановить , признать его успешным на основании возросшей конверсии и выручки."
   ]
  }
 ],
 "metadata": {
  "ExecuteTimeLog": [
   {
    "duration": 429,
    "start_time": "2023-02-27T10:52:39.024Z"
   },
   {
    "duration": 75,
    "start_time": "2023-02-27T10:52:39.455Z"
   },
   {
    "duration": 29,
    "start_time": "2023-02-27T10:54:04.656Z"
   },
   {
    "duration": 28,
    "start_time": "2023-02-27T10:54:15.561Z"
   },
   {
    "duration": 28,
    "start_time": "2023-02-27T10:54:24.556Z"
   },
   {
    "duration": 29,
    "start_time": "2023-02-27T10:54:30.156Z"
   },
   {
    "duration": 28,
    "start_time": "2023-02-27T10:55:03.921Z"
   },
   {
    "duration": 455,
    "start_time": "2023-02-27T11:03:45.256Z"
   },
   {
    "duration": 28,
    "start_time": "2023-02-27T11:03:51.432Z"
   },
   {
    "duration": 11,
    "start_time": "2023-02-27T11:05:42.528Z"
   },
   {
    "duration": 3,
    "start_time": "2023-02-27T11:06:05.986Z"
   },
   {
    "duration": 29,
    "start_time": "2023-02-27T11:06:06.126Z"
   },
   {
    "duration": 26,
    "start_time": "2023-02-27T11:06:06.157Z"
   },
   {
    "duration": 413,
    "start_time": "2023-02-27T11:06:22.337Z"
   },
   {
    "duration": 36,
    "start_time": "2023-02-27T11:06:22.752Z"
   },
   {
    "duration": 10,
    "start_time": "2023-02-27T11:06:22.789Z"
   },
   {
    "duration": 47,
    "start_time": "2023-02-27T11:07:00.698Z"
   },
   {
    "duration": 8,
    "start_time": "2023-02-27T11:07:09.338Z"
   },
   {
    "duration": 9,
    "start_time": "2023-02-27T11:07:20.380Z"
   },
   {
    "duration": 13,
    "start_time": "2023-02-27T11:09:01.432Z"
   },
   {
    "duration": 85,
    "start_time": "2023-02-27T11:09:23.261Z"
   },
   {
    "duration": 39,
    "start_time": "2023-02-27T11:09:34.693Z"
   },
   {
    "duration": 48,
    "start_time": "2023-02-27T14:11:13.739Z"
   },
   {
    "duration": 53,
    "start_time": "2023-02-27T14:11:21.696Z"
   },
   {
    "duration": 0,
    "start_time": "2023-02-27T14:11:21.751Z"
   },
   {
    "duration": 0,
    "start_time": "2023-02-27T14:11:21.752Z"
   },
   {
    "duration": 0,
    "start_time": "2023-02-27T14:11:21.753Z"
   },
   {
    "duration": 0,
    "start_time": "2023-02-27T14:11:21.754Z"
   },
   {
    "duration": 766,
    "start_time": "2023-02-27T14:11:35.915Z"
   },
   {
    "duration": 3,
    "start_time": "2023-02-27T14:11:39.275Z"
   },
   {
    "duration": 136,
    "start_time": "2023-02-27T14:11:39.280Z"
   },
   {
    "duration": 11,
    "start_time": "2023-02-27T14:11:39.417Z"
   },
   {
    "duration": 23,
    "start_time": "2023-02-27T14:11:39.430Z"
   },
   {
    "duration": 116,
    "start_time": "2023-02-27T14:11:39.455Z"
   },
   {
    "duration": 82,
    "start_time": "2023-02-27T14:14:56.040Z"
   },
   {
    "duration": 64,
    "start_time": "2023-02-27T14:28:39.049Z"
   },
   {
    "duration": 57,
    "start_time": "2023-02-27T14:29:30.760Z"
   },
   {
    "duration": 44,
    "start_time": "2023-02-27T14:30:11.639Z"
   },
   {
    "duration": 78,
    "start_time": "2023-02-27T14:30:34.261Z"
   },
   {
    "duration": 44,
    "start_time": "2023-02-27T14:30:40.351Z"
   },
   {
    "duration": 55,
    "start_time": "2023-02-27T14:38:05.559Z"
   },
   {
    "duration": 45,
    "start_time": "2023-02-27T14:38:24.655Z"
   },
   {
    "duration": 14,
    "start_time": "2023-02-27T14:43:36.475Z"
   },
   {
    "duration": 494,
    "start_time": "2023-02-27T14:44:51.355Z"
   },
   {
    "duration": 12,
    "start_time": "2023-02-27T14:45:35.541Z"
   },
   {
    "duration": 57,
    "start_time": "2023-02-27T14:49:41.870Z"
   },
   {
    "duration": 625,
    "start_time": "2023-02-27T15:52:31.447Z"
   },
   {
    "duration": 38,
    "start_time": "2023-02-27T15:52:32.074Z"
   },
   {
    "duration": 13,
    "start_time": "2023-02-27T15:52:32.114Z"
   },
   {
    "duration": 11,
    "start_time": "2023-02-27T15:52:32.129Z"
   },
   {
    "duration": 65,
    "start_time": "2023-02-27T15:52:32.142Z"
   },
   {
    "duration": 19,
    "start_time": "2023-02-27T15:52:32.208Z"
   },
   {
    "duration": 45,
    "start_time": "2023-02-27T15:52:32.229Z"
   },
   {
    "duration": 46,
    "start_time": "2023-02-27T15:52:32.275Z"
   },
   {
    "duration": 70,
    "start_time": "2023-02-27T15:52:32.323Z"
   },
   {
    "duration": 59,
    "start_time": "2023-02-27T16:00:53.150Z"
   },
   {
    "duration": 76,
    "start_time": "2023-02-27T16:01:07.164Z"
   },
   {
    "duration": 21,
    "start_time": "2023-02-27T16:01:25.985Z"
   },
   {
    "duration": 25,
    "start_time": "2023-02-27T16:01:34.733Z"
   },
   {
    "duration": 28,
    "start_time": "2023-02-27T16:01:52.665Z"
   },
   {
    "duration": 66,
    "start_time": "2023-02-27T16:02:14.466Z"
   },
   {
    "duration": 68,
    "start_time": "2023-02-27T16:03:27.794Z"
   },
   {
    "duration": 56,
    "start_time": "2023-02-27T16:03:45.707Z"
   },
   {
    "duration": 52,
    "start_time": "2023-02-27T16:03:49.402Z"
   },
   {
    "duration": 50,
    "start_time": "2023-02-27T16:06:06.466Z"
   },
   {
    "duration": 49,
    "start_time": "2023-02-27T16:06:37.386Z"
   },
   {
    "duration": 55,
    "start_time": "2023-02-27T16:06:58.946Z"
   },
   {
    "duration": 63,
    "start_time": "2023-02-27T16:07:17.829Z"
   },
   {
    "duration": 28,
    "start_time": "2023-02-27T16:11:23.056Z"
   },
   {
    "duration": 977,
    "start_time": "2023-02-27T16:17:53.504Z"
   },
   {
    "duration": 248,
    "start_time": "2023-02-27T16:18:10.513Z"
   },
   {
    "duration": 239,
    "start_time": "2023-02-27T16:20:20.488Z"
   },
   {
    "duration": 275,
    "start_time": "2023-02-27T16:20:28.232Z"
   },
   {
    "duration": 241,
    "start_time": "2023-02-27T16:20:47.553Z"
   },
   {
    "duration": 3,
    "start_time": "2023-02-27T16:22:29.086Z"
   },
   {
    "duration": 252,
    "start_time": "2023-02-27T16:22:40.222Z"
   },
   {
    "duration": 238,
    "start_time": "2023-02-27T16:22:48.486Z"
   },
   {
    "duration": 235,
    "start_time": "2023-02-27T16:22:56.800Z"
   },
   {
    "duration": 282,
    "start_time": "2023-02-27T16:24:05.624Z"
   },
   {
    "duration": 238,
    "start_time": "2023-02-27T16:24:12.800Z"
   },
   {
    "duration": 399,
    "start_time": "2023-02-27T16:25:23.871Z"
   },
   {
    "duration": 238,
    "start_time": "2023-02-27T16:25:36.657Z"
   },
   {
    "duration": 256,
    "start_time": "2023-02-27T16:25:42.793Z"
   },
   {
    "duration": 264,
    "start_time": "2023-02-27T16:28:40.261Z"
   },
   {
    "duration": 362,
    "start_time": "2023-02-27T16:33:31.437Z"
   },
   {
    "duration": 44,
    "start_time": "2023-02-28T05:10:50.426Z"
   },
   {
    "duration": 759,
    "start_time": "2023-02-28T05:10:59.302Z"
   },
   {
    "duration": 97,
    "start_time": "2023-02-28T05:11:00.063Z"
   },
   {
    "duration": 14,
    "start_time": "2023-02-28T05:11:00.161Z"
   },
   {
    "duration": 37,
    "start_time": "2023-02-28T05:11:00.177Z"
   },
   {
    "duration": 118,
    "start_time": "2023-02-28T05:11:00.216Z"
   },
   {
    "duration": 70,
    "start_time": "2023-02-28T05:11:00.335Z"
   },
   {
    "duration": 50,
    "start_time": "2023-02-28T05:11:00.406Z"
   },
   {
    "duration": 64,
    "start_time": "2023-02-28T05:11:00.457Z"
   },
   {
    "duration": 77,
    "start_time": "2023-02-28T05:11:00.523Z"
   },
   {
    "duration": 57,
    "start_time": "2023-02-28T05:11:00.602Z"
   },
   {
    "duration": 46,
    "start_time": "2023-02-28T05:11:00.661Z"
   },
   {
    "duration": 272,
    "start_time": "2023-02-28T05:11:00.709Z"
   },
   {
    "duration": 254,
    "start_time": "2023-02-28T05:11:00.983Z"
   },
   {
    "duration": 379,
    "start_time": "2023-02-28T05:11:01.239Z"
   },
   {
    "duration": 352,
    "start_time": "2023-02-28T05:11:52.283Z"
   },
   {
    "duration": 287,
    "start_time": "2023-02-28T05:23:50.563Z"
   },
   {
    "duration": 247,
    "start_time": "2023-02-28T05:24:06.722Z"
   },
   {
    "duration": 349,
    "start_time": "2023-02-28T05:24:21.722Z"
   },
   {
    "duration": 243,
    "start_time": "2023-02-28T05:26:05.722Z"
   },
   {
    "duration": 29,
    "start_time": "2023-02-28T05:26:52.942Z"
   },
   {
    "duration": 339,
    "start_time": "2023-02-28T05:29:02.963Z"
   },
   {
    "duration": 7,
    "start_time": "2023-02-28T05:35:02.542Z"
   },
   {
    "duration": 9,
    "start_time": "2023-02-28T05:35:18.922Z"
   },
   {
    "duration": 11,
    "start_time": "2023-02-28T05:35:59.122Z"
   },
   {
    "duration": 11,
    "start_time": "2023-02-28T05:36:57.763Z"
   },
   {
    "duration": 142,
    "start_time": "2023-02-28T05:37:28.182Z"
   },
   {
    "duration": 6,
    "start_time": "2023-02-28T05:38:30.609Z"
   },
   {
    "duration": 121,
    "start_time": "2023-02-28T05:49:34.455Z"
   },
   {
    "duration": 5,
    "start_time": "2023-02-28T05:54:22.524Z"
   },
   {
    "duration": 193,
    "start_time": "2023-02-28T06:10:59.909Z"
   },
   {
    "duration": 135,
    "start_time": "2023-02-28T06:11:20.888Z"
   },
   {
    "duration": 146,
    "start_time": "2023-02-28T06:12:01.757Z"
   },
   {
    "duration": 587,
    "start_time": "2023-02-28T06:37:38.833Z"
   },
   {
    "duration": 36,
    "start_time": "2023-02-28T06:37:39.421Z"
   },
   {
    "duration": 10,
    "start_time": "2023-02-28T06:37:39.459Z"
   },
   {
    "duration": 10,
    "start_time": "2023-02-28T06:37:39.470Z"
   },
   {
    "duration": 45,
    "start_time": "2023-02-28T06:37:39.482Z"
   },
   {
    "duration": 18,
    "start_time": "2023-02-28T06:37:39.529Z"
   },
   {
    "duration": 55,
    "start_time": "2023-02-28T06:37:39.549Z"
   },
   {
    "duration": 50,
    "start_time": "2023-02-28T06:37:39.606Z"
   },
   {
    "duration": 82,
    "start_time": "2023-02-28T06:37:39.657Z"
   },
   {
    "duration": 70,
    "start_time": "2023-02-28T06:37:39.741Z"
   },
   {
    "duration": 31,
    "start_time": "2023-02-28T06:37:39.813Z"
   },
   {
    "duration": 281,
    "start_time": "2023-02-28T06:37:39.846Z"
   },
   {
    "duration": 263,
    "start_time": "2023-02-28T06:37:40.129Z"
   },
   {
    "duration": 363,
    "start_time": "2023-02-28T06:37:40.394Z"
   },
   {
    "duration": 271,
    "start_time": "2023-02-28T06:37:40.759Z"
   },
   {
    "duration": 408,
    "start_time": "2023-02-28T06:37:41.032Z"
   },
   {
    "duration": 11,
    "start_time": "2023-02-28T06:37:41.442Z"
   },
   {
    "duration": 115,
    "start_time": "2023-02-28T06:37:41.455Z"
   },
   {
    "duration": 5,
    "start_time": "2023-02-28T06:37:41.572Z"
   },
   {
    "duration": 127,
    "start_time": "2023-02-28T06:37:41.592Z"
   },
   {
    "duration": 4,
    "start_time": "2023-02-28T06:37:41.721Z"
   },
   {
    "duration": 4,
    "start_time": "2023-02-28T06:41:13.949Z"
   },
   {
    "duration": 813,
    "start_time": "2023-02-28T10:03:10.751Z"
   },
   {
    "duration": 76,
    "start_time": "2023-02-28T10:03:11.566Z"
   },
   {
    "duration": 14,
    "start_time": "2023-02-28T10:03:11.644Z"
   },
   {
    "duration": 19,
    "start_time": "2023-02-28T10:03:11.661Z"
   },
   {
    "duration": 102,
    "start_time": "2023-02-28T10:03:11.682Z"
   },
   {
    "duration": 65,
    "start_time": "2023-02-28T10:03:11.786Z"
   },
   {
    "duration": 57,
    "start_time": "2023-02-28T10:03:11.853Z"
   },
   {
    "duration": 54,
    "start_time": "2023-02-28T10:03:11.912Z"
   },
   {
    "duration": 84,
    "start_time": "2023-02-28T10:03:11.968Z"
   },
   {
    "duration": 81,
    "start_time": "2023-02-28T10:03:12.054Z"
   },
   {
    "duration": 32,
    "start_time": "2023-02-28T10:03:12.137Z"
   },
   {
    "duration": 313,
    "start_time": "2023-02-28T10:03:12.171Z"
   },
   {
    "duration": 282,
    "start_time": "2023-02-28T10:03:12.486Z"
   },
   {
    "duration": 443,
    "start_time": "2023-02-28T10:03:12.769Z"
   },
   {
    "duration": 294,
    "start_time": "2023-02-28T10:03:13.214Z"
   },
   {
    "duration": 406,
    "start_time": "2023-02-28T10:03:13.510Z"
   },
   {
    "duration": 18,
    "start_time": "2023-02-28T10:03:13.918Z"
   },
   {
    "duration": 132,
    "start_time": "2023-02-28T10:03:13.937Z"
   },
   {
    "duration": 5,
    "start_time": "2023-02-28T10:03:14.070Z"
   },
   {
    "duration": 150,
    "start_time": "2023-02-28T10:03:14.077Z"
   },
   {
    "duration": 5,
    "start_time": "2023-02-28T10:03:14.229Z"
   },
   {
    "duration": 19,
    "start_time": "2023-02-28T10:03:14.235Z"
   },
   {
    "duration": 23,
    "start_time": "2023-02-28T10:06:15.032Z"
   },
   {
    "duration": 24,
    "start_time": "2023-02-28T10:06:23.522Z"
   },
   {
    "duration": 5,
    "start_time": "2023-02-28T10:06:56.311Z"
   },
   {
    "duration": 4,
    "start_time": "2023-02-28T10:07:20.024Z"
   },
   {
    "duration": 4,
    "start_time": "2023-02-28T10:07:35.924Z"
   },
   {
    "duration": 69,
    "start_time": "2023-02-28T16:15:01.187Z"
   },
   {
    "duration": 11,
    "start_time": "2023-02-28T16:15:25.976Z"
   },
   {
    "duration": 920,
    "start_time": "2023-02-28T16:15:35.862Z"
   },
   {
    "duration": 96,
    "start_time": "2023-02-28T16:15:36.785Z"
   },
   {
    "duration": 11,
    "start_time": "2023-02-28T16:15:36.883Z"
   },
   {
    "duration": 35,
    "start_time": "2023-02-28T16:15:36.896Z"
   },
   {
    "duration": 114,
    "start_time": "2023-02-28T16:15:36.932Z"
   },
   {
    "duration": 84,
    "start_time": "2023-02-28T16:15:37.048Z"
   },
   {
    "duration": 50,
    "start_time": "2023-02-28T16:15:37.134Z"
   },
   {
    "duration": 77,
    "start_time": "2023-02-28T16:15:37.186Z"
   },
   {
    "duration": 73,
    "start_time": "2023-02-28T16:15:37.264Z"
   },
   {
    "duration": 64,
    "start_time": "2023-02-28T16:15:37.340Z"
   },
   {
    "duration": 33,
    "start_time": "2023-02-28T16:15:37.406Z"
   },
   {
    "duration": 319,
    "start_time": "2023-02-28T16:15:37.441Z"
   },
   {
    "duration": 305,
    "start_time": "2023-02-28T16:15:37.762Z"
   },
   {
    "duration": 454,
    "start_time": "2023-02-28T16:15:38.069Z"
   },
   {
    "duration": 338,
    "start_time": "2023-02-28T16:15:38.526Z"
   },
   {
    "duration": 473,
    "start_time": "2023-02-28T16:15:38.866Z"
   },
   {
    "duration": 10,
    "start_time": "2023-02-28T16:15:39.341Z"
   },
   {
    "duration": 134,
    "start_time": "2023-02-28T16:15:39.353Z"
   },
   {
    "duration": 16,
    "start_time": "2023-02-28T16:15:39.489Z"
   },
   {
    "duration": 155,
    "start_time": "2023-02-28T16:15:39.507Z"
   },
   {
    "duration": 4,
    "start_time": "2023-02-28T16:15:39.664Z"
   },
   {
    "duration": 30,
    "start_time": "2023-02-28T16:15:39.670Z"
   },
   {
    "duration": 18,
    "start_time": "2023-02-28T16:15:39.702Z"
   },
   {
    "duration": 11,
    "start_time": "2023-02-28T16:15:39.722Z"
   },
   {
    "duration": 12,
    "start_time": "2023-02-28T16:16:11.718Z"
   },
   {
    "duration": 106,
    "start_time": "2023-02-28T16:18:30.157Z"
   },
   {
    "duration": 405,
    "start_time": "2023-02-28T16:18:58.704Z"
   },
   {
    "duration": 38,
    "start_time": "2023-02-28T16:19:14.515Z"
   },
   {
    "duration": 11,
    "start_time": "2023-02-28T16:25:37.183Z"
   },
   {
    "duration": 10,
    "start_time": "2023-02-28T16:30:14.124Z"
   },
   {
    "duration": 8,
    "start_time": "2023-02-28T16:46:42.787Z"
   },
   {
    "duration": 25,
    "start_time": "2023-02-28T16:46:46.111Z"
   },
   {
    "duration": 1206,
    "start_time": "2023-02-28T16:52:18.422Z"
   },
   {
    "duration": 30,
    "start_time": "2023-02-28T16:52:40.842Z"
   },
   {
    "duration": 30,
    "start_time": "2023-02-28T16:52:57.379Z"
   },
   {
    "duration": 28,
    "start_time": "2023-02-28T16:53:42.083Z"
   },
   {
    "duration": 993,
    "start_time": "2023-02-28T16:58:14.174Z"
   },
   {
    "duration": 15,
    "start_time": "2023-02-28T16:58:29.934Z"
   },
   {
    "duration": 57,
    "start_time": "2023-03-01T05:11:20.131Z"
   },
   {
    "duration": 1486,
    "start_time": "2023-03-01T05:11:28.831Z"
   },
   {
    "duration": 80,
    "start_time": "2023-03-01T05:11:30.322Z"
   },
   {
    "duration": 22,
    "start_time": "2023-03-01T05:11:30.404Z"
   },
   {
    "duration": 47,
    "start_time": "2023-03-01T05:11:30.430Z"
   },
   {
    "duration": 100,
    "start_time": "2023-03-01T05:11:30.482Z"
   },
   {
    "duration": 73,
    "start_time": "2023-03-01T05:11:30.584Z"
   },
   {
    "duration": 88,
    "start_time": "2023-03-01T05:11:30.660Z"
   },
   {
    "duration": 84,
    "start_time": "2023-03-01T05:11:30.750Z"
   },
   {
    "duration": 127,
    "start_time": "2023-03-01T05:11:30.836Z"
   },
   {
    "duration": 101,
    "start_time": "2023-03-01T05:11:30.968Z"
   },
   {
    "duration": 69,
    "start_time": "2023-03-01T05:11:31.071Z"
   },
   {
    "duration": 348,
    "start_time": "2023-03-01T05:11:31.143Z"
   },
   {
    "duration": 314,
    "start_time": "2023-03-01T05:11:31.493Z"
   },
   {
    "duration": 419,
    "start_time": "2023-03-01T05:11:31.810Z"
   },
   {
    "duration": 366,
    "start_time": "2023-03-01T05:11:32.231Z"
   },
   {
    "duration": 438,
    "start_time": "2023-03-01T05:11:32.600Z"
   },
   {
    "duration": 20,
    "start_time": "2023-03-01T05:11:33.041Z"
   },
   {
    "duration": 178,
    "start_time": "2023-03-01T05:11:33.064Z"
   },
   {
    "duration": 7,
    "start_time": "2023-03-01T05:11:33.244Z"
   },
   {
    "duration": 249,
    "start_time": "2023-03-01T05:11:33.253Z"
   },
   {
    "duration": 6,
    "start_time": "2023-03-01T05:11:33.505Z"
   },
   {
    "duration": 34,
    "start_time": "2023-03-01T05:11:33.514Z"
   },
   {
    "duration": 4,
    "start_time": "2023-03-01T05:11:33.551Z"
   },
   {
    "duration": 63,
    "start_time": "2023-03-01T05:11:33.557Z"
   },
   {
    "duration": 13,
    "start_time": "2023-03-01T05:11:33.622Z"
   },
   {
    "duration": 13,
    "start_time": "2023-03-01T05:11:33.636Z"
   },
   {
    "duration": 17,
    "start_time": "2023-03-01T05:11:33.651Z"
   },
   {
    "duration": 66,
    "start_time": "2023-03-01T05:11:33.672Z"
   },
   {
    "duration": 18,
    "start_time": "2023-03-01T05:11:33.741Z"
   },
   {
    "duration": 10,
    "start_time": "2023-03-01T05:14:46.492Z"
   },
   {
    "duration": 11,
    "start_time": "2023-03-01T05:16:02.892Z"
   },
   {
    "duration": 15,
    "start_time": "2023-03-01T06:02:16.703Z"
   },
   {
    "duration": 10,
    "start_time": "2023-03-01T06:36:20.063Z"
   },
   {
    "duration": 8,
    "start_time": "2023-03-01T06:36:52.974Z"
   },
   {
    "duration": 1363,
    "start_time": "2023-03-01T06:42:02.518Z"
   },
   {
    "duration": 9,
    "start_time": "2023-03-01T06:42:45.624Z"
   },
   {
    "duration": 60,
    "start_time": "2023-03-01T06:44:12.232Z"
   },
   {
    "duration": 77,
    "start_time": "2023-03-01T06:45:19.178Z"
   },
   {
    "duration": 65,
    "start_time": "2023-03-01T06:46:22.639Z"
   },
   {
    "duration": 300,
    "start_time": "2023-03-01T06:48:40.559Z"
   },
   {
    "duration": 417,
    "start_time": "2023-03-01T06:52:38.958Z"
   },
   {
    "duration": 165,
    "start_time": "2023-03-01T07:11:23.394Z"
   },
   {
    "duration": 157,
    "start_time": "2023-03-01T07:11:31.528Z"
   },
   {
    "duration": 5,
    "start_time": "2023-03-01T07:22:21.056Z"
   },
   {
    "duration": 90,
    "start_time": "2023-03-01T07:22:21.081Z"
   },
   {
    "duration": 14,
    "start_time": "2023-03-01T07:22:21.174Z"
   },
   {
    "duration": 68,
    "start_time": "2023-03-01T07:22:21.191Z"
   },
   {
    "duration": 103,
    "start_time": "2023-03-01T07:22:21.262Z"
   },
   {
    "duration": 20,
    "start_time": "2023-03-01T07:22:21.367Z"
   },
   {
    "duration": 65,
    "start_time": "2023-03-01T07:22:21.431Z"
   },
   {
    "duration": 64,
    "start_time": "2023-03-01T07:22:21.498Z"
   },
   {
    "duration": 80,
    "start_time": "2023-03-01T07:22:21.728Z"
   },
   {
    "duration": 77,
    "start_time": "2023-03-01T07:22:21.816Z"
   },
   {
    "duration": 44,
    "start_time": "2023-03-01T07:22:22.036Z"
   },
   {
    "duration": 326,
    "start_time": "2023-03-01T07:22:22.083Z"
   },
   {
    "duration": 329,
    "start_time": "2023-03-01T07:22:22.411Z"
   },
   {
    "duration": 322,
    "start_time": "2023-03-01T07:22:22.743Z"
   },
   {
    "duration": 481,
    "start_time": "2023-03-01T07:22:23.069Z"
   },
   {
    "duration": 378,
    "start_time": "2023-03-01T07:22:23.552Z"
   },
   {
    "duration": 430,
    "start_time": "2023-03-01T07:22:23.937Z"
   },
   {
    "duration": 14,
    "start_time": "2023-03-01T07:22:24.369Z"
   },
   {
    "duration": 204,
    "start_time": "2023-03-01T07:22:24.387Z"
   },
   {
    "duration": 4,
    "start_time": "2023-03-01T07:22:24.594Z"
   },
   {
    "duration": 246,
    "start_time": "2023-03-01T07:22:24.600Z"
   },
   {
    "duration": 6,
    "start_time": "2023-03-01T07:22:24.849Z"
   },
   {
    "duration": 35,
    "start_time": "2023-03-01T07:22:24.858Z"
   },
   {
    "duration": 93,
    "start_time": "2023-03-01T07:22:24.897Z"
   },
   {
    "duration": 15,
    "start_time": "2023-03-01T07:22:24.993Z"
   },
   {
    "duration": 38,
    "start_time": "2023-03-01T07:22:25.010Z"
   },
   {
    "duration": 27,
    "start_time": "2023-03-01T07:22:25.050Z"
   },
   {
    "duration": 46,
    "start_time": "2023-03-01T07:22:25.079Z"
   },
   {
    "duration": 183,
    "start_time": "2023-03-01T07:22:25.127Z"
   },
   {
    "duration": 38,
    "start_time": "2023-03-01T07:22:25.315Z"
   },
   {
    "duration": 102,
    "start_time": "2023-03-01T07:22:25.355Z"
   },
   {
    "duration": 96,
    "start_time": "2023-03-01T07:22:25.461Z"
   },
   {
    "duration": 321,
    "start_time": "2023-03-01T07:22:25.559Z"
   },
   {
    "duration": 411,
    "start_time": "2023-03-01T07:22:25.883Z"
   },
   {
    "duration": 1274,
    "start_time": "2023-03-01T07:41:53.262Z"
   },
   {
    "duration": 149,
    "start_time": "2023-03-01T07:42:51.706Z"
   },
   {
    "duration": 318,
    "start_time": "2023-03-01T07:43:30.724Z"
   },
   {
    "duration": 69,
    "start_time": "2023-03-01T07:47:58.040Z"
   },
   {
    "duration": 77,
    "start_time": "2023-03-01T07:51:59.720Z"
   },
   {
    "duration": 47,
    "start_time": "2023-03-01T07:53:01.681Z"
   },
   {
    "duration": 36,
    "start_time": "2023-03-01T07:53:05.280Z"
   },
   {
    "duration": 14,
    "start_time": "2023-03-01T07:54:11.780Z"
   },
   {
    "duration": 14,
    "start_time": "2023-03-01T07:54:13.860Z"
   },
   {
    "duration": 1285,
    "start_time": "2023-03-01T07:55:57.140Z"
   },
   {
    "duration": 1194,
    "start_time": "2023-03-01T07:56:08.823Z"
   },
   {
    "duration": 38,
    "start_time": "2023-03-01T07:56:10.025Z"
   },
   {
    "duration": 15,
    "start_time": "2023-03-01T07:56:10.066Z"
   },
   {
    "duration": 15,
    "start_time": "2023-03-01T07:56:10.084Z"
   },
   {
    "duration": 54,
    "start_time": "2023-03-01T07:56:10.101Z"
   },
   {
    "duration": 20,
    "start_time": "2023-03-01T07:56:10.158Z"
   },
   {
    "duration": 64,
    "start_time": "2023-03-01T07:56:10.180Z"
   },
   {
    "duration": 76,
    "start_time": "2023-03-01T07:56:10.246Z"
   },
   {
    "duration": 97,
    "start_time": "2023-03-01T07:56:10.324Z"
   },
   {
    "duration": 95,
    "start_time": "2023-03-01T07:56:10.424Z"
   },
   {
    "duration": 35,
    "start_time": "2023-03-01T07:56:10.521Z"
   },
   {
    "duration": 311,
    "start_time": "2023-03-01T07:56:10.559Z"
   },
   {
    "duration": 303,
    "start_time": "2023-03-01T07:56:10.871Z"
   },
   {
    "duration": 410,
    "start_time": "2023-03-01T07:56:11.176Z"
   },
   {
    "duration": 358,
    "start_time": "2023-03-01T07:56:11.588Z"
   },
   {
    "duration": 353,
    "start_time": "2023-03-01T07:56:11.948Z"
   },
   {
    "duration": 14,
    "start_time": "2023-03-01T07:56:12.305Z"
   },
   {
    "duration": 146,
    "start_time": "2023-03-01T07:56:12.320Z"
   },
   {
    "duration": 5,
    "start_time": "2023-03-01T07:56:12.468Z"
   },
   {
    "duration": 156,
    "start_time": "2023-03-01T07:56:12.475Z"
   },
   {
    "duration": 5,
    "start_time": "2023-03-01T07:56:12.633Z"
   },
   {
    "duration": 20,
    "start_time": "2023-03-01T07:56:12.640Z"
   },
   {
    "duration": 60,
    "start_time": "2023-03-01T07:56:12.662Z"
   },
   {
    "duration": 11,
    "start_time": "2023-03-01T07:56:12.724Z"
   },
   {
    "duration": 10,
    "start_time": "2023-03-01T07:56:12.737Z"
   },
   {
    "duration": 15,
    "start_time": "2023-03-01T07:56:12.748Z"
   },
   {
    "duration": 23,
    "start_time": "2023-03-01T07:56:12.765Z"
   },
   {
    "duration": 37,
    "start_time": "2023-03-01T07:56:12.792Z"
   },
   {
    "duration": 9,
    "start_time": "2023-03-01T07:56:12.831Z"
   },
   {
    "duration": 85,
    "start_time": "2023-03-01T07:56:12.842Z"
   },
   {
    "duration": 61,
    "start_time": "2023-03-01T07:56:12.928Z"
   },
   {
    "duration": 304,
    "start_time": "2023-03-01T07:56:13.004Z"
   },
   {
    "duration": 310,
    "start_time": "2023-03-01T07:56:13.314Z"
   },
   {
    "duration": 505,
    "start_time": "2023-03-01T07:56:13.626Z"
   },
   {
    "duration": 5,
    "start_time": "2023-03-01T08:04:06.039Z"
   },
   {
    "duration": 1349,
    "start_time": "2023-03-01T08:12:41.564Z"
   },
   {
    "duration": 90,
    "start_time": "2023-03-01T08:12:42.915Z"
   },
   {
    "duration": 16,
    "start_time": "2023-03-01T08:12:43.006Z"
   },
   {
    "duration": 13,
    "start_time": "2023-03-01T08:12:43.025Z"
   },
   {
    "duration": 109,
    "start_time": "2023-03-01T08:12:43.040Z"
   },
   {
    "duration": 68,
    "start_time": "2023-03-01T08:12:43.151Z"
   },
   {
    "duration": 51,
    "start_time": "2023-03-01T08:12:43.220Z"
   },
   {
    "duration": 51,
    "start_time": "2023-03-01T08:12:43.273Z"
   },
   {
    "duration": 87,
    "start_time": "2023-03-01T08:12:43.325Z"
   },
   {
    "duration": 78,
    "start_time": "2023-03-01T08:12:43.416Z"
   },
   {
    "duration": 29,
    "start_time": "2023-03-01T08:12:43.496Z"
   },
   {
    "duration": 300,
    "start_time": "2023-03-01T08:12:43.527Z"
   },
   {
    "duration": 275,
    "start_time": "2023-03-01T08:12:43.830Z"
   },
   {
    "duration": 444,
    "start_time": "2023-03-01T08:12:44.107Z"
   },
   {
    "duration": 349,
    "start_time": "2023-03-01T08:12:44.553Z"
   },
   {
    "duration": 368,
    "start_time": "2023-03-01T08:12:44.904Z"
   },
   {
    "duration": 24,
    "start_time": "2023-03-01T08:12:45.273Z"
   },
   {
    "duration": 122,
    "start_time": "2023-03-01T08:12:45.299Z"
   },
   {
    "duration": 5,
    "start_time": "2023-03-01T08:12:45.423Z"
   },
   {
    "duration": 142,
    "start_time": "2023-03-01T08:12:45.431Z"
   },
   {
    "duration": 4,
    "start_time": "2023-03-01T08:12:45.575Z"
   },
   {
    "duration": 15,
    "start_time": "2023-03-01T08:12:45.592Z"
   },
   {
    "duration": 29,
    "start_time": "2023-03-01T08:12:45.609Z"
   },
   {
    "duration": 10,
    "start_time": "2023-03-01T08:12:45.640Z"
   },
   {
    "duration": 44,
    "start_time": "2023-03-01T08:12:45.652Z"
   },
   {
    "duration": 9,
    "start_time": "2023-03-01T08:12:45.699Z"
   },
   {
    "duration": 39,
    "start_time": "2023-03-01T08:12:45.710Z"
   },
   {
    "duration": 13,
    "start_time": "2023-03-01T08:12:45.752Z"
   },
   {
    "duration": 8,
    "start_time": "2023-03-01T08:12:45.792Z"
   },
   {
    "duration": 104,
    "start_time": "2023-03-01T08:12:45.803Z"
   },
   {
    "duration": 59,
    "start_time": "2023-03-01T08:12:45.908Z"
   },
   {
    "duration": 315,
    "start_time": "2023-03-01T08:12:45.969Z"
   },
   {
    "duration": 388,
    "start_time": "2023-03-01T08:12:46.291Z"
   },
   {
    "duration": 467,
    "start_time": "2023-03-01T08:12:46.683Z"
   },
   {
    "duration": 1051,
    "start_time": "2023-03-01T08:30:12.452Z"
   },
   {
    "duration": 1128,
    "start_time": "2023-03-01T08:30:31.156Z"
   },
   {
    "duration": 3,
    "start_time": "2023-03-01T08:30:36.839Z"
   },
   {
    "duration": 38,
    "start_time": "2023-03-01T08:30:36.844Z"
   },
   {
    "duration": 15,
    "start_time": "2023-03-01T08:30:45.278Z"
   },
   {
    "duration": 16,
    "start_time": "2023-03-01T08:30:53.007Z"
   },
   {
    "duration": 14,
    "start_time": "2023-03-01T08:31:10.387Z"
   },
   {
    "duration": 1185,
    "start_time": "2023-03-01T08:31:56.899Z"
   },
   {
    "duration": 38,
    "start_time": "2023-03-01T08:31:58.086Z"
   },
   {
    "duration": 13,
    "start_time": "2023-03-01T08:31:58.126Z"
   },
   {
    "duration": 12,
    "start_time": "2023-03-01T08:31:58.141Z"
   },
   {
    "duration": 43,
    "start_time": "2023-03-01T08:31:58.155Z"
   },
   {
    "duration": 24,
    "start_time": "2023-03-01T08:31:58.200Z"
   },
   {
    "duration": 55,
    "start_time": "2023-03-01T08:31:58.225Z"
   },
   {
    "duration": 56,
    "start_time": "2023-03-01T08:31:58.292Z"
   },
   {
    "duration": 87,
    "start_time": "2023-03-01T08:31:58.349Z"
   },
   {
    "duration": 185,
    "start_time": "2023-03-01T08:31:58.439Z"
   },
   {
    "duration": 29,
    "start_time": "2023-03-01T08:31:58.626Z"
   },
   {
    "duration": 315,
    "start_time": "2023-03-01T08:31:58.657Z"
   },
   {
    "duration": 341,
    "start_time": "2023-03-01T08:31:58.975Z"
   },
   {
    "duration": 374,
    "start_time": "2023-03-01T08:31:59.319Z"
   },
   {
    "duration": 314,
    "start_time": "2023-03-01T08:31:59.696Z"
   },
   {
    "duration": 379,
    "start_time": "2023-03-01T08:32:00.012Z"
   },
   {
    "duration": 13,
    "start_time": "2023-03-01T08:32:00.394Z"
   },
   {
    "duration": 138,
    "start_time": "2023-03-01T08:32:00.409Z"
   },
   {
    "duration": 5,
    "start_time": "2023-03-01T08:32:00.549Z"
   },
   {
    "duration": 155,
    "start_time": "2023-03-01T08:32:00.556Z"
   },
   {
    "duration": 5,
    "start_time": "2023-03-01T08:32:00.713Z"
   },
   {
    "duration": 38,
    "start_time": "2023-03-01T08:32:00.720Z"
   },
   {
    "duration": 44,
    "start_time": "2023-03-01T08:32:00.760Z"
   },
   {
    "duration": 25,
    "start_time": "2023-03-01T08:32:00.805Z"
   },
   {
    "duration": 39,
    "start_time": "2023-03-01T08:32:00.831Z"
   },
   {
    "duration": 25,
    "start_time": "2023-03-01T08:32:00.872Z"
   },
   {
    "duration": 52,
    "start_time": "2023-03-01T08:32:00.899Z"
   },
   {
    "duration": 17,
    "start_time": "2023-03-01T08:32:00.954Z"
   },
   {
    "duration": 26,
    "start_time": "2023-03-01T08:32:00.973Z"
   },
   {
    "duration": 101,
    "start_time": "2023-03-01T08:32:01.002Z"
   },
   {
    "duration": 87,
    "start_time": "2023-03-01T08:32:01.106Z"
   },
   {
    "duration": 322,
    "start_time": "2023-03-01T08:32:01.196Z"
   },
   {
    "duration": 295,
    "start_time": "2023-03-01T08:32:01.520Z"
   },
   {
    "duration": 474,
    "start_time": "2023-03-01T08:32:01.817Z"
   },
   {
    "duration": 374,
    "start_time": "2023-03-01T08:40:24.467Z"
   },
   {
    "duration": 132,
    "start_time": "2023-03-01T08:40:37.508Z"
   },
   {
    "duration": 205,
    "start_time": "2023-03-01T08:40:47.789Z"
   },
   {
    "duration": 138,
    "start_time": "2023-03-01T08:45:40.601Z"
   },
   {
    "duration": 158,
    "start_time": "2023-03-01T08:45:46.227Z"
   },
   {
    "duration": 9,
    "start_time": "2023-03-01T15:21:52.421Z"
   },
   {
    "duration": 70,
    "start_time": "2023-03-01T15:26:04.590Z"
   },
   {
    "duration": 43,
    "start_time": "2023-03-01T15:27:03.829Z"
   },
   {
    "duration": 1304,
    "start_time": "2023-03-01T15:27:13.046Z"
   },
   {
    "duration": 79,
    "start_time": "2023-03-01T15:27:14.352Z"
   },
   {
    "duration": 13,
    "start_time": "2023-03-01T15:27:14.432Z"
   },
   {
    "duration": 10,
    "start_time": "2023-03-01T15:27:14.447Z"
   },
   {
    "duration": 76,
    "start_time": "2023-03-01T15:27:14.459Z"
   },
   {
    "duration": 62,
    "start_time": "2023-03-01T15:27:14.536Z"
   },
   {
    "duration": 54,
    "start_time": "2023-03-01T15:27:14.600Z"
   },
   {
    "duration": 53,
    "start_time": "2023-03-01T15:27:14.656Z"
   },
   {
    "duration": 79,
    "start_time": "2023-03-01T15:27:14.711Z"
   },
   {
    "duration": 76,
    "start_time": "2023-03-01T15:27:14.793Z"
   },
   {
    "duration": 30,
    "start_time": "2023-03-01T15:27:14.870Z"
   },
   {
    "duration": 304,
    "start_time": "2023-03-01T15:27:14.901Z"
   },
   {
    "duration": 272,
    "start_time": "2023-03-01T15:27:15.207Z"
   },
   {
    "duration": 368,
    "start_time": "2023-03-01T15:27:15.480Z"
   },
   {
    "duration": 284,
    "start_time": "2023-03-01T15:27:15.850Z"
   },
   {
    "duration": 361,
    "start_time": "2023-03-01T15:27:16.136Z"
   },
   {
    "duration": 12,
    "start_time": "2023-03-01T15:27:16.499Z"
   },
   {
    "duration": 130,
    "start_time": "2023-03-01T15:27:16.513Z"
   },
   {
    "duration": 5,
    "start_time": "2023-03-01T15:27:16.645Z"
   },
   {
    "duration": 139,
    "start_time": "2023-03-01T15:27:16.652Z"
   },
   {
    "duration": 4,
    "start_time": "2023-03-01T15:27:16.793Z"
   },
   {
    "duration": 35,
    "start_time": "2023-03-01T15:27:16.799Z"
   },
   {
    "duration": 25,
    "start_time": "2023-03-01T15:27:16.836Z"
   },
   {
    "duration": 11,
    "start_time": "2023-03-01T15:27:16.863Z"
   },
   {
    "duration": 13,
    "start_time": "2023-03-01T15:27:16.877Z"
   },
   {
    "duration": 11,
    "start_time": "2023-03-01T15:27:16.892Z"
   },
   {
    "duration": 41,
    "start_time": "2023-03-01T15:27:16.905Z"
   },
   {
    "duration": 12,
    "start_time": "2023-03-01T15:27:16.950Z"
   },
   {
    "duration": 9,
    "start_time": "2023-03-01T15:27:16.964Z"
   },
   {
    "duration": 81,
    "start_time": "2023-03-01T15:27:16.974Z"
   },
   {
    "duration": 59,
    "start_time": "2023-03-01T15:27:17.057Z"
   },
   {
    "duration": 286,
    "start_time": "2023-03-01T15:27:17.117Z"
   },
   {
    "duration": 269,
    "start_time": "2023-03-01T15:27:17.405Z"
   },
   {
    "duration": 411,
    "start_time": "2023-03-01T15:27:17.676Z"
   },
   {
    "duration": 1251,
    "start_time": "2023-03-01T15:27:40.991Z"
   },
   {
    "duration": 1114,
    "start_time": "2023-03-01T15:27:43.391Z"
   },
   {
    "duration": 1169,
    "start_time": "2023-03-01T15:28:31.231Z"
   },
   {
    "duration": 1084,
    "start_time": "2023-03-01T15:29:18.019Z"
   },
   {
    "duration": 34,
    "start_time": "2023-03-01T15:29:19.105Z"
   },
   {
    "duration": 12,
    "start_time": "2023-03-01T15:29:19.141Z"
   },
   {
    "duration": 11,
    "start_time": "2023-03-01T15:29:19.155Z"
   },
   {
    "duration": 52,
    "start_time": "2023-03-01T15:29:19.167Z"
   },
   {
    "duration": 18,
    "start_time": "2023-03-01T15:29:19.220Z"
   },
   {
    "duration": 55,
    "start_time": "2023-03-01T15:29:19.239Z"
   },
   {
    "duration": 69,
    "start_time": "2023-03-01T15:29:19.295Z"
   },
   {
    "duration": 78,
    "start_time": "2023-03-01T15:29:19.366Z"
   },
   {
    "duration": 60,
    "start_time": "2023-03-01T15:29:19.447Z"
   },
   {
    "duration": 48,
    "start_time": "2023-03-01T15:29:19.509Z"
   },
   {
    "duration": 266,
    "start_time": "2023-03-01T15:29:19.559Z"
   },
   {
    "duration": 265,
    "start_time": "2023-03-01T15:29:19.827Z"
   },
   {
    "duration": 346,
    "start_time": "2023-03-01T15:29:20.094Z"
   },
   {
    "duration": 274,
    "start_time": "2023-03-01T15:29:20.442Z"
   },
   {
    "duration": 374,
    "start_time": "2023-03-01T15:29:20.718Z"
   },
   {
    "duration": 12,
    "start_time": "2023-03-01T15:29:21.093Z"
   },
   {
    "duration": 132,
    "start_time": "2023-03-01T15:29:21.107Z"
   },
   {
    "duration": 4,
    "start_time": "2023-03-01T15:29:21.241Z"
   },
   {
    "duration": 137,
    "start_time": "2023-03-01T15:29:21.246Z"
   },
   {
    "duration": 4,
    "start_time": "2023-03-01T15:29:21.385Z"
   },
   {
    "duration": 20,
    "start_time": "2023-03-01T15:29:21.390Z"
   },
   {
    "duration": 40,
    "start_time": "2023-03-01T15:29:21.411Z"
   },
   {
    "duration": 10,
    "start_time": "2023-03-01T15:29:21.453Z"
   },
   {
    "duration": 8,
    "start_time": "2023-03-01T15:29:21.464Z"
   },
   {
    "duration": 7,
    "start_time": "2023-03-01T15:29:21.474Z"
   },
   {
    "duration": 27,
    "start_time": "2023-03-01T15:29:21.483Z"
   },
   {
    "duration": 14,
    "start_time": "2023-03-01T15:29:21.534Z"
   },
   {
    "duration": 8,
    "start_time": "2023-03-01T15:29:21.550Z"
   },
   {
    "duration": 85,
    "start_time": "2023-03-01T15:29:21.560Z"
   },
   {
    "duration": 58,
    "start_time": "2023-03-01T15:29:21.646Z"
   },
   {
    "duration": 279,
    "start_time": "2023-03-01T15:29:21.706Z"
   },
   {
    "duration": 282,
    "start_time": "2023-03-01T15:29:21.986Z"
   },
   {
    "duration": 414,
    "start_time": "2023-03-01T15:29:22.269Z"
   },
   {
    "duration": 1287,
    "start_time": "2023-03-01T15:29:40.888Z"
   },
   {
    "duration": 1145,
    "start_time": "2023-03-01T15:30:20.147Z"
   },
   {
    "duration": 34,
    "start_time": "2023-03-01T15:30:21.294Z"
   },
   {
    "duration": 13,
    "start_time": "2023-03-01T15:30:21.329Z"
   },
   {
    "duration": 20,
    "start_time": "2023-03-01T15:30:21.344Z"
   },
   {
    "duration": 40,
    "start_time": "2023-03-01T15:30:21.368Z"
   },
   {
    "duration": 21,
    "start_time": "2023-03-01T15:30:21.410Z"
   },
   {
    "duration": 71,
    "start_time": "2023-03-01T15:30:21.432Z"
   },
   {
    "duration": 66,
    "start_time": "2023-03-01T15:30:21.505Z"
   },
   {
    "duration": 83,
    "start_time": "2023-03-01T15:30:21.572Z"
   },
   {
    "duration": 79,
    "start_time": "2023-03-01T15:30:21.657Z"
   },
   {
    "duration": 32,
    "start_time": "2023-03-01T15:30:21.737Z"
   },
   {
    "duration": 352,
    "start_time": "2023-03-01T15:30:21.771Z"
   },
   {
    "duration": 285,
    "start_time": "2023-03-01T15:30:22.125Z"
   },
   {
    "duration": 372,
    "start_time": "2023-03-01T15:30:22.413Z"
   },
   {
    "duration": 281,
    "start_time": "2023-03-01T15:30:22.787Z"
   },
   {
    "duration": 332,
    "start_time": "2023-03-01T15:30:23.070Z"
   },
   {
    "duration": 11,
    "start_time": "2023-03-01T15:30:23.404Z"
   },
   {
    "duration": 137,
    "start_time": "2023-03-01T15:30:23.417Z"
   },
   {
    "duration": 5,
    "start_time": "2023-03-01T15:30:23.556Z"
   },
   {
    "duration": 159,
    "start_time": "2023-03-01T15:30:23.563Z"
   },
   {
    "duration": 11,
    "start_time": "2023-03-01T15:30:23.723Z"
   },
   {
    "duration": 32,
    "start_time": "2023-03-01T15:30:23.736Z"
   },
   {
    "duration": 32,
    "start_time": "2023-03-01T15:30:23.770Z"
   },
   {
    "duration": 12,
    "start_time": "2023-03-01T15:30:23.804Z"
   },
   {
    "duration": 8,
    "start_time": "2023-03-01T15:30:23.835Z"
   },
   {
    "duration": 11,
    "start_time": "2023-03-01T15:30:23.845Z"
   },
   {
    "duration": 28,
    "start_time": "2023-03-01T15:30:23.857Z"
   },
   {
    "duration": 15,
    "start_time": "2023-03-01T15:30:23.887Z"
   },
   {
    "duration": 31,
    "start_time": "2023-03-01T15:30:23.904Z"
   },
   {
    "duration": 75,
    "start_time": "2023-03-01T15:30:23.937Z"
   },
   {
    "duration": 92,
    "start_time": "2023-03-01T15:30:24.014Z"
   },
   {
    "duration": 331,
    "start_time": "2023-03-01T15:30:24.108Z"
   },
   {
    "duration": 339,
    "start_time": "2023-03-01T15:30:24.441Z"
   },
   {
    "duration": 341,
    "start_time": "2023-03-01T15:30:24.782Z"
   },
   {
    "duration": 1283,
    "start_time": "2023-03-01T15:30:49.846Z"
   },
   {
    "duration": 1162,
    "start_time": "2023-03-01T15:31:06.763Z"
   },
   {
    "duration": 1164,
    "start_time": "2023-03-01T15:31:35.749Z"
   },
   {
    "duration": 1186,
    "start_time": "2023-03-01T15:31:46.163Z"
   },
   {
    "duration": 1132,
    "start_time": "2023-03-01T15:32:01.879Z"
   },
   {
    "duration": 33,
    "start_time": "2023-03-01T15:32:13.949Z"
   },
   {
    "duration": 14,
    "start_time": "2023-03-01T15:32:17.623Z"
   },
   {
    "duration": 17,
    "start_time": "2023-03-01T15:32:21.013Z"
   },
   {
    "duration": 13,
    "start_time": "2023-03-01T15:32:28.504Z"
   },
   {
    "duration": 3,
    "start_time": "2023-03-01T15:32:41.755Z"
   },
   {
    "duration": 11,
    "start_time": "2023-03-01T15:32:50.083Z"
   },
   {
    "duration": 24,
    "start_time": "2023-03-01T17:17:54.882Z"
   },
   {
    "duration": 1150,
    "start_time": "2023-03-01T17:41:37.843Z"
   },
   {
    "duration": 47,
    "start_time": "2023-03-01T17:41:38.996Z"
   },
   {
    "duration": 14,
    "start_time": "2023-03-01T17:41:39.045Z"
   },
   {
    "duration": 11,
    "start_time": "2023-03-01T17:41:39.061Z"
   },
   {
    "duration": 59,
    "start_time": "2023-03-01T17:41:39.073Z"
   },
   {
    "duration": 21,
    "start_time": "2023-03-01T17:41:39.133Z"
   },
   {
    "duration": 54,
    "start_time": "2023-03-01T17:41:39.155Z"
   },
   {
    "duration": 63,
    "start_time": "2023-03-01T17:41:39.210Z"
   },
   {
    "duration": 70,
    "start_time": "2023-03-01T17:41:39.275Z"
   },
   {
    "duration": 58,
    "start_time": "2023-03-01T17:41:39.348Z"
   },
   {
    "duration": 53,
    "start_time": "2023-03-01T17:41:39.408Z"
   },
   {
    "duration": 296,
    "start_time": "2023-03-01T17:41:39.462Z"
   },
   {
    "duration": 268,
    "start_time": "2023-03-01T17:41:39.760Z"
   },
   {
    "duration": 363,
    "start_time": "2023-03-01T17:41:40.029Z"
   },
   {
    "duration": 276,
    "start_time": "2023-03-01T17:41:40.394Z"
   },
   {
    "duration": 327,
    "start_time": "2023-03-01T17:41:40.671Z"
   },
   {
    "duration": 14,
    "start_time": "2023-03-01T17:41:40.999Z"
   },
   {
    "duration": 133,
    "start_time": "2023-03-01T17:41:41.015Z"
   },
   {
    "duration": 4,
    "start_time": "2023-03-01T17:41:41.150Z"
   },
   {
    "duration": 133,
    "start_time": "2023-03-01T17:41:41.155Z"
   },
   {
    "duration": 5,
    "start_time": "2023-03-01T17:41:41.289Z"
   },
   {
    "duration": 17,
    "start_time": "2023-03-01T17:41:41.295Z"
   },
   {
    "duration": 39,
    "start_time": "2023-03-01T17:41:41.314Z"
   },
   {
    "duration": 10,
    "start_time": "2023-03-01T17:41:41.354Z"
   },
   {
    "duration": 10,
    "start_time": "2023-03-01T17:41:41.366Z"
   },
   {
    "duration": 8,
    "start_time": "2023-03-01T17:41:41.377Z"
   },
   {
    "duration": 47,
    "start_time": "2023-03-01T17:41:41.387Z"
   },
   {
    "duration": 14,
    "start_time": "2023-03-01T17:41:41.437Z"
   },
   {
    "duration": 8,
    "start_time": "2023-03-01T17:41:41.453Z"
   },
   {
    "duration": 82,
    "start_time": "2023-03-01T17:41:41.462Z"
   },
   {
    "duration": 63,
    "start_time": "2023-03-01T17:41:41.546Z"
   },
   {
    "duration": 274,
    "start_time": "2023-03-01T17:41:41.611Z"
   },
   {
    "duration": 263,
    "start_time": "2023-03-01T17:41:41.887Z"
   },
   {
    "duration": 423,
    "start_time": "2023-03-01T17:41:42.152Z"
   },
   {
    "duration": 55,
    "start_time": "2023-03-01T17:42:15.517Z"
   },
   {
    "duration": 76,
    "start_time": "2023-03-01T17:43:17.367Z"
   },
   {
    "duration": 74,
    "start_time": "2023-03-01T17:43:48.132Z"
   },
   {
    "duration": 63,
    "start_time": "2023-03-01T17:43:50.535Z"
   },
   {
    "duration": 95,
    "start_time": "2023-03-01T17:44:49.965Z"
   },
   {
    "duration": 6,
    "start_time": "2023-03-01T17:45:48.472Z"
   },
   {
    "duration": 6,
    "start_time": "2023-03-01T17:46:41.998Z"
   },
   {
    "duration": 6,
    "start_time": "2023-03-01T17:46:52.132Z"
   },
   {
    "duration": 8,
    "start_time": "2023-03-01T17:47:38.675Z"
   },
   {
    "duration": 5,
    "start_time": "2023-03-01T17:48:02.986Z"
   },
   {
    "duration": 7,
    "start_time": "2023-03-01T17:48:43.296Z"
   },
   {
    "duration": 10,
    "start_time": "2023-03-01T17:48:59.581Z"
   },
   {
    "duration": 8,
    "start_time": "2023-03-01T17:51:30.003Z"
   },
   {
    "duration": 7,
    "start_time": "2023-03-01T17:51:39.905Z"
   },
   {
    "duration": 6,
    "start_time": "2023-03-01T17:51:48.972Z"
   },
   {
    "duration": 8,
    "start_time": "2023-03-01T17:52:07.412Z"
   },
   {
    "duration": 5,
    "start_time": "2023-03-01T17:52:15.598Z"
   },
   {
    "duration": 7,
    "start_time": "2023-03-01T17:53:04.101Z"
   },
   {
    "duration": 6,
    "start_time": "2023-03-01T17:53:18.039Z"
   },
   {
    "duration": 1114,
    "start_time": "2023-03-01T17:54:33.572Z"
   },
   {
    "duration": 36,
    "start_time": "2023-03-01T17:54:34.688Z"
   },
   {
    "duration": 13,
    "start_time": "2023-03-01T17:54:34.725Z"
   },
   {
    "duration": 11,
    "start_time": "2023-03-01T17:54:34.740Z"
   },
   {
    "duration": 53,
    "start_time": "2023-03-01T17:54:34.753Z"
   },
   {
    "duration": 21,
    "start_time": "2023-03-01T17:54:34.808Z"
   },
   {
    "duration": 6,
    "start_time": "2023-03-01T17:54:34.831Z"
   },
   {
    "duration": 53,
    "start_time": "2023-03-01T17:54:34.839Z"
   },
   {
    "duration": 73,
    "start_time": "2023-03-01T17:54:34.894Z"
   },
   {
    "duration": 81,
    "start_time": "2023-03-01T17:54:34.969Z"
   },
   {
    "duration": 62,
    "start_time": "2023-03-01T17:54:35.051Z"
   },
   {
    "duration": 42,
    "start_time": "2023-03-01T17:54:35.115Z"
   },
   {
    "duration": 267,
    "start_time": "2023-03-01T17:54:35.159Z"
   },
   {
    "duration": 185,
    "start_time": "2023-03-01T17:54:35.427Z"
   },
   {
    "duration": 292,
    "start_time": "2023-03-01T17:54:35.613Z"
   },
   {
    "duration": 198,
    "start_time": "2023-03-01T17:54:35.906Z"
   },
   {
    "duration": 299,
    "start_time": "2023-03-01T17:54:36.106Z"
   },
   {
    "duration": 11,
    "start_time": "2023-03-01T17:54:36.407Z"
   },
   {
    "duration": 135,
    "start_time": "2023-03-01T17:54:36.419Z"
   },
   {
    "duration": 4,
    "start_time": "2023-03-01T17:54:36.555Z"
   },
   {
    "duration": 138,
    "start_time": "2023-03-01T17:54:36.561Z"
   },
   {
    "duration": 4,
    "start_time": "2023-03-01T17:54:36.701Z"
   },
   {
    "duration": 31,
    "start_time": "2023-03-01T17:54:36.706Z"
   },
   {
    "duration": 24,
    "start_time": "2023-03-01T17:54:36.739Z"
   },
   {
    "duration": 10,
    "start_time": "2023-03-01T17:54:36.765Z"
   },
   {
    "duration": 15,
    "start_time": "2023-03-01T17:54:36.777Z"
   },
   {
    "duration": 11,
    "start_time": "2023-03-01T17:54:36.793Z"
   },
   {
    "duration": 42,
    "start_time": "2023-03-01T17:54:36.807Z"
   },
   {
    "duration": 15,
    "start_time": "2023-03-01T17:54:36.851Z"
   },
   {
    "duration": 8,
    "start_time": "2023-03-01T17:54:36.868Z"
   },
   {
    "duration": 93,
    "start_time": "2023-03-01T17:54:36.878Z"
   },
   {
    "duration": 74,
    "start_time": "2023-03-01T17:54:36.973Z"
   },
   {
    "duration": 181,
    "start_time": "2023-03-01T17:54:37.049Z"
   },
   {
    "duration": 249,
    "start_time": "2023-03-01T17:54:37.232Z"
   },
   {
    "duration": 234,
    "start_time": "2023-03-01T17:54:37.483Z"
   },
   {
    "duration": 172,
    "start_time": "2023-03-01T17:56:52.650Z"
   },
   {
    "duration": 183,
    "start_time": "2023-03-01T17:57:00.417Z"
   },
   {
    "duration": 180,
    "start_time": "2023-03-01T17:57:30.723Z"
   },
   {
    "duration": 172,
    "start_time": "2023-03-01T17:57:40.852Z"
   },
   {
    "duration": 328,
    "start_time": "2023-03-01T17:59:54.553Z"
   },
   {
    "duration": 165,
    "start_time": "2023-03-01T18:00:01.484Z"
   },
   {
    "duration": 179,
    "start_time": "2023-03-01T18:00:08.518Z"
   },
   {
    "duration": 247,
    "start_time": "2023-03-01T18:01:30.216Z"
   },
   {
    "duration": 171,
    "start_time": "2023-03-01T18:02:01.029Z"
   },
   {
    "duration": 142,
    "start_time": "2023-03-01T18:08:33.200Z"
   },
   {
    "duration": 244,
    "start_time": "2023-03-01T18:08:45.030Z"
   },
   {
    "duration": 199,
    "start_time": "2023-03-01T18:09:00.032Z"
   },
   {
    "duration": 146,
    "start_time": "2023-03-01T18:09:12.510Z"
   },
   {
    "duration": 251,
    "start_time": "2023-03-01T18:09:24.160Z"
   },
   {
    "duration": 201,
    "start_time": "2023-03-01T18:09:32.469Z"
   },
   {
    "duration": 192,
    "start_time": "2023-03-01T18:09:48.378Z"
   },
   {
    "duration": 381,
    "start_time": "2023-03-01T18:10:00.109Z"
   },
   {
    "duration": 214,
    "start_time": "2023-03-01T18:10:08.619Z"
   },
   {
    "duration": 282,
    "start_time": "2023-03-01T18:10:16.570Z"
   },
   {
    "duration": 136,
    "start_time": "2023-03-01T18:10:28.967Z"
   },
   {
    "duration": 157,
    "start_time": "2023-03-01T18:10:43.767Z"
   },
   {
    "duration": 191,
    "start_time": "2023-03-01T18:10:57.383Z"
   },
   {
    "duration": 217,
    "start_time": "2023-03-01T18:11:03.300Z"
   },
   {
    "duration": 188,
    "start_time": "2023-03-01T18:11:16.479Z"
   },
   {
    "duration": 199,
    "start_time": "2023-03-01T18:11:32.949Z"
   },
   {
    "duration": 241,
    "start_time": "2023-03-01T18:11:40.868Z"
   },
   {
    "duration": 196,
    "start_time": "2023-03-01T18:11:44.482Z"
   },
   {
    "duration": 305,
    "start_time": "2023-03-01T18:11:59.229Z"
   },
   {
    "duration": 205,
    "start_time": "2023-03-01T18:12:18.992Z"
   },
   {
    "duration": 205,
    "start_time": "2023-03-01T18:12:41.139Z"
   },
   {
    "duration": 164,
    "start_time": "2023-03-01T18:16:16.580Z"
   },
   {
    "duration": 299,
    "start_time": "2023-03-01T18:16:21.019Z"
   },
   {
    "duration": 191,
    "start_time": "2023-03-01T18:16:48.985Z"
   },
   {
    "duration": 1027,
    "start_time": "2023-03-01T18:16:57.489Z"
   },
   {
    "duration": 40,
    "start_time": "2023-03-01T18:16:58.518Z"
   },
   {
    "duration": 13,
    "start_time": "2023-03-01T18:16:58.560Z"
   },
   {
    "duration": 11,
    "start_time": "2023-03-01T18:16:58.574Z"
   },
   {
    "duration": 52,
    "start_time": "2023-03-01T18:16:58.587Z"
   },
   {
    "duration": 22,
    "start_time": "2023-03-01T18:16:58.641Z"
   },
   {
    "duration": 8,
    "start_time": "2023-03-01T18:16:58.664Z"
   },
   {
    "duration": 73,
    "start_time": "2023-03-01T18:16:58.674Z"
   },
   {
    "duration": 53,
    "start_time": "2023-03-01T18:16:58.749Z"
   },
   {
    "duration": 78,
    "start_time": "2023-03-01T18:16:58.803Z"
   },
   {
    "duration": 76,
    "start_time": "2023-03-01T18:16:58.882Z"
   },
   {
    "duration": 31,
    "start_time": "2023-03-01T18:16:58.959Z"
   },
   {
    "duration": 301,
    "start_time": "2023-03-01T18:16:58.992Z"
   },
   {
    "duration": 209,
    "start_time": "2023-03-01T18:16:59.297Z"
   },
   {
    "duration": 315,
    "start_time": "2023-03-01T18:16:59.507Z"
   },
   {
    "duration": 234,
    "start_time": "2023-03-01T18:16:59.823Z"
   },
   {
    "duration": 295,
    "start_time": "2023-03-01T18:17:00.058Z"
   },
   {
    "duration": 11,
    "start_time": "2023-03-01T18:17:00.355Z"
   },
   {
    "duration": 171,
    "start_time": "2023-03-01T18:17:00.368Z"
   },
   {
    "duration": 4,
    "start_time": "2023-03-01T18:17:00.541Z"
   },
   {
    "duration": 186,
    "start_time": "2023-03-01T18:17:00.547Z"
   },
   {
    "duration": 4,
    "start_time": "2023-03-01T18:17:00.735Z"
   },
   {
    "duration": 59,
    "start_time": "2023-03-01T18:17:00.741Z"
   },
   {
    "duration": 34,
    "start_time": "2023-03-01T18:17:00.802Z"
   },
   {
    "duration": 9,
    "start_time": "2023-03-01T18:17:00.838Z"
   },
   {
    "duration": 25,
    "start_time": "2023-03-01T18:17:00.849Z"
   },
   {
    "duration": 57,
    "start_time": "2023-03-01T18:17:00.875Z"
   },
   {
    "duration": 48,
    "start_time": "2023-03-01T18:17:00.933Z"
   },
   {
    "duration": 54,
    "start_time": "2023-03-01T18:17:00.983Z"
   },
   {
    "duration": 50,
    "start_time": "2023-03-01T18:17:01.039Z"
   },
   {
    "duration": 81,
    "start_time": "2023-03-01T18:17:01.091Z"
   },
   {
    "duration": 79,
    "start_time": "2023-03-01T18:17:01.174Z"
   },
   {
    "duration": 215,
    "start_time": "2023-03-01T18:17:01.254Z"
   },
   {
    "duration": 295,
    "start_time": "2023-03-01T18:17:01.471Z"
   },
   {
    "duration": 297,
    "start_time": "2023-03-01T18:17:01.768Z"
   },
   {
    "duration": 216,
    "start_time": "2023-03-01T18:19:31.239Z"
   },
   {
    "duration": 196,
    "start_time": "2023-03-01T18:20:11.448Z"
   },
   {
    "duration": 218,
    "start_time": "2023-03-01T18:20:20.219Z"
   },
   {
    "duration": 202,
    "start_time": "2023-03-01T18:21:36.066Z"
   },
   {
    "duration": 5,
    "start_time": "2023-03-01T18:27:56.646Z"
   },
   {
    "duration": 5,
    "start_time": "2023-03-01T18:29:05.736Z"
   },
   {
    "duration": 5,
    "start_time": "2023-03-01T18:29:21.195Z"
   },
   {
    "duration": 96,
    "start_time": "2023-03-01T18:30:40.546Z"
   },
   {
    "duration": 10,
    "start_time": "2023-03-01T18:31:10.701Z"
   },
   {
    "duration": 83,
    "start_time": "2023-03-01T18:31:38.036Z"
   },
   {
    "duration": 10,
    "start_time": "2023-03-01T18:31:55.508Z"
   },
   {
    "duration": 118,
    "start_time": "2023-03-01T18:33:10.442Z"
   },
   {
    "duration": 206,
    "start_time": "2023-03-01T18:34:51.176Z"
   },
   {
    "duration": 187,
    "start_time": "2023-03-01T18:35:02.932Z"
   },
   {
    "duration": 292,
    "start_time": "2023-03-01T18:35:13.606Z"
   },
   {
    "duration": 190,
    "start_time": "2023-03-01T18:35:22.668Z"
   },
   {
    "duration": 307,
    "start_time": "2023-03-01T18:35:30.137Z"
   },
   {
    "duration": 131,
    "start_time": "2023-03-01T18:35:38.532Z"
   },
   {
    "duration": 132,
    "start_time": "2023-03-01T18:35:48.910Z"
   },
   {
    "duration": 235,
    "start_time": "2023-03-01T18:35:55.967Z"
   },
   {
    "duration": 171,
    "start_time": "2023-03-01T18:36:16.697Z"
   },
   {
    "duration": 183,
    "start_time": "2023-03-01T18:36:23.018Z"
   },
   {
    "duration": 280,
    "start_time": "2023-03-01T18:36:30.002Z"
   },
   {
    "duration": 75,
    "start_time": "2023-03-01T18:38:49.178Z"
   },
   {
    "duration": 80,
    "start_time": "2023-03-02T08:54:03.260Z"
   },
   {
    "duration": 61,
    "start_time": "2023-03-02T09:00:26.289Z"
   },
   {
    "duration": 1448,
    "start_time": "2023-03-02T09:00:34.142Z"
   },
   {
    "duration": 81,
    "start_time": "2023-03-02T09:00:35.592Z"
   },
   {
    "duration": 13,
    "start_time": "2023-03-02T09:00:35.675Z"
   },
   {
    "duration": 35,
    "start_time": "2023-03-02T09:00:35.690Z"
   },
   {
    "duration": 138,
    "start_time": "2023-03-02T09:00:35.730Z"
   },
   {
    "duration": 69,
    "start_time": "2023-03-02T09:00:35.870Z"
   },
   {
    "duration": 12,
    "start_time": "2023-03-02T09:00:35.942Z"
   },
   {
    "duration": 14,
    "start_time": "2023-03-02T09:00:35.956Z"
   },
   {
    "duration": 89,
    "start_time": "2023-03-02T09:00:35.972Z"
   },
   {
    "duration": 76,
    "start_time": "2023-03-02T09:00:36.063Z"
   },
   {
    "duration": 63,
    "start_time": "2023-03-02T09:00:36.143Z"
   },
   {
    "duration": 83,
    "start_time": "2023-03-02T09:00:36.208Z"
   },
   {
    "duration": 51,
    "start_time": "2023-03-02T09:00:36.292Z"
   },
   {
    "duration": 290,
    "start_time": "2023-03-02T09:00:36.348Z"
   },
   {
    "duration": 206,
    "start_time": "2023-03-02T09:00:36.641Z"
   },
   {
    "duration": 310,
    "start_time": "2023-03-02T09:00:36.849Z"
   },
   {
    "duration": 217,
    "start_time": "2023-03-02T09:00:37.160Z"
   },
   {
    "duration": 374,
    "start_time": "2023-03-02T09:00:37.379Z"
   },
   {
    "duration": 11,
    "start_time": "2023-03-02T09:00:37.755Z"
   },
   {
    "duration": 171,
    "start_time": "2023-03-02T09:00:37.767Z"
   },
   {
    "duration": 4,
    "start_time": "2023-03-02T09:00:37.940Z"
   },
   {
    "duration": 189,
    "start_time": "2023-03-02T09:00:37.946Z"
   },
   {
    "duration": 5,
    "start_time": "2023-03-02T09:00:38.136Z"
   },
   {
    "duration": 36,
    "start_time": "2023-03-02T09:00:38.142Z"
   },
   {
    "duration": 35,
    "start_time": "2023-03-02T09:00:38.179Z"
   },
   {
    "duration": 15,
    "start_time": "2023-03-02T09:00:38.215Z"
   },
   {
    "duration": 15,
    "start_time": "2023-03-02T09:00:38.236Z"
   },
   {
    "duration": 8,
    "start_time": "2023-03-02T09:00:38.253Z"
   },
   {
    "duration": 26,
    "start_time": "2023-03-02T09:00:38.262Z"
   },
   {
    "duration": 14,
    "start_time": "2023-03-02T09:00:38.290Z"
   },
   {
    "duration": 36,
    "start_time": "2023-03-02T09:00:38.306Z"
   },
   {
    "duration": 80,
    "start_time": "2023-03-02T09:00:38.346Z"
   },
   {
    "duration": 62,
    "start_time": "2023-03-02T09:00:38.430Z"
   },
   {
    "duration": 223,
    "start_time": "2023-03-02T09:00:38.495Z"
   },
   {
    "duration": 282,
    "start_time": "2023-03-02T09:00:38.722Z"
   },
   {
    "duration": 308,
    "start_time": "2023-03-02T09:00:39.005Z"
   },
   {
    "duration": 8,
    "start_time": "2023-03-02T09:02:03.723Z"
   },
   {
    "duration": 8,
    "start_time": "2023-03-02T09:02:31.875Z"
   },
   {
    "duration": 7,
    "start_time": "2023-03-02T09:03:03.685Z"
   },
   {
    "duration": 6,
    "start_time": "2023-03-02T09:06:00.727Z"
   },
   {
    "duration": 47,
    "start_time": "2023-03-02T09:06:20.476Z"
   },
   {
    "duration": 7,
    "start_time": "2023-03-02T09:06:30.848Z"
   },
   {
    "duration": 7,
    "start_time": "2023-03-02T09:06:40.537Z"
   },
   {
    "duration": 47,
    "start_time": "2023-03-02T09:07:34.449Z"
   },
   {
    "duration": 7,
    "start_time": "2023-03-02T09:08:15.649Z"
   },
   {
    "duration": 4,
    "start_time": "2023-03-02T09:09:35.160Z"
   },
   {
    "duration": 60,
    "start_time": "2023-03-02T09:10:11.533Z"
   },
   {
    "duration": 87,
    "start_time": "2023-03-02T09:10:50.166Z"
   },
   {
    "duration": 172,
    "start_time": "2023-03-02T09:14:22.369Z"
   },
   {
    "duration": 15,
    "start_time": "2023-03-02T09:14:35.089Z"
   },
   {
    "duration": 4,
    "start_time": "2023-03-02T09:14:58.418Z"
   },
   {
    "duration": 4,
    "start_time": "2023-03-02T09:15:16.009Z"
   },
   {
    "duration": 6,
    "start_time": "2023-03-02T09:16:17.120Z"
   },
   {
    "duration": 7,
    "start_time": "2023-03-02T09:17:38.913Z"
   },
   {
    "duration": 10,
    "start_time": "2023-03-02T09:24:03.071Z"
   },
   {
    "duration": 6,
    "start_time": "2023-03-02T09:24:22.728Z"
   },
   {
    "duration": 55,
    "start_time": "2023-03-02T09:25:06.522Z"
   },
   {
    "duration": 6,
    "start_time": "2023-03-02T09:25:30.521Z"
   },
   {
    "duration": 6,
    "start_time": "2023-03-02T09:25:38.999Z"
   },
   {
    "duration": 332,
    "start_time": "2023-03-02T09:28:29.005Z"
   },
   {
    "duration": 63,
    "start_time": "2023-03-02T09:29:09.409Z"
   },
   {
    "duration": 186,
    "start_time": "2023-03-02T09:30:26.940Z"
   },
   {
    "duration": 186,
    "start_time": "2023-03-02T09:33:41.955Z"
   },
   {
    "duration": 208,
    "start_time": "2023-03-02T09:33:52.240Z"
   },
   {
    "duration": 198,
    "start_time": "2023-03-02T09:33:57.572Z"
   },
   {
    "duration": 203,
    "start_time": "2023-03-02T09:34:54.630Z"
   },
   {
    "duration": 224,
    "start_time": "2023-03-02T09:35:53.011Z"
   },
   {
    "duration": 220,
    "start_time": "2023-03-02T09:36:02.040Z"
   },
   {
    "duration": 322,
    "start_time": "2023-03-02T09:38:35.249Z"
   },
   {
    "duration": 351,
    "start_time": "2023-03-02T09:39:05.595Z"
   },
   {
    "duration": 363,
    "start_time": "2023-03-02T09:39:16.022Z"
   },
   {
    "duration": 332,
    "start_time": "2023-03-02T09:40:27.225Z"
   },
   {
    "duration": 315,
    "start_time": "2023-03-02T09:42:20.449Z"
   },
   {
    "duration": 128,
    "start_time": "2023-03-02T09:43:47.859Z"
   },
   {
    "duration": 217,
    "start_time": "2023-03-02T09:44:54.554Z"
   },
   {
    "duration": 211,
    "start_time": "2023-03-02T09:46:56.746Z"
   },
   {
    "duration": 193,
    "start_time": "2023-03-02T09:47:34.072Z"
   },
   {
    "duration": 248,
    "start_time": "2023-03-02T09:49:28.688Z"
   },
   {
    "duration": 210,
    "start_time": "2023-03-02T09:49:37.157Z"
   },
   {
    "duration": 231,
    "start_time": "2023-03-02T09:50:17.942Z"
   },
   {
    "duration": 357,
    "start_time": "2023-03-02T09:52:38.130Z"
   },
   {
    "duration": 326,
    "start_time": "2023-03-02T09:52:45.941Z"
   },
   {
    "duration": 115,
    "start_time": "2023-03-02T10:26:11.225Z"
   },
   {
    "duration": 31,
    "start_time": "2023-03-02T10:26:24.043Z"
   },
   {
    "duration": 30,
    "start_time": "2023-03-02T10:27:49.242Z"
   },
   {
    "duration": 33,
    "start_time": "2023-03-02T10:28:06.574Z"
   },
   {
    "duration": 35,
    "start_time": "2023-03-02T10:28:13.554Z"
   },
   {
    "duration": 34,
    "start_time": "2023-03-02T10:28:54.297Z"
   },
   {
    "duration": 26,
    "start_time": "2023-03-02T10:29:06.089Z"
   },
   {
    "duration": 32,
    "start_time": "2023-03-02T10:29:17.734Z"
   },
   {
    "duration": 28,
    "start_time": "2023-03-02T10:32:17.137Z"
   },
   {
    "duration": 29,
    "start_time": "2023-03-02T10:34:32.132Z"
   },
   {
    "duration": 12,
    "start_time": "2023-03-02T10:34:54.738Z"
   },
   {
    "duration": 83,
    "start_time": "2023-03-02T10:38:16.133Z"
   },
   {
    "duration": 24,
    "start_time": "2023-03-02T10:38:32.148Z"
   },
   {
    "duration": 48,
    "start_time": "2023-03-02T10:41:51.776Z"
   },
   {
    "duration": 15,
    "start_time": "2023-03-02T10:42:52.609Z"
   },
   {
    "duration": 58,
    "start_time": "2023-03-02T10:43:36.341Z"
   },
   {
    "duration": 41,
    "start_time": "2023-03-02T10:44:44.237Z"
   },
   {
    "duration": 15,
    "start_time": "2023-03-02T10:45:53.436Z"
   },
   {
    "duration": 12,
    "start_time": "2023-03-02T10:48:04.737Z"
   },
   {
    "duration": 24,
    "start_time": "2023-03-02T10:48:32.571Z"
   },
   {
    "duration": 7,
    "start_time": "2023-03-02T10:49:20.237Z"
   },
   {
    "duration": 3,
    "start_time": "2023-03-02T10:55:11.802Z"
   },
   {
    "duration": 14,
    "start_time": "2023-03-02T10:55:47.231Z"
   },
   {
    "duration": 3,
    "start_time": "2023-03-02T10:56:23.985Z"
   },
   {
    "duration": 16,
    "start_time": "2023-03-02T10:56:51.645Z"
   },
   {
    "duration": 3,
    "start_time": "2023-03-02T10:57:56.945Z"
   },
   {
    "duration": 52,
    "start_time": "2023-03-02T10:59:49.105Z"
   },
   {
    "duration": 90,
    "start_time": "2023-03-02T11:01:53.191Z"
   },
   {
    "duration": 75,
    "start_time": "2023-03-02T11:02:46.415Z"
   },
   {
    "duration": 69,
    "start_time": "2023-03-02T11:02:47.308Z"
   },
   {
    "duration": 69,
    "start_time": "2023-03-02T11:02:48.179Z"
   },
   {
    "duration": 80,
    "start_time": "2023-03-02T11:02:49.122Z"
   },
   {
    "duration": 32,
    "start_time": "2023-03-02T11:02:49.885Z"
   },
   {
    "duration": 1342,
    "start_time": "2023-03-02T11:32:27.803Z"
   },
   {
    "duration": 83,
    "start_time": "2023-03-02T11:32:29.147Z"
   },
   {
    "duration": 15,
    "start_time": "2023-03-02T11:32:29.235Z"
   },
   {
    "duration": 11,
    "start_time": "2023-03-02T11:32:29.254Z"
   },
   {
    "duration": 122,
    "start_time": "2023-03-02T11:32:29.268Z"
   },
   {
    "duration": 73,
    "start_time": "2023-03-02T11:32:29.392Z"
   },
   {
    "duration": 8,
    "start_time": "2023-03-02T11:32:29.467Z"
   },
   {
    "duration": 8,
    "start_time": "2023-03-02T11:32:29.478Z"
   },
   {
    "duration": 16,
    "start_time": "2023-03-02T11:32:29.487Z"
   },
   {
    "duration": 86,
    "start_time": "2023-03-02T11:32:29.507Z"
   },
   {
    "duration": 79,
    "start_time": "2023-03-02T11:32:29.599Z"
   },
   {
    "duration": 75,
    "start_time": "2023-03-02T11:32:29.680Z"
   },
   {
    "duration": 97,
    "start_time": "2023-03-02T11:32:29.757Z"
   },
   {
    "duration": 44,
    "start_time": "2023-03-02T11:32:29.856Z"
   },
   {
    "duration": 7,
    "start_time": "2023-03-02T11:32:29.902Z"
   },
   {
    "duration": 318,
    "start_time": "2023-03-02T11:32:29.924Z"
   },
   {
    "duration": 278,
    "start_time": "2023-03-02T11:32:30.244Z"
   },
   {
    "duration": 366,
    "start_time": "2023-03-02T11:32:30.525Z"
   },
   {
    "duration": 262,
    "start_time": "2023-03-02T11:32:30.893Z"
   },
   {
    "duration": 315,
    "start_time": "2023-03-02T11:32:31.157Z"
   },
   {
    "duration": 16,
    "start_time": "2023-03-02T11:32:31.475Z"
   },
   {
    "duration": 161,
    "start_time": "2023-03-02T11:32:31.493Z"
   },
   {
    "duration": 5,
    "start_time": "2023-03-02T11:32:31.655Z"
   },
   {
    "duration": 180,
    "start_time": "2023-03-02T11:32:31.662Z"
   },
   {
    "duration": 5,
    "start_time": "2023-03-02T11:32:31.844Z"
   },
   {
    "duration": 42,
    "start_time": "2023-03-02T11:32:31.851Z"
   },
   {
    "duration": 45,
    "start_time": "2023-03-02T11:32:31.895Z"
   },
   {
    "duration": 13,
    "start_time": "2023-03-02T11:32:31.944Z"
   },
   {
    "duration": 11,
    "start_time": "2023-03-02T11:32:31.958Z"
   },
   {
    "duration": 8,
    "start_time": "2023-03-02T11:32:31.971Z"
   },
   {
    "duration": 58,
    "start_time": "2023-03-02T11:32:31.981Z"
   },
   {
    "duration": 14,
    "start_time": "2023-03-02T11:32:32.041Z"
   },
   {
    "duration": 8,
    "start_time": "2023-03-02T11:32:32.057Z"
   },
   {
    "duration": 115,
    "start_time": "2023-03-02T11:32:32.067Z"
   },
   {
    "duration": 84,
    "start_time": "2023-03-02T11:32:32.184Z"
   },
   {
    "duration": 228,
    "start_time": "2023-03-02T11:32:32.269Z"
   },
   {
    "duration": 342,
    "start_time": "2023-03-02T11:32:32.500Z"
   },
   {
    "duration": 326,
    "start_time": "2023-03-02T11:32:32.844Z"
   },
   {
    "duration": 231,
    "start_time": "2023-03-02T11:40:37.834Z"
   },
   {
    "duration": 224,
    "start_time": "2023-03-02T11:40:41.515Z"
   },
   {
    "duration": 3,
    "start_time": "2023-03-02T11:58:12.003Z"
   },
   {
    "duration": 34,
    "start_time": "2023-03-02T11:58:12.034Z"
   },
   {
    "duration": 12,
    "start_time": "2023-03-02T11:58:12.070Z"
   },
   {
    "duration": 17,
    "start_time": "2023-03-02T11:58:12.084Z"
   },
   {
    "duration": 57,
    "start_time": "2023-03-02T11:58:12.103Z"
   },
   {
    "duration": 23,
    "start_time": "2023-03-02T11:58:12.162Z"
   },
   {
    "duration": 7,
    "start_time": "2023-03-02T11:58:12.186Z"
   },
   {
    "duration": 14,
    "start_time": "2023-03-02T11:58:12.195Z"
   },
   {
    "duration": 7,
    "start_time": "2023-03-02T11:58:12.211Z"
   },
   {
    "duration": 57,
    "start_time": "2023-03-02T11:58:12.220Z"
   },
   {
    "duration": 70,
    "start_time": "2023-03-02T11:58:12.279Z"
   },
   {
    "duration": 89,
    "start_time": "2023-03-02T11:58:12.351Z"
   },
   {
    "duration": 80,
    "start_time": "2023-03-02T11:58:12.442Z"
   },
   {
    "duration": 32,
    "start_time": "2023-03-02T11:58:12.524Z"
   },
   {
    "duration": 5,
    "start_time": "2023-03-02T11:58:12.561Z"
   },
   {
    "duration": 238,
    "start_time": "2023-03-02T11:58:12.568Z"
   },
   {
    "duration": 226,
    "start_time": "2023-03-02T11:58:12.808Z"
   },
   {
    "duration": 330,
    "start_time": "2023-03-02T11:58:13.036Z"
   },
   {
    "duration": 237,
    "start_time": "2023-03-02T11:58:13.368Z"
   },
   {
    "duration": 449,
    "start_time": "2023-03-02T11:58:13.606Z"
   },
   {
    "duration": 13,
    "start_time": "2023-03-02T11:58:14.057Z"
   },
   {
    "duration": 179,
    "start_time": "2023-03-02T11:58:14.072Z"
   },
   {
    "duration": 5,
    "start_time": "2023-03-02T11:58:14.252Z"
   },
   {
    "duration": 199,
    "start_time": "2023-03-02T11:58:14.259Z"
   },
   {
    "duration": 5,
    "start_time": "2023-03-02T11:58:14.461Z"
   },
   {
    "duration": 35,
    "start_time": "2023-03-02T11:58:14.468Z"
   },
   {
    "duration": 45,
    "start_time": "2023-03-02T11:58:14.505Z"
   },
   {
    "duration": 15,
    "start_time": "2023-03-02T11:58:14.553Z"
   },
   {
    "duration": 16,
    "start_time": "2023-03-02T11:58:14.570Z"
   },
   {
    "duration": 38,
    "start_time": "2023-03-02T11:58:14.588Z"
   },
   {
    "duration": 33,
    "start_time": "2023-03-02T11:58:14.629Z"
   },
   {
    "duration": 20,
    "start_time": "2023-03-02T11:58:14.664Z"
   },
   {
    "duration": 35,
    "start_time": "2023-03-02T11:58:14.686Z"
   },
   {
    "duration": 64,
    "start_time": "2023-03-02T11:58:14.722Z"
   },
   {
    "duration": 81,
    "start_time": "2023-03-02T11:58:14.787Z"
   },
   {
    "duration": 244,
    "start_time": "2023-03-02T11:58:14.870Z"
   },
   {
    "duration": 231,
    "start_time": "2023-03-02T11:58:15.122Z"
   },
   {
    "duration": 305,
    "start_time": "2023-03-02T11:58:15.355Z"
   },
   {
    "duration": 3,
    "start_time": "2023-03-02T11:59:17.887Z"
   },
   {
    "duration": 43,
    "start_time": "2023-03-02T11:59:17.892Z"
   },
   {
    "duration": 13,
    "start_time": "2023-03-02T11:59:17.937Z"
   },
   {
    "duration": 13,
    "start_time": "2023-03-02T11:59:17.952Z"
   },
   {
    "duration": 55,
    "start_time": "2023-03-02T11:59:18.237Z"
   },
   {
    "duration": 26,
    "start_time": "2023-03-02T11:59:18.294Z"
   },
   {
    "duration": 8,
    "start_time": "2023-03-02T11:59:18.322Z"
   },
   {
    "duration": 11,
    "start_time": "2023-03-02T11:59:18.331Z"
   },
   {
    "duration": 6,
    "start_time": "2023-03-02T11:59:18.344Z"
   },
   {
    "duration": 79,
    "start_time": "2023-03-02T11:59:18.352Z"
   },
   {
    "duration": 59,
    "start_time": "2023-03-02T11:59:18.433Z"
   },
   {
    "duration": 70,
    "start_time": "2023-03-02T11:59:18.548Z"
   },
   {
    "duration": 79,
    "start_time": "2023-03-02T11:59:18.620Z"
   },
   {
    "duration": 56,
    "start_time": "2023-03-02T11:59:18.701Z"
   },
   {
    "duration": 7,
    "start_time": "2023-03-02T11:59:18.760Z"
   },
   {
    "duration": 272,
    "start_time": "2023-03-02T11:59:18.769Z"
   },
   {
    "duration": 216,
    "start_time": "2023-03-02T11:59:19.042Z"
   },
   {
    "duration": 298,
    "start_time": "2023-03-02T11:59:19.260Z"
   },
   {
    "duration": 239,
    "start_time": "2023-03-02T11:59:19.561Z"
   },
   {
    "duration": 336,
    "start_time": "2023-03-02T11:59:19.801Z"
   },
   {
    "duration": 12,
    "start_time": "2023-03-02T11:59:20.140Z"
   },
   {
    "duration": 159,
    "start_time": "2023-03-02T11:59:20.154Z"
   },
   {
    "duration": 9,
    "start_time": "2023-03-02T11:59:20.315Z"
   },
   {
    "duration": 185,
    "start_time": "2023-03-02T11:59:20.326Z"
   },
   {
    "duration": 11,
    "start_time": "2023-03-02T11:59:20.513Z"
   },
   {
    "duration": 29,
    "start_time": "2023-03-02T11:59:20.526Z"
   },
   {
    "duration": 31,
    "start_time": "2023-03-02T11:59:20.557Z"
   },
   {
    "duration": 36,
    "start_time": "2023-03-02T11:59:20.590Z"
   },
   {
    "duration": 12,
    "start_time": "2023-03-02T11:59:20.628Z"
   },
   {
    "duration": 9,
    "start_time": "2023-03-02T11:59:20.642Z"
   },
   {
    "duration": 34,
    "start_time": "2023-03-02T11:59:20.653Z"
   },
   {
    "duration": 40,
    "start_time": "2023-03-02T11:59:20.689Z"
   },
   {
    "duration": 10,
    "start_time": "2023-03-02T11:59:20.731Z"
   },
   {
    "duration": 88,
    "start_time": "2023-03-02T11:59:20.743Z"
   },
   {
    "duration": 66,
    "start_time": "2023-03-02T11:59:20.833Z"
   },
   {
    "duration": 227,
    "start_time": "2023-03-02T11:59:20.920Z"
   },
   {
    "duration": 241,
    "start_time": "2023-03-02T11:59:21.149Z"
   },
   {
    "duration": 367,
    "start_time": "2023-03-02T11:59:21.391Z"
   },
   {
    "duration": 1375,
    "start_time": "2023-03-03T01:23:12.530Z"
   },
   {
    "duration": 84,
    "start_time": "2023-03-03T01:23:13.907Z"
   },
   {
    "duration": 13,
    "start_time": "2023-03-03T01:23:13.993Z"
   },
   {
    "duration": 11,
    "start_time": "2023-03-03T01:23:14.008Z"
   },
   {
    "duration": 100,
    "start_time": "2023-03-03T01:23:14.021Z"
   },
   {
    "duration": 60,
    "start_time": "2023-03-03T01:23:14.123Z"
   },
   {
    "duration": 7,
    "start_time": "2023-03-03T01:23:14.185Z"
   },
   {
    "duration": 7,
    "start_time": "2023-03-03T01:23:14.194Z"
   },
   {
    "duration": 7,
    "start_time": "2023-03-03T01:23:14.203Z"
   },
   {
    "duration": 57,
    "start_time": "2023-03-03T01:23:14.213Z"
   },
   {
    "duration": 54,
    "start_time": "2023-03-03T01:23:14.272Z"
   },
   {
    "duration": 78,
    "start_time": "2023-03-03T01:23:14.328Z"
   },
   {
    "duration": 79,
    "start_time": "2023-03-03T01:23:14.408Z"
   },
   {
    "duration": 29,
    "start_time": "2023-03-03T01:23:14.489Z"
   },
   {
    "duration": 11,
    "start_time": "2023-03-03T01:23:14.519Z"
   },
   {
    "duration": 298,
    "start_time": "2023-03-03T01:23:14.546Z"
   },
   {
    "duration": 207,
    "start_time": "2023-03-03T01:23:14.846Z"
   },
   {
    "duration": 363,
    "start_time": "2023-03-03T01:23:15.054Z"
   },
   {
    "duration": 244,
    "start_time": "2023-03-03T01:23:15.420Z"
   },
   {
    "duration": 308,
    "start_time": "2023-03-03T01:23:15.666Z"
   },
   {
    "duration": 10,
    "start_time": "2023-03-03T01:23:15.976Z"
   },
   {
    "duration": 151,
    "start_time": "2023-03-03T01:23:15.988Z"
   },
   {
    "duration": 4,
    "start_time": "2023-03-03T01:23:16.144Z"
   },
   {
    "duration": 162,
    "start_time": "2023-03-03T01:23:16.149Z"
   },
   {
    "duration": 5,
    "start_time": "2023-03-03T01:23:16.313Z"
   },
   {
    "duration": 27,
    "start_time": "2023-03-03T01:23:16.319Z"
   },
   {
    "duration": 29,
    "start_time": "2023-03-03T01:23:16.348Z"
   },
   {
    "duration": 12,
    "start_time": "2023-03-03T01:23:16.380Z"
   },
   {
    "duration": 10,
    "start_time": "2023-03-03T01:23:16.393Z"
   },
   {
    "duration": 8,
    "start_time": "2023-03-03T01:23:16.405Z"
   },
   {
    "duration": 25,
    "start_time": "2023-03-03T01:23:16.446Z"
   },
   {
    "duration": 14,
    "start_time": "2023-03-03T01:23:16.472Z"
   },
   {
    "duration": 9,
    "start_time": "2023-03-03T01:23:16.488Z"
   },
   {
    "duration": 92,
    "start_time": "2023-03-03T01:23:16.498Z"
   },
   {
    "duration": 80,
    "start_time": "2023-03-03T01:23:16.591Z"
   },
   {
    "duration": 208,
    "start_time": "2023-03-03T01:23:16.673Z"
   },
   {
    "duration": 288,
    "start_time": "2023-03-03T01:23:16.882Z"
   },
   {
    "duration": 304,
    "start_time": "2023-03-03T01:23:17.172Z"
   }
  ],
  "kernelspec": {
   "display_name": "Python 3 (ipykernel)",
   "language": "python",
   "name": "python3"
  },
  "language_info": {
   "codemirror_mode": {
    "name": "ipython",
    "version": 3
   },
   "file_extension": ".py",
   "mimetype": "text/x-python",
   "name": "python",
   "nbconvert_exporter": "python",
   "pygments_lexer": "ipython3",
   "version": "3.9.13"
  },
  "toc": {
   "base_numbering": 1,
   "nav_menu": {},
   "number_sections": true,
   "sideBar": true,
   "skip_h1_title": true,
   "title_cell": "Содержание",
   "title_sidebar": "Contents",
   "toc_cell": false,
   "toc_position": {},
   "toc_section_display": true,
   "toc_window_display": true
  }
 },
 "nbformat": 4,
 "nbformat_minor": 2
}
