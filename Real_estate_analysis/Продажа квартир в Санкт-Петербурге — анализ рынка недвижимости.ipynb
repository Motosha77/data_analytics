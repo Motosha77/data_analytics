{
 "cells": [
  {
   "cell_type": "markdown",
   "metadata": {},
   "source": [
    "# Исследование объявлений о продаже квартир\n",
    "\n",
    "В нашем распоряжении данные сервиса Яндекс.Недвижимость — архив объявлений о продаже квартир в Санкт-Петербурге и соседних населённых пунктов за несколько лет. Нужно определить рыночную стоимость объектов недвижимости. Основная задача — установить параметры. Это позволит построить автоматизированную систему: она отследит аномалии и мошенническую деятельность. \n",
    "\n",
    "По каждой квартире на продажу доступны два вида данных. Первые вписаны пользователем, вторые — получены автоматически на основе картографических данных. Например, расстояние до центра, аэропорта, ближайшего парка и водоёма. "
   ]
  },
  {
   "cell_type": "markdown",
   "metadata": {},
   "source": [
    "### Знакомство с общей информацией датасета. "
   ]
  },
  {
   "cell_type": "code",
   "execution_count": 1,
   "metadata": {},
   "outputs": [],
   "source": [
    "import pandas as pd\n",
    "\n"
   ]
  },
  {
   "cell_type": "code",
   "execution_count": 2,
   "metadata": {},
   "outputs": [
    {
     "name": "stdout",
     "output_type": "stream",
     "text": [
      "<class 'pandas.core.frame.DataFrame'>\n",
      "RangeIndex: 23699 entries, 0 to 23698\n",
      "Data columns (total 22 columns):\n",
      " #   Column                Non-Null Count  Dtype  \n",
      "---  ------                --------------  -----  \n",
      " 0   total_images          23699 non-null  int64  \n",
      " 1   last_price            23699 non-null  float64\n",
      " 2   total_area            23699 non-null  float64\n",
      " 3   first_day_exposition  23699 non-null  object \n",
      " 4   rooms                 23699 non-null  int64  \n",
      " 5   ceiling_height        14504 non-null  float64\n",
      " 6   floors_total          23613 non-null  float64\n",
      " 7   living_area           21796 non-null  float64\n",
      " 8   floor                 23699 non-null  int64  \n",
      " 9   is_apartment          2775 non-null   object \n",
      " 10  studio                23699 non-null  bool   \n",
      " 11  open_plan             23699 non-null  bool   \n",
      " 12  kitchen_area          21421 non-null  float64\n",
      " 13  balcony               12180 non-null  float64\n",
      " 14  locality_name         23650 non-null  object \n",
      " 15  airports_nearest      18157 non-null  float64\n",
      " 16  cityCenters_nearest   18180 non-null  float64\n",
      " 17  parks_around3000      18181 non-null  float64\n",
      " 18  parks_nearest         8079 non-null   float64\n",
      " 19  ponds_around3000      18181 non-null  float64\n",
      " 20  ponds_nearest         9110 non-null   float64\n",
      " 21  days_exposition       20518 non-null  float64\n",
      "dtypes: bool(2), float64(14), int64(3), object(3)\n",
      "memory usage: 3.7+ MB\n",
      "None\n"
     ]
    },
    {
     "data": {
      "text/html": [
       "<div>\n",
       "<style scoped>\n",
       "    .dataframe tbody tr th:only-of-type {\n",
       "        vertical-align: middle;\n",
       "    }\n",
       "\n",
       "    .dataframe tbody tr th {\n",
       "        vertical-align: top;\n",
       "    }\n",
       "\n",
       "    .dataframe thead th {\n",
       "        text-align: right;\n",
       "    }\n",
       "</style>\n",
       "<table border=\"1\" class=\"dataframe\">\n",
       "  <thead>\n",
       "    <tr style=\"text-align: right;\">\n",
       "      <th></th>\n",
       "      <th>total_images</th>\n",
       "      <th>last_price</th>\n",
       "      <th>total_area</th>\n",
       "      <th>first_day_exposition</th>\n",
       "      <th>rooms</th>\n",
       "      <th>ceiling_height</th>\n",
       "      <th>floors_total</th>\n",
       "      <th>living_area</th>\n",
       "      <th>floor</th>\n",
       "      <th>is_apartment</th>\n",
       "      <th>...</th>\n",
       "      <th>kitchen_area</th>\n",
       "      <th>balcony</th>\n",
       "      <th>locality_name</th>\n",
       "      <th>airports_nearest</th>\n",
       "      <th>cityCenters_nearest</th>\n",
       "      <th>parks_around3000</th>\n",
       "      <th>parks_nearest</th>\n",
       "      <th>ponds_around3000</th>\n",
       "      <th>ponds_nearest</th>\n",
       "      <th>days_exposition</th>\n",
       "    </tr>\n",
       "  </thead>\n",
       "  <tbody>\n",
       "    <tr>\n",
       "      <th>0</th>\n",
       "      <td>20</td>\n",
       "      <td>13000000.0</td>\n",
       "      <td>108.0</td>\n",
       "      <td>2019-03-07T00:00:00</td>\n",
       "      <td>3</td>\n",
       "      <td>2.70</td>\n",
       "      <td>16.0</td>\n",
       "      <td>51.0</td>\n",
       "      <td>8</td>\n",
       "      <td>NaN</td>\n",
       "      <td>...</td>\n",
       "      <td>25.0</td>\n",
       "      <td>NaN</td>\n",
       "      <td>Санкт-Петербург</td>\n",
       "      <td>18863.0</td>\n",
       "      <td>16028.0</td>\n",
       "      <td>1.0</td>\n",
       "      <td>482.0</td>\n",
       "      <td>2.0</td>\n",
       "      <td>755.0</td>\n",
       "      <td>NaN</td>\n",
       "    </tr>\n",
       "    <tr>\n",
       "      <th>1</th>\n",
       "      <td>7</td>\n",
       "      <td>3350000.0</td>\n",
       "      <td>40.4</td>\n",
       "      <td>2018-12-04T00:00:00</td>\n",
       "      <td>1</td>\n",
       "      <td>NaN</td>\n",
       "      <td>11.0</td>\n",
       "      <td>18.6</td>\n",
       "      <td>1</td>\n",
       "      <td>NaN</td>\n",
       "      <td>...</td>\n",
       "      <td>11.0</td>\n",
       "      <td>2.0</td>\n",
       "      <td>посёлок Шушары</td>\n",
       "      <td>12817.0</td>\n",
       "      <td>18603.0</td>\n",
       "      <td>0.0</td>\n",
       "      <td>NaN</td>\n",
       "      <td>0.0</td>\n",
       "      <td>NaN</td>\n",
       "      <td>81.0</td>\n",
       "    </tr>\n",
       "    <tr>\n",
       "      <th>2</th>\n",
       "      <td>10</td>\n",
       "      <td>5196000.0</td>\n",
       "      <td>56.0</td>\n",
       "      <td>2015-08-20T00:00:00</td>\n",
       "      <td>2</td>\n",
       "      <td>NaN</td>\n",
       "      <td>5.0</td>\n",
       "      <td>34.3</td>\n",
       "      <td>4</td>\n",
       "      <td>NaN</td>\n",
       "      <td>...</td>\n",
       "      <td>8.3</td>\n",
       "      <td>0.0</td>\n",
       "      <td>Санкт-Петербург</td>\n",
       "      <td>21741.0</td>\n",
       "      <td>13933.0</td>\n",
       "      <td>1.0</td>\n",
       "      <td>90.0</td>\n",
       "      <td>2.0</td>\n",
       "      <td>574.0</td>\n",
       "      <td>558.0</td>\n",
       "    </tr>\n",
       "    <tr>\n",
       "      <th>3</th>\n",
       "      <td>0</td>\n",
       "      <td>64900000.0</td>\n",
       "      <td>159.0</td>\n",
       "      <td>2015-07-24T00:00:00</td>\n",
       "      <td>3</td>\n",
       "      <td>NaN</td>\n",
       "      <td>14.0</td>\n",
       "      <td>NaN</td>\n",
       "      <td>9</td>\n",
       "      <td>NaN</td>\n",
       "      <td>...</td>\n",
       "      <td>NaN</td>\n",
       "      <td>0.0</td>\n",
       "      <td>Санкт-Петербург</td>\n",
       "      <td>28098.0</td>\n",
       "      <td>6800.0</td>\n",
       "      <td>2.0</td>\n",
       "      <td>84.0</td>\n",
       "      <td>3.0</td>\n",
       "      <td>234.0</td>\n",
       "      <td>424.0</td>\n",
       "    </tr>\n",
       "    <tr>\n",
       "      <th>4</th>\n",
       "      <td>2</td>\n",
       "      <td>10000000.0</td>\n",
       "      <td>100.0</td>\n",
       "      <td>2018-06-19T00:00:00</td>\n",
       "      <td>2</td>\n",
       "      <td>3.03</td>\n",
       "      <td>14.0</td>\n",
       "      <td>32.0</td>\n",
       "      <td>13</td>\n",
       "      <td>NaN</td>\n",
       "      <td>...</td>\n",
       "      <td>41.0</td>\n",
       "      <td>NaN</td>\n",
       "      <td>Санкт-Петербург</td>\n",
       "      <td>31856.0</td>\n",
       "      <td>8098.0</td>\n",
       "      <td>2.0</td>\n",
       "      <td>112.0</td>\n",
       "      <td>1.0</td>\n",
       "      <td>48.0</td>\n",
       "      <td>121.0</td>\n",
       "    </tr>\n",
       "  </tbody>\n",
       "</table>\n",
       "<p>5 rows × 22 columns</p>\n",
       "</div>"
      ],
      "text/plain": [
       "   total_images  last_price  total_area first_day_exposition  rooms  \\\n",
       "0            20  13000000.0       108.0  2019-03-07T00:00:00      3   \n",
       "1             7   3350000.0        40.4  2018-12-04T00:00:00      1   \n",
       "2            10   5196000.0        56.0  2015-08-20T00:00:00      2   \n",
       "3             0  64900000.0       159.0  2015-07-24T00:00:00      3   \n",
       "4             2  10000000.0       100.0  2018-06-19T00:00:00      2   \n",
       "\n",
       "   ceiling_height  floors_total  living_area  floor is_apartment  ...  \\\n",
       "0            2.70          16.0         51.0      8          NaN  ...   \n",
       "1             NaN          11.0         18.6      1          NaN  ...   \n",
       "2             NaN           5.0         34.3      4          NaN  ...   \n",
       "3             NaN          14.0          NaN      9          NaN  ...   \n",
       "4            3.03          14.0         32.0     13          NaN  ...   \n",
       "\n",
       "   kitchen_area  balcony    locality_name  airports_nearest  \\\n",
       "0          25.0      NaN  Санкт-Петербург           18863.0   \n",
       "1          11.0      2.0   посёлок Шушары           12817.0   \n",
       "2           8.3      0.0  Санкт-Петербург           21741.0   \n",
       "3           NaN      0.0  Санкт-Петербург           28098.0   \n",
       "4          41.0      NaN  Санкт-Петербург           31856.0   \n",
       "\n",
       "  cityCenters_nearest  parks_around3000  parks_nearest  ponds_around3000  \\\n",
       "0             16028.0               1.0          482.0               2.0   \n",
       "1             18603.0               0.0            NaN               0.0   \n",
       "2             13933.0               1.0           90.0               2.0   \n",
       "3              6800.0               2.0           84.0               3.0   \n",
       "4              8098.0               2.0          112.0               1.0   \n",
       "\n",
       "   ponds_nearest  days_exposition  \n",
       "0          755.0              NaN  \n",
       "1            NaN             81.0  \n",
       "2          574.0            558.0  \n",
       "3          234.0            424.0  \n",
       "4           48.0            121.0  \n",
       "\n",
       "[5 rows x 22 columns]"
      ]
     },
     "metadata": {},
     "output_type": "display_data"
    },
    {
     "data": {
      "image/png": "[encoded data removed]",
      "text/plain": [
       "<Figure size 1080x1440 with 20 Axes>"
      ]
     },
     "metadata": {
      "needs_background": "light"
     },
     "output_type": "display_data"
    }
   ],
   "source": [
    "data = pd.read_csv('/datasets/real_estate_data.csv', sep='\\t')\n",
    "print(data.info())\n",
    "display(data.head())\n",
    "data.hist(figsize=(15, 20), bins = 40);"
   ]
  },
  {
   "cell_type": "markdown",
   "metadata": {},
   "source": [
    "### Предобработка данных"
   ]
  },
  {
   "cell_type": "code",
   "execution_count": 3,
   "metadata": {
    "scrolled": true
   },
   "outputs": [],
   "source": [
    "#Заполнение пропусков\n",
    "data[['balcony', 'parks_around3000', 'ponds_around3000']] = data[['balcony', 'parks_around3000', 'ponds_around3000']].fillna(0)\n",
    "\n"
   ]
  },
  {
   "cell_type": "markdown",
   "metadata": {},
   "source": [
    "<div class=\"alert alert-info\">\n",
    "<br> Причины пропуска данных:\n",
    "    \n",
    "1. Данные, добавляемые пользователями, могут быть неполными из-за незнания части предоставляемой информации, как то высота потолка, либо неочевидного формата заполнения формы, в случае со столбцом 'is_apartment'.\n",
    "2. Справочные данные могут быть неполными или неактуальными и не покрывать все районы, объекты строительства.\n",
    "</div>\n"
   ]
  },
  {
   "cell_type": "code",
   "execution_count": 4,
   "metadata": {},
   "outputs": [],
   "source": [
    "#Изменение типов данных\n",
    "data['is_apartment'] = data['is_apartment'].astype('bool')\n",
    "data['first_day_exposition'] = pd.to_datetime(data['first_day_exposition'])\n",
    "data[['last_price', 'balcony', 'parks_around3000', 'ponds_around3000']] = data[['last_price', 'balcony', 'parks_around3000', 'ponds_around3000']].astype('int')"
   ]
  },
  {
   "cell_type": "markdown",
   "metadata": {},
   "source": [
    "<div class=\"alert alert-info\">\n",
    "<br> Причины изменения типов данных:\n",
    "    \n",
    "1. В столбце 'is_apartment' внесены булевые значения, логично поменять тип столбца на bool.\n",
    "2. Столбец 'first_day_exposition' содержит дату, изменен на datetime.\n",
    "3. Столбцы 'last_price', 'balcony', 'parks_around3000', 'ponds_around3000' - подразумевают целые числа, поменял на int.\n",
    "\n",
    "</div>\n",
    "\n"
   ]
  },
  {
   "cell_type": "code",
   "execution_count": 5,
   "metadata": {},
   "outputs": [],
   "source": [
    "#Удаляем неявные дубликаты\n",
    "data['locality_name'] = data['locality_name'].str.replace('ё', 'е')\n",
    "data['locality_name'] = data['locality_name'].str.replace('поселок городского типа', 'поселок')\n",
    "data['locality_name'] = data['locality_name'].str.replace('городской поселок', 'поселок')"
   ]
  },
  {
   "cell_type": "markdown",
   "metadata": {},
   "source": [
    "<div class=\"alert alert-info\">\n",
    "<br>Удалил неявные дубликаты в столбце 'locality_name'.\n",
    "\n",
    "Поменял \"ё\" на \"е\"; 'поселок городского типа' на 'поселок'; 'городской поселок' на 'поселок'\n",
    "</div>\n",
    "\n"
   ]
  },
  {
   "cell_type": "code",
   "execution_count": 6,
   "metadata": {},
   "outputs": [
    {
     "name": "stdout",
     "output_type": "stream",
     "text": [
      "<class 'pandas.core.frame.DataFrame'>\n",
      "Int64Index: 20605 entries, 0 to 23698\n",
      "Data columns (total 22 columns):\n",
      " #   Column                Non-Null Count  Dtype         \n",
      "---  ------                --------------  -----         \n",
      " 0   total_images          20605 non-null  int64         \n",
      " 1   last_price            20605 non-null  int64         \n",
      " 2   total_area            20605 non-null  float64       \n",
      " 3   first_day_exposition  20605 non-null  datetime64[ns]\n",
      " 4   rooms                 20605 non-null  int64         \n",
      " 5   ceiling_height        20605 non-null  float64       \n",
      " 6   floors_total          20605 non-null  float64       \n",
      " 7   living_area           20605 non-null  float64       \n",
      " 8   floor                 20605 non-null  int64         \n",
      " 9   is_apartment          20605 non-null  bool          \n",
      " 10  studio                20605 non-null  bool          \n",
      " 11  open_plan             20605 non-null  bool          \n",
      " 12  kitchen_area          19839 non-null  float64       \n",
      " 13  balcony               20605 non-null  int64         \n",
      " 14  locality_name         20564 non-null  object        \n",
      " 15  airports_nearest      15771 non-null  float64       \n",
      " 16  cityCenters_nearest   15787 non-null  float64       \n",
      " 17  parks_around3000      20605 non-null  int64         \n",
      " 18  parks_nearest         6809 non-null   float64       \n",
      " 19  ponds_around3000      20605 non-null  int64         \n",
      " 20  ponds_nearest         7680 non-null   float64       \n",
      " 21  days_exposition       17911 non-null  float64       \n",
      "dtypes: bool(3), datetime64[ns](1), float64(10), int64(7), object(1)\n",
      "memory usage: 3.2+ MB\n",
      "None\n"
     ]
    }
   ],
   "source": [
    "#Выбивающиеся значения\n",
    "data.loc[data['ceiling_height'] > 20, 'ceiling_height'] = data.loc[data['ceiling_height'] > 20, 'ceiling_height'] / 10\n",
    "data.loc[data['ceiling_height'].isna(), 'ceiling_height'] = data['ceiling_height'].median()\n",
    "data = data[(data['balcony'] <= 4) & (data['ceiling_height'] <= 6) &(data['total_area'] < 150) & (data['floors_total'] <=30) & (data['last_price'] < 20000000) & (data['rooms'] <= 5) & (data['living_area'] <= 110)]\n",
    "print(data.info())"
   ]
  },
  {
   "cell_type": "markdown",
   "metadata": {},
   "source": [
    "<div class=\"alert alert-info\">\n",
    "<br>Удалил аномальные значения для 'balcony' - не более 4х, 'total_area' - не более 150 кв. м, 'floors_total' - не выше 30 этажа, 'last_price' - не дороже 20 млн. руб., 'rooms' не более 5, 'living_area' не больше 110 кв.м.\n",
    "</div>"
   ]
  },
  {
   "cell_type": "markdown",
   "metadata": {},
   "source": [
    "### Добавление в таблицу новых столбцов"
   ]
  },
  {
   "cell_type": "code",
   "execution_count": 7,
   "metadata": {},
   "outputs": [
    {
     "data": {
      "text/html": [
       "<div>\n",
       "<style scoped>\n",
       "    .dataframe tbody tr th:only-of-type {\n",
       "        vertical-align: middle;\n",
       "    }\n",
       "\n",
       "    .dataframe tbody tr th {\n",
       "        vertical-align: top;\n",
       "    }\n",
       "\n",
       "    .dataframe thead th {\n",
       "        text-align: right;\n",
       "    }\n",
       "</style>\n",
       "<table border=\"1\" class=\"dataframe\">\n",
       "  <thead>\n",
       "    <tr style=\"text-align: right;\">\n",
       "      <th></th>\n",
       "      <th>total_images</th>\n",
       "      <th>last_price</th>\n",
       "      <th>total_area</th>\n",
       "      <th>first_day_exposition</th>\n",
       "      <th>rooms</th>\n",
       "      <th>ceiling_height</th>\n",
       "      <th>floors_total</th>\n",
       "      <th>living_area</th>\n",
       "      <th>floor</th>\n",
       "      <th>is_apartment</th>\n",
       "      <th>...</th>\n",
       "      <th>parks_nearest</th>\n",
       "      <th>ponds_around3000</th>\n",
       "      <th>ponds_nearest</th>\n",
       "      <th>days_exposition</th>\n",
       "      <th>price_per_metr</th>\n",
       "      <th>weekday</th>\n",
       "      <th>month</th>\n",
       "      <th>year</th>\n",
       "      <th>floor_type</th>\n",
       "      <th>distance_to_center_km</th>\n",
       "    </tr>\n",
       "  </thead>\n",
       "  <tbody>\n",
       "    <tr>\n",
       "      <th>0</th>\n",
       "      <td>20</td>\n",
       "      <td>13000000</td>\n",
       "      <td>108.0</td>\n",
       "      <td>2019-03-07</td>\n",
       "      <td>3</td>\n",
       "      <td>2.70</td>\n",
       "      <td>16.0</td>\n",
       "      <td>51.0</td>\n",
       "      <td>8</td>\n",
       "      <td>True</td>\n",
       "      <td>...</td>\n",
       "      <td>482.0</td>\n",
       "      <td>2</td>\n",
       "      <td>755.0</td>\n",
       "      <td>NaN</td>\n",
       "      <td>120370</td>\n",
       "      <td>3</td>\n",
       "      <td>3</td>\n",
       "      <td>2019</td>\n",
       "      <td>другой</td>\n",
       "      <td>16.0</td>\n",
       "    </tr>\n",
       "    <tr>\n",
       "      <th>1</th>\n",
       "      <td>7</td>\n",
       "      <td>3350000</td>\n",
       "      <td>40.4</td>\n",
       "      <td>2018-12-04</td>\n",
       "      <td>1</td>\n",
       "      <td>2.65</td>\n",
       "      <td>11.0</td>\n",
       "      <td>18.6</td>\n",
       "      <td>1</td>\n",
       "      <td>True</td>\n",
       "      <td>...</td>\n",
       "      <td>NaN</td>\n",
       "      <td>0</td>\n",
       "      <td>NaN</td>\n",
       "      <td>81.0</td>\n",
       "      <td>82920</td>\n",
       "      <td>1</td>\n",
       "      <td>12</td>\n",
       "      <td>2018</td>\n",
       "      <td>первый</td>\n",
       "      <td>19.0</td>\n",
       "    </tr>\n",
       "    <tr>\n",
       "      <th>2</th>\n",
       "      <td>10</td>\n",
       "      <td>5196000</td>\n",
       "      <td>56.0</td>\n",
       "      <td>2015-08-20</td>\n",
       "      <td>2</td>\n",
       "      <td>2.65</td>\n",
       "      <td>5.0</td>\n",
       "      <td>34.3</td>\n",
       "      <td>4</td>\n",
       "      <td>True</td>\n",
       "      <td>...</td>\n",
       "      <td>90.0</td>\n",
       "      <td>2</td>\n",
       "      <td>574.0</td>\n",
       "      <td>558.0</td>\n",
       "      <td>92785</td>\n",
       "      <td>3</td>\n",
       "      <td>8</td>\n",
       "      <td>2015</td>\n",
       "      <td>другой</td>\n",
       "      <td>14.0</td>\n",
       "    </tr>\n",
       "    <tr>\n",
       "      <th>4</th>\n",
       "      <td>2</td>\n",
       "      <td>10000000</td>\n",
       "      <td>100.0</td>\n",
       "      <td>2018-06-19</td>\n",
       "      <td>2</td>\n",
       "      <td>3.03</td>\n",
       "      <td>14.0</td>\n",
       "      <td>32.0</td>\n",
       "      <td>13</td>\n",
       "      <td>True</td>\n",
       "      <td>...</td>\n",
       "      <td>112.0</td>\n",
       "      <td>1</td>\n",
       "      <td>48.0</td>\n",
       "      <td>121.0</td>\n",
       "      <td>100000</td>\n",
       "      <td>1</td>\n",
       "      <td>6</td>\n",
       "      <td>2018</td>\n",
       "      <td>другой</td>\n",
       "      <td>8.0</td>\n",
       "    </tr>\n",
       "    <tr>\n",
       "      <th>5</th>\n",
       "      <td>10</td>\n",
       "      <td>2890000</td>\n",
       "      <td>30.4</td>\n",
       "      <td>2018-09-10</td>\n",
       "      <td>1</td>\n",
       "      <td>2.65</td>\n",
       "      <td>12.0</td>\n",
       "      <td>14.4</td>\n",
       "      <td>5</td>\n",
       "      <td>True</td>\n",
       "      <td>...</td>\n",
       "      <td>NaN</td>\n",
       "      <td>0</td>\n",
       "      <td>NaN</td>\n",
       "      <td>55.0</td>\n",
       "      <td>95065</td>\n",
       "      <td>0</td>\n",
       "      <td>9</td>\n",
       "      <td>2018</td>\n",
       "      <td>другой</td>\n",
       "      <td>NaN</td>\n",
       "    </tr>\n",
       "  </tbody>\n",
       "</table>\n",
       "<p>5 rows × 28 columns</p>\n",
       "</div>"
      ],
      "text/plain": [
       "   total_images  last_price  total_area first_day_exposition  rooms  \\\n",
       "0            20    13000000       108.0           2019-03-07      3   \n",
       "1             7     3350000        40.4           2018-12-04      1   \n",
       "2            10     5196000        56.0           2015-08-20      2   \n",
       "4             2    10000000       100.0           2018-06-19      2   \n",
       "5            10     2890000        30.4           2018-09-10      1   \n",
       "\n",
       "   ceiling_height  floors_total  living_area  floor  is_apartment  ...  \\\n",
       "0            2.70          16.0         51.0      8          True  ...   \n",
       "1            2.65          11.0         18.6      1          True  ...   \n",
       "2            2.65           5.0         34.3      4          True  ...   \n",
       "4            3.03          14.0         32.0     13          True  ...   \n",
       "5            2.65          12.0         14.4      5          True  ...   \n",
       "\n",
       "   parks_nearest  ponds_around3000  ponds_nearest  days_exposition  \\\n",
       "0          482.0                 2          755.0              NaN   \n",
       "1            NaN                 0            NaN             81.0   \n",
       "2           90.0                 2          574.0            558.0   \n",
       "4          112.0                 1           48.0            121.0   \n",
       "5            NaN                 0            NaN             55.0   \n",
       "\n",
       "  price_per_metr  weekday  month  year  floor_type  distance_to_center_km  \n",
       "0         120370        3      3  2019      другой                   16.0  \n",
       "1          82920        1     12  2018      первый                   19.0  \n",
       "2          92785        3      8  2015      другой                   14.0  \n",
       "4         100000        1      6  2018      другой                    8.0  \n",
       "5          95065        0      9  2018      другой                    NaN  \n",
       "\n",
       "[5 rows x 28 columns]"
      ]
     },
     "metadata": {},
     "output_type": "display_data"
    }
   ],
   "source": [
    "data['price_per_metr'] = data['last_price'] / data['total_area']\n",
    "data['price_per_metr'] = data['price_per_metr'].astype('int')\n",
    "data['weekday'] = data['first_day_exposition'].dt.weekday\n",
    "data['month'] = data['first_day_exposition'].dt.month\n",
    "data['year'] = data['first_day_exposition'].dt.year\n",
    "data['floor_type'] = (\n",
    "    data['floor']\n",
    "    .where(data['floor'] != 1, 'первый')\n",
    "    .where(data['floor'] != data['floors_total'], 'последний')\n",
    "    .where((data['floor'] == 1) | (data['floor'] == data['floors_total']), 'другой')\n",
    "    )\n",
    "data['distance_to_center_km'] = round(data['cityCenters_nearest'] / 1000)\n",
    "display(data.head())\n"
   ]
  },
  {
   "cell_type": "markdown",
   "metadata": {},
   "source": [
    "### Проведение исследовательского анализа данных"
   ]
  },
  {
   "cell_type": "code",
   "execution_count": 8,
   "metadata": {},
   "outputs": [
    {
     "data": {
      "text/plain": [
       "array([[<AxesSubplot:title={'center':'total_area'}>]], dtype=object)"
      ]
     },
     "execution_count": 8,
     "metadata": {},
     "output_type": "execute_result"
    },
    {
     "data": {
      "image/png": "[encoded data removed]",
      "text/plain": [
       "<Figure size 360x360 with 1 Axes>"
      ]
     },
     "metadata": {
      "needs_background": "light"
     },
     "output_type": "display_data"
    }
   ],
   "source": [
    "#Изучение параметров объектов и построение гистрограмм\n",
    "data.hist(column='total_area',bins=30, figsize=(5,5))\n"
   ]
  },
  {
   "cell_type": "markdown",
   "metadata": {},
   "source": [
    "<div class=\"alert alert-info\">\n",
    "<br>Наибольший объем объявлений приходится на квартиры площадью от 30 до 60 кв.м.\n",
    "</div>"
   ]
  },
  {
   "cell_type": "code",
   "execution_count": 9,
   "metadata": {},
   "outputs": [
    {
     "data": {
      "text/plain": [
       "array([[<AxesSubplot:title={'center':'living_area'}>]], dtype=object)"
      ]
     },
     "execution_count": 9,
     "metadata": {},
     "output_type": "execute_result"
    },
    {
     "data": {
      "image/png": "[encoded data removed]",
      "text/plain": [
       "<Figure size 360x360 with 1 Axes>"
      ]
     },
     "metadata": {
      "needs_background": "light"
     },
     "output_type": "display_data"
    }
   ],
   "source": [
    "data.hist(column='living_area', bins=30, figsize=(5,5))"
   ]
  },
  {
   "cell_type": "markdown",
   "metadata": {},
   "source": [
    "<div class=\"alert alert-info\">\n",
    "<br>Объявления типовых квартир с жилой площадью 16-20 кв.м. и 25-30 кв.м. - в ТОПах.\n",
    "<br>Квартир с жилплощадью более 90 метров - единыцы.\n",
    "</div>"
   ]
  },
  {
   "cell_type": "code",
   "execution_count": 10,
   "metadata": {},
   "outputs": [
    {
     "name": "stdout",
     "output_type": "stream",
     "text": [
      "667\n"
     ]
    },
    {
     "data": {
      "image/png": "[encoded data removed]",
      "text/plain": [
       "<Figure size 360x360 with 1 Axes>"
      ]
     },
     "metadata": {
      "needs_background": "light"
     },
     "output_type": "display_data"
    }
   ],
   "source": [
    "data.hist(column='kitchen_area',bins=30, figsize=(5,5), range=(0,50))\n",
    "print(len(data[data['kitchen_area'] >= 20]['kitchen_area']))"
   ]
  },
  {
   "cell_type": "markdown",
   "metadata": {},
   "source": [
    "Самая распространенная площадь кухни - 6 кв.м. - 1268 объявлений.\n",
    "Что в 2 раза больше, чем объявлений с площадью кухни более 20 кв.м.\n",
    "<div class=\"alert alert-info\">\n",
    "<br>Самая распространенная площадь кухни - 6 кв.м. - 1268 объявлений.\n",
    "<br>Что почти в 2 раза больше, чем объявлений с площадью кухни более 20 кв.м. - 667 шт.\n",
    "</div>"
   ]
  },
  {
   "cell_type": "code",
   "execution_count": 11,
   "metadata": {},
   "outputs": [
    {
     "data": {
      "text/plain": [
       "<AxesSubplot:>"
      ]
     },
     "execution_count": 11,
     "metadata": {},
     "output_type": "execute_result"
    },
    {
     "data": {
      "image/png": "[encoded data removed]",
      "text/plain": [
       "<Figure size 360x360 with 1 Axes>"
      ]
     },
     "metadata": {
      "needs_background": "light"
     },
     "output_type": "display_data"
    }
   ],
   "source": [
    "(data['last_price'] / 1000000).hist(bins=30, figsize=(5,5))"
   ]
  },
  {
   "cell_type": "markdown",
   "metadata": {},
   "source": [
    "<div class=\"alert alert-info\">\n",
    "<br>Самая популярная ценовая категория - 2.5-6 млн. руб. \n",
    "<br>Варианты дороже 10 млн. руб. тоже присутствуют в выборке, но их количество на порядок меньше.\n",
    "</div>"
   ]
  },
  {
   "cell_type": "code",
   "execution_count": 12,
   "metadata": {},
   "outputs": [
    {
     "data": {
      "text/plain": [
       "array([[<AxesSubplot:title={'center':'rooms'}>]], dtype=object)"
      ]
     },
     "execution_count": 12,
     "metadata": {},
     "output_type": "execute_result"
    },
    {
     "data": {
      "image/png": "[encoded data removed]",
      "text/plain": [
       "<Figure size 360x360 with 1 Axes>"
      ]
     },
     "metadata": {
      "needs_background": "light"
     },
     "output_type": "display_data"
    }
   ],
   "source": [
    "data.hist(column='rooms', bins=30, figsize=(5,5))\n",
    "#print(data[data['rooms'] == 2]['rooms'].count())"
   ]
  },
  {
   "cell_type": "markdown",
   "metadata": {},
   "source": [
    "<div class=\"alert alert-info\">\n",
    "<br>Квартиры-студии в явном меньшинстве наряду с пятикомнатными.\n",
    "<br>Однушки с явным отрывом в 7327 объявлений лидируют в датасете.\n",
    "<br>Двушки - на втором месте с показателем 7122 объекта.   \n",
    "</div>"
   ]
  },
  {
   "cell_type": "code",
   "execution_count": 13,
   "metadata": {},
   "outputs": [
    {
     "data": {
      "text/plain": [
       "array([[<AxesSubplot:title={'center':'ceiling_height'}>]], dtype=object)"
      ]
     },
     "execution_count": 13,
     "metadata": {},
     "output_type": "execute_result"
    },
    {
     "data": {
      "image/png": "[encoded data removed]",
      "text/plain": [
       "<Figure size 360x360 with 1 Axes>"
      ]
     },
     "metadata": {
      "needs_background": "light"
     },
     "output_type": "display_data"
    }
   ],
   "source": [
    "data.hist(column='ceiling_height', bins=30, figsize=(5,5), range=(2,4.5))"
   ]
  },
  {
   "cell_type": "markdown",
   "metadata": {},
   "source": [
    "<div class=\"alert alert-info\">\n",
    "<br>Типовое значение высоты потолков в российских домах - в диапазоне 2.5 - 2.7 м.\n",
    "<br>Таких почти 15 тысяч. \n",
    "</div>"
   ]
  },
  {
   "cell_type": "code",
   "execution_count": 14,
   "metadata": {},
   "outputs": [
    {
     "data": {
      "text/plain": [
       "array([[<AxesSubplot:title={'center':'floor'}>]], dtype=object)"
      ]
     },
     "execution_count": 14,
     "metadata": {},
     "output_type": "execute_result"
    },
    {
     "data": {
      "image/png": "[encoded data removed]",
      "text/plain": [
       "<Figure size 360x360 with 1 Axes>"
      ]
     },
     "metadata": {
      "needs_background": "light"
     },
     "output_type": "display_data"
    }
   ],
   "source": [
    "data.hist(column='floor', bins=30, figsize=(5,5))\n",
    "plt.show()"
   ]
  },
  {
   "cell_type": "markdown",
   "metadata": {},
   "source": [
    "<div class=\"alert alert-info\">\n",
    "<br>Большинство квартир находятся на 1-5 этажах. Самые популярные - второй и третий этажи.\n",
    "</div>"
   ]
  },
  {
   "cell_type": "code",
   "execution_count": 15,
   "metadata": {},
   "outputs": [
    {
     "data": {
      "text/plain": [
       "<AxesSubplot:>"
      ]
     },
     "execution_count": 15,
     "metadata": {},
     "output_type": "execute_result"
    },
    {
     "data": {
      "image/png": "[encoded data removed]",
      "text/plain": [
       "<Figure size 360x360 with 1 Axes>"
      ]
     },
     "metadata": {
      "needs_background": "light"
     },
     "output_type": "display_data"
    }
   ],
   "source": [
    "data['floor_type'].hist(bins=30, figsize=(5,5))"
   ]
  },
  {
   "cell_type": "markdown",
   "metadata": {},
   "source": [
    "<div class=\"alert alert-info\">\n",
    "<br>Большинство квартир находятся не на крайних этажах, 15К подобных объявлений.\n",
    "<br>Первый этаж и последний распределились примерно поровну, 2.5 - 3К объявлений соответственно.\n",
    "</div>"
   ]
  },
  {
   "cell_type": "code",
   "execution_count": 16,
   "metadata": {},
   "outputs": [
    {
     "data": {
      "text/plain": [
       "array([[<AxesSubplot:title={'center':'floors_total'}>]], dtype=object)"
      ]
     },
     "execution_count": 16,
     "metadata": {},
     "output_type": "execute_result"
    },
    {
     "data": {
      "image/png": "[encoded data removed]",
      "text/plain": [
       "<Figure size 360x360 with 1 Axes>"
      ]
     },
     "metadata": {
      "needs_background": "light"
     },
     "output_type": "display_data"
    }
   ],
   "source": [
    "data.hist(column='floors_total',bins=30, figsize=(5,5))\n"
   ]
  },
  {
   "cell_type": "markdown",
   "metadata": {},
   "source": [
    "<div class=\"alert alert-info\">\n",
    "<br>Пяти- и девятиэтажки самые распространенные, порядка 5100 и 3500 объявлений соответственно.\n",
    "</div>"
   ]
  },
  {
   "cell_type": "code",
   "execution_count": 17,
   "metadata": {},
   "outputs": [
    {
     "data": {
      "text/plain": [
       "array([[<AxesSubplot:title={'center':'cityCenters_nearest'}>]],\n",
       "      dtype=object)"
      ]
     },
     "execution_count": 17,
     "metadata": {},
     "output_type": "execute_result"
    },
    {
     "data": {
      "image/png": "[encoded data removed]",
      "text/plain": [
       "<Figure size 360x360 with 1 Axes>"
      ]
     },
     "metadata": {
      "needs_background": "light"
     },
     "output_type": "display_data"
    }
   ],
   "source": [
    "data.hist(column='cityCenters_nearest',bins=30, figsize=(5,5))"
   ]
  },
  {
   "cell_type": "markdown",
   "metadata": {},
   "source": [
    "<div class=\"alert alert-info\">\n",
    "<br>Большинство квартир находится на удалении 10-18 км от центра. \n",
    "</div>"
   ]
  },
  {
   "cell_type": "code",
   "execution_count": 18,
   "metadata": {},
   "outputs": [
    {
     "data": {
      "text/plain": [
       "array([[<AxesSubplot:title={'center':'airports_nearest'}>]], dtype=object)"
      ]
     },
     "execution_count": 18,
     "metadata": {},
     "output_type": "execute_result"
    },
    {
     "data": {
      "image/png": "[encoded data removed]",
      "text/plain": [
       "<Figure size 360x360 with 1 Axes>"
      ]
     },
     "metadata": {
      "needs_background": "light"
     },
     "output_type": "display_data"
    }
   ],
   "source": [
    "data.hist(column='airports_nearest', bins=30, figsize=(5,5))"
   ]
  },
  {
   "cell_type": "markdown",
   "metadata": {},
   "source": [
    "<div class=\"alert alert-info\">\n",
    "<br>12 - 24 км , а также 34 - 36 км до аэропорта - самые популярные значения расстояний до аэропорта.  \n",
    "<br>Однако есть и те, кто живут совсем близко к аэропорту, на удалении 6-10 км.    \n",
    "</div>"
   ]
  },
  {
   "cell_type": "code",
   "execution_count": 19,
   "metadata": {},
   "outputs": [
    {
     "data": {
      "text/plain": [
       "array([[<AxesSubplot:title={'center':'parks_nearest'}>]], dtype=object)"
      ]
     },
     "execution_count": 19,
     "metadata": {},
     "output_type": "execute_result"
    },
    {
     "data": {
      "image/png": "[encoded data removed]",
      "text/plain": [
       "<Figure size 360x360 with 1 Axes>"
      ]
     },
     "metadata": {
      "needs_background": "light"
     },
     "output_type": "display_data"
    }
   ],
   "source": [
    "data.hist(column='parks_nearest', bins=30, figsize=(5,5))\n"
   ]
  },
  {
   "cell_type": "markdown",
   "metadata": {},
   "source": [
    "<div class=\"alert alert-info\">\n",
    "<br>В радиусе 500 метров есть хотя бы один парк - и это самое популярное значение. \n",
    "<br>3937 квартир в пешей доступности от парка (до 500 м).  \n",
    "</div>"
   ]
  },
  {
   "cell_type": "code",
   "execution_count": 20,
   "metadata": {},
   "outputs": [
    {
     "data": {
      "text/plain": [
       "array([[<AxesSubplot:title={'center':'weekday'}>]], dtype=object)"
      ]
     },
     "execution_count": 20,
     "metadata": {},
     "output_type": "execute_result"
    },
    {
     "data": {
      "image/png": "[encoded data removed]",
      "text/plain": [
       "<Figure size 360x360 with 1 Axes>"
      ]
     },
     "metadata": {
      "needs_background": "light"
     },
     "output_type": "display_data"
    }
   ],
   "source": [
    "data.hist(column='weekday', bins=30, figsize=(5,5))"
   ]
  },
  {
   "cell_type": "markdown",
   "metadata": {},
   "source": [
    "<div class=\"alert alert-info\">\n",
    "<br>Повышенная активность к размещению объявлений приходится на вторник и четверг.\n",
    "<br>В выходные активность падает в 2 раза.\n",
    "</div>"
   ]
  },
  {
   "cell_type": "code",
   "execution_count": 21,
   "metadata": {},
   "outputs": [
    {
     "data": {
      "text/plain": [
       "array([[<AxesSubplot:title={'center':'month'}>]], dtype=object)"
      ]
     },
     "execution_count": 21,
     "metadata": {},
     "output_type": "execute_result"
    },
    {
     "data": {
      "image/png": "[encoded data removed]",
      "text/plain": [
       "<Figure size 360x360 with 1 Axes>"
      ]
     },
     "metadata": {
      "needs_background": "light"
     },
     "output_type": "display_data"
    }
   ],
   "source": [
    "data.hist(column='month', bins=30, figsize=(5,5))"
   ]
  },
  {
   "cell_type": "markdown",
   "metadata": {},
   "source": [
    "<div class=\"alert alert-info\">\n",
    "<br>Помесячная активность: с февраля по апрель и с сентября по ноябрь по нарастающей. \n",
    "</div>"
   ]
  },
  {
   "cell_type": "code",
   "execution_count": 22,
   "metadata": {},
   "outputs": [
    {
     "data": {
      "text/plain": [
       "array([[<AxesSubplot:title={'center':'year'}>]], dtype=object)"
      ]
     },
     "execution_count": 22,
     "metadata": {},
     "output_type": "execute_result"
    },
    {
     "data": {
      "image/png": "[encoded data removed]",
      "text/plain": [
       "<Figure size 360x360 with 1 Axes>"
      ]
     },
     "metadata": {
      "needs_background": "light"
     },
     "output_type": "display_data"
    }
   ],
   "source": [
    "data.hist(column='year', bins=30, figsize=(5,5))"
   ]
  },
  {
   "cell_type": "code",
   "execution_count": 23,
   "metadata": {},
   "outputs": [
    {
     "name": "stdout",
     "output_type": "stream",
     "text": [
      "count    17911.000000\n",
      "mean       181.083301\n",
      "std        217.588541\n",
      "min          1.000000\n",
      "25%         44.000000\n",
      "50%         98.000000\n",
      "75%        232.000000\n",
      "max       1580.000000\n",
      "Name: days_exposition, dtype: float64\n"
     ]
    },
    {
     "data": {
      "image/png": "[encoded data removed]",
      "text/plain": [
       "<Figure size 720x720 with 1 Axes>"
      ]
     },
     "metadata": {
      "needs_background": "light"
     },
     "output_type": "display_data"
    }
   ],
   "source": [
    "#Изучение данных по продолжительности продажи квартир\n",
    "data['days_exposition'].hist(figsize=(10,10), bins=30)\n",
    "print(data['days_exposition'].describe())\n"
   ]
  },
  {
   "cell_type": "markdown",
   "metadata": {},
   "source": [
    "    В среднем длительность продажи квартиры состаявляет 181 день, медианное значение - 98 дней.\n",
    "    Быстрыми продажами можно назвать те, которые закрылись за 50 дней.\n",
    "    Нормальные - до 200 дней.\n",
    "    От 200 до 800 - долгие.\n",
    "    Необычайно долгими - те, что висят более 800 дней."
   ]
  },
  {
   "cell_type": "code",
   "execution_count": 24,
   "metadata": {},
   "outputs": [
    {
     "data": {
      "text/plain": [
       "<AxesSubplot:>"
      ]
     },
     "execution_count": 24,
     "metadata": {},
     "output_type": "execute_result"
    },
    {
     "data": {
      "image/png": "[encoded data removed]",
      "text/plain": [
       "<Figure size 720x720 with 1 Axes>"
      ]
     },
     "metadata": {
      "needs_background": "light"
     },
     "output_type": "display_data"
    }
   ],
   "source": [
    "#факультативное исследование диапазона 0-100 дней.\n",
    "data[data['days_exposition'] <= 100]['days_exposition'].hist(figsize=(10,10), bins=30)"
   ]
  },
  {
   "cell_type": "code",
   "execution_count": 25,
   "metadata": {},
   "outputs": [
    {
     "name": "stdout",
     "output_type": "stream",
     "text": [
      "last_price             1.000000\n",
      "total_area             0.762254\n",
      "living_area            0.634453\n",
      "kitchen_area           0.561006\n",
      "rooms                  0.479576\n",
      "weekday               -0.016279\n",
      "month                  0.002991\n",
      "year                  -0.018218\n",
      "cityCenters_nearest   -0.357957\n",
      "Name: last_price, dtype: float64\n"
     ]
    }
   ],
   "source": [
    "#Факторы, влияющие на стоимость объекта\n",
    "data_pivot = data[['last_price', 'total_area', 'living_area', 'kitchen_area', 'rooms', 'floor_type', 'weekday', 'month', 'year', 'cityCenters_nearest']]\n",
    "print(data_pivot.corr()['last_price'])\n"
   ]
  },
  {
   "cell_type": "code",
   "execution_count": 26,
   "metadata": {
    "scrolled": true
   },
   "outputs": [
    {
     "data": {
      "text/plain": [
       "<AxesSubplot:xlabel='total_area', ylabel='last_price'>"
      ]
     },
     "execution_count": 26,
     "metadata": {},
     "output_type": "execute_result"
    },
    {
     "data": {
      "image/png": "[encoded data removed]",
      "text/plain": [
       "<Figure size 432x288 with 1 Axes>"
      ]
     },
     "metadata": {
      "needs_background": "light"
     },
     "output_type": "display_data"
    }
   ],
   "source": [
    "data_pivot.plot(x='total_area', y='last_price', kind='scatter', alpha=0.3)"
   ]
  },
  {
   "cell_type": "code",
   "execution_count": 27,
   "metadata": {},
   "outputs": [
    {
     "data": {
      "text/plain": [
       "<AxesSubplot:xlabel='living_area', ylabel='last_price'>"
      ]
     },
     "execution_count": 27,
     "metadata": {},
     "output_type": "execute_result"
    },
    {
     "data": {
      "image/png": "[encoded data removed]",
      "text/plain": [
       "<Figure size 432x288 with 1 Axes>"
      ]
     },
     "metadata": {
      "needs_background": "light"
     },
     "output_type": "display_data"
    }
   ],
   "source": [
    "data_pivot.plot(x='living_area', y='last_price', kind='scatter', alpha=0.3)"
   ]
  },
  {
   "cell_type": "code",
   "execution_count": 28,
   "metadata": {},
   "outputs": [
    {
     "data": {
      "text/plain": [
       "<AxesSubplot:xlabel='kitchen_area', ylabel='last_price'>"
      ]
     },
     "execution_count": 28,
     "metadata": {},
     "output_type": "execute_result"
    },
    {
     "data": {
      "image/png": "[encoded data removed]",
      "text/plain": [
       "<Figure size 432x288 with 1 Axes>"
      ]
     },
     "metadata": {
      "needs_background": "light"
     },
     "output_type": "display_data"
    }
   ],
   "source": [
    "data_pivot.plot(x='kitchen_area', y='last_price', kind='scatter', alpha=0.3)"
   ]
  },
  {
   "cell_type": "code",
   "execution_count": 29,
   "metadata": {},
   "outputs": [
    {
     "data": {
      "text/plain": [
       "<AxesSubplot:xlabel='rooms'>"
      ]
     },
     "execution_count": 29,
     "metadata": {},
     "output_type": "execute_result"
    },
    {
     "data": {
      "image/png": "[encoded data removed]",
      "text/plain": [
       "<Figure size 504x504 with 1 Axes>"
      ]
     },
     "metadata": {
      "needs_background": "light"
     },
     "output_type": "display_data"
    }
   ],
   "source": [
    "(data_pivot\n",
    " .pivot_table(index='rooms', values='last_price', aggfunc='median')\n",
    " .plot.bar(y='last_price', figsize=(7,7))\n",
    ")"
   ]
  },
  {
   "cell_type": "code",
   "execution_count": 30,
   "metadata": {},
   "outputs": [
    {
     "name": "stdout",
     "output_type": "stream",
     "text": [
      "            last_price\n",
      "floor_type            \n",
      "другой         4700000\n",
      "первый         3900000\n",
      "последний      4190000\n"
     ]
    },
    {
     "data": {
      "image/png": "[encoded data removed]",
      "text/plain": [
       "<Figure size 504x504 with 1 Axes>"
      ]
     },
     "metadata": {
      "needs_background": "light"
     },
     "output_type": "display_data"
    }
   ],
   "source": [
    "(data_pivot\n",
    " .pivot_table(index='floor_type', values='last_price', aggfunc='median')\n",
    " .plot.bar(y='last_price', figsize=(7,7))\n",
    ")\n",
    "print(data_pivot.pivot_table(index='floor_type', values='last_price', aggfunc='median'))"
   ]
  },
  {
   "cell_type": "code",
   "execution_count": 31,
   "metadata": {},
   "outputs": [
    {
     "data": {
      "text/plain": [
       "<AxesSubplot:xlabel='month'>"
      ]
     },
     "execution_count": 31,
     "metadata": {},
     "output_type": "execute_result"
    },
    {
     "data": {
      "image/png": "[encoded data removed]",
      "text/plain": [
       "<Figure size 504x504 with 1 Axes>"
      ]
     },
     "metadata": {
      "needs_background": "light"
     },
     "output_type": "display_data"
    }
   ],
   "source": [
    "(data_pivot\n",
    " .pivot_table(index='month', values='last_price', aggfunc='median')\n",
    " .plot(figsize=(7,7))\n",
    ")"
   ]
  },
  {
   "cell_type": "code",
   "execution_count": 32,
   "metadata": {},
   "outputs": [
    {
     "data": {
      "text/plain": [
       "<AxesSubplot:xlabel='weekday'>"
      ]
     },
     "execution_count": 32,
     "metadata": {},
     "output_type": "execute_result"
    },
    {
     "data": {
      "image/png": "[encoded data removed]",
      "text/plain": [
       "<Figure size 504x504 with 1 Axes>"
      ]
     },
     "metadata": {
      "needs_background": "light"
     },
     "output_type": "display_data"
    }
   ],
   "source": [
    "(data_pivot\n",
    " .pivot_table(index='weekday', values='last_price', aggfunc='median')\n",
    " .plot(figsize=(7,7))\n",
    ")"
   ]
  },
  {
   "cell_type": "code",
   "execution_count": 33,
   "metadata": {},
   "outputs": [
    {
     "name": "stdout",
     "output_type": "stream",
     "text": [
      "      last_price\n",
      "year            \n",
      "2014     6295000\n",
      "2015     5050000\n",
      "2016     4368750\n",
      "2017     4375000\n",
      "2018     4500000\n",
      "2019     4950000\n"
     ]
    },
    {
     "data": {
      "image/png": "[encoded data removed]",
      "text/plain": [
       "<Figure size 504x504 with 1 Axes>"
      ]
     },
     "metadata": {
      "needs_background": "light"
     },
     "output_type": "display_data"
    }
   ],
   "source": [
    "(data_pivot\n",
    " .pivot_table(index='year', values='last_price', aggfunc='median')\n",
    " .plot(figsize=(7,7))\n",
    ")\n",
    "print(data_pivot.pivot_table(index='year', values='last_price', aggfunc='median'))"
   ]
  },
  {
   "cell_type": "code",
   "execution_count": 34,
   "metadata": {},
   "outputs": [
    {
     "data": {
      "text/plain": [
       "<AxesSubplot:xlabel='cityCenters_nearest', ylabel='last_price'>"
      ]
     },
     "execution_count": 34,
     "metadata": {},
     "output_type": "execute_result"
    },
    {
     "data": {
      "image/png": "[encoded data removed]",
      "text/plain": [
       "<Figure size 432x288 with 1 Axes>"
      ]
     },
     "metadata": {
      "needs_background": "light"
     },
     "output_type": "display_data"
    }
   ],
   "source": [
    "data_pivot.plot(x='cityCenters_nearest', y='last_price', kind='scatter', alpha=0.3)"
   ]
  },
  {
   "cell_type": "markdown",
   "metadata": {},
   "source": [
    "<div class=\"alert alert-info\">\n",
    "<br>Согласно получившися графикам и матрице корреляции вывод следующий:\n",
    "<br>Цена сильнее всего зависит от метража квартиры и, как следствие, количества комнат.\n",
    "<br>Не столь сильная, но все же зависимость есть для дня недели и месяца размещения объявления: пик цены приходится на апрель и вторую половину ноября, дно - в июне.\n",
    "<br>Также хочу отметить, что этаж тоже влияет на ценообразование: квартиры на первых этажах ощутимо дешевле конкурентов.\n",
    "<br>Год от года квартиры дорожают, падение стоимости в первые два года можно связать с нерепрезентативной выборкой.\n",
    "    С 2016 по 2019 год медианная цена выросла на 15%.\n",
    "</div>\n"
   ]
  },
  {
   "cell_type": "code",
   "execution_count": 35,
   "metadata": {},
   "outputs": [
    {
     "data": {
      "text/html": [
       "<div>\n",
       "<style scoped>\n",
       "    .dataframe tbody tr th:only-of-type {\n",
       "        vertical-align: middle;\n",
       "    }\n",
       "\n",
       "    .dataframe tbody tr th {\n",
       "        vertical-align: top;\n",
       "    }\n",
       "\n",
       "    .dataframe thead th {\n",
       "        text-align: right;\n",
       "    }\n",
       "</style>\n",
       "<table border=\"1\" class=\"dataframe\">\n",
       "  <thead>\n",
       "    <tr style=\"text-align: right;\">\n",
       "      <th></th>\n",
       "      <th>count</th>\n",
       "      <th>mean</th>\n",
       "    </tr>\n",
       "    <tr>\n",
       "      <th>locality_name</th>\n",
       "      <th></th>\n",
       "      <th></th>\n",
       "    </tr>\n",
       "  </thead>\n",
       "  <tbody>\n",
       "    <tr>\n",
       "      <th>Санкт-Петербург</th>\n",
       "      <td>13521</td>\n",
       "      <td>108482</td>\n",
       "    </tr>\n",
       "    <tr>\n",
       "      <th>Пушкин</th>\n",
       "      <td>332</td>\n",
       "      <td>102378</td>\n",
       "    </tr>\n",
       "    <tr>\n",
       "      <th>деревня Кудрово</th>\n",
       "      <td>258</td>\n",
       "      <td>93020</td>\n",
       "    </tr>\n",
       "    <tr>\n",
       "      <th>поселок Парголово</th>\n",
       "      <td>301</td>\n",
       "      <td>90442</td>\n",
       "    </tr>\n",
       "    <tr>\n",
       "      <th>поселок Мурино</th>\n",
       "      <td>484</td>\n",
       "      <td>86319</td>\n",
       "    </tr>\n",
       "    <tr>\n",
       "      <th>Петергоф</th>\n",
       "      <td>193</td>\n",
       "      <td>83898</td>\n",
       "    </tr>\n",
       "    <tr>\n",
       "      <th>поселок Шушары</th>\n",
       "      <td>399</td>\n",
       "      <td>78917</td>\n",
       "    </tr>\n",
       "    <tr>\n",
       "      <th>Колпино</th>\n",
       "      <td>320</td>\n",
       "      <td>75146</td>\n",
       "    </tr>\n",
       "    <tr>\n",
       "      <th>Гатчина</th>\n",
       "      <td>287</td>\n",
       "      <td>68548</td>\n",
       "    </tr>\n",
       "    <tr>\n",
       "      <th>Всеволожск</th>\n",
       "      <td>363</td>\n",
       "      <td>67331</td>\n",
       "    </tr>\n",
       "  </tbody>\n",
       "</table>\n",
       "</div>"
      ],
      "text/plain": [
       "                   count    mean\n",
       "locality_name                   \n",
       "Санкт-Петербург    13521  108482\n",
       "Пушкин               332  102378\n",
       "деревня Кудрово      258   93020\n",
       "поселок Парголово    301   90442\n",
       "поселок Мурино       484   86319\n",
       "Петергоф             193   83898\n",
       "поселок Шушары       399   78917\n",
       "Колпино              320   75146\n",
       "Гатчина              287   68548\n",
       "Всеволожск           363   67331"
      ]
     },
     "metadata": {},
     "output_type": "display_data"
    }
   ],
   "source": [
    "#Средняя цена кв.м. ТОП-10\n",
    "price_pivot = (\n",
    "    data\n",
    "    .pivot_table(index='locality_name', values='price_per_metr', aggfunc=('count', 'mean'))\n",
    "    .astype('int')\n",
    "    .sort_values('count', ascending=False)\n",
    "    .head(10)\n",
    "    .sort_values('mean', ascending=False)\n",
    ")\n",
    "display(price_pivot)"
   ]
  },
  {
   "cell_type": "markdown",
   "metadata": {},
   "source": [
    "<div class=\"alert alert-info\"><br>Для 10 самых популярных населенных пунктов расклад следующий:\n",
    "<br>Наибольшее количество объявлений в Санкт-Петербурге - 13525 шт. \n",
    "<br>Здесь же и самая высокая средняя цена кв. м. - 108482 руб.\n",
    "<br>Наименьшая стоимость кв. м. отмечена во Всеволожске - 67331 руб.\n",
    "</div>       "
   ]
  },
  {
   "cell_type": "code",
   "execution_count": 36,
   "metadata": {},
   "outputs": [
    {
     "name": "stdout",
     "output_type": "stream",
     "text": [
      "853649\n",
      "-0.6083666610240106\n"
     ]
    },
    {
     "data": {
      "image/png": "[encoded data removed]",
      "text/plain": [
       "<Figure size 432x288 with 1 Axes>"
      ]
     },
     "metadata": {
      "needs_background": "light"
     },
     "output_type": "display_data"
    }
   ],
   "source": [
    "#Вычисление средней цены километра от центра\n",
    "data_spb = data[data['locality_name'] == 'Санкт-Петербург']\n",
    "data_spb = (\n",
    "    data_spb\n",
    "    .dropna(subset=['distance_to_center_km'])\n",
    ")\n",
    "\n",
    "data_spb = data_spb[data_spb['distance_to_center_km'] > 0]\n",
    "data_spb['price_per_km'] = round(data_spb['last_price'] / data_spb['distance_to_center_km'])\n",
    "\n",
    "print(data_spb['price_per_km'].mean().astype('int'))\n",
    "data_spb.plot(x='distance_to_center_km', y='price_per_km', kind='scatter', alpha=0.5)\n",
    "print(data_spb['price_per_km'].corr(data_spb['distance_to_center_km']))"
   ]
  },
  {
   "cell_type": "markdown",
   "metadata": {},
   "source": [
    "    Согласно графику распределения с увеличением расстояния от центра цена метра уменьшается.\n",
    "    Коэффциент Пирсона отрицательный, -0.6, что также говорит об обратной пропорции."
   ]
  },
  {
   "cell_type": "markdown",
   "metadata": {},
   "source": [
    "### Общий вывод"
   ]
  },
  {
   "cell_type": "markdown",
   "metadata": {},
   "source": [
    "    На основании результатов, полученных в ходе исследования, можно сделать следующие выводы:\n",
    "    Наибольший объем объявлений приходится на одно- и двухкомнатные квартиры площадью до 60 кв.м.\n",
    "    Жилая площадь в таких объявлениях колеблется в пределах 15-35 кв. м.\n",
    "    Пяти- и девятиэтажные квартиры - более трети всех объявлений.\n",
    "    Расположение на крайних этажах негативно сказывается на ценообразовании: объекты, расположенные на первых этажах, в среднем на 17% дешевле квартир, расоложенных на средних этажах.\n",
    "    Самый дорогой кв.м. в Санкт-Петербурге - 108482 руб, там же самое большое число объявлений - 13525 шт.\n",
    "\n",
    "    Активность по размещению объявлений приходится на вторник и четверг, но в четверг размещались более дорогие квартиры.\n",
    "    С мая по сентябрь активность по продаже снижается, похожая ситуация в январе.\n",
    "    Покупки в основном совершаются в выхоные дни, пик - на 11 неделе.\n",
    "    В 2017 г. размещений было больше: 7236 против 7191. Однако, медианная стоимость объекта выше в 2019 г. - 4950К руб.\n",
    "    \n",
    "    В среднем объявление висит 181 день, но также есть как срочные продажи до 50 дней (примерно 25% от общего количества),   так и экстра долгие более 800 дней.\n",
    "    "
   ]
  }
 ],
 "metadata": {
  "ExecuteTimeLog": [
   {
    "duration": 80,
    "start_time": "2022-11-26T10:50:25.296Z"
   },
   {
    "duration": 71,
    "start_time": "2022-11-26T10:50:38.484Z"
   },
   {
    "duration": 93,
    "start_time": "2022-11-26T10:51:24.873Z"
   },
   {
    "duration": 511,
    "start_time": "2022-11-26T10:53:24.593Z"
   },
   {
    "duration": 70,
    "start_time": "2022-11-26T10:55:10.225Z"
   },
   {
    "duration": 47,
    "start_time": "2022-11-26T10:55:25.114Z"
   },
   {
    "duration": 48,
    "start_time": "2022-11-26T10:55:45.591Z"
   },
   {
    "duration": 52,
    "start_time": "2022-11-26T10:56:08.328Z"
   },
   {
    "duration": 50,
    "start_time": "2022-11-26T10:58:34.980Z"
   },
   {
    "duration": 45,
    "start_time": "2022-11-26T10:58:41.011Z"
   },
   {
    "duration": 46,
    "start_time": "2022-11-26T10:58:45.962Z"
   },
   {
    "duration": 44,
    "start_time": "2022-11-26T10:59:02.322Z"
   },
   {
    "duration": 45,
    "start_time": "2022-11-26T11:00:42.402Z"
   },
   {
    "duration": 18,
    "start_time": "2022-11-26T11:01:08.205Z"
   },
   {
    "duration": 49,
    "start_time": "2022-11-26T11:01:23.398Z"
   },
   {
    "duration": 44,
    "start_time": "2022-11-26T11:01:27.776Z"
   },
   {
    "duration": 66,
    "start_time": "2022-11-26T11:05:34.676Z"
   },
   {
    "duration": 48,
    "start_time": "2022-11-26T11:06:27.922Z"
   },
   {
    "duration": 47,
    "start_time": "2022-11-26T11:06:39.758Z"
   },
   {
    "duration": 14,
    "start_time": "2022-11-26T11:06:46.698Z"
   },
   {
    "duration": 14,
    "start_time": "2022-11-26T11:06:53.422Z"
   },
   {
    "duration": 49,
    "start_time": "2022-11-26T11:07:29.787Z"
   },
   {
    "duration": 90,
    "start_time": "2022-11-26T11:21:46.672Z"
   },
   {
    "duration": 8,
    "start_time": "2022-11-26T11:22:00.910Z"
   },
   {
    "duration": 143,
    "start_time": "2022-11-26T11:22:10.819Z"
   },
   {
    "duration": 70,
    "start_time": "2022-11-26T11:23:00.631Z"
   },
   {
    "duration": 106,
    "start_time": "2022-11-26T11:23:08.814Z"
   },
   {
    "duration": 96,
    "start_time": "2022-11-26T11:24:26.708Z"
   },
   {
    "duration": 102,
    "start_time": "2022-11-26T11:25:36.873Z"
   },
   {
    "duration": 95,
    "start_time": "2022-11-26T11:28:05.080Z"
   },
   {
    "duration": 120,
    "start_time": "2022-11-26T11:28:13.388Z"
   },
   {
    "duration": 126,
    "start_time": "2022-11-26T11:28:28.822Z"
   },
   {
    "duration": 161,
    "start_time": "2022-11-26T11:29:13.283Z"
   },
   {
    "duration": 101,
    "start_time": "2022-11-26T11:29:35.123Z"
   },
   {
    "duration": 2787,
    "start_time": "2022-11-26T11:30:05.454Z"
   },
   {
    "duration": 2241,
    "start_time": "2022-11-26T11:31:20.550Z"
   },
   {
    "duration": 16,
    "start_time": "2022-11-26T11:32:36.885Z"
   },
   {
    "duration": 2138,
    "start_time": "2022-11-26T11:35:28.221Z"
   },
   {
    "duration": 31,
    "start_time": "2022-11-26T11:36:28.547Z"
   },
   {
    "duration": 15,
    "start_time": "2022-11-26T11:36:35.406Z"
   },
   {
    "duration": 23,
    "start_time": "2022-11-26T11:36:52.291Z"
   },
   {
    "duration": 3,
    "start_time": "2022-11-26T11:37:25.359Z"
   },
   {
    "duration": 28,
    "start_time": "2022-11-26T11:37:34.359Z"
   },
   {
    "duration": 20,
    "start_time": "2022-11-26T11:37:44.368Z"
   },
   {
    "duration": 71,
    "start_time": "2022-11-26T11:38:52.465Z"
   },
   {
    "duration": 36,
    "start_time": "2022-11-26T11:39:01.606Z"
   },
   {
    "duration": 599,
    "start_time": "2022-11-26T11:39:26.431Z"
   },
   {
    "duration": 591,
    "start_time": "2022-11-26T11:39:49.063Z"
   },
   {
    "duration": 584,
    "start_time": "2022-11-26T11:41:31.244Z"
   },
   {
    "duration": 4,
    "start_time": "2022-11-26T11:44:51.080Z"
   },
   {
    "duration": 5,
    "start_time": "2022-11-26T11:44:57.488Z"
   },
   {
    "duration": 5,
    "start_time": "2022-11-26T11:46:44.435Z"
   },
   {
    "duration": 5,
    "start_time": "2022-11-26T11:46:48.804Z"
   },
   {
    "duration": 7,
    "start_time": "2022-11-26T11:47:11.647Z"
   },
   {
    "duration": 47,
    "start_time": "2022-11-26T11:47:39.341Z"
   },
   {
    "duration": 17,
    "start_time": "2022-11-26T11:48:01.858Z"
   },
   {
    "duration": 4,
    "start_time": "2022-11-26T11:48:41.953Z"
   },
   {
    "duration": 18,
    "start_time": "2022-11-26T11:48:53.557Z"
   },
   {
    "duration": 16,
    "start_time": "2022-11-26T11:49:10.995Z"
   },
   {
    "duration": 17,
    "start_time": "2022-11-26T11:49:23.541Z"
   },
   {
    "duration": 22,
    "start_time": "2022-11-26T13:22:58.938Z"
   },
   {
    "duration": 17,
    "start_time": "2022-11-26T13:24:41.225Z"
   },
   {
    "duration": 26,
    "start_time": "2022-11-26T13:26:05.839Z"
   },
   {
    "duration": 18,
    "start_time": "2022-11-26T13:26:21.136Z"
   },
   {
    "duration": 6,
    "start_time": "2022-11-26T13:26:46.418Z"
   },
   {
    "duration": 7,
    "start_time": "2022-11-26T13:26:59.227Z"
   },
   {
    "duration": 27,
    "start_time": "2022-11-26T13:27:07.134Z"
   },
   {
    "duration": 16,
    "start_time": "2022-11-26T13:27:22.985Z"
   },
   {
    "duration": 7,
    "start_time": "2022-11-26T13:28:45.296Z"
   },
   {
    "duration": 19,
    "start_time": "2022-11-26T13:28:57.618Z"
   },
   {
    "duration": 15,
    "start_time": "2022-11-26T13:29:03.273Z"
   },
   {
    "duration": 2039,
    "start_time": "2022-11-26T13:29:20.079Z"
   },
   {
    "duration": 23,
    "start_time": "2022-11-26T13:29:46.148Z"
   },
   {
    "duration": 22,
    "start_time": "2022-11-26T13:29:58.995Z"
   },
   {
    "duration": 19,
    "start_time": "2022-11-26T13:30:02.914Z"
   },
   {
    "duration": 18,
    "start_time": "2022-11-26T13:30:34.877Z"
   },
   {
    "duration": 20,
    "start_time": "2022-11-26T13:31:48.848Z"
   },
   {
    "duration": 16,
    "start_time": "2022-11-26T13:31:56.247Z"
   },
   {
    "duration": 17,
    "start_time": "2022-11-26T13:33:20.237Z"
   },
   {
    "duration": 17,
    "start_time": "2022-11-26T13:33:38.210Z"
   },
   {
    "duration": 149,
    "start_time": "2022-11-26T13:37:05.877Z"
   },
   {
    "duration": 29,
    "start_time": "2022-11-26T13:38:21.813Z"
   },
   {
    "duration": 26,
    "start_time": "2022-11-26T13:39:54.291Z"
   },
   {
    "duration": 25,
    "start_time": "2022-11-26T13:40:24.298Z"
   },
   {
    "duration": 25,
    "start_time": "2022-11-26T13:40:50.352Z"
   },
   {
    "duration": 24,
    "start_time": "2022-11-26T13:41:00.344Z"
   },
   {
    "duration": 27,
    "start_time": "2022-11-26T13:41:48.054Z"
   },
   {
    "duration": 23,
    "start_time": "2022-11-26T13:48:45.651Z"
   },
   {
    "duration": 24,
    "start_time": "2022-11-26T13:49:07.084Z"
   },
   {
    "duration": 35,
    "start_time": "2022-11-26T13:59:27.011Z"
   },
   {
    "duration": 22,
    "start_time": "2022-11-26T13:59:57.497Z"
   },
   {
    "duration": 24,
    "start_time": "2022-11-26T14:00:11.478Z"
   },
   {
    "duration": 46,
    "start_time": "2022-11-26T14:02:54.031Z"
   },
   {
    "duration": 2075,
    "start_time": "2022-11-26T14:03:32.910Z"
   },
   {
    "duration": 51,
    "start_time": "2022-11-26T14:03:34.988Z"
   },
   {
    "duration": 43,
    "start_time": "2022-11-26T14:07:37.178Z"
   },
   {
    "duration": 37,
    "start_time": "2022-11-26T14:08:37.422Z"
   },
   {
    "duration": 54,
    "start_time": "2022-11-26T14:09:55.727Z"
   },
   {
    "duration": 29,
    "start_time": "2022-11-26T14:19:28.539Z"
   },
   {
    "duration": 34,
    "start_time": "2022-11-26T14:20:18.472Z"
   },
   {
    "duration": 2167,
    "start_time": "2022-11-26T14:20:43.870Z"
   },
   {
    "duration": 20,
    "start_time": "2022-11-26T15:29:05.851Z"
   },
   {
    "duration": 25,
    "start_time": "2022-11-26T15:30:08.939Z"
   },
   {
    "duration": 18,
    "start_time": "2022-11-26T15:30:44.345Z"
   },
   {
    "duration": 32,
    "start_time": "2022-11-26T15:30:58.376Z"
   },
   {
    "duration": 31,
    "start_time": "2022-11-26T15:31:05.965Z"
   },
   {
    "duration": 31,
    "start_time": "2022-11-26T15:31:10.949Z"
   },
   {
    "duration": 28,
    "start_time": "2022-11-26T15:34:19.723Z"
   },
   {
    "duration": 211,
    "start_time": "2022-11-26T15:37:51.719Z"
   },
   {
    "duration": 21,
    "start_time": "2022-11-26T15:38:19.501Z"
   },
   {
    "duration": 18,
    "start_time": "2022-11-26T15:38:44.962Z"
   },
   {
    "duration": 20,
    "start_time": "2022-11-26T15:38:54.906Z"
   },
   {
    "duration": 30,
    "start_time": "2022-11-26T15:39:26.714Z"
   },
   {
    "duration": 21,
    "start_time": "2022-11-26T15:39:34.586Z"
   },
   {
    "duration": 21,
    "start_time": "2022-11-26T15:39:42.425Z"
   },
   {
    "duration": 1970,
    "start_time": "2022-11-26T15:39:46.771Z"
   },
   {
    "duration": 20,
    "start_time": "2022-11-26T15:39:48.743Z"
   },
   {
    "duration": 23,
    "start_time": "2022-11-26T15:40:19.367Z"
   },
   {
    "duration": 29,
    "start_time": "2022-11-26T15:40:49.201Z"
   },
   {
    "duration": 48,
    "start_time": "2022-11-26T15:41:20.193Z"
   },
   {
    "duration": 2812,
    "start_time": "2022-11-26T15:41:27.510Z"
   },
   {
    "duration": 26,
    "start_time": "2022-11-26T15:41:37.013Z"
   },
   {
    "duration": 22,
    "start_time": "2022-11-26T15:41:52.923Z"
   },
   {
    "duration": 25,
    "start_time": "2022-11-26T15:51:56.424Z"
   },
   {
    "duration": 33,
    "start_time": "2022-11-26T15:52:13.577Z"
   },
   {
    "duration": 18,
    "start_time": "2022-11-26T15:52:39.538Z"
   },
   {
    "duration": 2108,
    "start_time": "2022-11-26T15:53:09.020Z"
   },
   {
    "duration": 21,
    "start_time": "2022-11-26T15:53:12.906Z"
   },
   {
    "duration": 73,
    "start_time": "2022-11-26T15:54:48.718Z"
   },
   {
    "duration": 142,
    "start_time": "2022-11-26T15:55:00.854Z"
   },
   {
    "duration": 22,
    "start_time": "2022-11-26T15:57:33.569Z"
   },
   {
    "duration": 125,
    "start_time": "2022-11-26T15:58:31.566Z"
   },
   {
    "duration": 23,
    "start_time": "2022-11-26T15:59:51.406Z"
   },
   {
    "duration": 42,
    "start_time": "2022-11-26T16:05:25.878Z"
   },
   {
    "duration": 33,
    "start_time": "2022-11-26T16:05:45.577Z"
   },
   {
    "duration": 127,
    "start_time": "2022-11-26T16:05:54.475Z"
   },
   {
    "duration": 33,
    "start_time": "2022-11-26T16:07:01.569Z"
   },
   {
    "duration": 32,
    "start_time": "2022-11-26T16:14:59.367Z"
   },
   {
    "duration": 115,
    "start_time": "2022-11-26T16:15:10.285Z"
   },
   {
    "duration": 32,
    "start_time": "2022-11-26T16:15:35.873Z"
   },
   {
    "duration": 31,
    "start_time": "2022-11-26T16:15:46.320Z"
   },
   {
    "duration": 35,
    "start_time": "2022-11-26T16:17:56.838Z"
   },
   {
    "duration": 243,
    "start_time": "2022-11-26T16:27:09.115Z"
   },
   {
    "duration": 31,
    "start_time": "2022-11-26T16:27:16.263Z"
   },
   {
    "duration": 25,
    "start_time": "2022-11-26T16:27:59.126Z"
   },
   {
    "duration": 25,
    "start_time": "2022-11-26T16:28:17.537Z"
   },
   {
    "duration": 24,
    "start_time": "2022-11-26T16:28:52.467Z"
   },
   {
    "duration": 39,
    "start_time": "2022-11-26T16:38:53.543Z"
   },
   {
    "duration": 40,
    "start_time": "2022-11-26T16:44:02.504Z"
   },
   {
    "duration": 39,
    "start_time": "2022-11-26T16:48:23.000Z"
   },
   {
    "duration": 36,
    "start_time": "2022-11-26T16:54:29.914Z"
   },
   {
    "duration": 32,
    "start_time": "2022-11-26T16:55:28.856Z"
   },
   {
    "duration": 23,
    "start_time": "2022-11-26T16:56:46.507Z"
   },
   {
    "duration": 119,
    "start_time": "2022-11-26T16:57:18.140Z"
   },
   {
    "duration": 115,
    "start_time": "2022-11-26T16:57:29.551Z"
   },
   {
    "duration": 23,
    "start_time": "2022-11-26T16:57:56.112Z"
   },
   {
    "duration": 22,
    "start_time": "2022-11-26T16:59:22.880Z"
   },
   {
    "duration": 2231,
    "start_time": "2022-11-26T16:59:30.040Z"
   },
   {
    "duration": 24,
    "start_time": "2022-11-26T16:59:32.273Z"
   },
   {
    "duration": 20,
    "start_time": "2022-11-26T17:00:06.511Z"
   },
   {
    "duration": 26,
    "start_time": "2022-11-26T17:00:18.086Z"
   },
   {
    "duration": 22,
    "start_time": "2022-11-26T17:00:25.572Z"
   },
   {
    "duration": 23,
    "start_time": "2022-11-26T17:00:36.213Z"
   },
   {
    "duration": 30,
    "start_time": "2022-11-26T17:06:23.899Z"
   },
   {
    "duration": 146,
    "start_time": "2022-11-26T17:14:04.612Z"
   },
   {
    "duration": 176,
    "start_time": "2022-11-26T17:14:57.673Z"
   },
   {
    "duration": 2109,
    "start_time": "2022-11-26T17:15:08.345Z"
   },
   {
    "duration": 23,
    "start_time": "2022-11-26T17:15:44.855Z"
   },
   {
    "duration": 2218,
    "start_time": "2022-11-26T17:16:22.974Z"
   },
   {
    "duration": 24,
    "start_time": "2022-11-26T17:16:25.194Z"
   },
   {
    "duration": 21,
    "start_time": "2022-11-26T17:24:34.277Z"
   },
   {
    "duration": 116,
    "start_time": "2022-11-26T17:25:29.183Z"
   },
   {
    "duration": 143,
    "start_time": "2022-11-26T17:27:44.925Z"
   },
   {
    "duration": 122,
    "start_time": "2022-11-26T17:28:51.258Z"
   },
   {
    "duration": 150,
    "start_time": "2022-11-26T17:31:47.812Z"
   },
   {
    "duration": 1128,
    "start_time": "2022-11-26T17:32:47.630Z"
   },
   {
    "duration": 22,
    "start_time": "2022-11-26T17:33:03.902Z"
   },
   {
    "duration": 26,
    "start_time": "2022-11-26T17:34:39.793Z"
   },
   {
    "duration": 31,
    "start_time": "2022-11-26T17:35:49.036Z"
   },
   {
    "duration": 27,
    "start_time": "2022-11-26T17:36:16.389Z"
   },
   {
    "duration": 26,
    "start_time": "2022-11-26T17:36:30.084Z"
   },
   {
    "duration": 35,
    "start_time": "2022-11-26T17:36:44.864Z"
   },
   {
    "duration": 174,
    "start_time": "2022-11-26T17:37:01.627Z"
   },
   {
    "duration": 26,
    "start_time": "2022-11-26T17:37:06.187Z"
   },
   {
    "duration": 27,
    "start_time": "2022-11-26T17:37:16.858Z"
   },
   {
    "duration": 2059,
    "start_time": "2022-11-26T17:37:29.711Z"
   },
   {
    "duration": 27,
    "start_time": "2022-11-26T17:37:31.772Z"
   },
   {
    "duration": 199,
    "start_time": "2022-11-26T17:38:10.728Z"
   },
   {
    "duration": 26,
    "start_time": "2022-11-26T17:38:16.072Z"
   },
   {
    "duration": 38,
    "start_time": "2022-11-26T17:39:12.933Z"
   },
   {
    "duration": 38,
    "start_time": "2022-11-26T17:39:44.554Z"
   },
   {
    "duration": 47,
    "start_time": "2022-11-26T17:44:41.447Z"
   },
   {
    "duration": 51,
    "start_time": "2022-11-26T17:44:51.641Z"
   },
   {
    "duration": 54,
    "start_time": "2022-11-26T17:44:57.831Z"
   },
   {
    "duration": 57,
    "start_time": "2022-11-26T17:45:36.669Z"
   },
   {
    "duration": 65,
    "start_time": "2022-11-26T17:46:00.336Z"
   },
   {
    "duration": 60,
    "start_time": "2022-11-26T17:46:05.596Z"
   },
   {
    "duration": 2061,
    "start_time": "2022-11-26T17:48:29.725Z"
   },
   {
    "duration": 3926,
    "start_time": "2022-11-26T17:48:50.749Z"
   },
   {
    "duration": 2909,
    "start_time": "2022-11-26T17:49:39.522Z"
   },
   {
    "duration": 121,
    "start_time": "2022-11-26T17:57:56.420Z"
   },
   {
    "duration": 106,
    "start_time": "2022-11-26T18:04:43.539Z"
   },
   {
    "duration": 1372,
    "start_time": "2022-11-26T18:05:07.379Z"
   },
   {
    "duration": 87,
    "start_time": "2022-11-26T18:06:06.819Z"
   },
   {
    "duration": 63,
    "start_time": "2022-11-26T18:06:22.779Z"
   },
   {
    "duration": 62,
    "start_time": "2022-11-26T18:06:37.177Z"
   },
   {
    "duration": 62,
    "start_time": "2022-11-26T18:06:41.198Z"
   },
   {
    "duration": 70,
    "start_time": "2022-11-26T18:06:58.005Z"
   },
   {
    "duration": 78,
    "start_time": "2022-11-26T18:07:50.529Z"
   },
   {
    "duration": 76,
    "start_time": "2022-11-26T18:10:06.782Z"
   },
   {
    "duration": 6,
    "start_time": "2022-11-26T18:12:46.394Z"
   },
   {
    "duration": 68,
    "start_time": "2022-11-26T18:12:54.856Z"
   },
   {
    "duration": 85,
    "start_time": "2022-11-26T18:13:23.577Z"
   },
   {
    "duration": 69,
    "start_time": "2022-11-26T18:13:33.619Z"
   },
   {
    "duration": 80,
    "start_time": "2022-11-26T18:14:32.682Z"
   },
   {
    "duration": 91,
    "start_time": "2022-11-26T18:16:19.169Z"
   },
   {
    "duration": 75,
    "start_time": "2022-11-26T18:16:27.821Z"
   },
   {
    "duration": 67,
    "start_time": "2022-11-26T18:16:40.387Z"
   },
   {
    "duration": 56,
    "start_time": "2022-11-26T18:17:41.757Z"
   },
   {
    "duration": 6,
    "start_time": "2022-11-26T18:22:22.214Z"
   },
   {
    "duration": 165,
    "start_time": "2022-11-26T18:22:31.982Z"
   },
   {
    "duration": 142,
    "start_time": "2022-11-26T18:23:47.478Z"
   },
   {
    "duration": 72,
    "start_time": "2022-11-26T18:25:18.619Z"
   },
   {
    "duration": 74,
    "start_time": "2022-11-26T18:25:29.598Z"
   },
   {
    "duration": 42,
    "start_time": "2022-11-26T18:25:35.955Z"
   },
   {
    "duration": 28,
    "start_time": "2022-11-26T18:26:06.969Z"
   },
   {
    "duration": 40,
    "start_time": "2022-11-26T18:26:34.252Z"
   },
   {
    "duration": 9,
    "start_time": "2022-11-26T18:28:14.215Z"
   },
   {
    "duration": 54,
    "start_time": "2022-11-26T18:28:59.813Z"
   },
   {
    "duration": 27,
    "start_time": "2022-11-26T18:29:22.348Z"
   },
   {
    "duration": 29,
    "start_time": "2022-11-26T18:29:32.747Z"
   },
   {
    "duration": 42,
    "start_time": "2022-11-26T18:30:41.520Z"
   },
   {
    "duration": 62,
    "start_time": "2022-11-26T18:39:04.061Z"
   },
   {
    "duration": 33,
    "start_time": "2022-11-26T18:40:50.035Z"
   },
   {
    "duration": 25,
    "start_time": "2022-11-26T18:44:28.208Z"
   },
   {
    "duration": 4145,
    "start_time": "2022-11-26T18:44:53.172Z"
   },
   {
    "duration": 3193,
    "start_time": "2022-11-26T18:45:09.773Z"
   },
   {
    "duration": 85,
    "start_time": "2022-11-26T18:46:36.474Z"
   },
   {
    "duration": 114,
    "start_time": "2022-11-26T18:46:48.019Z"
   },
   {
    "duration": 46,
    "start_time": "2022-11-26T18:46:56.388Z"
   },
   {
    "duration": 2857,
    "start_time": "2022-11-26T18:47:08.936Z"
   },
   {
    "duration": 67,
    "start_time": "2022-11-26T18:47:11.795Z"
   },
   {
    "duration": 105,
    "start_time": "2022-11-26T18:47:59.192Z"
   },
   {
    "duration": 55,
    "start_time": "2022-11-26T18:48:24.830Z"
   },
   {
    "duration": 3506,
    "start_time": "2022-11-26T18:49:22.155Z"
   },
   {
    "duration": 3268,
    "start_time": "2022-11-26T18:49:49.588Z"
   },
   {
    "duration": 57,
    "start_time": "2022-11-26T18:50:31.372Z"
   },
   {
    "duration": 54,
    "start_time": "2022-11-26T18:50:41.732Z"
   },
   {
    "duration": 5,
    "start_time": "2022-11-26T18:51:57.107Z"
   },
   {
    "duration": 3261,
    "start_time": "2022-11-26T18:52:12.272Z"
   },
   {
    "duration": 19,
    "start_time": "2022-11-26T18:52:15.538Z"
   },
   {
    "duration": 56,
    "start_time": "2022-11-26T18:52:15.559Z"
   },
   {
    "duration": 58,
    "start_time": "2022-11-26T18:53:05.827Z"
   },
   {
    "duration": 45,
    "start_time": "2022-11-26T18:53:24.852Z"
   },
   {
    "duration": 2943,
    "start_time": "2022-11-26T18:53:28.778Z"
   },
   {
    "duration": 6,
    "start_time": "2022-11-26T18:53:31.723Z"
   },
   {
    "duration": 73,
    "start_time": "2022-11-26T18:53:31.738Z"
   },
   {
    "duration": 3540,
    "start_time": "2022-11-26T18:54:56.652Z"
   },
   {
    "duration": 6,
    "start_time": "2022-11-26T18:55:00.194Z"
   },
   {
    "duration": 90,
    "start_time": "2022-11-26T18:55:00.202Z"
   },
   {
    "duration": 92,
    "start_time": "2022-11-26T18:56:27.036Z"
   },
   {
    "duration": 70,
    "start_time": "2022-11-26T18:56:37.587Z"
   },
   {
    "duration": 65,
    "start_time": "2022-11-26T18:57:31.443Z"
   },
   {
    "duration": 3325,
    "start_time": "2022-11-26T18:57:41.938Z"
   },
   {
    "duration": 5,
    "start_time": "2022-11-26T18:57:45.265Z"
   },
   {
    "duration": 88,
    "start_time": "2022-11-26T18:57:45.272Z"
   },
   {
    "duration": 52,
    "start_time": "2022-11-27T16:49:37.775Z"
   },
   {
    "duration": 4165,
    "start_time": "2022-11-27T16:49:45.258Z"
   },
   {
    "duration": 111,
    "start_time": "2022-11-27T16:49:53.184Z"
   },
   {
    "duration": 62,
    "start_time": "2022-11-27T16:50:17.556Z"
   },
   {
    "duration": 88,
    "start_time": "2022-11-27T16:50:32.052Z"
   },
   {
    "duration": 71,
    "start_time": "2022-11-27T16:51:20.963Z"
   },
   {
    "duration": 48,
    "start_time": "2022-11-27T16:51:26.115Z"
   },
   {
    "duration": 3387,
    "start_time": "2022-11-27T16:52:00.146Z"
   },
   {
    "duration": 6,
    "start_time": "2022-11-27T16:52:03.535Z"
   },
   {
    "duration": 92,
    "start_time": "2022-11-27T16:52:03.542Z"
   },
   {
    "duration": 64,
    "start_time": "2022-11-27T16:52:26.611Z"
   },
   {
    "duration": 81,
    "start_time": "2022-11-27T16:52:51.733Z"
   },
   {
    "duration": 3248,
    "start_time": "2022-11-27T16:52:57.724Z"
   },
   {
    "duration": 6,
    "start_time": "2022-11-27T16:53:00.975Z"
   },
   {
    "duration": 72,
    "start_time": "2022-11-27T16:53:00.983Z"
   },
   {
    "duration": 60,
    "start_time": "2022-11-27T16:53:59.219Z"
   },
   {
    "duration": 210,
    "start_time": "2022-11-27T16:55:10.280Z"
   },
   {
    "duration": 48,
    "start_time": "2022-11-27T16:55:25.388Z"
   },
   {
    "duration": 47,
    "start_time": "2022-11-27T16:55:43.357Z"
   },
   {
    "duration": 3529,
    "start_time": "2022-11-27T16:55:49.738Z"
   },
   {
    "duration": 5,
    "start_time": "2022-11-27T16:55:53.270Z"
   },
   {
    "duration": 77,
    "start_time": "2022-11-27T16:55:53.277Z"
   },
   {
    "duration": 62,
    "start_time": "2022-11-27T16:56:33.611Z"
   },
   {
    "duration": 3535,
    "start_time": "2022-11-27T16:56:46.539Z"
   },
   {
    "duration": 76,
    "start_time": "2022-11-27T17:04:00.945Z"
   },
   {
    "duration": 3235,
    "start_time": "2022-11-27T17:04:12.567Z"
   },
   {
    "duration": 11,
    "start_time": "2022-11-27T17:04:15.805Z"
   },
   {
    "duration": 57,
    "start_time": "2022-11-27T17:04:15.817Z"
   },
   {
    "duration": 41,
    "start_time": "2022-11-27T17:04:38.522Z"
   },
   {
    "duration": 3358,
    "start_time": "2022-11-27T17:04:45.943Z"
   },
   {
    "duration": 7,
    "start_time": "2022-11-27T17:04:49.311Z"
   },
   {
    "duration": 69,
    "start_time": "2022-11-27T17:04:49.320Z"
   },
   {
    "duration": 58,
    "start_time": "2022-11-27T17:05:22.119Z"
   },
   {
    "duration": 73,
    "start_time": "2022-11-27T17:06:05.748Z"
   },
   {
    "duration": 90,
    "start_time": "2022-11-27T17:06:19.114Z"
   },
   {
    "duration": 79,
    "start_time": "2022-11-27T17:06:32.833Z"
   },
   {
    "duration": 65,
    "start_time": "2022-11-27T17:08:59.561Z"
   },
   {
    "duration": 5,
    "start_time": "2022-11-27T17:09:11.244Z"
   },
   {
    "duration": 3262,
    "start_time": "2022-11-27T17:10:33.546Z"
   },
   {
    "duration": 6,
    "start_time": "2022-11-27T17:15:40.664Z"
   },
   {
    "duration": 67,
    "start_time": "2022-11-27T17:15:47.616Z"
   },
   {
    "duration": 65,
    "start_time": "2022-11-27T17:17:02.262Z"
   },
   {
    "duration": 50,
    "start_time": "2022-11-27T17:17:23.608Z"
   },
   {
    "duration": 19,
    "start_time": "2022-11-27T17:19:35.318Z"
   },
   {
    "duration": 15,
    "start_time": "2022-11-27T17:21:35.259Z"
   },
   {
    "duration": 19,
    "start_time": "2022-11-27T17:24:04.273Z"
   },
   {
    "duration": 46,
    "start_time": "2022-11-27T17:26:22.892Z"
   },
   {
    "duration": 47,
    "start_time": "2022-11-27T17:26:55.378Z"
   },
   {
    "duration": 14,
    "start_time": "2022-11-27T17:27:09.878Z"
   },
   {
    "duration": 10,
    "start_time": "2022-11-27T17:28:18.184Z"
   },
   {
    "duration": 6,
    "start_time": "2022-11-27T17:28:33.161Z"
   },
   {
    "duration": 14,
    "start_time": "2022-11-27T17:28:50.880Z"
   },
   {
    "duration": 5,
    "start_time": "2022-11-27T17:29:12.074Z"
   },
   {
    "duration": 19,
    "start_time": "2022-11-27T17:29:17.264Z"
   },
   {
    "duration": 15,
    "start_time": "2022-11-27T17:29:26.548Z"
   },
   {
    "duration": 18,
    "start_time": "2022-11-27T17:30:27.772Z"
   },
   {
    "duration": 13,
    "start_time": "2022-11-27T18:42:03.170Z"
   },
   {
    "duration": 22,
    "start_time": "2022-11-27T18:42:14.717Z"
   },
   {
    "duration": 30,
    "start_time": "2022-11-27T18:48:44.264Z"
   },
   {
    "duration": 26,
    "start_time": "2022-11-27T18:49:53.035Z"
   },
   {
    "duration": 53,
    "start_time": "2022-11-28T09:09:36.530Z"
   },
   {
    "duration": 4034,
    "start_time": "2022-11-28T09:09:40.348Z"
   },
   {
    "duration": 51,
    "start_time": "2022-11-28T09:09:47.813Z"
   },
   {
    "duration": 16,
    "start_time": "2022-11-28T09:10:37.317Z"
   },
   {
    "duration": 15,
    "start_time": "2022-11-28T09:10:42.776Z"
   },
   {
    "duration": 3197,
    "start_time": "2022-11-28T09:10:51.348Z"
   },
   {
    "duration": 58,
    "start_time": "2022-11-28T09:10:54.549Z"
   },
   {
    "duration": 46,
    "start_time": "2022-11-28T09:10:54.610Z"
   },
   {
    "duration": 26,
    "start_time": "2022-11-28T09:11:06.279Z"
   },
   {
    "duration": 27,
    "start_time": "2022-11-28T09:11:46.068Z"
   },
   {
    "duration": 41,
    "start_time": "2022-11-28T09:13:18.881Z"
   },
   {
    "duration": 5,
    "start_time": "2022-11-28T09:16:07.414Z"
   },
   {
    "duration": 27,
    "start_time": "2022-11-28T09:16:19.393Z"
   },
   {
    "duration": 25,
    "start_time": "2022-11-28T09:18:30.402Z"
   },
   {
    "duration": 25,
    "start_time": "2022-11-28T09:19:33.880Z"
   },
   {
    "duration": 27,
    "start_time": "2022-11-28T09:19:45.926Z"
   },
   {
    "duration": 86,
    "start_time": "2022-11-28T09:20:21.012Z"
   },
   {
    "duration": 13,
    "start_time": "2022-11-28T09:20:39.984Z"
   },
   {
    "duration": 3067,
    "start_time": "2022-11-28T09:20:53.789Z"
   },
   {
    "duration": 52,
    "start_time": "2022-11-28T09:20:56.858Z"
   },
   {
    "duration": 36,
    "start_time": "2022-11-28T09:20:56.912Z"
   },
   {
    "duration": 30,
    "start_time": "2022-11-28T09:21:53.729Z"
   },
   {
    "duration": 26,
    "start_time": "2022-11-28T09:21:59.961Z"
   },
   {
    "duration": 30,
    "start_time": "2022-11-28T09:22:15.955Z"
   },
   {
    "duration": 39,
    "start_time": "2022-11-28T09:24:03.281Z"
   },
   {
    "duration": 3059,
    "start_time": "2022-11-28T09:24:19.397Z"
   },
   {
    "duration": 212,
    "start_time": "2022-11-28T09:24:22.459Z"
   },
   {
    "duration": 29,
    "start_time": "2022-11-28T09:24:22.673Z"
   },
   {
    "duration": 24,
    "start_time": "2022-11-28T09:25:00.881Z"
   },
   {
    "duration": 36,
    "start_time": "2022-11-28T09:25:45.733Z"
   },
   {
    "duration": 34,
    "start_time": "2022-11-28T09:26:02.969Z"
   },
   {
    "duration": 27,
    "start_time": "2022-11-28T09:34:32.987Z"
   },
   {
    "duration": 25,
    "start_time": "2022-11-28T09:35:06.740Z"
   },
   {
    "duration": 87,
    "start_time": "2022-11-28T09:35:40.077Z"
   },
   {
    "duration": 25,
    "start_time": "2022-11-28T09:35:59.406Z"
   },
   {
    "duration": 94,
    "start_time": "2022-11-28T09:36:42.995Z"
   },
   {
    "duration": 19,
    "start_time": "2022-11-28T09:37:11.987Z"
   },
   {
    "duration": 2847,
    "start_time": "2022-11-28T09:37:27.397Z"
   },
   {
    "duration": 49,
    "start_time": "2022-11-28T09:37:30.246Z"
   },
   {
    "duration": 40,
    "start_time": "2022-11-28T09:37:30.297Z"
   },
   {
    "duration": 2861,
    "start_time": "2022-11-28T09:37:43.577Z"
   },
   {
    "duration": 50,
    "start_time": "2022-11-28T09:37:46.441Z"
   },
   {
    "duration": 168,
    "start_time": "2022-11-28T09:37:46.492Z"
   },
   {
    "duration": 26,
    "start_time": "2022-11-28T09:38:04.727Z"
   },
   {
    "duration": 36,
    "start_time": "2022-11-28T09:42:22.122Z"
   },
   {
    "duration": 1214,
    "start_time": "2022-11-28T09:44:01.386Z"
   },
   {
    "duration": 30,
    "start_time": "2022-11-28T09:44:19.572Z"
   },
   {
    "duration": 75,
    "start_time": "2022-11-28T09:45:41.997Z"
   },
   {
    "duration": 2870,
    "start_time": "2022-11-28T09:45:57.934Z"
   },
   {
    "duration": 60,
    "start_time": "2022-11-28T09:46:00.806Z"
   },
   {
    "duration": 72,
    "start_time": "2022-11-28T09:46:00.867Z"
   },
   {
    "duration": 22,
    "start_time": "2022-11-28T09:46:18.139Z"
   },
   {
    "duration": 22,
    "start_time": "2022-11-28T09:46:24.961Z"
   },
   {
    "duration": 89,
    "start_time": "2022-11-28T09:48:29.230Z"
   },
   {
    "duration": 96,
    "start_time": "2022-11-28T09:49:30.439Z"
   },
   {
    "duration": 79,
    "start_time": "2022-11-28T09:49:41.193Z"
   },
   {
    "duration": 28,
    "start_time": "2022-11-28T09:49:55.334Z"
   },
   {
    "duration": 34,
    "start_time": "2022-11-28T09:50:19.026Z"
   },
   {
    "duration": 23,
    "start_time": "2022-11-28T09:52:57.116Z"
   },
   {
    "duration": 27,
    "start_time": "2022-11-28T09:53:27.400Z"
   },
   {
    "duration": 24,
    "start_time": "2022-11-28T09:54:43.764Z"
   },
   {
    "duration": 34,
    "start_time": "2022-11-28T09:54:51.805Z"
   },
   {
    "duration": 30,
    "start_time": "2022-11-28T09:57:48.095Z"
   },
   {
    "duration": 29,
    "start_time": "2022-11-28T09:57:54.969Z"
   },
   {
    "duration": 34,
    "start_time": "2022-11-28T09:58:16.642Z"
   },
   {
    "duration": 29,
    "start_time": "2022-11-28T09:58:40.431Z"
   },
   {
    "duration": 33,
    "start_time": "2022-11-28T09:58:58.106Z"
   },
   {
    "duration": 48,
    "start_time": "2022-11-28T09:59:35.653Z"
   },
   {
    "duration": 22,
    "start_time": "2022-11-28T09:59:57.466Z"
   },
   {
    "duration": 98,
    "start_time": "2022-11-28T10:00:08.142Z"
   },
   {
    "duration": 33,
    "start_time": "2022-11-28T10:01:52.201Z"
   },
   {
    "duration": 4,
    "start_time": "2022-11-28T10:50:08.822Z"
   },
   {
    "duration": 4,
    "start_time": "2022-11-28T10:54:02.926Z"
   },
   {
    "duration": 19,
    "start_time": "2022-11-28T10:54:14.133Z"
   },
   {
    "duration": 1887,
    "start_time": "2022-11-28T10:54:51.352Z"
   },
   {
    "duration": 71,
    "start_time": "2022-11-28T10:56:08.456Z"
   },
   {
    "duration": 127,
    "start_time": "2022-11-28T10:56:13.819Z"
   },
   {
    "duration": 124,
    "start_time": "2022-11-28T10:56:24.367Z"
   },
   {
    "duration": 57,
    "start_time": "2022-11-28T10:57:01.800Z"
   },
   {
    "duration": 1891,
    "start_time": "2022-11-28T10:57:11.234Z"
   },
   {
    "duration": 55,
    "start_time": "2022-11-28T10:57:27.156Z"
   },
   {
    "duration": 2877,
    "start_time": "2022-11-28T10:57:35.442Z"
   },
   {
    "duration": 66,
    "start_time": "2022-11-28T10:57:38.321Z"
   },
   {
    "duration": 33,
    "start_time": "2022-11-28T10:57:38.389Z"
   },
   {
    "duration": 2108,
    "start_time": "2022-11-28T10:57:52.605Z"
   },
   {
    "duration": 59,
    "start_time": "2022-11-28T11:00:23.548Z"
   },
   {
    "duration": 53,
    "start_time": "2022-11-28T11:00:34.644Z"
   },
   {
    "duration": 54,
    "start_time": "2022-11-28T11:00:44.838Z"
   },
   {
    "duration": 191,
    "start_time": "2022-11-28T11:00:53.614Z"
   },
   {
    "duration": 51,
    "start_time": "2022-11-28T11:05:53.199Z"
   },
   {
    "duration": 79,
    "start_time": "2022-11-28T11:06:50.158Z"
   },
   {
    "duration": 1959,
    "start_time": "2022-11-28T11:07:54.705Z"
   },
   {
    "duration": 2144,
    "start_time": "2022-11-28T11:08:31.739Z"
   },
   {
    "duration": 72,
    "start_time": "2022-11-28T11:08:33.885Z"
   },
   {
    "duration": 33,
    "start_time": "2022-11-28T11:08:33.958Z"
   },
   {
    "duration": 2090,
    "start_time": "2022-11-28T11:08:33.993Z"
   },
   {
    "duration": 1948,
    "start_time": "2022-11-28T12:25:03.971Z"
   },
   {
    "duration": 1204,
    "start_time": "2022-11-28T12:26:41.492Z"
   },
   {
    "duration": 58,
    "start_time": "2022-11-28T12:26:51.500Z"
   },
   {
    "duration": 54,
    "start_time": "2022-11-28T12:27:05.642Z"
   },
   {
    "duration": 56,
    "start_time": "2022-11-28T12:27:11.160Z"
   },
   {
    "duration": 57,
    "start_time": "2022-11-28T12:27:16.656Z"
   },
   {
    "duration": 58,
    "start_time": "2022-11-28T12:28:05.066Z"
   },
   {
    "duration": 4183,
    "start_time": "2022-11-28T12:28:33.508Z"
   },
   {
    "duration": 2996,
    "start_time": "2022-11-28T12:28:56.714Z"
   },
   {
    "duration": 65,
    "start_time": "2022-11-28T12:29:31.401Z"
   },
   {
    "duration": 58,
    "start_time": "2022-11-28T12:30:10.204Z"
   },
   {
    "duration": 35,
    "start_time": "2022-11-28T12:30:14.559Z"
   },
   {
    "duration": 2086,
    "start_time": "2022-11-28T12:30:18.933Z"
   },
   {
    "duration": 60,
    "start_time": "2022-11-28T12:31:41.751Z"
   },
   {
    "duration": 69,
    "start_time": "2022-11-28T12:31:47.701Z"
   },
   {
    "duration": 63,
    "start_time": "2022-11-28T12:32:09.746Z"
   },
   {
    "duration": 20,
    "start_time": "2022-11-28T12:32:19.279Z"
   },
   {
    "duration": 2786,
    "start_time": "2022-11-28T12:32:34.558Z"
   },
   {
    "duration": 66,
    "start_time": "2022-11-28T12:32:37.346Z"
   },
   {
    "duration": 48,
    "start_time": "2022-11-28T12:32:37.414Z"
   },
   {
    "duration": 2208,
    "start_time": "2022-11-28T12:32:37.464Z"
   },
   {
    "duration": 58,
    "start_time": "2022-11-28T12:34:27.291Z"
   },
   {
    "duration": 59,
    "start_time": "2022-11-28T12:34:36.724Z"
   },
   {
    "duration": 61,
    "start_time": "2022-11-28T12:34:42.345Z"
   },
   {
    "duration": 68,
    "start_time": "2022-11-28T12:34:48.334Z"
   },
   {
    "duration": 7,
    "start_time": "2022-11-28T12:37:03.474Z"
   },
   {
    "duration": 7,
    "start_time": "2022-11-28T12:37:31.094Z"
   },
   {
    "duration": 67,
    "start_time": "2022-11-28T12:37:54.694Z"
   },
   {
    "duration": 146,
    "start_time": "2022-11-28T12:38:35.305Z"
   },
   {
    "duration": 71,
    "start_time": "2022-11-28T12:38:57.118Z"
   },
   {
    "duration": 54,
    "start_time": "2022-11-28T12:39:37.926Z"
   },
   {
    "duration": 17,
    "start_time": "2022-11-28T12:40:14.082Z"
   },
   {
    "duration": 2845,
    "start_time": "2022-11-28T12:40:32.778Z"
   },
   {
    "duration": 64,
    "start_time": "2022-11-28T12:40:35.625Z"
   },
   {
    "duration": 32,
    "start_time": "2022-11-28T12:40:35.690Z"
   },
   {
    "duration": 1819,
    "start_time": "2022-11-28T12:40:35.723Z"
   },
   {
    "duration": 413,
    "start_time": "2022-11-28T12:40:52.087Z"
   },
   {
    "duration": 63,
    "start_time": "2022-11-28T12:41:00.887Z"
   },
   {
    "duration": 62,
    "start_time": "2022-11-28T12:42:42.291Z"
   },
   {
    "duration": 32,
    "start_time": "2022-11-28T12:42:48.629Z"
   },
   {
    "duration": 1787,
    "start_time": "2022-11-28T12:42:52.215Z"
   },
   {
    "duration": 2159,
    "start_time": "2022-11-28T12:46:37.529Z"
   },
   {
    "duration": 2097,
    "start_time": "2022-11-28T12:47:46.959Z"
   },
   {
    "duration": 4,
    "start_time": "2022-11-28T12:50:57.832Z"
   },
   {
    "duration": 2563,
    "start_time": "2022-11-28T12:51:08.525Z"
   },
   {
    "duration": 2167,
    "start_time": "2022-11-28T12:51:20.986Z"
   },
   {
    "duration": 2589,
    "start_time": "2022-11-28T12:51:41.213Z"
   },
   {
    "duration": 2507,
    "start_time": "2022-11-28T12:52:01.342Z"
   },
   {
    "duration": 3364,
    "start_time": "2022-11-28T12:54:09.831Z"
   },
   {
    "duration": 2737,
    "start_time": "2022-11-28T12:54:41.461Z"
   },
   {
    "duration": 2125,
    "start_time": "2022-11-28T12:57:08.375Z"
   },
   {
    "duration": 176,
    "start_time": "2022-11-28T13:05:33.211Z"
   },
   {
    "duration": 9,
    "start_time": "2022-11-28T13:18:43.364Z"
   },
   {
    "duration": 20,
    "start_time": "2022-11-28T13:18:48.619Z"
   },
   {
    "duration": 41,
    "start_time": "2022-11-28T13:20:15.479Z"
   },
   {
    "duration": 4,
    "start_time": "2022-11-28T13:27:34.116Z"
   },
   {
    "duration": 14,
    "start_time": "2022-11-28T13:27:51.167Z"
   },
   {
    "duration": 14,
    "start_time": "2022-11-28T13:28:42.658Z"
   },
   {
    "duration": 74,
    "start_time": "2022-11-28T13:29:34.837Z"
   },
   {
    "duration": 28,
    "start_time": "2022-11-28T13:30:32.346Z"
   },
   {
    "duration": 18,
    "start_time": "2022-11-28T13:31:16.262Z"
   },
   {
    "duration": 75,
    "start_time": "2022-11-28T13:32:49.302Z"
   },
   {
    "duration": 18,
    "start_time": "2022-11-28T13:32:59.691Z"
   },
   {
    "duration": 21,
    "start_time": "2022-11-28T13:34:19.467Z"
   },
   {
    "duration": 20,
    "start_time": "2022-11-28T13:34:42.817Z"
   },
   {
    "duration": 20,
    "start_time": "2022-11-28T13:34:54.081Z"
   },
   {
    "duration": 20,
    "start_time": "2022-11-28T13:38:31.438Z"
   },
   {
    "duration": 20,
    "start_time": "2022-11-28T13:38:46.460Z"
   },
   {
    "duration": 16,
    "start_time": "2022-11-28T15:20:29.544Z"
   },
   {
    "duration": 70,
    "start_time": "2022-11-28T15:24:17.207Z"
   },
   {
    "duration": 8,
    "start_time": "2022-11-28T15:24:27.711Z"
   },
   {
    "duration": 76,
    "start_time": "2022-11-28T15:25:07.056Z"
   },
   {
    "duration": 10,
    "start_time": "2022-11-28T15:25:15.409Z"
   },
   {
    "duration": 15,
    "start_time": "2022-11-28T15:25:35.138Z"
   },
   {
    "duration": 17,
    "start_time": "2022-11-28T15:26:12.403Z"
   },
   {
    "duration": 10,
    "start_time": "2022-11-28T15:26:56.714Z"
   },
   {
    "duration": 23,
    "start_time": "2022-11-28T15:28:15.415Z"
   },
   {
    "duration": 3045,
    "start_time": "2022-11-28T15:28:55.889Z"
   },
   {
    "duration": 87,
    "start_time": "2022-11-28T15:28:58.937Z"
   },
   {
    "duration": 49,
    "start_time": "2022-11-28T15:28:59.026Z"
   },
   {
    "duration": 2050,
    "start_time": "2022-11-28T15:28:59.077Z"
   },
   {
    "duration": 187,
    "start_time": "2022-11-28T15:29:01.136Z"
   },
   {
    "duration": 25,
    "start_time": "2022-11-28T15:29:01.325Z"
   },
   {
    "duration": 23,
    "start_time": "2022-11-28T15:29:01.351Z"
   },
   {
    "duration": 24,
    "start_time": "2022-11-28T15:30:01.747Z"
   },
   {
    "duration": 14,
    "start_time": "2022-11-28T15:31:42.691Z"
   },
   {
    "duration": 18,
    "start_time": "2022-11-28T15:32:03.747Z"
   },
   {
    "duration": 583,
    "start_time": "2022-11-28T15:32:37.324Z"
   },
   {
    "duration": 21,
    "start_time": "2022-11-28T15:33:04.614Z"
   },
   {
    "duration": 27,
    "start_time": "2022-11-28T15:35:03.872Z"
   },
   {
    "duration": 30,
    "start_time": "2022-11-28T15:35:58.992Z"
   },
   {
    "duration": 28,
    "start_time": "2022-11-28T15:36:34.994Z"
   },
   {
    "duration": 23,
    "start_time": "2022-11-28T15:37:09.775Z"
   },
   {
    "duration": 23,
    "start_time": "2022-11-28T15:39:13.361Z"
   },
   {
    "duration": 22,
    "start_time": "2022-11-28T15:39:28.222Z"
   },
   {
    "duration": 31,
    "start_time": "2022-11-28T15:40:31.723Z"
   },
   {
    "duration": 73,
    "start_time": "2022-11-28T15:41:59.580Z"
   },
   {
    "duration": 19,
    "start_time": "2022-11-28T15:42:18.518Z"
   },
   {
    "duration": 19,
    "start_time": "2022-11-28T15:42:42.318Z"
   },
   {
    "duration": 12,
    "start_time": "2022-11-28T15:43:03.324Z"
   },
   {
    "duration": 15,
    "start_time": "2022-11-28T15:45:38.590Z"
   },
   {
    "duration": 13,
    "start_time": "2022-11-28T15:46:14.672Z"
   },
   {
    "duration": 26,
    "start_time": "2022-11-28T15:47:26.339Z"
   },
   {
    "duration": 13,
    "start_time": "2022-11-28T15:47:59.485Z"
   },
   {
    "duration": 16,
    "start_time": "2022-11-28T15:48:06.440Z"
   },
   {
    "duration": 25,
    "start_time": "2022-11-28T15:48:40.375Z"
   },
   {
    "duration": 25,
    "start_time": "2022-11-28T15:49:13.891Z"
   },
   {
    "duration": 31,
    "start_time": "2022-11-28T15:50:18.211Z"
   },
   {
    "duration": 29,
    "start_time": "2022-11-28T15:51:03.378Z"
   },
   {
    "duration": 27,
    "start_time": "2022-11-28T15:51:08.633Z"
   },
   {
    "duration": 25,
    "start_time": "2022-11-28T15:51:31.982Z"
   },
   {
    "duration": 23,
    "start_time": "2022-11-28T15:51:50.805Z"
   },
   {
    "duration": 24,
    "start_time": "2022-11-28T15:55:33.408Z"
   },
   {
    "duration": 25,
    "start_time": "2022-11-28T15:55:52.508Z"
   },
   {
    "duration": 22,
    "start_time": "2022-11-28T15:58:30.943Z"
   },
   {
    "duration": 27,
    "start_time": "2022-11-28T16:00:02.618Z"
   },
   {
    "duration": 20,
    "start_time": "2022-11-28T16:02:00.061Z"
   },
   {
    "duration": 25,
    "start_time": "2022-11-28T16:02:53.769Z"
   },
   {
    "duration": 2520,
    "start_time": "2022-11-28T16:03:13.702Z"
   },
   {
    "duration": 72,
    "start_time": "2022-11-28T16:03:16.224Z"
   },
   {
    "duration": 40,
    "start_time": "2022-11-28T16:03:16.297Z"
   },
   {
    "duration": 2671,
    "start_time": "2022-11-28T16:03:16.339Z"
   },
   {
    "duration": 257,
    "start_time": "2022-11-28T16:03:19.012Z"
   },
   {
    "duration": 28,
    "start_time": "2022-11-28T16:03:19.271Z"
   },
   {
    "duration": 51,
    "start_time": "2022-11-28T16:03:19.301Z"
   },
   {
    "duration": 23,
    "start_time": "2022-11-28T16:03:26.437Z"
   },
   {
    "duration": 5,
    "start_time": "2022-11-28T16:04:41.013Z"
   },
   {
    "duration": 22,
    "start_time": "2022-11-28T16:04:50.941Z"
   },
   {
    "duration": 25,
    "start_time": "2022-11-28T16:05:02.007Z"
   },
   {
    "duration": 30,
    "start_time": "2022-11-28T16:05:11.170Z"
   },
   {
    "duration": 13,
    "start_time": "2022-11-28T16:06:08.021Z"
   },
   {
    "duration": 15,
    "start_time": "2022-11-28T16:06:16.974Z"
   },
   {
    "duration": 14,
    "start_time": "2022-11-28T16:06:32.462Z"
   },
   {
    "duration": 16,
    "start_time": "2022-11-28T16:08:26.519Z"
   },
   {
    "duration": 12,
    "start_time": "2022-11-28T16:09:04.413Z"
   },
   {
    "duration": 18,
    "start_time": "2022-11-28T16:09:11.824Z"
   },
   {
    "duration": 12,
    "start_time": "2022-11-28T16:10:04.651Z"
   },
   {
    "duration": 14,
    "start_time": "2022-11-28T16:10:14.402Z"
   },
   {
    "duration": 17,
    "start_time": "2022-11-28T16:10:18.295Z"
   },
   {
    "duration": 17,
    "start_time": "2022-11-28T16:10:25.605Z"
   },
   {
    "duration": 19,
    "start_time": "2022-11-28T16:13:46.939Z"
   },
   {
    "duration": 18,
    "start_time": "2022-11-28T16:15:49.339Z"
   },
   {
    "duration": 13,
    "start_time": "2022-11-28T16:17:50.804Z"
   },
   {
    "duration": 13,
    "start_time": "2022-11-28T16:20:44.689Z"
   },
   {
    "duration": 29,
    "start_time": "2022-11-28T16:21:14.741Z"
   },
   {
    "duration": 16,
    "start_time": "2022-11-28T16:21:33.957Z"
   },
   {
    "duration": 16,
    "start_time": "2022-11-28T16:21:42.511Z"
   },
   {
    "duration": 15,
    "start_time": "2022-11-28T16:22:04.580Z"
   },
   {
    "duration": 13,
    "start_time": "2022-11-28T16:22:33.606Z"
   },
   {
    "duration": 2657,
    "start_time": "2022-11-28T16:22:42.048Z"
   },
   {
    "duration": 74,
    "start_time": "2022-11-28T16:22:44.707Z"
   },
   {
    "duration": 35,
    "start_time": "2022-11-28T16:22:44.782Z"
   },
   {
    "duration": 2919,
    "start_time": "2022-11-28T16:22:44.819Z"
   },
   {
    "duration": 213,
    "start_time": "2022-11-28T16:22:47.739Z"
   },
   {
    "duration": 21,
    "start_time": "2022-11-28T16:22:47.954Z"
   },
   {
    "duration": 12,
    "start_time": "2022-11-28T16:22:47.977Z"
   },
   {
    "duration": 14,
    "start_time": "2022-11-28T16:24:25.510Z"
   },
   {
    "duration": 17,
    "start_time": "2022-11-28T16:24:50.281Z"
   },
   {
    "duration": 45,
    "start_time": "2022-11-28T16:25:21.015Z"
   },
   {
    "duration": 19,
    "start_time": "2022-11-28T16:28:47.025Z"
   },
   {
    "duration": 35,
    "start_time": "2022-11-28T16:29:04.838Z"
   },
   {
    "duration": 36,
    "start_time": "2022-11-28T16:30:00.911Z"
   },
   {
    "duration": 33,
    "start_time": "2022-11-28T16:30:22.891Z"
   },
   {
    "duration": 2625,
    "start_time": "2022-11-28T16:30:28.177Z"
   },
   {
    "duration": 84,
    "start_time": "2022-11-28T16:30:30.804Z"
   },
   {
    "duration": 34,
    "start_time": "2022-11-28T16:30:30.889Z"
   },
   {
    "duration": 2689,
    "start_time": "2022-11-28T16:30:30.925Z"
   },
   {
    "duration": 212,
    "start_time": "2022-11-28T16:30:33.616Z"
   },
   {
    "duration": 30,
    "start_time": "2022-11-28T16:30:33.830Z"
   },
   {
    "duration": 34,
    "start_time": "2022-11-28T16:30:33.863Z"
   },
   {
    "duration": 34,
    "start_time": "2022-11-28T16:31:20.965Z"
   },
   {
    "duration": 35,
    "start_time": "2022-11-28T16:31:48.403Z"
   },
   {
    "duration": 17,
    "start_time": "2022-11-28T16:33:39.680Z"
   },
   {
    "duration": 23,
    "start_time": "2022-11-28T16:33:55.026Z"
   },
   {
    "duration": 3427,
    "start_time": "2022-11-28T16:37:56.811Z"
   },
   {
    "duration": 232,
    "start_time": "2022-11-28T16:38:17.846Z"
   },
   {
    "duration": 238,
    "start_time": "2022-11-28T16:38:38.670Z"
   },
   {
    "duration": 185,
    "start_time": "2022-11-28T16:40:51.761Z"
   },
   {
    "duration": 199,
    "start_time": "2022-11-28T16:41:05.063Z"
   },
   {
    "duration": 5,
    "start_time": "2022-11-28T16:43:37.058Z"
   },
   {
    "duration": 207,
    "start_time": "2022-11-28T16:44:01.831Z"
   },
   {
    "duration": 192,
    "start_time": "2022-11-28T16:46:00.686Z"
   },
   {
    "duration": 249,
    "start_time": "2022-11-28T16:46:06.005Z"
   },
   {
    "duration": 2831,
    "start_time": "2022-11-28T16:46:14.425Z"
   },
   {
    "duration": 95,
    "start_time": "2022-11-28T16:46:17.258Z"
   },
   {
    "duration": 46,
    "start_time": "2022-11-28T16:46:17.355Z"
   },
   {
    "duration": 2877,
    "start_time": "2022-11-28T16:46:17.403Z"
   },
   {
    "duration": 210,
    "start_time": "2022-11-28T16:46:20.282Z"
   },
   {
    "duration": 29,
    "start_time": "2022-11-28T16:46:20.494Z"
   },
   {
    "duration": 216,
    "start_time": "2022-11-28T16:46:20.538Z"
   },
   {
    "duration": 0,
    "start_time": "2022-11-28T16:46:20.757Z"
   },
   {
    "duration": 203,
    "start_time": "2022-11-28T16:46:50.436Z"
   },
   {
    "duration": 189,
    "start_time": "2022-11-28T16:47:01.730Z"
   },
   {
    "duration": 86,
    "start_time": "2022-11-28T16:50:45.356Z"
   },
   {
    "duration": 32,
    "start_time": "2022-11-28T16:51:21.145Z"
   },
   {
    "duration": 28,
    "start_time": "2022-11-28T16:52:13.049Z"
   },
   {
    "duration": 30,
    "start_time": "2022-11-28T16:52:20.635Z"
   },
   {
    "duration": 2106,
    "start_time": "2022-11-28T16:58:10.141Z"
   },
   {
    "duration": 4112,
    "start_time": "2022-11-29T07:29:34.307Z"
   },
   {
    "duration": 209,
    "start_time": "2022-11-29T07:29:38.422Z"
   },
   {
    "duration": 43,
    "start_time": "2022-11-29T07:29:38.633Z"
   },
   {
    "duration": 2260,
    "start_time": "2022-11-29T07:29:38.679Z"
   },
   {
    "duration": 201,
    "start_time": "2022-11-29T07:29:40.942Z"
   },
   {
    "duration": 84,
    "start_time": "2022-11-29T07:29:41.145Z"
   },
   {
    "duration": 0,
    "start_time": "2022-11-29T07:29:41.231Z"
   },
   {
    "duration": 0,
    "start_time": "2022-11-29T07:29:41.232Z"
   },
   {
    "duration": 4,
    "start_time": "2022-11-29T07:29:54.838Z"
   },
   {
    "duration": 4,
    "start_time": "2022-11-29T07:32:59.814Z"
   },
   {
    "duration": 10,
    "start_time": "2022-11-29T07:33:08.703Z"
   },
   {
    "duration": 12,
    "start_time": "2022-11-29T07:33:44.574Z"
   },
   {
    "duration": 192,
    "start_time": "2022-11-29T07:34:20.864Z"
   },
   {
    "duration": 13,
    "start_time": "2022-11-29T07:35:34.774Z"
   },
   {
    "duration": 18,
    "start_time": "2022-11-29T07:36:09.117Z"
   },
   {
    "duration": 17,
    "start_time": "2022-11-29T07:36:56.143Z"
   },
   {
    "duration": 15,
    "start_time": "2022-11-29T07:37:26.713Z"
   },
   {
    "duration": 27,
    "start_time": "2022-11-29T07:38:51.151Z"
   },
   {
    "duration": 17,
    "start_time": "2022-11-29T07:39:43.829Z"
   },
   {
    "duration": 25,
    "start_time": "2022-11-29T07:40:24.643Z"
   },
   {
    "duration": 8842,
    "start_time": "2022-11-29T07:43:41.006Z"
   },
   {
    "duration": 35,
    "start_time": "2022-11-29T07:44:44.939Z"
   },
   {
    "duration": 8642,
    "start_time": "2022-11-29T07:45:02.604Z"
   },
   {
    "duration": 208,
    "start_time": "2022-11-29T07:48:21.627Z"
   },
   {
    "duration": 1712,
    "start_time": "2022-11-29T07:49:45.819Z"
   },
   {
    "duration": 3164,
    "start_time": "2022-11-29T08:05:57.474Z"
   },
   {
    "duration": 21,
    "start_time": "2022-11-29T08:18:51.749Z"
   },
   {
    "duration": 12,
    "start_time": "2022-11-29T08:19:27.996Z"
   },
   {
    "duration": 18,
    "start_time": "2022-11-29T08:19:51.672Z"
   },
   {
    "duration": 3100,
    "start_time": "2022-11-29T08:19:55.197Z"
   },
   {
    "duration": 73,
    "start_time": "2022-11-29T08:19:58.299Z"
   },
   {
    "duration": 29,
    "start_time": "2022-11-29T08:19:58.374Z"
   },
   {
    "duration": 2423,
    "start_time": "2022-11-29T08:19:58.405Z"
   },
   {
    "duration": 200,
    "start_time": "2022-11-29T08:20:00.830Z"
   },
   {
    "duration": 2115,
    "start_time": "2022-11-29T08:20:01.032Z"
   },
   {
    "duration": 33,
    "start_time": "2022-11-29T08:20:03.149Z"
   },
   {
    "duration": 226,
    "start_time": "2022-11-29T08:20:03.184Z"
   },
   {
    "duration": 2658,
    "start_time": "2022-11-29T08:20:25.236Z"
   },
   {
    "duration": 12,
    "start_time": "2022-11-29T08:23:21.627Z"
   },
   {
    "duration": 24,
    "start_time": "2022-11-29T08:23:51.083Z"
   },
   {
    "duration": 25,
    "start_time": "2022-11-29T08:24:55.122Z"
   },
   {
    "duration": 3774,
    "start_time": "2022-11-29T09:01:43.423Z"
   },
   {
    "duration": 148,
    "start_time": "2022-11-29T09:01:47.199Z"
   },
   {
    "duration": 39,
    "start_time": "2022-11-29T09:01:47.348Z"
   },
   {
    "duration": 2746,
    "start_time": "2022-11-29T09:01:47.389Z"
   },
   {
    "duration": 203,
    "start_time": "2022-11-29T09:01:50.136Z"
   },
   {
    "duration": 1656,
    "start_time": "2022-11-29T09:01:50.341Z"
   },
   {
    "duration": 21,
    "start_time": "2022-11-29T09:01:51.999Z"
   },
   {
    "duration": 208,
    "start_time": "2022-11-29T09:01:52.022Z"
   },
   {
    "duration": 11,
    "start_time": "2022-11-29T09:37:04.923Z"
   },
   {
    "duration": 7,
    "start_time": "2022-11-29T09:37:09.002Z"
   },
   {
    "duration": 13,
    "start_time": "2022-11-29T09:41:28.271Z"
   },
   {
    "duration": 93,
    "start_time": "2022-11-29T09:41:55.478Z"
   },
   {
    "duration": 86,
    "start_time": "2022-11-29T09:42:03.784Z"
   },
   {
    "duration": 3336,
    "start_time": "2022-11-29T09:42:11.077Z"
   },
   {
    "duration": 68,
    "start_time": "2022-11-29T09:42:14.416Z"
   },
   {
    "duration": 68,
    "start_time": "2022-11-29T09:42:14.486Z"
   },
   {
    "duration": 42,
    "start_time": "2022-11-29T09:42:14.556Z"
   },
   {
    "duration": 2546,
    "start_time": "2022-11-29T09:42:14.600Z"
   },
   {
    "duration": 203,
    "start_time": "2022-11-29T09:42:17.148Z"
   },
   {
    "duration": 1639,
    "start_time": "2022-11-29T09:42:17.353Z"
   },
   {
    "duration": 21,
    "start_time": "2022-11-29T09:42:18.994Z"
   },
   {
    "duration": 215,
    "start_time": "2022-11-29T09:42:19.017Z"
   },
   {
    "duration": 8,
    "start_time": "2022-11-29T09:42:37.574Z"
   },
   {
    "duration": 6,
    "start_time": "2022-11-29T09:42:42.982Z"
   },
   {
    "duration": 455,
    "start_time": "2022-11-29T13:49:35.343Z"
   },
   {
    "duration": 3548,
    "start_time": "2022-11-29T13:49:35.800Z"
   },
   {
    "duration": 173,
    "start_time": "2022-11-29T13:49:39.351Z"
   },
   {
    "duration": 51,
    "start_time": "2022-11-29T13:49:39.527Z"
   },
   {
    "duration": 2733,
    "start_time": "2022-11-29T13:49:39.581Z"
   },
   {
    "duration": 213,
    "start_time": "2022-11-29T13:49:42.316Z"
   },
   {
    "duration": 1735,
    "start_time": "2022-11-29T13:49:42.531Z"
   },
   {
    "duration": 23,
    "start_time": "2022-11-29T13:49:44.268Z"
   },
   {
    "duration": 215,
    "start_time": "2022-11-29T13:49:44.292Z"
   },
   {
    "duration": 3108,
    "start_time": "2022-11-29T13:50:05.442Z"
   },
   {
    "duration": 3071,
    "start_time": "2022-11-29T13:50:25.396Z"
   },
   {
    "duration": 2966,
    "start_time": "2022-11-29T13:51:09.919Z"
   },
   {
    "duration": 75,
    "start_time": "2022-11-29T13:51:25.851Z"
   },
   {
    "duration": 3001,
    "start_time": "2022-11-29T13:51:31.099Z"
   },
   {
    "duration": 3152,
    "start_time": "2022-11-29T14:04:11.636Z"
   },
   {
    "duration": 144,
    "start_time": "2022-11-29T14:31:47.979Z"
   },
   {
    "duration": 71,
    "start_time": "2022-11-29T14:32:10.752Z"
   },
   {
    "duration": 65,
    "start_time": "2022-11-29T14:32:23.912Z"
   },
   {
    "duration": 102,
    "start_time": "2022-11-29T14:32:49.609Z"
   },
   {
    "duration": 72,
    "start_time": "2022-11-29T14:34:04.566Z"
   },
   {
    "duration": 64,
    "start_time": "2022-11-29T14:34:11.335Z"
   },
   {
    "duration": 69,
    "start_time": "2022-11-29T14:34:15.167Z"
   },
   {
    "duration": 63,
    "start_time": "2022-11-29T14:34:20.282Z"
   },
   {
    "duration": 65,
    "start_time": "2022-11-29T14:34:24.700Z"
   },
   {
    "duration": 62,
    "start_time": "2022-11-29T14:34:28.901Z"
   },
   {
    "duration": 66,
    "start_time": "2022-11-29T14:35:22.850Z"
   },
   {
    "duration": 64,
    "start_time": "2022-11-29T14:35:33.615Z"
   },
   {
    "duration": 71,
    "start_time": "2022-11-29T14:35:48.699Z"
   },
   {
    "duration": 3,
    "start_time": "2022-11-29T14:35:52.564Z"
   },
   {
    "duration": 2882,
    "start_time": "2022-11-29T14:35:52.569Z"
   },
   {
    "duration": 69,
    "start_time": "2022-11-29T14:35:55.453Z"
   },
   {
    "duration": 46,
    "start_time": "2022-11-29T14:35:55.523Z"
   },
   {
    "duration": 2655,
    "start_time": "2022-11-29T14:35:55.572Z"
   },
   {
    "duration": 195,
    "start_time": "2022-11-29T14:35:58.229Z"
   },
   {
    "duration": 1728,
    "start_time": "2022-11-29T14:35:58.426Z"
   },
   {
    "duration": 21,
    "start_time": "2022-11-29T14:36:00.156Z"
   },
   {
    "duration": 216,
    "start_time": "2022-11-29T14:36:00.179Z"
   },
   {
    "duration": 2,
    "start_time": "2022-11-29T14:38:06.030Z"
   },
   {
    "duration": 2683,
    "start_time": "2022-11-29T14:38:06.035Z"
   },
   {
    "duration": 5,
    "start_time": "2022-11-29T14:38:08.720Z"
   },
   {
    "duration": 28,
    "start_time": "2022-11-29T14:38:08.726Z"
   },
   {
    "duration": 38,
    "start_time": "2022-11-29T14:38:08.756Z"
   },
   {
    "duration": 27,
    "start_time": "2022-11-29T14:38:08.796Z"
   },
   {
    "duration": 52,
    "start_time": "2022-11-29T14:38:08.824Z"
   },
   {
    "duration": 2931,
    "start_time": "2022-11-29T14:38:08.878Z"
   },
   {
    "duration": 194,
    "start_time": "2022-11-29T14:38:11.811Z"
   },
   {
    "duration": 1654,
    "start_time": "2022-11-29T14:38:12.007Z"
   },
   {
    "duration": 23,
    "start_time": "2022-11-29T14:38:13.662Z"
   },
   {
    "duration": 200,
    "start_time": "2022-11-29T14:38:13.686Z"
   },
   {
    "duration": 73,
    "start_time": "2022-11-29T14:39:06.581Z"
   },
   {
    "duration": 103,
    "start_time": "2022-11-29T14:39:12.998Z"
   },
   {
    "duration": 33,
    "start_time": "2022-11-29T14:39:54.252Z"
   },
   {
    "duration": 36,
    "start_time": "2022-11-29T14:40:03.902Z"
   },
   {
    "duration": 30,
    "start_time": "2022-11-29T14:40:14.450Z"
   },
   {
    "duration": 73,
    "start_time": "2022-11-29T14:40:19.827Z"
   },
   {
    "duration": 37,
    "start_time": "2022-11-29T14:40:36.949Z"
   },
   {
    "duration": 94,
    "start_time": "2022-11-29T14:41:33.383Z"
   },
   {
    "duration": 77,
    "start_time": "2022-11-29T14:41:42.632Z"
   },
   {
    "duration": 72,
    "start_time": "2022-11-29T14:41:52.518Z"
   },
   {
    "duration": 78,
    "start_time": "2022-11-29T14:42:24.943Z"
   },
   {
    "duration": 84,
    "start_time": "2022-11-29T14:42:49.014Z"
   },
   {
    "duration": 98,
    "start_time": "2022-11-29T14:46:08.442Z"
   },
   {
    "duration": 239,
    "start_time": "2022-11-29T14:55:15.133Z"
   },
   {
    "duration": 175,
    "start_time": "2022-11-29T14:55:23.435Z"
   },
   {
    "duration": 159,
    "start_time": "2022-11-29T14:55:30.212Z"
   },
   {
    "duration": 3,
    "start_time": "2022-11-29T14:58:28.176Z"
   },
   {
    "duration": 3298,
    "start_time": "2022-11-29T14:58:28.182Z"
   },
   {
    "duration": 5,
    "start_time": "2022-11-29T14:58:31.482Z"
   },
   {
    "duration": 23,
    "start_time": "2022-11-29T14:58:31.489Z"
   },
   {
    "duration": 48,
    "start_time": "2022-11-29T14:58:31.515Z"
   },
   {
    "duration": 24,
    "start_time": "2022-11-29T14:58:31.564Z"
   },
   {
    "duration": 31,
    "start_time": "2022-11-29T14:58:31.589Z"
   },
   {
    "duration": 241,
    "start_time": "2022-11-29T14:58:31.622Z"
   },
   {
    "duration": 194,
    "start_time": "2022-11-29T14:58:31.865Z"
   },
   {
    "duration": 201,
    "start_time": "2022-11-29T14:58:32.062Z"
   },
   {
    "duration": 181,
    "start_time": "2022-11-29T14:58:32.267Z"
   },
   {
    "duration": 170,
    "start_time": "2022-11-29T14:58:32.451Z"
   },
   {
    "duration": 186,
    "start_time": "2022-11-29T14:58:32.623Z"
   },
   {
    "duration": 170,
    "start_time": "2022-11-29T14:58:32.811Z"
   },
   {
    "duration": 180,
    "start_time": "2022-11-29T14:58:32.982Z"
   },
   {
    "duration": 169,
    "start_time": "2022-11-29T14:58:33.164Z"
   },
   {
    "duration": 169,
    "start_time": "2022-11-29T14:58:33.335Z"
   },
   {
    "duration": 177,
    "start_time": "2022-11-29T14:58:33.506Z"
   },
   {
    "duration": 159,
    "start_time": "2022-11-29T14:58:33.685Z"
   },
   {
    "duration": 207,
    "start_time": "2022-11-29T14:58:33.846Z"
   },
   {
    "duration": 1639,
    "start_time": "2022-11-29T14:58:34.056Z"
   },
   {
    "duration": 21,
    "start_time": "2022-11-29T14:58:35.696Z"
   },
   {
    "duration": 208,
    "start_time": "2022-11-29T14:58:35.719Z"
   },
   {
    "duration": 167,
    "start_time": "2022-11-29T14:59:07.635Z"
   },
   {
    "duration": 191,
    "start_time": "2022-11-29T15:05:20.301Z"
   },
   {
    "duration": 163,
    "start_time": "2022-11-29T15:06:50.635Z"
   },
   {
    "duration": 152,
    "start_time": "2022-11-29T15:06:56.018Z"
   },
   {
    "duration": 189,
    "start_time": "2022-11-29T15:07:18.569Z"
   },
   {
    "duration": 180,
    "start_time": "2022-11-29T15:07:37.397Z"
   },
   {
    "duration": 162,
    "start_time": "2022-11-29T15:07:59.268Z"
   },
   {
    "duration": 173,
    "start_time": "2022-11-29T15:08:14.019Z"
   },
   {
    "duration": 163,
    "start_time": "2022-11-29T15:08:37.382Z"
   },
   {
    "duration": 172,
    "start_time": "2022-11-29T15:08:46.117Z"
   },
   {
    "duration": 163,
    "start_time": "2022-11-29T15:09:04.996Z"
   },
   {
    "duration": 16,
    "start_time": "2022-11-29T15:09:17.885Z"
   },
   {
    "duration": 1235,
    "start_time": "2022-11-29T15:10:01.353Z"
   },
   {
    "duration": 177,
    "start_time": "2022-11-29T15:10:08.118Z"
   },
   {
    "duration": 163,
    "start_time": "2022-11-29T15:10:41.670Z"
   },
   {
    "duration": 213,
    "start_time": "2022-11-29T15:10:59.621Z"
   },
   {
    "duration": 191,
    "start_time": "2022-11-29T15:11:14.780Z"
   },
   {
    "duration": 148,
    "start_time": "2022-11-29T15:11:28.336Z"
   },
   {
    "duration": 54,
    "start_time": "2022-11-29T20:15:01.386Z"
   },
   {
    "duration": 384,
    "start_time": "2022-11-29T20:15:42.277Z"
   },
   {
    "duration": 3271,
    "start_time": "2022-11-29T20:15:42.663Z"
   },
   {
    "duration": 7,
    "start_time": "2022-11-29T20:15:45.936Z"
   },
   {
    "duration": 16,
    "start_time": "2022-11-29T20:15:45.945Z"
   },
   {
    "duration": 32,
    "start_time": "2022-11-29T20:15:45.964Z"
   },
   {
    "duration": 132,
    "start_time": "2022-11-29T20:15:45.997Z"
   },
   {
    "duration": 35,
    "start_time": "2022-11-29T20:15:46.131Z"
   },
   {
    "duration": 187,
    "start_time": "2022-11-29T20:15:46.168Z"
   },
   {
    "duration": 192,
    "start_time": "2022-11-29T20:15:46.357Z"
   },
   {
    "duration": 198,
    "start_time": "2022-11-29T20:15:46.551Z"
   },
   {
    "duration": 71,
    "start_time": "2022-11-29T20:15:46.750Z"
   },
   {
    "duration": 0,
    "start_time": "2022-11-29T20:15:46.823Z"
   },
   {
    "duration": 0,
    "start_time": "2022-11-29T20:15:46.823Z"
   },
   {
    "duration": 0,
    "start_time": "2022-11-29T20:15:46.824Z"
   },
   {
    "duration": 0,
    "start_time": "2022-11-29T20:15:46.826Z"
   },
   {
    "duration": 0,
    "start_time": "2022-11-29T20:15:46.827Z"
   },
   {
    "duration": 0,
    "start_time": "2022-11-29T20:15:46.828Z"
   },
   {
    "duration": 0,
    "start_time": "2022-11-29T20:15:46.830Z"
   },
   {
    "duration": 0,
    "start_time": "2022-11-29T20:15:46.830Z"
   },
   {
    "duration": 0,
    "start_time": "2022-11-29T20:15:46.831Z"
   },
   {
    "duration": 0,
    "start_time": "2022-11-29T20:15:46.832Z"
   },
   {
    "duration": 0,
    "start_time": "2022-11-29T20:15:46.833Z"
   },
   {
    "duration": 0,
    "start_time": "2022-11-29T20:15:46.834Z"
   },
   {
    "duration": 3,
    "start_time": "2022-11-29T20:16:20.424Z"
   },
   {
    "duration": 2732,
    "start_time": "2022-11-29T20:16:20.429Z"
   },
   {
    "duration": 5,
    "start_time": "2022-11-29T20:16:23.163Z"
   },
   {
    "duration": 19,
    "start_time": "2022-11-29T20:16:23.170Z"
   },
   {
    "duration": 53,
    "start_time": "2022-11-29T20:16:23.190Z"
   },
   {
    "duration": 22,
    "start_time": "2022-11-29T20:16:23.245Z"
   },
   {
    "duration": 32,
    "start_time": "2022-11-29T20:16:23.269Z"
   },
   {
    "duration": 192,
    "start_time": "2022-11-29T20:16:23.303Z"
   },
   {
    "duration": 203,
    "start_time": "2022-11-29T20:16:23.498Z"
   },
   {
    "duration": 195,
    "start_time": "2022-11-29T20:16:23.702Z"
   },
   {
    "duration": 104,
    "start_time": "2022-11-29T20:16:23.899Z"
   },
   {
    "duration": 0,
    "start_time": "2022-11-29T20:16:24.004Z"
   },
   {
    "duration": 0,
    "start_time": "2022-11-29T20:16:24.006Z"
   },
   {
    "duration": 0,
    "start_time": "2022-11-29T20:16:24.007Z"
   },
   {
    "duration": 0,
    "start_time": "2022-11-29T20:16:24.008Z"
   },
   {
    "duration": 0,
    "start_time": "2022-11-29T20:16:24.009Z"
   },
   {
    "duration": 0,
    "start_time": "2022-11-29T20:16:24.010Z"
   },
   {
    "duration": 0,
    "start_time": "2022-11-29T20:16:24.011Z"
   },
   {
    "duration": 0,
    "start_time": "2022-11-29T20:16:24.011Z"
   },
   {
    "duration": 0,
    "start_time": "2022-11-29T20:16:24.013Z"
   },
   {
    "duration": 0,
    "start_time": "2022-11-29T20:16:24.013Z"
   },
   {
    "duration": 0,
    "start_time": "2022-11-29T20:16:24.014Z"
   },
   {
    "duration": 0,
    "start_time": "2022-11-29T20:16:24.015Z"
   },
   {
    "duration": 163,
    "start_time": "2022-11-29T20:16:40.351Z"
   },
   {
    "duration": 939,
    "start_time": "2022-11-29T20:17:06.202Z"
   },
   {
    "duration": 187,
    "start_time": "2022-11-29T20:17:24.080Z"
   },
   {
    "duration": 788,
    "start_time": "2022-11-29T20:17:48.360Z"
   },
   {
    "duration": 158,
    "start_time": "2022-11-29T20:18:12.486Z"
   },
   {
    "duration": 172,
    "start_time": "2022-11-29T20:18:21.369Z"
   },
   {
    "duration": 166,
    "start_time": "2022-11-29T20:18:48.243Z"
   },
   {
    "duration": 155,
    "start_time": "2022-11-29T20:19:53.760Z"
   },
   {
    "duration": 4,
    "start_time": "2022-11-29T20:20:25.274Z"
   },
   {
    "duration": 156,
    "start_time": "2022-11-29T20:20:31.176Z"
   },
   {
    "duration": 164,
    "start_time": "2022-11-29T20:20:57.895Z"
   },
   {
    "duration": 163,
    "start_time": "2022-11-29T20:20:58.060Z"
   },
   {
    "duration": 12,
    "start_time": "2022-11-29T20:20:58.225Z"
   },
   {
    "duration": 0,
    "start_time": "2022-11-29T20:20:58.239Z"
   },
   {
    "duration": 0,
    "start_time": "2022-11-29T20:20:58.240Z"
   },
   {
    "duration": 0,
    "start_time": "2022-11-29T20:20:58.240Z"
   },
   {
    "duration": 0,
    "start_time": "2022-11-29T20:20:58.242Z"
   },
   {
    "duration": 0,
    "start_time": "2022-11-29T20:20:58.243Z"
   },
   {
    "duration": 0,
    "start_time": "2022-11-29T20:20:58.243Z"
   },
   {
    "duration": 0,
    "start_time": "2022-11-29T20:20:58.244Z"
   },
   {
    "duration": 0,
    "start_time": "2022-11-29T20:20:58.245Z"
   },
   {
    "duration": 0,
    "start_time": "2022-11-29T20:20:58.246Z"
   },
   {
    "duration": 177,
    "start_time": "2022-11-29T20:26:27.788Z"
   },
   {
    "duration": 159,
    "start_time": "2022-11-29T20:27:32.019Z"
   },
   {
    "duration": 164,
    "start_time": "2022-11-29T20:32:41.472Z"
   },
   {
    "duration": 151,
    "start_time": "2022-11-29T20:34:15.962Z"
   },
   {
    "duration": 149,
    "start_time": "2022-11-29T20:35:08.078Z"
   },
   {
    "duration": 144,
    "start_time": "2022-11-29T20:39:21.702Z"
   },
   {
    "duration": 333,
    "start_time": "2022-11-29T20:40:15.697Z"
   },
   {
    "duration": 168,
    "start_time": "2022-11-29T20:41:21.354Z"
   },
   {
    "duration": 1500,
    "start_time": "2022-11-29T20:41:27.495Z"
   },
   {
    "duration": 175,
    "start_time": "2022-11-29T20:41:45.453Z"
   },
   {
    "duration": 682,
    "start_time": "2022-11-29T21:22:49.382Z"
   },
   {
    "duration": 676,
    "start_time": "2022-11-29T21:23:08.756Z"
   },
   {
    "duration": 1851,
    "start_time": "2022-11-29T21:23:30.016Z"
   },
   {
    "duration": 1614,
    "start_time": "2022-11-29T21:24:11.218Z"
   },
   {
    "duration": 1364,
    "start_time": "2022-11-29T21:26:44.910Z"
   },
   {
    "duration": 137,
    "start_time": "2022-11-29T21:27:30.306Z"
   },
   {
    "duration": 1275,
    "start_time": "2022-11-29T21:32:42.453Z"
   },
   {
    "duration": 1043,
    "start_time": "2022-11-29T21:33:04.333Z"
   },
   {
    "duration": 1035,
    "start_time": "2022-11-29T21:33:42.247Z"
   },
   {
    "duration": 429,
    "start_time": "2022-11-29T21:35:14.604Z"
   },
   {
    "duration": 2809,
    "start_time": "2022-11-29T21:35:15.035Z"
   },
   {
    "duration": 7,
    "start_time": "2022-11-29T21:35:17.845Z"
   },
   {
    "duration": 20,
    "start_time": "2022-11-29T21:35:17.854Z"
   },
   {
    "duration": 33,
    "start_time": "2022-11-29T21:35:17.875Z"
   },
   {
    "duration": 24,
    "start_time": "2022-11-29T21:35:17.910Z"
   },
   {
    "duration": 28,
    "start_time": "2022-11-29T21:35:17.935Z"
   },
   {
    "duration": 174,
    "start_time": "2022-11-29T21:35:17.964Z"
   },
   {
    "duration": 265,
    "start_time": "2022-11-29T21:35:18.139Z"
   },
   {
    "duration": 182,
    "start_time": "2022-11-29T21:35:18.407Z"
   },
   {
    "duration": 163,
    "start_time": "2022-11-29T21:35:18.591Z"
   },
   {
    "duration": 167,
    "start_time": "2022-11-29T21:35:18.755Z"
   },
   {
    "duration": 165,
    "start_time": "2022-11-29T21:35:18.923Z"
   },
   {
    "duration": 181,
    "start_time": "2022-11-29T21:35:19.090Z"
   },
   {
    "duration": 177,
    "start_time": "2022-11-29T21:35:19.274Z"
   },
   {
    "duration": 164,
    "start_time": "2022-11-29T21:35:19.453Z"
   },
   {
    "duration": 169,
    "start_time": "2022-11-29T21:35:19.618Z"
   },
   {
    "duration": 190,
    "start_time": "2022-11-29T21:35:19.789Z"
   },
   {
    "duration": 154,
    "start_time": "2022-11-29T21:35:19.981Z"
   },
   {
    "duration": 294,
    "start_time": "2022-11-29T21:35:20.137Z"
   },
   {
    "duration": 1098,
    "start_time": "2022-11-29T21:35:20.433Z"
   },
   {
    "duration": 25,
    "start_time": "2022-11-29T21:35:21.533Z"
   },
   {
    "duration": 208,
    "start_time": "2022-11-29T21:35:21.559Z"
   },
   {
    "duration": 1235,
    "start_time": "2022-11-29T21:36:23.807Z"
   },
   {
    "duration": 905,
    "start_time": "2022-11-29T21:36:43.532Z"
   },
   {
    "duration": 1068,
    "start_time": "2022-11-29T21:37:11.374Z"
   },
   {
    "duration": 914,
    "start_time": "2022-11-29T21:37:30.033Z"
   },
   {
    "duration": 1350,
    "start_time": "2022-11-29T21:38:21.373Z"
   },
   {
    "duration": 1199,
    "start_time": "2022-11-29T21:38:43.636Z"
   },
   {
    "duration": 393,
    "start_time": "2022-11-29T21:42:54.920Z"
   },
   {
    "duration": 2921,
    "start_time": "2022-11-29T21:42:55.315Z"
   },
   {
    "duration": 6,
    "start_time": "2022-11-29T21:42:58.237Z"
   },
   {
    "duration": 19,
    "start_time": "2022-11-29T21:42:58.245Z"
   },
   {
    "duration": 39,
    "start_time": "2022-11-29T21:42:58.265Z"
   },
   {
    "duration": 28,
    "start_time": "2022-11-29T21:42:58.306Z"
   },
   {
    "duration": 30,
    "start_time": "2022-11-29T21:42:58.335Z"
   },
   {
    "duration": 201,
    "start_time": "2022-11-29T21:42:58.368Z"
   },
   {
    "duration": 279,
    "start_time": "2022-11-29T21:42:58.571Z"
   },
   {
    "duration": 178,
    "start_time": "2022-11-29T21:42:58.853Z"
   },
   {
    "duration": 173,
    "start_time": "2022-11-29T21:42:59.032Z"
   },
   {
    "duration": 183,
    "start_time": "2022-11-29T21:42:59.206Z"
   },
   {
    "duration": 165,
    "start_time": "2022-11-29T21:42:59.391Z"
   },
   {
    "duration": 147,
    "start_time": "2022-11-29T21:42:59.558Z"
   },
   {
    "duration": 174,
    "start_time": "2022-11-29T21:42:59.706Z"
   },
   {
    "duration": 174,
    "start_time": "2022-11-29T21:42:59.882Z"
   },
   {
    "duration": 173,
    "start_time": "2022-11-29T21:43:00.058Z"
   },
   {
    "duration": 173,
    "start_time": "2022-11-29T21:43:00.232Z"
   },
   {
    "duration": 160,
    "start_time": "2022-11-29T21:43:00.406Z"
   },
   {
    "duration": 292,
    "start_time": "2022-11-29T21:43:00.567Z"
   },
   {
    "duration": 1152,
    "start_time": "2022-11-29T21:43:00.860Z"
   },
   {
    "duration": 20,
    "start_time": "2022-11-29T21:43:02.014Z"
   },
   {
    "duration": 195,
    "start_time": "2022-11-29T21:43:02.035Z"
   },
   {
    "duration": 394,
    "start_time": "2022-11-29T21:46:05.007Z"
   },
   {
    "duration": 2729,
    "start_time": "2022-11-29T21:46:05.403Z"
   },
   {
    "duration": 6,
    "start_time": "2022-11-29T21:46:08.133Z"
   },
   {
    "duration": 19,
    "start_time": "2022-11-29T21:46:08.140Z"
   },
   {
    "duration": 32,
    "start_time": "2022-11-29T21:46:08.160Z"
   },
   {
    "duration": 33,
    "start_time": "2022-11-29T21:46:08.193Z"
   },
   {
    "duration": 29,
    "start_time": "2022-11-29T21:46:08.228Z"
   },
   {
    "duration": 168,
    "start_time": "2022-11-29T21:46:08.259Z"
   },
   {
    "duration": 257,
    "start_time": "2022-11-29T21:46:08.428Z"
   },
   {
    "duration": 173,
    "start_time": "2022-11-29T21:46:08.688Z"
   },
   {
    "duration": 159,
    "start_time": "2022-11-29T21:46:08.863Z"
   },
   {
    "duration": 158,
    "start_time": "2022-11-29T21:46:09.023Z"
   },
   {
    "duration": 155,
    "start_time": "2022-11-29T21:46:09.182Z"
   },
   {
    "duration": 141,
    "start_time": "2022-11-29T21:46:09.338Z"
   },
   {
    "duration": 161,
    "start_time": "2022-11-29T21:46:09.481Z"
   },
   {
    "duration": 156,
    "start_time": "2022-11-29T21:46:09.643Z"
   },
   {
    "duration": 159,
    "start_time": "2022-11-29T21:46:09.801Z"
   },
   {
    "duration": 164,
    "start_time": "2022-11-29T21:46:09.962Z"
   },
   {
    "duration": 144,
    "start_time": "2022-11-29T21:46:10.128Z"
   },
   {
    "duration": 282,
    "start_time": "2022-11-29T21:46:10.273Z"
   },
   {
    "duration": 840,
    "start_time": "2022-11-29T21:46:10.556Z"
   },
   {
    "duration": 30,
    "start_time": "2022-11-29T21:46:11.398Z"
   },
   {
    "duration": 178,
    "start_time": "2022-11-29T21:46:11.429Z"
   },
   {
    "duration": 347,
    "start_time": "2022-11-29T21:49:06.265Z"
   },
   {
    "duration": 2674,
    "start_time": "2022-11-29T21:49:06.613Z"
   },
   {
    "duration": 6,
    "start_time": "2022-11-29T21:49:09.289Z"
   },
   {
    "duration": 18,
    "start_time": "2022-11-29T21:49:09.297Z"
   },
   {
    "duration": 39,
    "start_time": "2022-11-29T21:49:09.317Z"
   },
   {
    "duration": 26,
    "start_time": "2022-11-29T21:49:09.358Z"
   },
   {
    "duration": 47,
    "start_time": "2022-11-29T21:49:09.386Z"
   },
   {
    "duration": 163,
    "start_time": "2022-11-29T21:49:09.435Z"
   },
   {
    "duration": 254,
    "start_time": "2022-11-29T21:49:09.600Z"
   },
   {
    "duration": 175,
    "start_time": "2022-11-29T21:49:09.856Z"
   },
   {
    "duration": 181,
    "start_time": "2022-11-29T21:49:10.033Z"
   },
   {
    "duration": 161,
    "start_time": "2022-11-29T21:49:10.216Z"
   },
   {
    "duration": 151,
    "start_time": "2022-11-29T21:49:10.378Z"
   },
   {
    "duration": 141,
    "start_time": "2022-11-29T21:49:10.531Z"
   },
   {
    "duration": 159,
    "start_time": "2022-11-29T21:49:10.674Z"
   },
   {
    "duration": 153,
    "start_time": "2022-11-29T21:49:10.834Z"
   },
   {
    "duration": 160,
    "start_time": "2022-11-29T21:49:10.988Z"
   },
   {
    "duration": 164,
    "start_time": "2022-11-29T21:49:11.150Z"
   },
   {
    "duration": 146,
    "start_time": "2022-11-29T21:49:11.316Z"
   },
   {
    "duration": 302,
    "start_time": "2022-11-29T21:49:11.464Z"
   },
   {
    "duration": 333,
    "start_time": "2022-11-29T21:49:42.081Z"
   },
   {
    "duration": 2717,
    "start_time": "2022-11-29T21:49:42.415Z"
   },
   {
    "duration": 6,
    "start_time": "2022-11-29T21:49:45.133Z"
   },
   {
    "duration": 25,
    "start_time": "2022-11-29T21:49:45.140Z"
   },
   {
    "duration": 51,
    "start_time": "2022-11-29T21:49:45.167Z"
   },
   {
    "duration": 30,
    "start_time": "2022-11-29T21:49:45.219Z"
   },
   {
    "duration": 26,
    "start_time": "2022-11-29T21:49:45.251Z"
   },
   {
    "duration": 158,
    "start_time": "2022-11-29T21:49:45.279Z"
   },
   {
    "duration": 246,
    "start_time": "2022-11-29T21:49:45.438Z"
   },
   {
    "duration": 181,
    "start_time": "2022-11-29T21:49:45.686Z"
   },
   {
    "duration": 169,
    "start_time": "2022-11-29T21:49:45.869Z"
   },
   {
    "duration": 157,
    "start_time": "2022-11-29T21:49:46.039Z"
   },
   {
    "duration": 153,
    "start_time": "2022-11-29T21:49:46.197Z"
   },
   {
    "duration": 144,
    "start_time": "2022-11-29T21:49:46.352Z"
   },
   {
    "duration": 173,
    "start_time": "2022-11-29T21:49:46.498Z"
   },
   {
    "duration": 157,
    "start_time": "2022-11-29T21:49:46.673Z"
   },
   {
    "duration": 158,
    "start_time": "2022-11-29T21:49:46.832Z"
   },
   {
    "duration": 161,
    "start_time": "2022-11-29T21:49:46.992Z"
   },
   {
    "duration": 152,
    "start_time": "2022-11-29T21:49:47.155Z"
   },
   {
    "duration": 279,
    "start_time": "2022-11-29T21:49:47.308Z"
   },
   {
    "duration": 847,
    "start_time": "2022-11-29T21:49:47.588Z"
   },
   {
    "duration": 20,
    "start_time": "2022-11-29T21:49:48.436Z"
   },
   {
    "duration": 185,
    "start_time": "2022-11-29T21:49:48.458Z"
   },
   {
    "duration": 176,
    "start_time": "2022-11-29T21:51:03.756Z"
   },
   {
    "duration": 178,
    "start_time": "2022-11-29T21:51:45.973Z"
   },
   {
    "duration": 161,
    "start_time": "2022-11-29T21:52:26.582Z"
   },
   {
    "duration": 164,
    "start_time": "2022-11-29T21:52:45.392Z"
   },
   {
    "duration": 11,
    "start_time": "2022-11-29T21:53:00.741Z"
   },
   {
    "duration": 166,
    "start_time": "2022-11-29T21:53:09.907Z"
   },
   {
    "duration": 306,
    "start_time": "2022-11-29T21:59:45.608Z"
   },
   {
    "duration": 293,
    "start_time": "2022-11-29T21:59:58.482Z"
   },
   {
    "duration": 21,
    "start_time": "2022-11-29T22:02:42.023Z"
   },
   {
    "duration": 193,
    "start_time": "2022-11-29T22:03:13.936Z"
   },
   {
    "duration": 164,
    "start_time": "2022-11-29T22:03:23.109Z"
   },
   {
    "duration": 36,
    "start_time": "2022-11-29T22:03:41.684Z"
   },
   {
    "duration": 398,
    "start_time": "2022-11-30T08:25:44.071Z"
   },
   {
    "duration": 3343,
    "start_time": "2022-11-30T08:25:44.472Z"
   },
   {
    "duration": 6,
    "start_time": "2022-11-30T08:25:47.817Z"
   },
   {
    "duration": 31,
    "start_time": "2022-11-30T08:25:47.825Z"
   },
   {
    "duration": 45,
    "start_time": "2022-11-30T08:25:47.857Z"
   },
   {
    "duration": 107,
    "start_time": "2022-11-30T08:25:47.904Z"
   },
   {
    "duration": 56,
    "start_time": "2022-11-30T08:25:48.012Z"
   },
   {
    "duration": 165,
    "start_time": "2022-11-30T08:25:48.070Z"
   },
   {
    "duration": 182,
    "start_time": "2022-11-30T08:25:48.236Z"
   },
   {
    "duration": 186,
    "start_time": "2022-11-30T08:25:48.420Z"
   },
   {
    "duration": 167,
    "start_time": "2022-11-30T08:25:48.608Z"
   },
   {
    "duration": 166,
    "start_time": "2022-11-30T08:25:48.776Z"
   },
   {
    "duration": 197,
    "start_time": "2022-11-30T08:25:48.945Z"
   },
   {
    "duration": 181,
    "start_time": "2022-11-30T08:25:49.144Z"
   },
   {
    "duration": 180,
    "start_time": "2022-11-30T08:25:49.327Z"
   },
   {
    "duration": 169,
    "start_time": "2022-11-30T08:25:49.510Z"
   },
   {
    "duration": 173,
    "start_time": "2022-11-30T08:25:49.681Z"
   },
   {
    "duration": 183,
    "start_time": "2022-11-30T08:25:49.856Z"
   },
   {
    "duration": 281,
    "start_time": "2022-11-30T08:25:50.040Z"
   },
   {
    "duration": 239,
    "start_time": "2022-11-30T08:25:50.323Z"
   },
   {
    "duration": 17,
    "start_time": "2022-11-30T08:25:50.564Z"
   },
   {
    "duration": 210,
    "start_time": "2022-11-30T08:25:50.583Z"
   },
   {
    "duration": 211,
    "start_time": "2022-11-30T08:25:50.795Z"
   },
   {
    "duration": 211,
    "start_time": "2022-11-30T08:25:51.008Z"
   },
   {
    "duration": 215,
    "start_time": "2022-11-30T08:25:51.220Z"
   },
   {
    "duration": 332,
    "start_time": "2022-11-30T08:25:51.437Z"
   },
   {
    "duration": 200,
    "start_time": "2022-11-30T08:25:51.771Z"
   },
   {
    "duration": 25,
    "start_time": "2022-11-30T08:25:51.975Z"
   },
   {
    "duration": 216,
    "start_time": "2022-11-30T08:25:52.002Z"
   },
   {
    "duration": 68,
    "start_time": "2022-11-30T08:27:59.763Z"
   },
   {
    "duration": 1262,
    "start_time": "2022-11-30T08:28:08.890Z"
   },
   {
    "duration": 71,
    "start_time": "2022-11-30T08:29:08.532Z"
   },
   {
    "duration": 144,
    "start_time": "2022-11-30T08:29:23.760Z"
   },
   {
    "duration": 16,
    "start_time": "2022-11-30T08:29:48.058Z"
   },
   {
    "duration": 144,
    "start_time": "2022-11-30T08:33:09.133Z"
   },
   {
    "duration": 11,
    "start_time": "2022-11-30T08:34:07.803Z"
   },
   {
    "duration": 126,
    "start_time": "2022-11-30T08:34:44.998Z"
   },
   {
    "duration": 1289,
    "start_time": "2022-11-30T08:35:33.484Z"
   },
   {
    "duration": 1288,
    "start_time": "2022-11-30T08:35:40.916Z"
   },
   {
    "duration": 1336,
    "start_time": "2022-11-30T08:37:33.292Z"
   },
   {
    "duration": 1211,
    "start_time": "2022-11-30T08:40:51.200Z"
   },
   {
    "duration": 163,
    "start_time": "2022-11-30T08:44:38.351Z"
   },
   {
    "duration": 163,
    "start_time": "2022-11-30T08:46:37.275Z"
   },
   {
    "duration": 132,
    "start_time": "2022-11-30T08:47:13.958Z"
   },
   {
    "duration": 161,
    "start_time": "2022-11-30T08:48:03.777Z"
   },
   {
    "duration": 137,
    "start_time": "2022-11-30T08:48:51.084Z"
   },
   {
    "duration": 22,
    "start_time": "2022-11-30T08:50:05.409Z"
   },
   {
    "duration": 147,
    "start_time": "2022-11-30T08:50:23.201Z"
   },
   {
    "duration": 153,
    "start_time": "2022-11-30T08:51:30.010Z"
   },
   {
    "duration": 184,
    "start_time": "2022-11-30T08:52:35.917Z"
   },
   {
    "duration": 293,
    "start_time": "2022-11-30T08:54:21.108Z"
   },
   {
    "duration": 164,
    "start_time": "2022-11-30T08:56:24.940Z"
   },
   {
    "duration": 143,
    "start_time": "2022-11-30T08:56:48.740Z"
   },
   {
    "duration": 144,
    "start_time": "2022-11-30T09:06:22.156Z"
   },
   {
    "duration": 208,
    "start_time": "2022-11-30T09:15:04.555Z"
   },
   {
    "duration": 3111,
    "start_time": "2022-11-30T09:15:12.759Z"
   },
   {
    "duration": 233,
    "start_time": "2022-11-30T09:15:36.250Z"
   },
   {
    "duration": 199,
    "start_time": "2022-11-30T09:15:52.545Z"
   },
   {
    "duration": 364,
    "start_time": "2022-11-30T09:17:24.038Z"
   },
   {
    "duration": 172,
    "start_time": "2022-11-30T09:17:34.972Z"
   },
   {
    "duration": 156,
    "start_time": "2022-11-30T09:22:07.912Z"
   },
   {
    "duration": 389,
    "start_time": "2022-11-30T18:49:32.698Z"
   },
   {
    "duration": 3159,
    "start_time": "2022-11-30T18:49:33.089Z"
   },
   {
    "duration": 6,
    "start_time": "2022-11-30T18:49:36.250Z"
   },
   {
    "duration": 21,
    "start_time": "2022-11-30T18:49:36.259Z"
   },
   {
    "duration": 63,
    "start_time": "2022-11-30T18:49:36.283Z"
   },
   {
    "duration": 30,
    "start_time": "2022-11-30T18:49:36.348Z"
   },
   {
    "duration": 68,
    "start_time": "2022-11-30T18:49:36.381Z"
   },
   {
    "duration": 206,
    "start_time": "2022-11-30T18:49:36.451Z"
   },
   {
    "duration": 276,
    "start_time": "2022-11-30T18:49:36.658Z"
   },
   {
    "duration": 187,
    "start_time": "2022-11-30T18:49:36.938Z"
   },
   {
    "duration": 193,
    "start_time": "2022-11-30T18:49:37.127Z"
   },
   {
    "duration": 179,
    "start_time": "2022-11-30T18:49:37.321Z"
   },
   {
    "duration": 184,
    "start_time": "2022-11-30T18:49:37.502Z"
   },
   {
    "duration": 165,
    "start_time": "2022-11-30T18:49:37.688Z"
   },
   {
    "duration": 189,
    "start_time": "2022-11-30T18:49:37.856Z"
   },
   {
    "duration": 174,
    "start_time": "2022-11-30T18:49:38.048Z"
   },
   {
    "duration": 204,
    "start_time": "2022-11-30T18:49:38.224Z"
   },
   {
    "duration": 188,
    "start_time": "2022-11-30T18:49:38.430Z"
   },
   {
    "duration": 162,
    "start_time": "2022-11-30T18:49:38.620Z"
   },
   {
    "duration": 318,
    "start_time": "2022-11-30T18:49:38.783Z"
   },
   {
    "duration": 195,
    "start_time": "2022-11-30T18:49:39.103Z"
   },
   {
    "duration": 203,
    "start_time": "2022-11-30T18:49:39.300Z"
   },
   {
    "duration": 13,
    "start_time": "2022-11-30T18:49:39.505Z"
   },
   {
    "duration": 210,
    "start_time": "2022-11-30T18:49:39.520Z"
   },
   {
    "duration": 213,
    "start_time": "2022-11-30T18:49:39.731Z"
   },
   {
    "duration": 209,
    "start_time": "2022-11-30T18:49:39.946Z"
   },
   {
    "duration": 191,
    "start_time": "2022-11-30T18:49:40.157Z"
   },
   {
    "duration": 162,
    "start_time": "2022-11-30T18:49:40.355Z"
   },
   {
    "duration": 83,
    "start_time": "2022-11-30T18:49:40.520Z"
   },
   {
    "duration": 0,
    "start_time": "2022-11-30T18:49:40.605Z"
   },
   {
    "duration": 0,
    "start_time": "2022-11-30T18:49:40.606Z"
   },
   {
    "duration": 0,
    "start_time": "2022-11-30T18:49:40.607Z"
   },
   {
    "duration": 0,
    "start_time": "2022-11-30T18:49:40.609Z"
   },
   {
    "duration": 0,
    "start_time": "2022-11-30T18:49:40.610Z"
   },
   {
    "duration": 406,
    "start_time": "2022-11-30T18:51:53.347Z"
   },
   {
    "duration": 2913,
    "start_time": "2022-11-30T18:51:53.755Z"
   },
   {
    "duration": 6,
    "start_time": "2022-11-30T18:51:56.669Z"
   },
   {
    "duration": 25,
    "start_time": "2022-11-30T18:51:56.677Z"
   },
   {
    "duration": 53,
    "start_time": "2022-11-30T18:51:56.704Z"
   },
   {
    "duration": 25,
    "start_time": "2022-11-30T18:51:56.758Z"
   },
   {
    "duration": 44,
    "start_time": "2022-11-30T18:51:56.784Z"
   },
   {
    "duration": 174,
    "start_time": "2022-11-30T18:51:56.838Z"
   },
   {
    "duration": 276,
    "start_time": "2022-11-30T18:51:57.014Z"
   },
   {
    "duration": 188,
    "start_time": "2022-11-30T18:51:57.293Z"
   },
   {
    "duration": 177,
    "start_time": "2022-11-30T18:51:57.483Z"
   },
   {
    "duration": 161,
    "start_time": "2022-11-30T18:51:57.662Z"
   },
   {
    "duration": 186,
    "start_time": "2022-11-30T18:51:57.825Z"
   },
   {
    "duration": 156,
    "start_time": "2022-11-30T18:51:58.013Z"
   },
   {
    "duration": 162,
    "start_time": "2022-11-30T18:51:58.171Z"
   },
   {
    "duration": 171,
    "start_time": "2022-11-30T18:51:58.334Z"
   },
   {
    "duration": 179,
    "start_time": "2022-11-30T18:51:58.507Z"
   },
   {
    "duration": 199,
    "start_time": "2022-11-30T18:51:58.688Z"
   },
   {
    "duration": 210,
    "start_time": "2022-11-30T18:51:58.889Z"
   },
   {
    "duration": 299,
    "start_time": "2022-11-30T18:51:59.103Z"
   },
   {
    "duration": 201,
    "start_time": "2022-11-30T18:51:59.404Z"
   },
   {
    "duration": 198,
    "start_time": "2022-11-30T18:51:59.607Z"
   },
   {
    "duration": 13,
    "start_time": "2022-11-30T18:51:59.807Z"
   },
   {
    "duration": 245,
    "start_time": "2022-11-30T18:51:59.823Z"
   },
   {
    "duration": 206,
    "start_time": "2022-11-30T18:52:00.070Z"
   },
   {
    "duration": 198,
    "start_time": "2022-11-30T18:52:00.278Z"
   },
   {
    "duration": 161,
    "start_time": "2022-11-30T18:52:00.478Z"
   },
   {
    "duration": 146,
    "start_time": "2022-11-30T18:52:00.642Z"
   },
   {
    "duration": 75,
    "start_time": "2022-11-30T18:52:00.790Z"
   },
   {
    "duration": 0,
    "start_time": "2022-11-30T18:52:00.867Z"
   },
   {
    "duration": 0,
    "start_time": "2022-11-30T18:52:00.868Z"
   },
   {
    "duration": 0,
    "start_time": "2022-11-30T18:52:00.869Z"
   },
   {
    "duration": 1,
    "start_time": "2022-11-30T18:52:00.870Z"
   },
   {
    "duration": 0,
    "start_time": "2022-11-30T18:52:00.872Z"
   },
   {
    "duration": 14,
    "start_time": "2022-11-30T18:54:34.904Z"
   },
   {
    "duration": 156,
    "start_time": "2022-11-30T18:55:26.761Z"
   },
   {
    "duration": 162,
    "start_time": "2022-11-30T18:55:27.270Z"
   },
   {
    "duration": 192,
    "start_time": "2022-11-30T18:55:30.755Z"
   },
   {
    "duration": 24,
    "start_time": "2022-11-30T18:56:25.588Z"
   },
   {
    "duration": 187,
    "start_time": "2022-11-30T18:56:27.014Z"
   },
   {
    "duration": 60,
    "start_time": "2022-11-30T19:54:26.093Z"
   },
   {
    "duration": 392,
    "start_time": "2022-11-30T19:54:28.870Z"
   },
   {
    "duration": 3336,
    "start_time": "2022-11-30T19:54:29.264Z"
   },
   {
    "duration": 6,
    "start_time": "2022-11-30T19:54:32.618Z"
   },
   {
    "duration": 18,
    "start_time": "2022-11-30T19:54:32.627Z"
   },
   {
    "duration": 34,
    "start_time": "2022-11-30T19:54:32.646Z"
   },
   {
    "duration": 118,
    "start_time": "2022-11-30T19:54:32.682Z"
   },
   {
    "duration": 41,
    "start_time": "2022-11-30T19:54:32.802Z"
   },
   {
    "duration": 184,
    "start_time": "2022-11-30T19:54:32.845Z"
   },
   {
    "duration": 184,
    "start_time": "2022-11-30T19:54:33.031Z"
   },
   {
    "duration": 170,
    "start_time": "2022-11-30T19:54:33.217Z"
   },
   {
    "duration": 183,
    "start_time": "2022-11-30T19:54:33.389Z"
   },
   {
    "duration": 175,
    "start_time": "2022-11-30T19:54:33.574Z"
   },
   {
    "duration": 162,
    "start_time": "2022-11-30T19:54:33.751Z"
   },
   {
    "duration": 166,
    "start_time": "2022-11-30T19:54:33.915Z"
   },
   {
    "duration": 154,
    "start_time": "2022-11-30T19:54:34.082Z"
   },
   {
    "duration": 173,
    "start_time": "2022-11-30T19:54:34.238Z"
   },
   {
    "duration": 172,
    "start_time": "2022-11-30T19:54:34.413Z"
   },
   {
    "duration": 180,
    "start_time": "2022-11-30T19:54:34.587Z"
   },
   {
    "duration": 288,
    "start_time": "2022-11-30T19:54:34.769Z"
   },
   {
    "duration": 177,
    "start_time": "2022-11-30T19:54:35.059Z"
   },
   {
    "duration": 192,
    "start_time": "2022-11-30T19:54:35.237Z"
   },
   {
    "duration": 195,
    "start_time": "2022-11-30T19:54:35.430Z"
   },
   {
    "duration": 202,
    "start_time": "2022-11-30T19:54:35.627Z"
   },
   {
    "duration": 12,
    "start_time": "2022-11-30T19:54:35.831Z"
   },
   {
    "duration": 214,
    "start_time": "2022-11-30T19:54:35.844Z"
   },
   {
    "duration": 232,
    "start_time": "2022-11-30T19:54:36.060Z"
   },
   {
    "duration": 225,
    "start_time": "2022-11-30T19:54:36.297Z"
   },
   {
    "duration": 162,
    "start_time": "2022-11-30T19:54:36.525Z"
   },
   {
    "duration": 146,
    "start_time": "2022-11-30T19:54:36.696Z"
   },
   {
    "duration": 40,
    "start_time": "2022-11-30T19:54:36.844Z"
   },
   {
    "duration": 0,
    "start_time": "2022-11-30T19:54:36.885Z"
   },
   {
    "duration": 0,
    "start_time": "2022-11-30T19:54:36.886Z"
   },
   {
    "duration": 0,
    "start_time": "2022-11-30T19:54:36.888Z"
   },
   {
    "duration": 0,
    "start_time": "2022-11-30T19:54:36.888Z"
   },
   {
    "duration": 0,
    "start_time": "2022-11-30T19:54:36.890Z"
   },
   {
    "duration": 173,
    "start_time": "2022-11-30T19:55:21.344Z"
   },
   {
    "duration": 163,
    "start_time": "2022-11-30T19:56:47.683Z"
   },
   {
    "duration": 152,
    "start_time": "2022-11-30T19:57:02.511Z"
   },
   {
    "duration": 163,
    "start_time": "2022-11-30T19:57:05.329Z"
   },
   {
    "duration": 190,
    "start_time": "2022-11-30T19:57:08.679Z"
   },
   {
    "duration": 218,
    "start_time": "2022-11-30T19:59:29.420Z"
   },
   {
    "duration": 307,
    "start_time": "2022-11-30T19:59:44.512Z"
   },
   {
    "duration": 189,
    "start_time": "2022-11-30T20:00:02.688Z"
   },
   {
    "duration": 190,
    "start_time": "2022-11-30T20:00:17.411Z"
   },
   {
    "duration": 188,
    "start_time": "2022-11-30T20:00:29.728Z"
   },
   {
    "duration": 174,
    "start_time": "2022-11-30T20:00:45.394Z"
   },
   {
    "duration": 170,
    "start_time": "2022-11-30T20:00:55.229Z"
   },
   {
    "duration": 174,
    "start_time": "2022-11-30T20:01:17.412Z"
   },
   {
    "duration": 176,
    "start_time": "2022-11-30T20:01:29.660Z"
   },
   {
    "duration": 175,
    "start_time": "2022-11-30T20:05:00.022Z"
   },
   {
    "duration": 178,
    "start_time": "2022-11-30T20:05:11.096Z"
   },
   {
    "duration": 228,
    "start_time": "2022-11-30T20:05:45.994Z"
   },
   {
    "duration": 384,
    "start_time": "2022-11-30T20:11:00.262Z"
   },
   {
    "duration": 18,
    "start_time": "2022-11-30T20:11:28.879Z"
   },
   {
    "duration": 16,
    "start_time": "2022-11-30T20:15:00.745Z"
   },
   {
    "duration": 20,
    "start_time": "2022-11-30T20:15:16.151Z"
   },
   {
    "duration": 15,
    "start_time": "2022-11-30T20:16:51.194Z"
   },
   {
    "duration": 15,
    "start_time": "2022-11-30T20:17:04.698Z"
   },
   {
    "duration": 12,
    "start_time": "2022-11-30T20:17:28.963Z"
   },
   {
    "duration": 15,
    "start_time": "2022-11-30T20:17:37.930Z"
   },
   {
    "duration": 19,
    "start_time": "2022-11-30T20:17:52.597Z"
   },
   {
    "duration": 17,
    "start_time": "2022-11-30T20:19:10.850Z"
   },
   {
    "duration": 18,
    "start_time": "2022-11-30T20:24:16.063Z"
   },
   {
    "duration": 16,
    "start_time": "2022-11-30T20:24:50.853Z"
   },
   {
    "duration": 15,
    "start_time": "2022-11-30T20:25:21.178Z"
   },
   {
    "duration": 5,
    "start_time": "2022-11-30T20:26:50.054Z"
   },
   {
    "duration": 5,
    "start_time": "2022-11-30T20:27:02.146Z"
   },
   {
    "duration": 12,
    "start_time": "2022-11-30T20:27:30.421Z"
   },
   {
    "duration": 178,
    "start_time": "2022-11-30T20:27:51.008Z"
   },
   {
    "duration": 186,
    "start_time": "2022-11-30T20:28:25.113Z"
   },
   {
    "duration": 40,
    "start_time": "2022-11-30T20:29:14.543Z"
   },
   {
    "duration": 49,
    "start_time": "2022-11-30T20:29:23.126Z"
   },
   {
    "duration": 56,
    "start_time": "2022-11-30T20:29:36.932Z"
   },
   {
    "duration": 203,
    "start_time": "2022-11-30T20:29:52.808Z"
   },
   {
    "duration": 176,
    "start_time": "2022-11-30T20:30:43.047Z"
   },
   {
    "duration": 358,
    "start_time": "2022-11-30T20:31:33.881Z"
   },
   {
    "duration": 173,
    "start_time": "2022-11-30T20:31:58.714Z"
   },
   {
    "duration": 63,
    "start_time": "2022-11-30T20:34:00.889Z"
   },
   {
    "duration": 2974,
    "start_time": "2022-11-30T21:01:01.010Z"
   },
   {
    "duration": 450,
    "start_time": "2022-12-01T06:55:41.808Z"
   },
   {
    "duration": 3109,
    "start_time": "2022-12-01T06:55:42.261Z"
   },
   {
    "duration": 6,
    "start_time": "2022-12-01T06:55:45.372Z"
   },
   {
    "duration": 32,
    "start_time": "2022-12-01T06:55:45.380Z"
   },
   {
    "duration": 73,
    "start_time": "2022-12-01T06:55:45.414Z"
   },
   {
    "duration": 35,
    "start_time": "2022-12-01T06:55:45.489Z"
   },
   {
    "duration": 39,
    "start_time": "2022-12-01T06:55:45.536Z"
   },
   {
    "duration": 186,
    "start_time": "2022-12-01T06:55:45.577Z"
   },
   {
    "duration": 313,
    "start_time": "2022-12-01T06:55:45.765Z"
   },
   {
    "duration": 214,
    "start_time": "2022-12-01T06:55:46.082Z"
   },
   {
    "duration": 180,
    "start_time": "2022-12-01T06:55:46.298Z"
   },
   {
    "duration": 187,
    "start_time": "2022-12-01T06:55:46.479Z"
   },
   {
    "duration": 203,
    "start_time": "2022-12-01T06:55:46.668Z"
   },
   {
    "duration": 195,
    "start_time": "2022-12-01T06:55:46.873Z"
   },
   {
    "duration": 160,
    "start_time": "2022-12-01T06:55:47.069Z"
   },
   {
    "duration": 185,
    "start_time": "2022-12-01T06:55:47.231Z"
   },
   {
    "duration": 180,
    "start_time": "2022-12-01T06:55:47.418Z"
   },
   {
    "duration": 178,
    "start_time": "2022-12-01T06:55:47.600Z"
   },
   {
    "duration": 173,
    "start_time": "2022-12-01T06:55:47.780Z"
   },
   {
    "duration": 362,
    "start_time": "2022-12-01T06:55:47.955Z"
   },
   {
    "duration": 172,
    "start_time": "2022-12-01T06:55:48.319Z"
   },
   {
    "duration": 194,
    "start_time": "2022-12-01T06:55:48.493Z"
   },
   {
    "duration": 227,
    "start_time": "2022-12-01T06:55:48.689Z"
   },
   {
    "duration": 220,
    "start_time": "2022-12-01T06:55:48.918Z"
   },
   {
    "duration": 13,
    "start_time": "2022-12-01T06:55:49.139Z"
   },
   {
    "duration": 227,
    "start_time": "2022-12-01T06:55:49.154Z"
   },
   {
    "duration": 200,
    "start_time": "2022-12-01T06:55:49.383Z"
   },
   {
    "duration": 204,
    "start_time": "2022-12-01T06:55:49.587Z"
   },
   {
    "duration": 165,
    "start_time": "2022-12-01T06:55:49.793Z"
   },
   {
    "duration": 159,
    "start_time": "2022-12-01T06:55:49.960Z"
   },
   {
    "duration": 190,
    "start_time": "2022-12-01T06:55:50.121Z"
   },
   {
    "duration": 258,
    "start_time": "2022-12-01T06:55:50.313Z"
   },
   {
    "duration": 182,
    "start_time": "2022-12-01T06:55:50.573Z"
   },
   {
    "duration": 197,
    "start_time": "2022-12-01T06:55:50.756Z"
   },
   {
    "duration": 22,
    "start_time": "2022-12-01T06:55:50.954Z"
   },
   {
    "duration": 216,
    "start_time": "2022-12-01T06:55:50.978Z"
   }
  ],
  "kernelspec": {
   "display_name": "Python 3 (ipykernel)",
   "language": "python",
   "name": "python3"
  },
  "language_info": {
   "codemirror_mode": {
    "name": "ipython",
    "version": 3
   },
   "file_extension": ".py",
   "mimetype": "text/x-python",
   "name": "python",
   "nbconvert_exporter": "python",
   "pygments_lexer": "ipython3",
   "version": "3.9.13"
  },
  "toc": {
   "base_numbering": 1,
   "nav_menu": {},
   "number_sections": true,
   "sideBar": true,
   "skip_h1_title": true,
   "title_cell": "Table of Contents",
   "title_sidebar": "Contents",
   "toc_cell": false,
   "toc_position": {},
   "toc_section_display": true,
   "toc_window_display": false
  }
 },
 "nbformat": 4,
 "nbformat_minor": 2
}
