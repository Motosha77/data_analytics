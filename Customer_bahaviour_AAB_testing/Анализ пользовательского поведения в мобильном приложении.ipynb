{
 "cells": [
  {
   "cell_type": "markdown",
   "id": "3fbec2c3",
   "metadata": {},
   "source": [
    "# Анализ пользовательского поведения"
   ]
  },
  {
   "cell_type": "markdown",
   "id": "825fa04e",
   "metadata": {
    "toc": true
   },
   "source": [
    "<h1>Содержание<span class=\"tocSkip\"></span></h1>\n",
    "<div class=\"toc\"><ul class=\"toc-item\"><li><span><a href=\"#Исходные-данные\" data-toc-modified-id=\"Исходные-данные-1\"><span class=\"toc-item-num\">1&nbsp;&nbsp;</span>Исходные данные</a></span></li><li><span><a href=\"#Шаг-1.-Чтение-данных\" data-toc-modified-id=\"Шаг-1.-Чтение-данных-2\"><span class=\"toc-item-num\">2&nbsp;&nbsp;</span>Шаг 1. Чтение данных</a></span></li><li><span><a href=\"#Шаг-2.-Подготовка-данных\" data-toc-modified-id=\"Шаг-2.-Подготовка-данных-3\"><span class=\"toc-item-num\">3&nbsp;&nbsp;</span>Шаг 2. Подготовка данных</a></span></li><li><span><a href=\"#Шаг-3.-Изучение-и-проверка-данных\" data-toc-modified-id=\"Шаг-3.-Изучение-и-проверка-данных-4\"><span class=\"toc-item-num\">4&nbsp;&nbsp;</span>Шаг 3. Изучение и проверка данных</a></span><ul class=\"toc-item\"><li><span><a href=\"#Количество-событий-в-логе\" data-toc-modified-id=\"Количество-событий-в-логе-4.1\"><span class=\"toc-item-num\">4.1&nbsp;&nbsp;</span>Количество событий в логе</a></span></li><li><span><a href=\"#Количество-пользователей-в-логе\" data-toc-modified-id=\"Количество-пользователей-в-логе-4.2\"><span class=\"toc-item-num\">4.2&nbsp;&nbsp;</span>Количество пользователей в логе</a></span></li><li><span><a href=\"#Среднее-количество-событий-на-пользователя\" data-toc-modified-id=\"Среднее-количество-событий-на-пользователя-4.3\"><span class=\"toc-item-num\">4.3&nbsp;&nbsp;</span>Среднее количество событий на пользователя</a></span></li><li><span><a href=\"#Минимальная-и-максимальная-дата\" data-toc-modified-id=\"Минимальная-и-максимальная-дата-4.4\"><span class=\"toc-item-num\">4.4&nbsp;&nbsp;</span>Минимальная и максимальная дата</a></span></li><li><span><a href=\"#Количество-потерянных-после-фильтрации-юзеров\" data-toc-modified-id=\"Количество-потерянных-после-фильтрации-юзеров-4.5\"><span class=\"toc-item-num\">4.5&nbsp;&nbsp;</span>Количество потерянных после фильтрации юзеров</a></span></li><li><span><a href=\"#Проверка-пользователей-контрольных-и-тестовой-групп\" data-toc-modified-id=\"Проверка-пользователей-контрольных-и-тестовой-групп-4.6\"><span class=\"toc-item-num\">4.6&nbsp;&nbsp;</span>Проверка пользователей контрольных и тестовой групп</a></span></li></ul></li><li><span><a href=\"#Шаг-4.-Воронка-событий\" data-toc-modified-id=\"Шаг-4.-Воронка-событий-5\"><span class=\"toc-item-num\">5&nbsp;&nbsp;</span>Шаг 4. Воронка событий</a></span><ul class=\"toc-item\"><li><span><a href=\"#Частота-событий-в-логах\" data-toc-modified-id=\"Частота-событий-в-логах-5.1\"><span class=\"toc-item-num\">5.1&nbsp;&nbsp;</span>Частота событий в логах</a></span></li><li><span><a href=\"#Количество-пользователей,-совершивших-событие\" data-toc-modified-id=\"Количество-пользователей,-совершивших-событие-5.2\"><span class=\"toc-item-num\">5.2&nbsp;&nbsp;</span>Количество пользователей, совершивших событие</a></span></li><li><span><a href=\"#Воронка-событий\" data-toc-modified-id=\"Воронка-событий-5.3\"><span class=\"toc-item-num\">5.3&nbsp;&nbsp;</span>Воронка событий</a></span></li></ul></li><li><span><a href=\"#Шаг-5.-Результаты-эксперимента\" data-toc-modified-id=\"Шаг-5.-Результаты-эксперимента-6\"><span class=\"toc-item-num\">6&nbsp;&nbsp;</span>Шаг 5. Результаты эксперимента</a></span><ul class=\"toc-item\"><li><span><a href=\"#Количество-пользователей-в-каждой-экспериментальной-группе\" data-toc-modified-id=\"Количество-пользователей-в-каждой-экспериментальной-группе-6.1\"><span class=\"toc-item-num\">6.1&nbsp;&nbsp;</span>Количество пользователей в каждой экспериментальной группе</a></span></li><li><span><a href=\"#Проверка-статистических-критериев\" data-toc-modified-id=\"Проверка-статистических-критериев-6.2\"><span class=\"toc-item-num\">6.2&nbsp;&nbsp;</span>Проверка статистических критериев</a></span></li><li><span><a href=\"#Проверка-контрольных-групп-на-равенство-долей\" data-toc-modified-id=\"Проверка-контрольных-групп-на-равенство-долей-6.3\"><span class=\"toc-item-num\">6.3&nbsp;&nbsp;</span>Проверка контрольных групп на равенство долей</a></span></li><li><span><a href=\"#Проверка-контрольной-и-тестовой-групп-на-равенство-долей\" data-toc-modified-id=\"Проверка-контрольной-и-тестовой-групп-на-равенство-долей-6.4\"><span class=\"toc-item-num\">6.4&nbsp;&nbsp;</span>Проверка контрольной и тестовой групп на равенство долей</a></span><ul class=\"toc-item\"><li><span><a href=\"#246-и-248-группы\" data-toc-modified-id=\"246-и-248-группы-6.4.1\"><span class=\"toc-item-num\">6.4.1&nbsp;&nbsp;</span>246 и 248 группы</a></span></li><li><span><a href=\"#247-и-248-группы\" data-toc-modified-id=\"247-и-248-группы-6.4.2\"><span class=\"toc-item-num\">6.4.2&nbsp;&nbsp;</span>247 и 248 группы</a></span></li><li><span><a href=\"#объединенная-контрольная-группа-246_247-и-248-тестовая\" data-toc-modified-id=\"объединенная-контрольная-группа-246_247-и-248-тестовая-6.4.3\"><span class=\"toc-item-num\">6.4.3&nbsp;&nbsp;</span>объединенная контрольная группа 246_247 и 248 тестовая</a></span></li><li><span><a href=\"#Суммарная-контрольная-группа-и-тестовая\" data-toc-modified-id=\"Суммарная-контрольная-группа-и-тестовая-6.4.4\"><span class=\"toc-item-num\">6.4.4&nbsp;&nbsp;</span>Суммарная контрольная группа и тестовая</a></span></li><li><span><a href=\"#Вывод-по-эксперименту:\" data-toc-modified-id=\"Вывод-по-эксперименту:-6.4.5\"><span class=\"toc-item-num\">6.4.5&nbsp;&nbsp;</span>Вывод по эксперименту:</a></span></li></ul></li></ul></li></ul></div>"
   ]
  },
  {
   "cell_type": "markdown",
   "id": "0e47c5ec",
   "metadata": {},
   "source": [
    "## Исходные данные"
   ]
  },
  {
   "cell_type": "markdown",
   "id": "15a6d7e3",
   "metadata": {},
   "source": [
    "**Дано:**\n",
    "\n",
    "Приложение по продаже продуктов питания.\n",
    "\n",
    "\n",
    "**Найти:**\n",
    "\n",
    "1. Изучить воронку продаж. \n",
    "\n",
    "2. Выяснить, как пользователи доходят до покупки. \n",
    "\n",
    "3. Сколько пользователей доходит до покупки, а сколько — «застревает» на предыдущих шагах? \n",
    "\n",
    "4. Исследовать результаты A/A/B-эксперимента. Был изменен дизайн шрифтов: 2 контрольные группы со старыми шрифтами и одна экспериментальная — с новыми"
   ]
  },
  {
   "cell_type": "markdown",
   "id": "de4c3414",
   "metadata": {},
   "source": [
    "**Входные данные:**\n",
    "\n",
    "Каждая запись в логе — это действие пользователя, или событие. \n",
    "\n",
    "EventName — название события;\n",
    "\n",
    "DeviceIDHash — уникальный идентификатор пользователя;\n",
    "\n",
    "EventTimestamp — время события;\n",
    "\n",
    "ExpId — номер эксперимента: 246 и 247 — контрольные группы, а 248 — экспериментальная."
   ]
  },
  {
   "cell_type": "markdown",
   "id": "ea163551",
   "metadata": {},
   "source": [
    "## Шаг 1. Чтение данных"
   ]
  },
  {
   "cell_type": "code",
   "execution_count": 1,
   "id": "5934c053",
   "metadata": {},
   "outputs": [],
   "source": [
    "import pandas as pd\n",
    "import numpy as np\n",
    "import datetime as dt\n",
    "import scipy.stats as stats\n",
    "from datetime import datetime\n",
    "from plotly import graph_objects as go\n",
    "import matplotlib.pyplot as plt\n",
    "from scipy import stats as st\n",
    "import math as mth\n"
   ]
  },
  {
   "cell_type": "code",
   "execution_count": 2,
   "id": "bf691b56",
   "metadata": {},
   "outputs": [
    {
     "data": {
      "text/html": [
       "<div>\n",
       "<style scoped>\n",
       "    .dataframe tbody tr th:only-of-type {\n",
       "        vertical-align: middle;\n",
       "    }\n",
       "\n",
       "    .dataframe tbody tr th {\n",
       "        vertical-align: top;\n",
       "    }\n",
       "\n",
       "    .dataframe thead th {\n",
       "        text-align: right;\n",
       "    }\n",
       "</style>\n",
       "<table border=\"1\" class=\"dataframe\">\n",
       "  <thead>\n",
       "    <tr style=\"text-align: right;\">\n",
       "      <th></th>\n",
       "      <th>EventName</th>\n",
       "      <th>DeviceIDHash</th>\n",
       "      <th>EventTimestamp</th>\n",
       "      <th>ExpId</th>\n",
       "    </tr>\n",
       "  </thead>\n",
       "  <tbody>\n",
       "    <tr>\n",
       "      <th>0</th>\n",
       "      <td>MainScreenAppear</td>\n",
       "      <td>4575588528974610257</td>\n",
       "      <td>1564029816</td>\n",
       "      <td>246</td>\n",
       "    </tr>\n",
       "    <tr>\n",
       "      <th>1</th>\n",
       "      <td>MainScreenAppear</td>\n",
       "      <td>7416695313311560658</td>\n",
       "      <td>1564053102</td>\n",
       "      <td>246</td>\n",
       "    </tr>\n",
       "    <tr>\n",
       "      <th>2</th>\n",
       "      <td>PaymentScreenSuccessful</td>\n",
       "      <td>3518123091307005509</td>\n",
       "      <td>1564054127</td>\n",
       "      <td>248</td>\n",
       "    </tr>\n",
       "    <tr>\n",
       "      <th>3</th>\n",
       "      <td>CartScreenAppear</td>\n",
       "      <td>3518123091307005509</td>\n",
       "      <td>1564054127</td>\n",
       "      <td>248</td>\n",
       "    </tr>\n",
       "    <tr>\n",
       "      <th>4</th>\n",
       "      <td>PaymentScreenSuccessful</td>\n",
       "      <td>6217807653094995999</td>\n",
       "      <td>1564055322</td>\n",
       "      <td>248</td>\n",
       "    </tr>\n",
       "  </tbody>\n",
       "</table>\n",
       "</div>"
      ],
      "text/plain": [
       "                 EventName         DeviceIDHash  EventTimestamp  ExpId\n",
       "0         MainScreenAppear  4575588528974610257      1564029816    246\n",
       "1         MainScreenAppear  7416695313311560658      1564053102    246\n",
       "2  PaymentScreenSuccessful  3518123091307005509      1564054127    248\n",
       "3         CartScreenAppear  3518123091307005509      1564054127    248\n",
       "4  PaymentScreenSuccessful  6217807653094995999      1564055322    248"
      ]
     },
     "metadata": {},
     "output_type": "display_data"
    }
   ],
   "source": [
    "try: df = pd.read_csv('/Users/boris/Documents/Praktikum/Code/Сборный_проект_2/logs_exp.csv', sep = '\\t')\n",
    "except: df = pd.read_csv('/datasets/logs_exp.csv', sep = '\\t')\n",
    "    \n",
    "display(df.head())"
   ]
  },
  {
   "cell_type": "code",
   "execution_count": 3,
   "id": "08ad5844",
   "metadata": {
    "scrolled": true
   },
   "outputs": [
    {
     "name": "stdout",
     "output_type": "stream",
     "text": [
      "<class 'pandas.core.frame.DataFrame'>\n",
      "RangeIndex: 244126 entries, 0 to 244125\n",
      "Data columns (total 4 columns):\n",
      " #   Column          Non-Null Count   Dtype \n",
      "---  ------          --------------   ----- \n",
      " 0   EventName       244126 non-null  object\n",
      " 1   DeviceIDHash    244126 non-null  int64 \n",
      " 2   EventTimestamp  244126 non-null  int64 \n",
      " 3   ExpId           244126 non-null  int64 \n",
      "dtypes: int64(3), object(1)\n",
      "memory usage: 7.5+ MB\n"
     ]
    }
   ],
   "source": [
    "df.info()"
   ]
  },
  {
   "cell_type": "markdown",
   "id": "408fd730",
   "metadata": {},
   "source": [
    "<div style=\"background:#e5e5e5; color:#000; padding:10px\">\n",
    "Пропусков нет, название столбцов надо изменить.\n",
    "</div>"
   ]
  },
  {
   "cell_type": "markdown",
   "id": "baa9894a",
   "metadata": {},
   "source": [
    "<div style=\"background:#e5e5e5; color:#000; padding:10px\n",
    "Пропусков в данных нет, столбцы следует переименовать.         \n",
    "</div>"
   ]
  },
  {
   "cell_type": "markdown",
   "id": "823ff21e",
   "metadata": {},
   "source": [
    "## Шаг 2. Подготовка данных"
   ]
  },
  {
   "cell_type": "code",
   "execution_count": 4,
   "id": "ca3c82c1",
   "metadata": {},
   "outputs": [
    {
     "data": {
      "text/html": [
       "<div>\n",
       "<style scoped>\n",
       "    .dataframe tbody tr th:only-of-type {\n",
       "        vertical-align: middle;\n",
       "    }\n",
       "\n",
       "    .dataframe tbody tr th {\n",
       "        vertical-align: top;\n",
       "    }\n",
       "\n",
       "    .dataframe thead th {\n",
       "        text-align: right;\n",
       "    }\n",
       "</style>\n",
       "<table border=\"1\" class=\"dataframe\">\n",
       "  <thead>\n",
       "    <tr style=\"text-align: right;\">\n",
       "      <th></th>\n",
       "      <th>event_name</th>\n",
       "      <th>device_id_hash</th>\n",
       "      <th>event_timestamp</th>\n",
       "      <th>exp_id</th>\n",
       "    </tr>\n",
       "  </thead>\n",
       "  <tbody>\n",
       "    <tr>\n",
       "      <th>0</th>\n",
       "      <td>MainScreenAppear</td>\n",
       "      <td>4575588528974610257</td>\n",
       "      <td>1564029816</td>\n",
       "      <td>246</td>\n",
       "    </tr>\n",
       "    <tr>\n",
       "      <th>1</th>\n",
       "      <td>MainScreenAppear</td>\n",
       "      <td>7416695313311560658</td>\n",
       "      <td>1564053102</td>\n",
       "      <td>246</td>\n",
       "    </tr>\n",
       "    <tr>\n",
       "      <th>2</th>\n",
       "      <td>PaymentScreenSuccessful</td>\n",
       "      <td>3518123091307005509</td>\n",
       "      <td>1564054127</td>\n",
       "      <td>248</td>\n",
       "    </tr>\n",
       "    <tr>\n",
       "      <th>3</th>\n",
       "      <td>CartScreenAppear</td>\n",
       "      <td>3518123091307005509</td>\n",
       "      <td>1564054127</td>\n",
       "      <td>248</td>\n",
       "    </tr>\n",
       "    <tr>\n",
       "      <th>4</th>\n",
       "      <td>PaymentScreenSuccessful</td>\n",
       "      <td>6217807653094995999</td>\n",
       "      <td>1564055322</td>\n",
       "      <td>248</td>\n",
       "    </tr>\n",
       "  </tbody>\n",
       "</table>\n",
       "</div>"
      ],
      "text/plain": [
       "                event_name       device_id_hash  event_timestamp  exp_id\n",
       "0         MainScreenAppear  4575588528974610257       1564029816     246\n",
       "1         MainScreenAppear  7416695313311560658       1564053102     246\n",
       "2  PaymentScreenSuccessful  3518123091307005509       1564054127     248\n",
       "3         CartScreenAppear  3518123091307005509       1564054127     248\n",
       "4  PaymentScreenSuccessful  6217807653094995999       1564055322     248"
      ]
     },
     "execution_count": 4,
     "metadata": {},
     "output_type": "execute_result"
    }
   ],
   "source": [
    "# меняем названия столбцов\n",
    "df.columns = ['event_name', 'device_id_hash', 'event_timestamp', 'exp_id']\n",
    "df.head()"
   ]
  },
  {
   "cell_type": "code",
   "execution_count": 5,
   "id": "c923e859",
   "metadata": {},
   "outputs": [
    {
     "data": {
      "text/html": [
       "<div>\n",
       "<style scoped>\n",
       "    .dataframe tbody tr th:only-of-type {\n",
       "        vertical-align: middle;\n",
       "    }\n",
       "\n",
       "    .dataframe tbody tr th {\n",
       "        vertical-align: top;\n",
       "    }\n",
       "\n",
       "    .dataframe thead th {\n",
       "        text-align: right;\n",
       "    }\n",
       "</style>\n",
       "<table border=\"1\" class=\"dataframe\">\n",
       "  <thead>\n",
       "    <tr style=\"text-align: right;\">\n",
       "      <th></th>\n",
       "      <th>event_name</th>\n",
       "      <th>device_id_hash</th>\n",
       "      <th>exp_id</th>\n",
       "      <th>datetime</th>\n",
       "      <th>date</th>\n",
       "    </tr>\n",
       "  </thead>\n",
       "  <tbody>\n",
       "    <tr>\n",
       "      <th>0</th>\n",
       "      <td>MainScreenAppear</td>\n",
       "      <td>4575588528974610257</td>\n",
       "      <td>246</td>\n",
       "      <td>2019-07-25 04:43:36</td>\n",
       "      <td>2019-07-25</td>\n",
       "    </tr>\n",
       "    <tr>\n",
       "      <th>1</th>\n",
       "      <td>MainScreenAppear</td>\n",
       "      <td>7416695313311560658</td>\n",
       "      <td>246</td>\n",
       "      <td>2019-07-25 11:11:42</td>\n",
       "      <td>2019-07-25</td>\n",
       "    </tr>\n",
       "    <tr>\n",
       "      <th>2</th>\n",
       "      <td>PaymentScreenSuccessful</td>\n",
       "      <td>3518123091307005509</td>\n",
       "      <td>248</td>\n",
       "      <td>2019-07-25 11:28:47</td>\n",
       "      <td>2019-07-25</td>\n",
       "    </tr>\n",
       "    <tr>\n",
       "      <th>3</th>\n",
       "      <td>CartScreenAppear</td>\n",
       "      <td>3518123091307005509</td>\n",
       "      <td>248</td>\n",
       "      <td>2019-07-25 11:28:47</td>\n",
       "      <td>2019-07-25</td>\n",
       "    </tr>\n",
       "    <tr>\n",
       "      <th>4</th>\n",
       "      <td>PaymentScreenSuccessful</td>\n",
       "      <td>6217807653094995999</td>\n",
       "      <td>248</td>\n",
       "      <td>2019-07-25 11:48:42</td>\n",
       "      <td>2019-07-25</td>\n",
       "    </tr>\n",
       "  </tbody>\n",
       "</table>\n",
       "</div>"
      ],
      "text/plain": [
       "                event_name       device_id_hash  exp_id            datetime  \\\n",
       "0         MainScreenAppear  4575588528974610257     246 2019-07-25 04:43:36   \n",
       "1         MainScreenAppear  7416695313311560658     246 2019-07-25 11:11:42   \n",
       "2  PaymentScreenSuccessful  3518123091307005509     248 2019-07-25 11:28:47   \n",
       "3         CartScreenAppear  3518123091307005509     248 2019-07-25 11:28:47   \n",
       "4  PaymentScreenSuccessful  6217807653094995999     248 2019-07-25 11:48:42   \n",
       "\n",
       "        date  \n",
       "0 2019-07-25  \n",
       "1 2019-07-25  \n",
       "2 2019-07-25  \n",
       "3 2019-07-25  \n",
       "4 2019-07-25  "
      ]
     },
     "execution_count": 5,
     "metadata": {},
     "output_type": "execute_result"
    }
   ],
   "source": [
    "# добавляем столбцы даты/времени и даты.\n",
    "df['datetime'] = df['event_timestamp'].map(lambda x: datetime.fromtimestamp(x))\n",
    "df['date'] = df['datetime'].map(lambda x: dt.datetime.date(x))\n",
    "df['date'] = pd.to_datetime(df['date'])\n",
    "df.drop('event_timestamp', axis= 1 , inplace= True )\n",
    "df.head()"
   ]
  },
  {
   "cell_type": "code",
   "execution_count": 6,
   "id": "1669835f",
   "metadata": {},
   "outputs": [
    {
     "name": "stdout",
     "output_type": "stream",
     "text": [
      "<class 'pandas.core.frame.DataFrame'>\n",
      "RangeIndex: 244126 entries, 0 to 244125\n",
      "Data columns (total 5 columns):\n",
      " #   Column          Non-Null Count   Dtype         \n",
      "---  ------          --------------   -----         \n",
      " 0   event_name      244126 non-null  object        \n",
      " 1   device_id_hash  244126 non-null  int64         \n",
      " 2   exp_id          244126 non-null  int64         \n",
      " 3   datetime        244126 non-null  datetime64[ns]\n",
      " 4   date            244126 non-null  datetime64[ns]\n",
      "dtypes: datetime64[ns](2), int64(2), object(1)\n",
      "memory usage: 9.3+ MB\n"
     ]
    }
   ],
   "source": [
    "# проверяем формат\n",
    "df.info()"
   ]
  },
  {
   "cell_type": "code",
   "execution_count": 7,
   "id": "ff11025e",
   "metadata": {
    "scrolled": false
   },
   "outputs": [
    {
     "data": {
      "text/html": [
       "<div>\n",
       "<style scoped>\n",
       "    .dataframe tbody tr th:only-of-type {\n",
       "        vertical-align: middle;\n",
       "    }\n",
       "\n",
       "    .dataframe tbody tr th {\n",
       "        vertical-align: top;\n",
       "    }\n",
       "\n",
       "    .dataframe thead th {\n",
       "        text-align: right;\n",
       "    }\n",
       "</style>\n",
       "<table border=\"1\" class=\"dataframe\">\n",
       "  <thead>\n",
       "    <tr style=\"text-align: right;\">\n",
       "      <th></th>\n",
       "      <th>event_name</th>\n",
       "      <th>device_id_hash</th>\n",
       "      <th>exp_id</th>\n",
       "      <th>datetime</th>\n",
       "      <th>date</th>\n",
       "    </tr>\n",
       "  </thead>\n",
       "  <tbody>\n",
       "    <tr>\n",
       "      <th>452</th>\n",
       "      <td>MainScreenAppear</td>\n",
       "      <td>5613408041324010552</td>\n",
       "      <td>248</td>\n",
       "      <td>2019-07-30 08:19:44</td>\n",
       "      <td>2019-07-30</td>\n",
       "    </tr>\n",
       "    <tr>\n",
       "      <th>453</th>\n",
       "      <td>MainScreenAppear</td>\n",
       "      <td>5613408041324010552</td>\n",
       "      <td>248</td>\n",
       "      <td>2019-07-30 08:19:44</td>\n",
       "      <td>2019-07-30</td>\n",
       "    </tr>\n",
       "    <tr>\n",
       "      <th>2348</th>\n",
       "      <td>CartScreenAppear</td>\n",
       "      <td>1694940645335807244</td>\n",
       "      <td>248</td>\n",
       "      <td>2019-07-31 21:51:39</td>\n",
       "      <td>2019-07-31</td>\n",
       "    </tr>\n",
       "    <tr>\n",
       "      <th>2350</th>\n",
       "      <td>CartScreenAppear</td>\n",
       "      <td>1694940645335807244</td>\n",
       "      <td>248</td>\n",
       "      <td>2019-07-31 21:51:39</td>\n",
       "      <td>2019-07-31</td>\n",
       "    </tr>\n",
       "    <tr>\n",
       "      <th>3572</th>\n",
       "      <td>MainScreenAppear</td>\n",
       "      <td>434103746454591587</td>\n",
       "      <td>248</td>\n",
       "      <td>2019-08-01 02:59:37</td>\n",
       "      <td>2019-08-01</td>\n",
       "    </tr>\n",
       "    <tr>\n",
       "      <th>...</th>\n",
       "      <td>...</td>\n",
       "      <td>...</td>\n",
       "      <td>...</td>\n",
       "      <td>...</td>\n",
       "      <td>...</td>\n",
       "    </tr>\n",
       "    <tr>\n",
       "      <th>242359</th>\n",
       "      <td>PaymentScreenSuccessful</td>\n",
       "      <td>2382591782303281935</td>\n",
       "      <td>246</td>\n",
       "      <td>2019-08-07 19:27:29</td>\n",
       "      <td>2019-08-07</td>\n",
       "    </tr>\n",
       "    <tr>\n",
       "      <th>242360</th>\n",
       "      <td>PaymentScreenSuccessful</td>\n",
       "      <td>2382591782303281935</td>\n",
       "      <td>246</td>\n",
       "      <td>2019-08-07 19:27:29</td>\n",
       "      <td>2019-08-07</td>\n",
       "    </tr>\n",
       "    <tr>\n",
       "      <th>242362</th>\n",
       "      <td>CartScreenAppear</td>\n",
       "      <td>2382591782303281935</td>\n",
       "      <td>246</td>\n",
       "      <td>2019-08-07 19:27:29</td>\n",
       "      <td>2019-08-07</td>\n",
       "    </tr>\n",
       "    <tr>\n",
       "      <th>242634</th>\n",
       "      <td>MainScreenAppear</td>\n",
       "      <td>4097782667445790512</td>\n",
       "      <td>246</td>\n",
       "      <td>2019-08-07 19:36:58</td>\n",
       "      <td>2019-08-07</td>\n",
       "    </tr>\n",
       "    <tr>\n",
       "      <th>242635</th>\n",
       "      <td>MainScreenAppear</td>\n",
       "      <td>4097782667445790512</td>\n",
       "      <td>246</td>\n",
       "      <td>2019-08-07 19:36:58</td>\n",
       "      <td>2019-08-07</td>\n",
       "    </tr>\n",
       "  </tbody>\n",
       "</table>\n",
       "<p>768 rows × 5 columns</p>\n",
       "</div>"
      ],
      "text/plain": [
       "                     event_name       device_id_hash  exp_id  \\\n",
       "452            MainScreenAppear  5613408041324010552     248   \n",
       "453            MainScreenAppear  5613408041324010552     248   \n",
       "2348           CartScreenAppear  1694940645335807244     248   \n",
       "2350           CartScreenAppear  1694940645335807244     248   \n",
       "3572           MainScreenAppear   434103746454591587     248   \n",
       "...                         ...                  ...     ...   \n",
       "242359  PaymentScreenSuccessful  2382591782303281935     246   \n",
       "242360  PaymentScreenSuccessful  2382591782303281935     246   \n",
       "242362         CartScreenAppear  2382591782303281935     246   \n",
       "242634         MainScreenAppear  4097782667445790512     246   \n",
       "242635         MainScreenAppear  4097782667445790512     246   \n",
       "\n",
       "                  datetime       date  \n",
       "452    2019-07-30 08:19:44 2019-07-30  \n",
       "453    2019-07-30 08:19:44 2019-07-30  \n",
       "2348   2019-07-31 21:51:39 2019-07-31  \n",
       "2350   2019-07-31 21:51:39 2019-07-31  \n",
       "3572   2019-08-01 02:59:37 2019-08-01  \n",
       "...                    ...        ...  \n",
       "242359 2019-08-07 19:27:29 2019-08-07  \n",
       "242360 2019-08-07 19:27:29 2019-08-07  \n",
       "242362 2019-08-07 19:27:29 2019-08-07  \n",
       "242634 2019-08-07 19:36:58 2019-08-07  \n",
       "242635 2019-08-07 19:36:58 2019-08-07  \n",
       "\n",
       "[768 rows x 5 columns]"
      ]
     },
     "execution_count": 7,
     "metadata": {},
     "output_type": "execute_result"
    }
   ],
   "source": [
    "# ищем дубли\n",
    "df[df.duplicated(keep = False)]"
   ]
  },
  {
   "cell_type": "code",
   "execution_count": 8,
   "id": "d636c670",
   "metadata": {
    "scrolled": true
   },
   "outputs": [],
   "source": [
    "# удаляем дубли\n",
    "df = df.drop_duplicates()"
   ]
  },
  {
   "cell_type": "code",
   "execution_count": 9,
   "id": "65b6cc7d",
   "metadata": {},
   "outputs": [
    {
     "name": "stdout",
     "output_type": "stream",
     "text": [
      "<class 'pandas.core.frame.DataFrame'>\n",
      "Int64Index: 243713 entries, 0 to 244125\n",
      "Data columns (total 5 columns):\n",
      " #   Column          Non-Null Count   Dtype         \n",
      "---  ------          --------------   -----         \n",
      " 0   event_name      243713 non-null  object        \n",
      " 1   device_id_hash  243713 non-null  int64         \n",
      " 2   exp_id          243713 non-null  int64         \n",
      " 3   datetime        243713 non-null  datetime64[ns]\n",
      " 4   date            243713 non-null  datetime64[ns]\n",
      "dtypes: datetime64[ns](2), int64(2), object(1)\n",
      "memory usage: 11.2+ MB\n"
     ]
    }
   ],
   "source": [
    "df.info()"
   ]
  },
  {
   "cell_type": "code",
   "execution_count": 10,
   "id": "d691d5ed",
   "metadata": {},
   "outputs": [
    {
     "name": "stdout",
     "output_type": "stream",
     "text": [
      "0\n",
      "0\n"
     ]
    }
   ],
   "source": [
    "group_246 = df[df['exp_id'] == 246]['device_id_hash'].unique()\n",
    "print(df[df['exp_id'] == '247']['device_id_hash'].isin(group_246).sum())\n",
    "print(df[df['exp_id'] == '248']['device_id_hash'].isin(group_246).sum())"
   ]
  },
  {
   "cell_type": "code",
   "execution_count": 11,
   "id": "702febc4",
   "metadata": {},
   "outputs": [
    {
     "name": "stdout",
     "output_type": "stream",
     "text": [
      "0\n",
      "0\n"
     ]
    }
   ],
   "source": [
    "group_247 = df[df['exp_id'] == '247']['device_id_hash'].unique()\n",
    "print(df[df['exp_id'] == '246']['device_id_hash'].isin(group_247).sum())\n",
    "print(df[df['exp_id'] == '248']['device_id_hash'].isin(group_247).sum())"
   ]
  },
  {
   "cell_type": "code",
   "execution_count": 12,
   "id": "3ba198ce",
   "metadata": {},
   "outputs": [
    {
     "name": "stdout",
     "output_type": "stream",
     "text": [
      "0\n",
      "0\n"
     ]
    }
   ],
   "source": [
    "group_248 = df[df['exp_id'] == '248']['device_id_hash'].unique()\n",
    "print(df[df['exp_id'] == '246']['device_id_hash'].isin(group_248).sum())\n",
    "print(df[df['exp_id'] == '247']['device_id_hash'].isin(group_248).sum())"
   ]
  },
  {
   "cell_type": "markdown",
   "id": "01f5d15d",
   "metadata": {},
   "source": [
    "<div style=\"background:#e5e5e5; color:#000; padding:10px\">Пересечений юзеров по группам нет</div>"
   ]
  },
  {
   "cell_type": "markdown",
   "id": "fe626f70",
   "metadata": {},
   "source": [
    "## Шаг 3. Изучение и проверка данных"
   ]
  },
  {
   "cell_type": "markdown",
   "id": "4f1c516a",
   "metadata": {},
   "source": [
    "### Количество событий в логе"
   ]
  },
  {
   "cell_type": "code",
   "execution_count": 13,
   "id": "a3350bc5",
   "metadata": {},
   "outputs": [
    {
     "name": "stdout",
     "output_type": "stream",
     "text": [
      "['MainScreenAppear' 'PaymentScreenSuccessful' 'CartScreenAppear'\n",
      " 'OffersScreenAppear' 'Tutorial']\n",
      "\n",
      "Количество событий в логе: 243713\n",
      "Количество уникальных событий в логе: 5\n"
     ]
    }
   ],
   "source": [
    "# считаем количество событий в логе\n",
    "print(df['event_name'].unique())\n",
    "print()\n",
    "print(f\"Количество событий в логе: {df['event_name'].count()}\")\n",
    "print(f\"Количество уникальных событий в логе: {df['event_name'].nunique()}\")"
   ]
  },
  {
   "cell_type": "markdown",
   "id": "62c4e65d",
   "metadata": {},
   "source": [
    "### Количество пользователей в логе"
   ]
  },
  {
   "cell_type": "code",
   "execution_count": 14,
   "id": "8e181969",
   "metadata": {},
   "outputs": [
    {
     "name": "stdout",
     "output_type": "stream",
     "text": [
      "Количество пользователей в логе: 7551\n"
     ]
    }
   ],
   "source": [
    "# считаем количество пользователей в логе\n",
    "print(f\"Количество пользователей в логе: {df['device_id_hash'].nunique()}\")"
   ]
  },
  {
   "cell_type": "markdown",
   "id": "72f26002",
   "metadata": {},
   "source": [
    "### Среднее количество событий на пользователя"
   ]
  },
  {
   "cell_type": "code",
   "execution_count": 15,
   "id": "5649907e",
   "metadata": {
    "scrolled": true
   },
   "outputs": [
    {
     "name": "stdout",
     "output_type": "stream",
     "text": [
      "В среднем на пользователя - 32.3 событий\n"
     ]
    }
   ],
   "source": [
    "# среднее количество событий на пользователя\n",
    "print(f\"В среднем на пользователя - {round(df['event_name'].count() /  df['device_id_hash'].nunique(),1)} событий\")"
   ]
  },
  {
   "cell_type": "code",
   "execution_count": 16,
   "id": "e05328f9",
   "metadata": {
    "scrolled": true
   },
   "outputs": [
    {
     "data": {
      "text/plain": [
       "<AxesSubplot:>"
      ]
     },
     "execution_count": 16,
     "metadata": {},
     "output_type": "execute_result"
    },
    {
     "data": {
      "image/png": "[encoded data removed]",
      "text/plain": [
       "<Figure size 432x288 with 1 Axes>"
      ]
     },
     "metadata": {
      "needs_background": "light"
     },
     "output_type": "display_data"
    }
   ],
   "source": [
    "# строим boxplot по сгруппированным данным\n",
    "event_by_user = df.groupby('device_id_hash')['event_name'].count().reset_index().sort_values(by='event_name', ascending = False)\n",
    "event_by_user.boxplot(column ='event_name')"
   ]
  },
  {
   "cell_type": "code",
   "execution_count": 17,
   "id": "00402ed0",
   "metadata": {
    "scrolled": false
   },
   "outputs": [
    {
     "data": {
      "text/html": [
       "<div>\n",
       "<style scoped>\n",
       "    .dataframe tbody tr th:only-of-type {\n",
       "        vertical-align: middle;\n",
       "    }\n",
       "\n",
       "    .dataframe tbody tr th {\n",
       "        vertical-align: top;\n",
       "    }\n",
       "\n",
       "    .dataframe thead th {\n",
       "        text-align: right;\n",
       "    }\n",
       "</style>\n",
       "<table border=\"1\" class=\"dataframe\">\n",
       "  <thead>\n",
       "    <tr style=\"text-align: right;\">\n",
       "      <th></th>\n",
       "      <th>device_id_hash</th>\n",
       "      <th>event_name</th>\n",
       "    </tr>\n",
       "  </thead>\n",
       "  <tbody>\n",
       "    <tr>\n",
       "      <th>count</th>\n",
       "      <td>7.551000e+03</td>\n",
       "      <td>7551.000000</td>\n",
       "    </tr>\n",
       "    <tr>\n",
       "      <th>mean</th>\n",
       "      <td>4.677319e+18</td>\n",
       "      <td>32.275593</td>\n",
       "    </tr>\n",
       "    <tr>\n",
       "      <th>std</th>\n",
       "      <td>2.655343e+18</td>\n",
       "      <td>65.154219</td>\n",
       "    </tr>\n",
       "    <tr>\n",
       "      <th>min</th>\n",
       "      <td>6.888747e+15</td>\n",
       "      <td>1.000000</td>\n",
       "    </tr>\n",
       "    <tr>\n",
       "      <th>25%</th>\n",
       "      <td>2.397700e+18</td>\n",
       "      <td>9.000000</td>\n",
       "    </tr>\n",
       "    <tr>\n",
       "      <th>50%</th>\n",
       "      <td>4.688022e+18</td>\n",
       "      <td>20.000000</td>\n",
       "    </tr>\n",
       "    <tr>\n",
       "      <th>75%</th>\n",
       "      <td>7.007353e+18</td>\n",
       "      <td>37.000000</td>\n",
       "    </tr>\n",
       "    <tr>\n",
       "      <th>max</th>\n",
       "      <td>9.222603e+18</td>\n",
       "      <td>2307.000000</td>\n",
       "    </tr>\n",
       "  </tbody>\n",
       "</table>\n",
       "</div>"
      ],
      "text/plain": [
       "       device_id_hash   event_name\n",
       "count    7.551000e+03  7551.000000\n",
       "mean     4.677319e+18    32.275593\n",
       "std      2.655343e+18    65.154219\n",
       "min      6.888747e+15     1.000000\n",
       "25%      2.397700e+18     9.000000\n",
       "50%      4.688022e+18    20.000000\n",
       "75%      7.007353e+18    37.000000\n",
       "max      9.222603e+18  2307.000000"
      ]
     },
     "execution_count": 17,
     "metadata": {},
     "output_type": "execute_result"
    }
   ],
   "source": [
    "event_by_user.describe()"
   ]
  },
  {
   "cell_type": "markdown",
   "id": "3184ca31",
   "metadata": {},
   "source": [
    "<div style=\"background:#e5e5e5; color:#000; padding:10px\"></b>\n",
    "Из-за наличия в данных выбросов среднее и медианное значение сильно различаются.\n",
    "\n",
    "Медианное количество событий на пользователя - 20 эвентов.\n",
    "\n",
    "</div>"
   ]
  },
  {
   "cell_type": "code",
   "execution_count": 18,
   "id": "cac76b2a",
   "metadata": {},
   "outputs": [
    {
     "data": {
      "text/plain": [
       "3404    4259568314706942583\n",
       "5549    6884354012020551124\n",
       "3203    4013129726324754028\n",
       "2351    2965763330373426442\n",
       "3709    4613635923158598610\n",
       "               ...         \n",
       "6013    7399061063341528729\n",
       "2356    2968164493349205501\n",
       "6575    8071397669512236988\n",
       "311      425817683219936619\n",
       "0          6888746892508752\n",
       "Name: device_id_hash, Length: 7248, dtype: int64"
      ]
     },
     "execution_count": 18,
     "metadata": {},
     "output_type": "execute_result"
    }
   ],
   "source": [
    "#попробуем ограничить количество эвентов на пользователя \n",
    "event_by_user = event_by_user[event_by_user['event_name'] < 100]\n",
    "event_by_user = event_by_user['device_id_hash']\n",
    "event_by_user"
   ]
  },
  {
   "cell_type": "code",
   "execution_count": 19,
   "id": "b8e684f7",
   "metadata": {},
   "outputs": [
    {
     "name": "stdout",
     "output_type": "stream",
     "text": [
      "<class 'pandas.core.frame.DataFrame'>\n",
      "Int64Index: 179229 entries, 0 to 244125\n",
      "Data columns (total 5 columns):\n",
      " #   Column          Non-Null Count   Dtype         \n",
      "---  ------          --------------   -----         \n",
      " 0   event_name      179229 non-null  object        \n",
      " 1   device_id_hash  179229 non-null  int64         \n",
      " 2   exp_id          179229 non-null  int64         \n",
      " 3   datetime        179229 non-null  datetime64[ns]\n",
      " 4   date            179229 non-null  datetime64[ns]\n",
      "dtypes: datetime64[ns](2), int64(2), object(1)\n",
      "memory usage: 8.2+ MB\n",
      "None\n"
     ]
    }
   ],
   "source": [
    "print(df[df['device_id_hash'].isin(event_by_user)].info())"
   ]
  },
  {
   "cell_type": "markdown",
   "id": "27aef27b",
   "metadata": {},
   "source": [
    "<div style=\"background:#e5e5e5; color:#000; padding:10px\">\n",
    "Выбросы есть, причем серьезные.\n",
    "\n",
    "Но удалять их не будем, так как при ограничении эвентов не более 100 на юзера мы теряем 65К записей.\n",
    "\n",
    "</div>"
   ]
  },
  {
   "cell_type": "markdown",
   "id": "7e343179",
   "metadata": {},
   "source": [
    "### Минимальная и максимальная дата"
   ]
  },
  {
   "cell_type": "code",
   "execution_count": 20,
   "id": "b61126dd",
   "metadata": {},
   "outputs": [
    {
     "name": "stdout",
     "output_type": "stream",
     "text": [
      "минимальная дата: 2019-07-25 00:00:00\n",
      "максимальная дата: 2019-08-07 00:00:00\n"
     ]
    }
   ],
   "source": [
    "# поиск минимальной и максимальной даты\n",
    "print(f\"минимальная дата: {df['date'].min()}\")\n",
    "print(f\"максимальная дата: {df['date'].max()}\")"
   ]
  },
  {
   "cell_type": "code",
   "execution_count": 21,
   "id": "4e37b326",
   "metadata": {},
   "outputs": [
    {
     "data": {
      "image/png": "[encoded data removed]",
      "text/plain": [
       "<Figure size 1296x360 with 1 Axes>"
      ]
     },
     "metadata": {
      "needs_background": "light"
     },
     "output_type": "display_data"
    }
   ],
   "source": [
    "# гистограмма эвентов по дате и времени\n",
    "df.hist(column='datetime', bins=100, figsize=(18,5))\n",
    "plt.xlabel(\"Дата события\")\n",
    "plt.ylabel(\"Количество событий\")\n",
    "plt.title(\"Распределение событий по дате и времени\")\n",
    "\n",
    "plt.show()"
   ]
  },
  {
   "cell_type": "code",
   "execution_count": 22,
   "id": "8eab7c57",
   "metadata": {
    "scrolled": true
   },
   "outputs": [
    {
     "data": {
      "image/png": "[encoded data removed]",
      "text/plain": [
       "<Figure size 864x360 with 1 Axes>"
      ]
     },
     "metadata": {
      "needs_background": "light"
     },
     "output_type": "display_data"
    }
   ],
   "source": [
    "# Отбрасываем старые даты с неполными данными\n",
    "df_filtered = df[df['date'] > '2019-07-31']\n",
    "df_filtered.hist(column='datetime', bins=100, figsize=(12,5))\n",
    "plt.xlabel(\"Дата события\")\n",
    "plt.ylabel(\"Количество событий\")\n",
    "plt.title('Распределение событий по дате и времени по \"отфильтрованным\" данным')\n",
    "\n",
    "plt.show()"
   ]
  },
  {
   "cell_type": "markdown",
   "id": "8472ad36",
   "metadata": {},
   "source": [
    "### Количество потерянных после фильтрации юзеров"
   ]
  },
  {
   "cell_type": "code",
   "execution_count": 23,
   "id": "0c2015c9",
   "metadata": {
    "scrolled": true
   },
   "outputs": [
    {
     "name": "stdout",
     "output_type": "stream",
     "text": [
      "Количество событий до фильтрации: 243713\n",
      "Количество юзеров до фильтрации: 7551\n",
      "\n",
      "Количество событий после фильтрации: 240887\n",
      "Количество юзеров после фильтрации: 7534\n",
      "\n",
      "Дельта событий: 2826 или 1.16 %\n",
      "Дельта юзеров: 17 или 0.225 %\n"
     ]
    }
   ],
   "source": [
    "# считаем потерянных пользователей из-за фильтрации\n",
    "print(f\"Количество событий до фильтрации: {df['event_name'].count()}\")\n",
    "print(f\"Количество юзеров до фильтрации: {df['device_id_hash'].nunique()}\")\n",
    "print()\n",
    "print(f\"Количество событий после фильтрации: {df_filtered['event_name'].count()}\")\n",
    "print(f\"Количество юзеров после фильтрации: {df_filtered['device_id_hash'].nunique()}\")\n",
    "print()\n",
    "print(f\"Дельта событий: {df['event_name'].count() - df_filtered['event_name'].count()} или {round((df['event_name'].count() - df_filtered['event_name'].count()) * 100 / df['event_name'].count(), 3)} %\")\n",
    "print(f\"Дельта юзеров: {df['device_id_hash'].nunique() - df_filtered['device_id_hash'].nunique()} или {round((df['device_id_hash'].nunique() - df_filtered['device_id_hash'].nunique()) * 100 / df['device_id_hash'].nunique(), 3)} %\")\n"
   ]
  },
  {
   "cell_type": "markdown",
   "id": "4fe94192",
   "metadata": {},
   "source": [
    "### Проверка пользователей контрольных и тестовой групп"
   ]
  },
  {
   "cell_type": "code",
   "execution_count": 24,
   "id": "fe79b221",
   "metadata": {
    "scrolled": true
   },
   "outputs": [
    {
     "data": {
      "text/html": [
       "<div>\n",
       "<style scoped>\n",
       "    .dataframe tbody tr th:only-of-type {\n",
       "        vertical-align: middle;\n",
       "    }\n",
       "\n",
       "    .dataframe tbody tr th {\n",
       "        vertical-align: top;\n",
       "    }\n",
       "\n",
       "    .dataframe thead tr th {\n",
       "        text-align: left;\n",
       "    }\n",
       "</style>\n",
       "<table border=\"1\" class=\"dataframe\">\n",
       "  <thead>\n",
       "    <tr>\n",
       "      <th></th>\n",
       "      <th>exp_id</th>\n",
       "      <th>events</th>\n",
       "      <th>users</th>\n",
       "    </tr>\n",
       "  </thead>\n",
       "  <tbody>\n",
       "    <tr>\n",
       "      <th>0</th>\n",
       "      <td>246</td>\n",
       "      <td>79302</td>\n",
       "      <td>2484</td>\n",
       "    </tr>\n",
       "    <tr>\n",
       "      <th>1</th>\n",
       "      <td>247</td>\n",
       "      <td>77022</td>\n",
       "      <td>2513</td>\n",
       "    </tr>\n",
       "    <tr>\n",
       "      <th>2</th>\n",
       "      <td>248</td>\n",
       "      <td>84563</td>\n",
       "      <td>2537</td>\n",
       "    </tr>\n",
       "  </tbody>\n",
       "</table>\n",
       "</div>"
      ],
      "text/plain": [
       "  exp_id events users\n",
       "0    246  79302  2484\n",
       "1    247  77022  2513\n",
       "2    248  84563  2537"
      ]
     },
     "execution_count": 24,
     "metadata": {},
     "output_type": "execute_result"
    }
   ],
   "source": [
    "# проверяем, все ли группы пользователей на месте\n",
    "events_users = df_filtered.pivot_table(index = 'exp_id', values = 'device_id_hash', aggfunc = ('nunique', 'count')).reset_index()\n",
    "events_users.columns = [['exp_id', 'events', 'users']]\n",
    "events_users\n"
   ]
  },
  {
   "cell_type": "markdown",
   "id": "3f466f95",
   "metadata": {},
   "source": [
    "<div style=\"background:#e5e5e5; color:#000; padding:10px\">\n",
    "Все группы на месте.\n",
    "</div>"
   ]
  },
  {
   "cell_type": "markdown",
   "id": "c18f7361",
   "metadata": {},
   "source": [
    "## Шаг 4. Воронка событий"
   ]
  },
  {
   "cell_type": "markdown",
   "id": "9311c686",
   "metadata": {},
   "source": [
    "### Частота событий в логах"
   ]
  },
  {
   "cell_type": "code",
   "execution_count": 25,
   "id": "551692bd",
   "metadata": {},
   "outputs": [
    {
     "data": {
      "text/plain": [
       "MainScreenAppear           117328\n",
       "OffersScreenAppear          46333\n",
       "CartScreenAppear            42303\n",
       "PaymentScreenSuccessful     33918\n",
       "Tutorial                     1005\n",
       "Name: event_name, dtype: int64"
      ]
     },
     "execution_count": 25,
     "metadata": {},
     "output_type": "execute_result"
    }
   ],
   "source": [
    "# расчет частоты событий\n",
    "df_filtered['event_name'].value_counts()"
   ]
  },
  {
   "cell_type": "markdown",
   "id": "82125dd9",
   "metadata": {},
   "source": [
    "### Количество пользователей, совершивших событие"
   ]
  },
  {
   "cell_type": "code",
   "execution_count": 26,
   "id": "241468c1",
   "metadata": {},
   "outputs": [
    {
     "data": {
      "text/html": [
       "<div>\n",
       "<style scoped>\n",
       "    .dataframe tbody tr th:only-of-type {\n",
       "        vertical-align: middle;\n",
       "    }\n",
       "\n",
       "    .dataframe tbody tr th {\n",
       "        vertical-align: top;\n",
       "    }\n",
       "\n",
       "    .dataframe thead th {\n",
       "        text-align: right;\n",
       "    }\n",
       "</style>\n",
       "<table border=\"1\" class=\"dataframe\">\n",
       "  <thead>\n",
       "    <tr style=\"text-align: right;\">\n",
       "      <th></th>\n",
       "      <th>event_name</th>\n",
       "      <th>device_id_hash</th>\n",
       "      <th>share</th>\n",
       "    </tr>\n",
       "  </thead>\n",
       "  <tbody>\n",
       "    <tr>\n",
       "      <th>0</th>\n",
       "      <td>MainScreenAppear</td>\n",
       "      <td>7419</td>\n",
       "      <td>0.98</td>\n",
       "    </tr>\n",
       "    <tr>\n",
       "      <th>1</th>\n",
       "      <td>OffersScreenAppear</td>\n",
       "      <td>4593</td>\n",
       "      <td>0.61</td>\n",
       "    </tr>\n",
       "    <tr>\n",
       "      <th>2</th>\n",
       "      <td>CartScreenAppear</td>\n",
       "      <td>3734</td>\n",
       "      <td>0.50</td>\n",
       "    </tr>\n",
       "    <tr>\n",
       "      <th>3</th>\n",
       "      <td>PaymentScreenSuccessful</td>\n",
       "      <td>3539</td>\n",
       "      <td>0.47</td>\n",
       "    </tr>\n",
       "    <tr>\n",
       "      <th>4</th>\n",
       "      <td>Tutorial</td>\n",
       "      <td>840</td>\n",
       "      <td>0.11</td>\n",
       "    </tr>\n",
       "  </tbody>\n",
       "</table>\n",
       "</div>"
      ],
      "text/plain": [
       "                event_name  device_id_hash  share\n",
       "0         MainScreenAppear            7419   0.98\n",
       "1       OffersScreenAppear            4593   0.61\n",
       "2         CartScreenAppear            3734   0.50\n",
       "3  PaymentScreenSuccessful            3539   0.47\n",
       "4                 Tutorial             840   0.11"
      ]
     },
     "execution_count": 26,
     "metadata": {},
     "output_type": "execute_result"
    }
   ],
   "source": [
    "# количество пользователей, совершивших эвенты\n",
    "# доля пользователей от общего количества\n",
    "df_pivot = df_filtered.pivot_table(index = 'event_name', values = 'device_id_hash', aggfunc = 'nunique').sort_values(by='device_id_hash', ascending = False).reset_index()\n",
    "df_pivot['share'] = round(df_pivot['device_id_hash'] / df_filtered['device_id_hash'].nunique(), 2)\n",
    "df_pivot"
   ]
  },
  {
   "cell_type": "markdown",
   "id": "ad8721cd",
   "metadata": {},
   "source": [
    "<div style=\"background:#e5e5e5; color:#000; padding:10px\">\n",
    "Предполагаю, что Tutorial должен быть после регистрации перед MainScreenAppear или после MainScreenAppear в зависимости от дизайна приложения.\n",
    "\n",
    "В нашем случае страницу Tutorial посещают лишь 11% пользователей, что говорит о неэффективности экрана обучения.\n",
    "</div>"
   ]
  },
  {
   "cell_type": "markdown",
   "id": "f4d12409",
   "metadata": {},
   "source": [
    "### Воронка событий"
   ]
  },
  {
   "cell_type": "code",
   "execution_count": 28,
   "id": "4c01398d",
   "metadata": {
    "scrolled": true
   },
   "outputs": [
    {
     "data": {
      "text/html": [
       "<div>\n",
       "<style scoped>\n",
       "    .dataframe tbody tr th:only-of-type {\n",
       "        vertical-align: middle;\n",
       "    }\n",
       "\n",
       "    .dataframe tbody tr th {\n",
       "        vertical-align: top;\n",
       "    }\n",
       "\n",
       "    .dataframe thead th {\n",
       "        text-align: right;\n",
       "    }\n",
       "</style>\n",
       "<table border=\"1\" class=\"dataframe\">\n",
       "  <thead>\n",
       "    <tr style=\"text-align: right;\">\n",
       "      <th></th>\n",
       "      <th>event_name</th>\n",
       "      <th>device_id_hash</th>\n",
       "      <th>share</th>\n",
       "      <th>percent_previous_step</th>\n",
       "    </tr>\n",
       "  </thead>\n",
       "  <tbody>\n",
       "    <tr>\n",
       "      <th>0</th>\n",
       "      <td>MainScreenAppear</td>\n",
       "      <td>7419</td>\n",
       "      <td>0.99</td>\n",
       "      <td>100.00</td>\n",
       "    </tr>\n",
       "    <tr>\n",
       "      <th>1</th>\n",
       "      <td>OffersScreenAppear</td>\n",
       "      <td>4593</td>\n",
       "      <td>0.61</td>\n",
       "      <td>61.62</td>\n",
       "    </tr>\n",
       "    <tr>\n",
       "      <th>2</th>\n",
       "      <td>CartScreenAppear</td>\n",
       "      <td>3734</td>\n",
       "      <td>0.50</td>\n",
       "      <td>81.97</td>\n",
       "    </tr>\n",
       "    <tr>\n",
       "      <th>3</th>\n",
       "      <td>PaymentScreenSuccessful</td>\n",
       "      <td>3539</td>\n",
       "      <td>0.47</td>\n",
       "      <td>94.00</td>\n",
       "    </tr>\n",
       "  </tbody>\n",
       "</table>\n",
       "</div>"
      ],
      "text/plain": [
       "                event_name  device_id_hash  share  percent_previous_step\n",
       "0         MainScreenAppear            7419   0.99                 100.00\n",
       "1       OffersScreenAppear            4593   0.61                  61.62\n",
       "2         CartScreenAppear            3734   0.50                  81.97\n",
       "3  PaymentScreenSuccessful            3539   0.47                  94.00"
      ]
     },
     "execution_count": 28,
     "metadata": {},
     "output_type": "execute_result"
    }
   ],
   "source": [
    "# считаем событийную воронку\n",
    "df_pivot['percent_previous_step'] = round(df_pivot['share'] / df_pivot['share'].shift(periods = 1) * 100,2).fillna(100)\n",
    "df_pivot"
   ]
  },
  {
   "cell_type": "markdown",
   "id": "6edd07ff",
   "metadata": {},
   "source": [
    "<div style=\"background:#e5e5e5; color:#000; padding:10px\">\n",
    "Больше всего клиентов теряется на шаге OffersScreenAppear - 38,38% от пользователей, перешедших с главного экрана.\n",
    "    \n",
    "Зато следующие этапы воронки отличаются хорошим удержанием пользователей. \n",
    "</div>"
   ]
  },
  {
   "cell_type": "code",
   "execution_count": 29,
   "id": "e5f94db5",
   "metadata": {},
   "outputs": [
    {
     "data": {
      "text/plain": [
       "0.48"
      ]
     },
     "execution_count": 29,
     "metadata": {},
     "output_type": "execute_result"
    }
   ],
   "source": [
    "round(df_pivot['device_id_hash'].min() / df_pivot['device_id_hash'].max(), 2)"
   ]
  },
  {
   "cell_type": "markdown",
   "id": "513b55eb",
   "metadata": {},
   "source": [
    "<div style=\"background:#e5e5e5; color:#000; padding:10px\">\n",
    "Доля юзеров, прошедших все этапы воронки составляет 48%.\n",
    "    \n",
    "Большинство пользователей покидают приложение на шаге OffersScreenAppear, оставшиеся юзеры отличаются высоким вовлечением.\n",
    "</div>"
   ]
  },
  {
   "cell_type": "markdown",
   "id": "3efede52",
   "metadata": {},
   "source": [
    "## Шаг 5. Результаты эксперимента"
   ]
  },
  {
   "cell_type": "markdown",
   "id": "d18af5e5",
   "metadata": {},
   "source": [
    "### Количество пользователей в каждой экспериментальной группе"
   ]
  },
  {
   "cell_type": "code",
   "execution_count": 34,
   "id": "4d0141f7",
   "metadata": {
    "scrolled": true
   },
   "outputs": [
    {
     "data": {
      "text/html": [
       "<div>\n",
       "<style scoped>\n",
       "    .dataframe tbody tr th:only-of-type {\n",
       "        vertical-align: middle;\n",
       "    }\n",
       "\n",
       "    .dataframe tbody tr th {\n",
       "        vertical-align: top;\n",
       "    }\n",
       "\n",
       "    .dataframe thead th {\n",
       "        text-align: right;\n",
       "    }\n",
       "</style>\n",
       "<table border=\"1\" class=\"dataframe\">\n",
       "  <thead>\n",
       "    <tr style=\"text-align: right;\">\n",
       "      <th></th>\n",
       "      <th>group</th>\n",
       "      <th>users</th>\n",
       "    </tr>\n",
       "  </thead>\n",
       "  <tbody>\n",
       "    <tr>\n",
       "      <th>0</th>\n",
       "      <td>246</td>\n",
       "      <td>2483</td>\n",
       "    </tr>\n",
       "    <tr>\n",
       "      <th>1</th>\n",
       "      <td>247</td>\n",
       "      <td>2512</td>\n",
       "    </tr>\n",
       "    <tr>\n",
       "      <th>2</th>\n",
       "      <td>248</td>\n",
       "      <td>2535</td>\n",
       "    </tr>\n",
       "  </tbody>\n",
       "</table>\n",
       "</div>"
      ],
      "text/plain": [
       "   group  users\n",
       "0    246   2483\n",
       "1    247   2512\n",
       "2    248   2535"
      ]
     },
     "execution_count": 34,
     "metadata": {},
     "output_type": "execute_result"
    }
   ],
   "source": [
    "# количество пользователей в каждой группе\n",
    "df_filtered_events = df_filtered_wo_tutorial.pivot_table(index = 'exp_id', values = 'device_id_hash', aggfunc = ('nunique')).reset_index()\n",
    "df_filtered_events.columns = ['group', 'users']\n",
    "df_filtered_events"
   ]
  },
  {
   "cell_type": "markdown",
   "id": "90b1c40c",
   "metadata": {},
   "source": [
    "<div style=\"background:#e5e5e5; color:#000; padding:10px\">\n",
    "В 246 группе 2484 пользователя, в 247 - 2516 пользователей.\n",
    "</div>"
   ]
  },
  {
   "cell_type": "markdown",
   "id": "f6bf0971",
   "metadata": {},
   "source": [
    "### Проверка статистических критериев"
   ]
  },
  {
   "cell_type": "code",
   "execution_count": 35,
   "id": "81997357",
   "metadata": {},
   "outputs": [],
   "source": [
    "# проверяем статистическую разницу между контрольными выборками\n",
    "group_users = np.array([df_filtered_events[df_filtered_events['group'] == 246]['users'], df_filtered_events[df_filtered_events['group'] == 247]['users']])\n",
    "sum_users = np.array([df_filtered_wo_tutorial['device_id_hash'].nunique()])\n"
   ]
  },
  {
   "cell_type": "code",
   "execution_count": 36,
   "id": "44e615e0",
   "metadata": {},
   "outputs": [
    {
     "name": "stdout",
     "output_type": "stream",
     "text": [
      "p-значение:  [0.6157227]\n",
      "Не получилось отвергнуть нулевую гипотезу, нет оснований считать доли разными\n"
     ]
    }
   ],
   "source": [
    " alpha = .003\n",
    "\n",
    "# пропорция успехов в 246 группе:\n",
    "p1 = group_users[0]/sum_users[0]\n",
    "\n",
    "# пропорция успехов во 247 группе:\n",
    "p2 = group_users[1]/sum_users[0]\n",
    "\n",
    "# пропорция успехов в комбинированном датасете:\n",
    "p_combined = (group_users[0] + group_users[1]) / (sum_users[0] + sum_users[0])\n",
    "\n",
    "# разница пропорций в датасетах\n",
    "difference = p1 - p2 \n",
    "\n",
    "# считаем статистику в ст.отклонениях стандартного нормального распределения\n",
    "z_value = difference / mth.sqrt(p_combined * (1 - p_combined) * (1/sum_users[0] + 1/sum_users[0]))\n",
    "\n",
    "# задаем стандартное нормальное распределение (среднее 0, ст.отклонение 1)\n",
    "distr = st.norm(0, 1)\n",
    "\n",
    "p_value = (1 - distr.cdf(abs(z_value))) * 2\n",
    "\n",
    "print('p-значение: ', p_value)\n",
    "\n",
    "if p_value < alpha:\n",
    "    print('Отвергаем нулевую гипотезу: между долями есть значимая разница')\n",
    "else:\n",
    "    print(\n",
    "        'Не получилось отвергнуть нулевую гипотезу, нет оснований считать доли разными'\n",
    "        ) "
   ]
  },
  {
   "cell_type": "markdown",
   "id": "a3188eb3",
   "metadata": {},
   "source": [
    "<div style=\"background:#e5e5e5; color:#000; padding:10px\">\n",
    "Вывод: статистической разницы между контрольными выборками нет.\n",
    "</div>"
   ]
  },
  {
   "cell_type": "markdown",
   "id": "a611ac68",
   "metadata": {},
   "source": [
    "### Проверка контрольных групп на равенство долей"
   ]
  },
  {
   "cell_type": "code",
   "execution_count": 37,
   "id": "4130314c",
   "metadata": {},
   "outputs": [
    {
     "name": "stdout",
     "output_type": "stream",
     "text": [
      "exp_id\n",
      "246    MainScreenAppear\n",
      "247    MainScreenAppear\n",
      "248    MainScreenAppear\n",
      "Name: event_name, dtype: object\n"
     ]
    }
   ],
   "source": [
    "# ищем самое популярное событие\n",
    "popular_event_by_group = df_filtered.groupby(['exp_id', 'event_name'])['device_id_hash'].count().reset_index().sort_values(by=['exp_id','device_id_hash'], ascending = [True, False])\n",
    "print(popular_event_by_group.groupby('exp_id')['event_name'].first())\n"
   ]
  },
  {
   "cell_type": "markdown",
   "id": "ee838a88",
   "metadata": {},
   "source": [
    "<div style=\"background:#e5e5e5; color:#000; padding:10px\">\n",
    "Самое популярное событие - MainScreenAppear\n",
    "</div>"
   ]
  },
  {
   "cell_type": "code",
   "execution_count": 38,
   "id": "cb22d12b",
   "metadata": {
    "scrolled": true
   },
   "outputs": [
    {
     "data": {
      "text/html": [
       "<div>\n",
       "<style scoped>\n",
       "    .dataframe tbody tr th:only-of-type {\n",
       "        vertical-align: middle;\n",
       "    }\n",
       "\n",
       "    .dataframe tbody tr th {\n",
       "        vertical-align: top;\n",
       "    }\n",
       "\n",
       "    .dataframe thead th {\n",
       "        text-align: right;\n",
       "    }\n",
       "</style>\n",
       "<table border=\"1\" class=\"dataframe\">\n",
       "  <thead>\n",
       "    <tr style=\"text-align: right;\">\n",
       "      <th>event_name</th>\n",
       "      <th>MainScreenAppear</th>\n",
       "      <th>OffersScreenAppear</th>\n",
       "      <th>CartScreenAppear</th>\n",
       "      <th>PaymentScreenSuccessful</th>\n",
       "    </tr>\n",
       "    <tr>\n",
       "      <th>exp_id</th>\n",
       "      <th></th>\n",
       "      <th></th>\n",
       "      <th></th>\n",
       "      <th></th>\n",
       "    </tr>\n",
       "  </thead>\n",
       "  <tbody>\n",
       "    <tr>\n",
       "      <th>246</th>\n",
       "      <td>2450</td>\n",
       "      <td>1542</td>\n",
       "      <td>1266</td>\n",
       "      <td>1200</td>\n",
       "    </tr>\n",
       "    <tr>\n",
       "      <th>247</th>\n",
       "      <td>2476</td>\n",
       "      <td>1520</td>\n",
       "      <td>1238</td>\n",
       "      <td>1158</td>\n",
       "    </tr>\n",
       "    <tr>\n",
       "      <th>248</th>\n",
       "      <td>2493</td>\n",
       "      <td>1531</td>\n",
       "      <td>1230</td>\n",
       "      <td>1181</td>\n",
       "    </tr>\n",
       "  </tbody>\n",
       "</table>\n",
       "</div>"
      ],
      "text/plain": [
       "event_name  MainScreenAppear  OffersScreenAppear  CartScreenAppear  \\\n",
       "exp_id                                                               \n",
       "246                     2450                1542              1266   \n",
       "247                     2476                1520              1238   \n",
       "248                     2493                1531              1230   \n",
       "\n",
       "event_name  PaymentScreenSuccessful  \n",
       "exp_id                               \n",
       "246                            1200  \n",
       "247                            1158  \n",
       "248                            1181  "
      ]
     },
     "execution_count": 38,
     "metadata": {},
     "output_type": "execute_result"
    }
   ],
   "source": [
    "# считаем, сколько уникальных юзеров выполнили каждый шаг\n",
    "users_by_events = df_filtered_wo_tutorial.pivot_table(index = 'exp_id', columns = 'event_name', values = 'device_id_hash', aggfunc = 'nunique')\n",
    "\n",
    "users_by_events = users_by_events[['MainScreenAppear', 'OffersScreenAppear', 'CartScreenAppear', 'PaymentScreenSuccessful']]\n",
    "users_by_events\n",
    "\n"
   ]
  },
  {
   "cell_type": "code",
   "execution_count": 39,
   "id": "2a1804dd",
   "metadata": {
    "scrolled": true
   },
   "outputs": [
    {
     "data": {
      "text/html": [
       "<div>\n",
       "<style scoped>\n",
       "    .dataframe tbody tr th:only-of-type {\n",
       "        vertical-align: middle;\n",
       "    }\n",
       "\n",
       "    .dataframe tbody tr th {\n",
       "        vertical-align: top;\n",
       "    }\n",
       "\n",
       "    .dataframe thead th {\n",
       "        text-align: right;\n",
       "    }\n",
       "</style>\n",
       "<table border=\"1\" class=\"dataframe\">\n",
       "  <thead>\n",
       "    <tr style=\"text-align: right;\">\n",
       "      <th>event_name</th>\n",
       "      <th>exp_id</th>\n",
       "      <th>MainScreenAppear</th>\n",
       "      <th>OffersScreenAppear</th>\n",
       "      <th>CartScreenAppear</th>\n",
       "      <th>PaymentScreenSuccessful</th>\n",
       "      <th>TotalUsers</th>\n",
       "      <th>RatioFromTotal</th>\n",
       "    </tr>\n",
       "  </thead>\n",
       "  <tbody>\n",
       "    <tr>\n",
       "      <th>0</th>\n",
       "      <td>246</td>\n",
       "      <td>2450</td>\n",
       "      <td>1542</td>\n",
       "      <td>1266</td>\n",
       "      <td>1200</td>\n",
       "      <td>2483</td>\n",
       "      <td>0.99</td>\n",
       "    </tr>\n",
       "    <tr>\n",
       "      <th>1</th>\n",
       "      <td>247</td>\n",
       "      <td>2476</td>\n",
       "      <td>1520</td>\n",
       "      <td>1238</td>\n",
       "      <td>1158</td>\n",
       "      <td>2512</td>\n",
       "      <td>0.99</td>\n",
       "    </tr>\n",
       "    <tr>\n",
       "      <th>2</th>\n",
       "      <td>248</td>\n",
       "      <td>2493</td>\n",
       "      <td>1531</td>\n",
       "      <td>1230</td>\n",
       "      <td>1181</td>\n",
       "      <td>2535</td>\n",
       "      <td>0.98</td>\n",
       "    </tr>\n",
       "  </tbody>\n",
       "</table>\n",
       "</div>"
      ],
      "text/plain": [
       "event_name  exp_id  MainScreenAppear  OffersScreenAppear  CartScreenAppear  \\\n",
       "0              246              2450                1542              1266   \n",
       "1              247              2476                1520              1238   \n",
       "2              248              2493                1531              1230   \n",
       "\n",
       "event_name  PaymentScreenSuccessful  TotalUsers  RatioFromTotal  \n",
       "0                              1200        2483            0.99  \n",
       "1                              1158        2512            0.99  \n",
       "2                              1181        2535            0.98  "
      ]
     },
     "execution_count": 39,
     "metadata": {},
     "output_type": "execute_result"
    }
   ],
   "source": [
    "# высчитываем долю пользователей, совершивших MainScreenAppear\n",
    "users_by_groups = df_filtered_wo_tutorial.groupby('exp_id')['device_id_hash'].nunique()\n",
    "users_by_events['TotalUsers'] = df_filtered_wo_tutorial.groupby('exp_id')['device_id_hash'].nunique()\n",
    "\n",
    "users_by_events['RatioFromTotal'] = round(users_by_events['MainScreenAppear'] / users_by_events['TotalUsers'], 2)\n",
    "users_by_events.reset_index()"
   ]
  },
  {
   "cell_type": "code",
   "execution_count": 40,
   "id": "d4073eb3",
   "metadata": {},
   "outputs": [],
   "source": [
    "# считаем статистическую достоверность между контрольными группами\n",
    "total_aa = (np.array([users_by_events.loc[246]['TotalUsers'], users_by_events.loc[247]['TotalUsers']])).astype('int')\n",
    "main_screen_aa = (np.array([users_by_events.loc[246]['MainScreenAppear'], users_by_events.loc[247]['MainScreenAppear']])).astype('int')\n",
    "offer_screen_aa = (np.array([users_by_events.loc[246]['OffersScreenAppear'], users_by_events.loc[247]['OffersScreenAppear']])).astype('int')\n",
    "cart_screen_aa = (np.array([users_by_events.loc[246]['CartScreenAppear'], users_by_events.loc[247]['CartScreenAppear']])).astype('int')\n",
    "payment_screen_aa = (np.array([users_by_events.loc[246]['PaymentScreenSuccessful'], users_by_events.loc[247]['PaymentScreenSuccessful']])).astype('int')\n",
    "\n",
    "\n"
   ]
  },
  {
   "cell_type": "code",
   "execution_count": 41,
   "id": "fdf66f18",
   "metadata": {},
   "outputs": [],
   "source": [
    "# функция расчета z-value\n",
    "\n",
    "def stat_sign (screen_users, sum_users):\n",
    "    alpha = .003\n",
    "\n",
    "# пропорция успехов в 246 группе:\n",
    "    p1 = screen_users[0]/sum_users[0]\n",
    "\n",
    "# пропорция успехов во 247 группе:\n",
    "    p2 = screen_users[1]/sum_users[1]\n",
    "\n",
    "# пропорция успехов в комбинированном датасете:\n",
    "    p_combined = (screen_users[0] + screen_users[1]) / (sum_users[0] + sum_users[1])\n",
    "\n",
    "# разница пропорций в датасетах\n",
    "    difference = p1 - p2 \n",
    "\n",
    "# считаем статистику в ст.отклонениях стандартного нормального распределения\n",
    "    z_value = difference / mth.sqrt(p_combined * (1 - p_combined) * (1/sum_users[0] + 1/sum_users[1]))\n",
    "\n",
    "# задаем стандартное нормальное распределение (среднее 0, ст.отклонение 1)\n",
    "    distr = st.norm(0, 1)\n",
    "\n",
    "    p_value = (1 - distr.cdf(abs(z_value))) * 2\n",
    "\n",
    "    print('p-значение: ', p_value)\n",
    "\n",
    "    if p_value < alpha:\n",
    "        print('Отвергаем нулевую гипотезу: между долями есть значимая разница')\n",
    "    else:\n",
    "        print(\n",
    "        'Не получилось отвергнуть нулевую гипотезу, нет оснований считать доли разными'\n",
    "        ) "
   ]
  },
  {
   "cell_type": "code",
   "execution_count": 42,
   "id": "debc0b09",
   "metadata": {
    "scrolled": true
   },
   "outputs": [
    {
     "name": "stdout",
     "output_type": "stream",
     "text": [
      "p-значение:  0.7526703436483038\n",
      "Не получилось отвергнуть нулевую гипотезу, нет оснований считать доли разными\n"
     ]
    }
   ],
   "source": [
    "stat_sign(main_screen_aa, total_aa)"
   ]
  },
  {
   "cell_type": "code",
   "execution_count": 43,
   "id": "9f7d63a1",
   "metadata": {},
   "outputs": [
    {
     "name": "stdout",
     "output_type": "stream",
     "text": [
      "p-значение:  0.24786096925282264\n",
      "Не получилось отвергнуть нулевую гипотезу, нет оснований считать доли разными\n"
     ]
    }
   ],
   "source": [
    "stat_sign(offer_screen_aa, total_aa)"
   ]
  },
  {
   "cell_type": "code",
   "execution_count": 44,
   "id": "143e12c2",
   "metadata": {},
   "outputs": [
    {
     "name": "stdout",
     "output_type": "stream",
     "text": [
      "p-значение:  0.22867643757335676\n",
      "Не получилось отвергнуть нулевую гипотезу, нет оснований считать доли разными\n"
     ]
    }
   ],
   "source": [
    "stat_sign(cart_screen_aa, total_aa)"
   ]
  },
  {
   "cell_type": "code",
   "execution_count": 45,
   "id": "30fd56e9",
   "metadata": {},
   "outputs": [
    {
     "name": "stdout",
     "output_type": "stream",
     "text": [
      "p-значение:  0.11446627829276612\n",
      "Не получилось отвергнуть нулевую гипотезу, нет оснований считать доли разными\n"
     ]
    }
   ],
   "source": [
    "stat_sign(payment_screen_aa, total_aa)"
   ]
  },
  {
   "cell_type": "markdown",
   "id": "ac1a4a33",
   "metadata": {},
   "source": [
    "<div style=\"background:#e5e5e5; color:#000; padding:10px\">\n",
    "Вывод по контрольным группам:\n",
    "\n",
    "Разбиение на группы работает корректно, статистических оснований считать доли разными нет.\n",
    "</div>"
   ]
  },
  {
   "cell_type": "markdown",
   "id": "7504aa63",
   "metadata": {},
   "source": [
    "### Проверка контрольной и тестовой групп на равенство долей"
   ]
  },
  {
   "cell_type": "markdown",
   "id": "e858fbb3",
   "metadata": {},
   "source": [
    "#### 246 и 248 группы"
   ]
  },
  {
   "cell_type": "markdown",
   "id": "3b50e553",
   "metadata": {},
   "source": [
    "<div style=\"background:#e5e5e5; color:#000; padding:10px\">\n",
    "\n",
    "Проверяем статистическую достоверность разности 246 контрольной группы и тестовой 248 группы.\n",
    "\n",
    "* Нулевая гипотеза: статистически значимых различий между выборками нет.\n",
    "* Альтернативная гипотеза: статистически значимые различия между выборками есть.\n",
    "\n",
    "Уровень статистической значимости alpha = 0.003.\n",
    "    \n",
    "</div>"
   ]
  },
  {
   "cell_type": "code",
   "execution_count": 46,
   "id": "e905eb49",
   "metadata": {},
   "outputs": [],
   "source": [
    "total_246_248 = (np.array([users_by_events.loc[246]['TotalUsers'], users_by_events.loc[248]['TotalUsers']])).astype('int')\n",
    "main_screen_246_248 = (np.array([users_by_events.loc[246]['MainScreenAppear'], users_by_events.loc[248]['MainScreenAppear']])).astype('int')\n",
    "offer_screen_246_248 = (np.array([users_by_events.loc[246]['OffersScreenAppear'], users_by_events.loc[248]['OffersScreenAppear']])).astype('int')\n",
    "cart_screen_246_248 = (np.array([users_by_events.loc[246]['CartScreenAppear'], users_by_events.loc[248]['CartScreenAppear']])).astype('int')\n",
    "payment_screen_246_248 = (np.array([users_by_events.loc[246]['PaymentScreenSuccessful'], users_by_events.loc[248]['PaymentScreenSuccessful']])).astype('int')\n",
    "\n",
    "\n"
   ]
  },
  {
   "cell_type": "code",
   "execution_count": 47,
   "id": "5d0766f1",
   "metadata": {},
   "outputs": [
    {
     "name": "stdout",
     "output_type": "stream",
     "text": [
      "p-значение:  0.3387114076159288\n",
      "Не получилось отвергнуть нулевую гипотезу, нет оснований считать доли разными\n"
     ]
    }
   ],
   "source": [
    "stat_sign(main_screen_246_248, total_246_248)"
   ]
  },
  {
   "cell_type": "code",
   "execution_count": 48,
   "id": "2e3d2d77",
   "metadata": {},
   "outputs": [
    {
     "name": "stdout",
     "output_type": "stream",
     "text": [
      "p-значение:  0.21442476639710506\n",
      "Не получилось отвергнуть нулевую гипотезу, нет оснований считать доли разными\n"
     ]
    }
   ],
   "source": [
    "stat_sign(offer_screen_246_248, total_246_248)"
   ]
  },
  {
   "cell_type": "code",
   "execution_count": 49,
   "id": "3f866e2c",
   "metadata": {},
   "outputs": [
    {
     "name": "stdout",
     "output_type": "stream",
     "text": [
      "p-значение:  0.08067367598823139\n",
      "Не получилось отвергнуть нулевую гипотезу, нет оснований считать доли разными\n"
     ]
    }
   ],
   "source": [
    "stat_sign(cart_screen_246_248, total_246_248)"
   ]
  },
  {
   "cell_type": "code",
   "execution_count": 50,
   "id": "1931c219",
   "metadata": {},
   "outputs": [
    {
     "name": "stdout",
     "output_type": "stream",
     "text": [
      "p-значение:  0.21693033984516674\n",
      "Не получилось отвергнуть нулевую гипотезу, нет оснований считать доли разными\n"
     ]
    }
   ],
   "source": [
    "stat_sign(payment_screen_246_248, total_246_248)"
   ]
  },
  {
   "cell_type": "markdown",
   "id": "0b3b5738",
   "metadata": {},
   "source": [
    "<div style=\"background:#e5e5e5; color:#000; padding:10px\">\n",
    "Вывод: контрольная группа 246 и тестовая 248 статистически неразличимы.\n",
    "</div>"
   ]
  },
  {
   "cell_type": "markdown",
   "id": "1be0b06e",
   "metadata": {},
   "source": [
    "#### 247 и 248 группы"
   ]
  },
  {
   "cell_type": "markdown",
   "id": "c763fedb",
   "metadata": {},
   "source": [
    "<div style=\"background:#e5e5e5; color:#000; padding:10px\">\n",
    "\n",
    "Проверяем статистическую достоверность разности 247 контрольной группы и тестовой 248 группы.\n",
    "\n",
    "* Нулевая гипотеза: статистически значимых различий между выборками нет.\n",
    "* Альтернативная гипотеза: статистически значимые различия между выборками есть.\n",
    "\n",
    "Уровень статистической значимости alpha = 0.003.\n",
    "    \n",
    "</div>"
   ]
  },
  {
   "cell_type": "code",
   "execution_count": 51,
   "id": "679f32f0",
   "metadata": {},
   "outputs": [],
   "source": [
    "total_247_248 = (np.array([users_by_events.loc[247]['TotalUsers'], users_by_events.loc[248]['TotalUsers']])).astype('int')\n",
    "main_screen_247_248 = (np.array([users_by_events.loc[247]['MainScreenAppear'], users_by_events.loc[248]['MainScreenAppear']])).astype('int')\n",
    "offer_screen_247_248 = (np.array([users_by_events.loc[247]['OffersScreenAppear'], users_by_events.loc[248]['OffersScreenAppear']])).astype('int')\n",
    "cart_screen_247_248 = (np.array([users_by_events.loc[247]['CartScreenAppear'], users_by_events.loc[248]['CartScreenAppear']])).astype('int')\n",
    "payment_screen_247_248 = (np.array([users_by_events.loc[247]['PaymentScreenSuccessful'], users_by_events.loc[248]['PaymentScreenSuccessful']])).astype('int')\n",
    "\n",
    "\n"
   ]
  },
  {
   "cell_type": "code",
   "execution_count": 52,
   "id": "d065fe0f",
   "metadata": {},
   "outputs": [
    {
     "name": "stdout",
     "output_type": "stream",
     "text": [
      "p-значение:  0.5194964354051703\n",
      "Не получилось отвергнуть нулевую гипотезу, нет оснований считать доли разными\n"
     ]
    }
   ],
   "source": [
    "stat_sign(main_screen_247_248, total_247_248)"
   ]
  },
  {
   "cell_type": "code",
   "execution_count": 53,
   "id": "b46805d6",
   "metadata": {},
   "outputs": [
    {
     "name": "stdout",
     "output_type": "stream",
     "text": [
      "p-значение:  0.9333751305879443\n",
      "Не получилось отвергнуть нулевую гипотезу, нет оснований считать доли разными\n"
     ]
    }
   ],
   "source": [
    "stat_sign(offer_screen_247_248, total_247_248)"
   ]
  },
  {
   "cell_type": "code",
   "execution_count": 54,
   "id": "1870c082",
   "metadata": {},
   "outputs": [
    {
     "name": "stdout",
     "output_type": "stream",
     "text": [
      "p-значение:  0.5878284605111943\n",
      "Не получилось отвергнуть нулевую гипотезу, нет оснований считать доли разными\n"
     ]
    }
   ],
   "source": [
    "stat_sign(cart_screen_247_248, total_247_248)"
   ]
  },
  {
   "cell_type": "code",
   "execution_count": 55,
   "id": "e724e7d1",
   "metadata": {
    "scrolled": true
   },
   "outputs": [
    {
     "name": "stdout",
     "output_type": "stream",
     "text": [
      "p-значение:  0.7275718682261119\n",
      "Не получилось отвергнуть нулевую гипотезу, нет оснований считать доли разными\n"
     ]
    }
   ],
   "source": [
    "stat_sign(payment_screen_247_248, total_247_248)"
   ]
  },
  {
   "cell_type": "markdown",
   "id": "7abb22b6",
   "metadata": {},
   "source": [
    "<div style=\"background:#e5e5e5; color:#000; padding:10px\">\n",
    "Вывод: контрольная группа 246 и тестовая 248 статистически неразличимы.\n",
    "</div>"
   ]
  },
  {
   "cell_type": "markdown",
   "id": "bc0b7765",
   "metadata": {},
   "source": [
    "#### объединенная контрольная группа 246_247 и 248 тестовая"
   ]
  },
  {
   "cell_type": "code",
   "execution_count": 56,
   "id": "3734531f",
   "metadata": {},
   "outputs": [
    {
     "data": {
      "text/html": [
       "<div>\n",
       "<style scoped>\n",
       "    .dataframe tbody tr th:only-of-type {\n",
       "        vertical-align: middle;\n",
       "    }\n",
       "\n",
       "    .dataframe tbody tr th {\n",
       "        vertical-align: top;\n",
       "    }\n",
       "\n",
       "    .dataframe thead th {\n",
       "        text-align: right;\n",
       "    }\n",
       "</style>\n",
       "<table border=\"1\" class=\"dataframe\">\n",
       "  <thead>\n",
       "    <tr style=\"text-align: right;\">\n",
       "      <th>event_name</th>\n",
       "      <th>MainScreenAppear</th>\n",
       "      <th>OffersScreenAppear</th>\n",
       "      <th>CartScreenAppear</th>\n",
       "      <th>PaymentScreenSuccessful</th>\n",
       "      <th>TotalUsers</th>\n",
       "    </tr>\n",
       "  </thead>\n",
       "  <tbody>\n",
       "    <tr>\n",
       "      <th>246</th>\n",
       "      <td>2450.0</td>\n",
       "      <td>1542.0</td>\n",
       "      <td>1266.0</td>\n",
       "      <td>1200.0</td>\n",
       "      <td>2483.0</td>\n",
       "    </tr>\n",
       "    <tr>\n",
       "      <th>247</th>\n",
       "      <td>2476.0</td>\n",
       "      <td>1520.0</td>\n",
       "      <td>1238.0</td>\n",
       "      <td>1158.0</td>\n",
       "      <td>2512.0</td>\n",
       "    </tr>\n",
       "    <tr>\n",
       "      <th>246_247</th>\n",
       "      <td>4926.0</td>\n",
       "      <td>3062.0</td>\n",
       "      <td>2504.0</td>\n",
       "      <td>2358.0</td>\n",
       "      <td>4995.0</td>\n",
       "    </tr>\n",
       "    <tr>\n",
       "      <th>248</th>\n",
       "      <td>2493.0</td>\n",
       "      <td>1531.0</td>\n",
       "      <td>1230.0</td>\n",
       "      <td>1181.0</td>\n",
       "      <td>2535.0</td>\n",
       "    </tr>\n",
       "  </tbody>\n",
       "</table>\n",
       "</div>"
      ],
      "text/plain": [
       "event_name  MainScreenAppear  OffersScreenAppear  CartScreenAppear  \\\n",
       "246                   2450.0              1542.0            1266.0   \n",
       "247                   2476.0              1520.0            1238.0   \n",
       "246_247               4926.0              3062.0            2504.0   \n",
       "248                   2493.0              1531.0            1230.0   \n",
       "\n",
       "event_name  PaymentScreenSuccessful  TotalUsers  \n",
       "246                          1200.0      2483.0  \n",
       "247                          1158.0      2512.0  \n",
       "246_247                      2358.0      4995.0  \n",
       "248                          1181.0      2535.0  "
      ]
     },
     "metadata": {},
     "output_type": "display_data"
    }
   ],
   "source": [
    "#pd.DataFrame([users_by_events.loc[246]])\n",
    "new_row = users_by_events.loc[246] + users_by_events.loc[247]\n",
    "event = ['246_247']\n",
    "new_row = pd.DataFrame([new_row], index = event)\n",
    "users_by_events = pd.concat([new_row, users_by_events])\n",
    "users_by_events = users_by_events[['MainScreenAppear', 'OffersScreenAppear', 'CartScreenAppear', 'PaymentScreenSuccessful', 'TotalUsers']]\n",
    "users_by_events = users_by_events.reindex([246, 247, '246_247', 248])\n",
    "display(users_by_events)\n",
    "\n"
   ]
  },
  {
   "cell_type": "markdown",
   "id": "85bda1c0",
   "metadata": {},
   "source": [
    "<div style=\"background:#e5e5e5; color:#000; padding:10px\">\n",
    "Проверяем статистическую достоверность разности общей контрольной выборки 246_247 и тестовой 248 группы.\n",
    "\n",
    "* Нулевая гипотеза: статистически значимых различий между выборками нет.\n",
    "* Альтернативная гипотеза: статистически значимые различия между выборками есть.\n",
    "\n",
    "Уровень статистической значимости alpha = 0.003.\n",
    "    \n",
    "</div>"
   ]
  },
  {
   "cell_type": "code",
   "execution_count": 57,
   "id": "3db2fd07",
   "metadata": {},
   "outputs": [],
   "source": [
    "total_246_247_248 = (np.array([users_by_events.loc['246_247']['TotalUsers'], users_by_events.loc[248]['TotalUsers']])).astype('int')\n",
    "main_screen_246_247_248 = (np.array([users_by_events.loc['246_247']['MainScreenAppear'], users_by_events.loc[248]['MainScreenAppear']])).astype('int')\n",
    "offer_screen_246_247_248 = (np.array([users_by_events.loc['246_247']['OffersScreenAppear'], users_by_events.loc[248]['OffersScreenAppear']])).astype('int')\n",
    "cart_screen_246_247_248 = (np.array([users_by_events.loc['246_247']['CartScreenAppear'], users_by_events.loc[248]['CartScreenAppear']])).astype('int')\n",
    "payment_screen_246_247_248 = (np.array([users_by_events.loc['246_247']['PaymentScreenSuccessful'], users_by_events.loc[248]['PaymentScreenSuccessful']])).astype('int')\n",
    "\n",
    "\n"
   ]
  },
  {
   "cell_type": "markdown",
   "id": "5de40ce7",
   "metadata": {},
   "source": [
    "#### Суммарная контрольная группа и тестовая"
   ]
  },
  {
   "cell_type": "code",
   "execution_count": 58,
   "id": "16c5d85e",
   "metadata": {},
   "outputs": [
    {
     "name": "stdout",
     "output_type": "stream",
     "text": [
      "p-значение:  0.3486684291093256\n",
      "Не получилось отвергнуть нулевую гипотезу, нет оснований считать доли разными\n"
     ]
    }
   ],
   "source": [
    "stat_sign(main_screen_246_247_248, total_246_247_248)"
   ]
  },
  {
   "cell_type": "code",
   "execution_count": 59,
   "id": "41d83298",
   "metadata": {},
   "outputs": [
    {
     "name": "stdout",
     "output_type": "stream",
     "text": [
      "p-значение:  0.44582745409482394\n",
      "Не получилось отвергнуть нулевую гипотезу, нет оснований считать доли разными\n"
     ]
    }
   ],
   "source": [
    "stat_sign(offer_screen_246_247_248, total_246_247_248)"
   ]
  },
  {
   "cell_type": "code",
   "execution_count": 60,
   "id": "558d0e3b",
   "metadata": {},
   "outputs": [
    {
     "name": "stdout",
     "output_type": "stream",
     "text": [
      "p-значение:  0.18683558686831558\n",
      "Не получилось отвергнуть нулевую гипотезу, нет оснований считать доли разными\n"
     ]
    }
   ],
   "source": [
    "stat_sign(cart_screen_246_247_248, total_246_247_248)"
   ]
  },
  {
   "cell_type": "code",
   "execution_count": 61,
   "id": "45f8ac57",
   "metadata": {
    "scrolled": true
   },
   "outputs": [
    {
     "name": "stdout",
     "output_type": "stream",
     "text": [
      "p-значение:  0.6107918742187335\n",
      "Не получилось отвергнуть нулевую гипотезу, нет оснований считать доли разными\n"
     ]
    }
   ],
   "source": [
    "stat_sign(payment_screen_246_247_248, total_246_247_248)"
   ]
  },
  {
   "cell_type": "markdown",
   "id": "b3b8236f",
   "metadata": {},
   "source": [
    "<div style=\"background:#e5e5e5; color:#000; padding:10px\">\n",
    "Вывод: контрольная группа 246_247 и тестовая 248 статистически неразличимы.\n",
    "</div>"
   ]
  },
  {
   "cell_type": "markdown",
   "id": "a39beca7",
   "metadata": {},
   "source": [
    "<div style=\"background:#e5e5e5; color:#000; padding:10px\">\n",
    "С учетом проверки статистической разницы контрольных групп было проведено 5 исследований.\n",
    "\n",
    "Используем метод Шидака.\n",
    "\n",
    "alpha = 0.003\n",
    "    \n",
    "</div>"
   ]
  },
  {
   "cell_type": "markdown",
   "id": "d2c9cd51",
   "metadata": {},
   "source": [
    "#### Вывод по эксперименту:\n",
    "Контрольные и тестовая группа не имеют статистических различий, тем самым можно предположить, \n",
    "что изменение шрифтов не повлияло на пользовательскую воронку приложения.\n"
   ]
  }
 ],
 "metadata": {
  "ExecuteTimeLog": [
   {
    "duration": 1752,
    "start_time": "2023-03-12T08:22:47.974Z"
   },
   {
    "duration": 1133,
    "start_time": "2023-03-12T08:22:49.733Z"
   },
   {
    "duration": 46,
    "start_time": "2023-03-12T08:22:50.869Z"
   },
   {
    "duration": 14,
    "start_time": "2023-03-12T08:22:50.918Z"
   },
   {
    "duration": 1445,
    "start_time": "2023-03-12T08:22:50.934Z"
   },
   {
    "duration": 25,
    "start_time": "2023-03-12T08:22:52.381Z"
   },
   {
    "duration": 118,
    "start_time": "2023-03-12T08:22:52.409Z"
   },
   {
    "duration": 104,
    "start_time": "2023-03-12T08:22:52.532Z"
   },
   {
    "duration": 74,
    "start_time": "2023-03-12T08:22:52.638Z"
   },
   {
    "duration": 16,
    "start_time": "2023-03-12T08:22:52.732Z"
   },
   {
    "duration": 26,
    "start_time": "2023-03-12T08:22:52.750Z"
   },
   {
    "duration": 7,
    "start_time": "2023-03-12T08:22:52.779Z"
   },
   {
    "duration": 868,
    "start_time": "2023-03-12T08:22:52.789Z"
   },
   {
    "duration": 807,
    "start_time": "2023-03-12T08:22:53.660Z"
   },
   {
    "duration": 162,
    "start_time": "2023-03-12T08:22:54.470Z"
   },
   {
    "duration": 103,
    "start_time": "2023-03-12T08:22:54.639Z"
   },
   {
    "duration": 46,
    "start_time": "2023-03-12T08:22:54.744Z"
   },
   {
    "duration": 106,
    "start_time": "2023-03-12T08:22:54.792Z"
   },
   {
    "duration": 492,
    "start_time": "2023-03-12T08:22:54.901Z"
   },
   {
    "duration": 31,
    "start_time": "2023-03-12T08:22:55.398Z"
   },
   {
    "duration": 7,
    "start_time": "2023-03-12T08:22:55.430Z"
   },
   {
    "duration": 124,
    "start_time": "2023-03-12T08:22:55.442Z"
   },
   {
    "duration": 66,
    "start_time": "2023-03-12T08:22:55.569Z"
   },
   {
    "duration": 9,
    "start_time": "2023-03-12T08:22:55.642Z"
   },
   {
    "duration": 54,
    "start_time": "2023-03-12T08:22:55.653Z"
   },
   {
    "duration": 181,
    "start_time": "2023-03-12T08:22:55.709Z"
   },
   {
    "duration": 164,
    "start_time": "2023-03-12T08:22:55.893Z"
   },
   {
    "duration": 15,
    "start_time": "2023-03-12T08:22:56.065Z"
   },
   {
    "duration": 10,
    "start_time": "2023-03-12T08:22:56.082Z"
   },
   {
    "duration": 12,
    "start_time": "2023-03-12T08:22:56.094Z"
   },
   {
    "duration": 11,
    "start_time": "2023-03-12T08:22:56.124Z"
   },
   {
    "duration": 12,
    "start_time": "2023-03-12T08:22:56.136Z"
   },
   {
    "duration": 11,
    "start_time": "2023-03-12T08:22:56.150Z"
   },
   {
    "duration": 20,
    "start_time": "2023-03-12T08:22:56.162Z"
   },
   {
    "duration": 25,
    "start_time": "2023-03-12T08:22:56.185Z"
   },
   {
    "duration": 19,
    "start_time": "2023-03-12T08:22:56.213Z"
   },
   {
    "duration": 11,
    "start_time": "2023-03-12T08:22:56.235Z"
   },
   {
    "duration": 8,
    "start_time": "2023-03-12T08:22:56.248Z"
   },
   {
    "duration": 27,
    "start_time": "2023-03-12T08:22:56.258Z"
   },
   {
    "duration": 8,
    "start_time": "2023-03-12T08:22:56.288Z"
   },
   {
    "duration": 7,
    "start_time": "2023-03-12T08:22:56.297Z"
   },
   {
    "duration": 28,
    "start_time": "2023-03-12T08:22:56.305Z"
   },
   {
    "duration": 16,
    "start_time": "2023-03-12T08:22:56.335Z"
   },
   {
    "duration": 33,
    "start_time": "2023-03-12T08:22:56.353Z"
   },
   {
    "duration": 10,
    "start_time": "2023-03-12T08:22:56.389Z"
   },
   {
    "duration": 29,
    "start_time": "2023-03-12T08:22:56.402Z"
   },
   {
    "duration": 6,
    "start_time": "2023-03-12T08:22:56.433Z"
   },
   {
    "duration": 22,
    "start_time": "2023-03-12T08:22:56.441Z"
   },
   {
    "duration": 17,
    "start_time": "2023-03-12T08:22:56.465Z"
   },
   {
    "duration": 110,
    "start_time": "2023-03-12T08:23:44.904Z"
   },
   {
    "duration": 23,
    "start_time": "2023-03-12T08:23:57.712Z"
   },
   {
    "duration": 132,
    "start_time": "2023-03-12T08:24:03.053Z"
   },
   {
    "duration": 264,
    "start_time": "2023-03-12T08:24:10.969Z"
   },
   {
    "duration": 148,
    "start_time": "2023-03-12T08:24:16.805Z"
   },
   {
    "duration": 119,
    "start_time": "2023-03-12T08:24:48.168Z"
   },
   {
    "duration": 6,
    "start_time": "2023-03-12T08:32:12.965Z"
   },
   {
    "duration": 5,
    "start_time": "2023-03-12T08:32:21.388Z"
   },
   {
    "duration": 5,
    "start_time": "2023-03-12T08:35:17.263Z"
   },
   {
    "duration": 6,
    "start_time": "2023-03-12T08:35:50.648Z"
   },
   {
    "duration": 1203,
    "start_time": "2023-03-12T11:34:54.870Z"
   },
   {
    "duration": 992,
    "start_time": "2023-03-12T11:34:56.076Z"
   },
   {
    "duration": 32,
    "start_time": "2023-03-12T11:34:57.070Z"
   },
   {
    "duration": 8,
    "start_time": "2023-03-12T11:34:57.104Z"
   },
   {
    "duration": 987,
    "start_time": "2023-03-12T11:34:57.114Z"
   },
   {
    "duration": 17,
    "start_time": "2023-03-12T11:34:58.102Z"
   },
   {
    "duration": 90,
    "start_time": "2023-03-12T11:34:58.121Z"
   },
   {
    "duration": 75,
    "start_time": "2023-03-12T11:34:58.213Z"
   },
   {
    "duration": 18,
    "start_time": "2023-03-12T11:34:58.290Z"
   },
   {
    "duration": 66,
    "start_time": "2023-03-12T11:34:58.309Z"
   },
   {
    "duration": 8,
    "start_time": "2023-03-12T11:34:58.376Z"
   },
   {
    "duration": 13,
    "start_time": "2023-03-12T11:34:58.385Z"
   },
   {
    "duration": 5,
    "start_time": "2023-03-12T11:34:58.399Z"
   },
   {
    "duration": 395,
    "start_time": "2023-03-12T11:34:58.407Z"
   },
   {
    "duration": 338,
    "start_time": "2023-03-12T11:34:58.803Z"
   },
   {
    "duration": 85,
    "start_time": "2023-03-12T11:34:59.142Z"
   },
   {
    "duration": 68,
    "start_time": "2023-03-12T11:34:59.228Z"
   },
   {
    "duration": 20,
    "start_time": "2023-03-12T11:34:59.298Z"
   },
   {
    "duration": 82,
    "start_time": "2023-03-12T11:34:59.320Z"
   },
   {
    "duration": 260,
    "start_time": "2023-03-12T11:34:59.404Z"
   },
   {
    "duration": 12,
    "start_time": "2023-03-12T11:34:59.666Z"
   },
   {
    "duration": 7,
    "start_time": "2023-03-12T11:34:59.679Z"
   },
   {
    "duration": 93,
    "start_time": "2023-03-12T11:34:59.688Z"
   },
   {
    "duration": 12,
    "start_time": "2023-03-12T11:34:59.782Z"
   },
   {
    "duration": 8,
    "start_time": "2023-03-12T11:34:59.796Z"
   },
   {
    "duration": 33,
    "start_time": "2023-03-12T11:34:59.868Z"
   },
   {
    "duration": 79,
    "start_time": "2023-03-12T11:34:59.903Z"
   },
   {
    "duration": 58,
    "start_time": "2023-03-12T11:34:59.983Z"
   },
   {
    "duration": 14,
    "start_time": "2023-03-12T11:35:00.056Z"
   },
   {
    "duration": 29,
    "start_time": "2023-03-12T11:35:00.071Z"
   },
   {
    "duration": 29,
    "start_time": "2023-03-12T11:35:00.102Z"
   },
   {
    "duration": 10,
    "start_time": "2023-03-12T11:35:00.132Z"
   },
   {
    "duration": 8,
    "start_time": "2023-03-12T11:35:00.143Z"
   },
   {
    "duration": 20,
    "start_time": "2023-03-12T11:35:00.152Z"
   },
   {
    "duration": 18,
    "start_time": "2023-03-12T11:35:00.174Z"
   },
   {
    "duration": 20,
    "start_time": "2023-03-12T11:35:00.194Z"
   },
   {
    "duration": 19,
    "start_time": "2023-03-12T11:35:00.216Z"
   },
   {
    "duration": 37,
    "start_time": "2023-03-12T11:35:00.236Z"
   },
   {
    "duration": 36,
    "start_time": "2023-03-12T11:35:00.275Z"
   },
   {
    "duration": 35,
    "start_time": "2023-03-12T11:35:00.313Z"
   },
   {
    "duration": 46,
    "start_time": "2023-03-12T11:35:00.351Z"
   },
   {
    "duration": 33,
    "start_time": "2023-03-12T11:35:00.399Z"
   },
   {
    "duration": 30,
    "start_time": "2023-03-12T11:35:00.434Z"
   },
   {
    "duration": 16,
    "start_time": "2023-03-12T11:35:00.466Z"
   },
   {
    "duration": 50,
    "start_time": "2023-03-12T11:35:00.484Z"
   },
   {
    "duration": 59,
    "start_time": "2023-03-12T11:35:00.535Z"
   },
   {
    "duration": 36,
    "start_time": "2023-03-12T11:35:00.595Z"
   },
   {
    "duration": 44,
    "start_time": "2023-03-12T11:35:00.632Z"
   },
   {
    "duration": 26,
    "start_time": "2023-03-12T11:35:00.677Z"
   },
   {
    "duration": 44,
    "start_time": "2023-03-12T11:35:00.704Z"
   },
   {
    "duration": 73,
    "start_time": "2023-03-12T11:37:42.053Z"
   },
   {
    "duration": 80,
    "start_time": "2023-03-12T11:44:16.448Z"
   },
   {
    "duration": 197,
    "start_time": "2023-03-12T11:44:53.393Z"
   },
   {
    "duration": 93,
    "start_time": "2023-03-12T11:46:00.073Z"
   },
   {
    "duration": 76,
    "start_time": "2023-03-12T11:47:00.633Z"
   },
   {
    "duration": 76,
    "start_time": "2023-03-12T11:47:39.952Z"
   },
   {
    "duration": 77,
    "start_time": "2023-03-12T11:47:45.773Z"
   },
   {
    "duration": 70,
    "start_time": "2023-03-12T11:49:46.278Z"
   },
   {
    "duration": 84,
    "start_time": "2023-03-12T11:49:54.337Z"
   },
   {
    "duration": 85,
    "start_time": "2023-03-12T11:51:01.833Z"
   },
   {
    "duration": 93,
    "start_time": "2023-03-12T11:51:22.433Z"
   },
   {
    "duration": 74,
    "start_time": "2023-03-12T11:51:39.373Z"
   },
   {
    "duration": 87,
    "start_time": "2023-03-12T11:51:53.780Z"
   },
   {
    "duration": 84,
    "start_time": "2023-03-12T11:52:01.603Z"
   },
   {
    "duration": 66,
    "start_time": "2023-03-12T11:54:45.147Z"
   },
   {
    "duration": 1007,
    "start_time": "2023-03-12T12:28:22.060Z"
   },
   {
    "duration": 169,
    "start_time": "2023-03-12T12:28:23.069Z"
   },
   {
    "duration": 24,
    "start_time": "2023-03-12T12:28:23.240Z"
   },
   {
    "duration": 9,
    "start_time": "2023-03-12T12:28:23.266Z"
   },
   {
    "duration": 918,
    "start_time": "2023-03-12T12:28:23.276Z"
   },
   {
    "duration": 17,
    "start_time": "2023-03-12T12:28:24.196Z"
   },
   {
    "duration": 77,
    "start_time": "2023-03-12T12:28:24.214Z"
   },
   {
    "duration": 69,
    "start_time": "2023-03-12T12:28:24.293Z"
   },
   {
    "duration": 17,
    "start_time": "2023-03-12T12:28:24.364Z"
   },
   {
    "duration": 105,
    "start_time": "2023-03-12T12:28:24.383Z"
   },
   {
    "duration": 0,
    "start_time": "2023-03-12T12:28:24.490Z"
   },
   {
    "duration": 0,
    "start_time": "2023-03-12T12:28:24.491Z"
   },
   {
    "duration": 0,
    "start_time": "2023-03-12T12:28:24.492Z"
   },
   {
    "duration": 0,
    "start_time": "2023-03-12T12:28:24.493Z"
   },
   {
    "duration": 0,
    "start_time": "2023-03-12T12:28:24.493Z"
   },
   {
    "duration": 0,
    "start_time": "2023-03-12T12:28:24.494Z"
   },
   {
    "duration": 0,
    "start_time": "2023-03-12T12:28:24.495Z"
   },
   {
    "duration": 0,
    "start_time": "2023-03-12T12:28:24.496Z"
   },
   {
    "duration": 0,
    "start_time": "2023-03-12T12:28:24.497Z"
   },
   {
    "duration": 0,
    "start_time": "2023-03-12T12:28:24.498Z"
   },
   {
    "duration": 0,
    "start_time": "2023-03-12T12:28:24.499Z"
   },
   {
    "duration": 0,
    "start_time": "2023-03-12T12:28:24.500Z"
   },
   {
    "duration": 0,
    "start_time": "2023-03-12T12:28:24.501Z"
   },
   {
    "duration": 0,
    "start_time": "2023-03-12T12:28:24.502Z"
   },
   {
    "duration": 0,
    "start_time": "2023-03-12T12:28:24.503Z"
   },
   {
    "duration": 0,
    "start_time": "2023-03-12T12:28:24.503Z"
   },
   {
    "duration": 0,
    "start_time": "2023-03-12T12:28:24.504Z"
   },
   {
    "duration": 0,
    "start_time": "2023-03-12T12:28:24.505Z"
   },
   {
    "duration": 0,
    "start_time": "2023-03-12T12:28:24.506Z"
   },
   {
    "duration": 0,
    "start_time": "2023-03-12T12:28:24.507Z"
   },
   {
    "duration": 0,
    "start_time": "2023-03-12T12:28:24.508Z"
   },
   {
    "duration": 0,
    "start_time": "2023-03-12T12:28:24.509Z"
   },
   {
    "duration": 0,
    "start_time": "2023-03-12T12:28:24.510Z"
   },
   {
    "duration": 0,
    "start_time": "2023-03-12T12:28:24.511Z"
   },
   {
    "duration": 0,
    "start_time": "2023-03-12T12:28:24.512Z"
   },
   {
    "duration": 0,
    "start_time": "2023-03-12T12:28:24.513Z"
   },
   {
    "duration": 0,
    "start_time": "2023-03-12T12:28:24.513Z"
   },
   {
    "duration": 0,
    "start_time": "2023-03-12T12:28:24.514Z"
   },
   {
    "duration": 0,
    "start_time": "2023-03-12T12:28:24.515Z"
   },
   {
    "duration": 0,
    "start_time": "2023-03-12T12:28:24.515Z"
   },
   {
    "duration": 0,
    "start_time": "2023-03-12T12:28:24.555Z"
   },
   {
    "duration": 0,
    "start_time": "2023-03-12T12:28:24.556Z"
   },
   {
    "duration": 0,
    "start_time": "2023-03-12T12:28:24.557Z"
   },
   {
    "duration": 0,
    "start_time": "2023-03-12T12:28:24.558Z"
   },
   {
    "duration": 0,
    "start_time": "2023-03-12T12:28:24.559Z"
   },
   {
    "duration": 0,
    "start_time": "2023-03-12T12:28:24.560Z"
   },
   {
    "duration": 0,
    "start_time": "2023-03-12T12:28:24.561Z"
   },
   {
    "duration": 0,
    "start_time": "2023-03-12T12:28:24.562Z"
   },
   {
    "duration": 0,
    "start_time": "2023-03-12T12:28:24.562Z"
   },
   {
    "duration": 0,
    "start_time": "2023-03-12T12:28:24.563Z"
   },
   {
    "duration": 0,
    "start_time": "2023-03-12T12:28:24.564Z"
   },
   {
    "duration": 5,
    "start_time": "2023-03-12T12:28:46.130Z"
   },
   {
    "duration": 7,
    "start_time": "2023-03-12T12:29:57.795Z"
   },
   {
    "duration": 7,
    "start_time": "2023-03-12T12:30:00.194Z"
   },
   {
    "duration": 7,
    "start_time": "2023-03-12T12:30:20.310Z"
   },
   {
    "duration": 79,
    "start_time": "2023-03-12T12:31:06.877Z"
   },
   {
    "duration": 29,
    "start_time": "2023-03-12T12:34:30.066Z"
   },
   {
    "duration": 14,
    "start_time": "2023-03-12T12:35:17.389Z"
   },
   {
    "duration": 70,
    "start_time": "2023-03-12T12:39:01.186Z"
   },
   {
    "duration": 984,
    "start_time": "2023-03-12T12:39:38.485Z"
   },
   {
    "duration": 192,
    "start_time": "2023-03-12T12:39:39.471Z"
   },
   {
    "duration": 18,
    "start_time": "2023-03-12T12:39:39.664Z"
   },
   {
    "duration": 6,
    "start_time": "2023-03-12T12:39:39.684Z"
   },
   {
    "duration": 927,
    "start_time": "2023-03-12T12:39:39.691Z"
   },
   {
    "duration": 18,
    "start_time": "2023-03-12T12:39:40.620Z"
   },
   {
    "duration": 78,
    "start_time": "2023-03-12T12:39:40.639Z"
   },
   {
    "duration": 86,
    "start_time": "2023-03-12T12:39:40.718Z"
   },
   {
    "duration": 17,
    "start_time": "2023-03-12T12:39:40.806Z"
   },
   {
    "duration": 15,
    "start_time": "2023-03-12T12:39:40.825Z"
   },
   {
    "duration": 22,
    "start_time": "2023-03-12T12:39:40.841Z"
   },
   {
    "duration": 15,
    "start_time": "2023-03-12T12:39:40.865Z"
   },
   {
    "duration": 81,
    "start_time": "2023-03-12T12:39:40.882Z"
   },
   {
    "duration": 7,
    "start_time": "2023-03-12T12:39:40.965Z"
   },
   {
    "duration": 27,
    "start_time": "2023-03-12T12:39:40.973Z"
   },
   {
    "duration": 10,
    "start_time": "2023-03-12T12:39:41.002Z"
   },
   {
    "duration": 364,
    "start_time": "2023-03-12T12:39:41.014Z"
   },
   {
    "duration": 338,
    "start_time": "2023-03-12T12:39:41.380Z"
   },
   {
    "duration": 82,
    "start_time": "2023-03-12T12:39:41.720Z"
   },
   {
    "duration": 59,
    "start_time": "2023-03-12T12:39:41.803Z"
   },
   {
    "duration": 19,
    "start_time": "2023-03-12T12:39:41.864Z"
   },
   {
    "duration": 74,
    "start_time": "2023-03-12T12:39:41.885Z"
   },
   {
    "duration": 235,
    "start_time": "2023-03-12T12:39:41.960Z"
   },
   {
    "duration": 9,
    "start_time": "2023-03-12T12:39:42.197Z"
   },
   {
    "duration": 21,
    "start_time": "2023-03-12T12:39:42.207Z"
   },
   {
    "duration": 67,
    "start_time": "2023-03-12T12:39:42.229Z"
   },
   {
    "duration": 7,
    "start_time": "2023-03-12T12:39:42.298Z"
   },
   {
    "duration": 26,
    "start_time": "2023-03-12T12:39:42.309Z"
   },
   {
    "duration": 54,
    "start_time": "2023-03-12T12:39:42.337Z"
   },
   {
    "duration": 81,
    "start_time": "2023-03-12T12:39:42.393Z"
   },
   {
    "duration": 65,
    "start_time": "2023-03-12T12:39:42.476Z"
   },
   {
    "duration": 16,
    "start_time": "2023-03-12T12:39:42.543Z"
   },
   {
    "duration": 5,
    "start_time": "2023-03-12T12:39:42.561Z"
   },
   {
    "duration": 7,
    "start_time": "2023-03-12T12:39:42.567Z"
   },
   {
    "duration": 5,
    "start_time": "2023-03-12T12:39:42.575Z"
   },
   {
    "duration": 7,
    "start_time": "2023-03-12T12:39:42.581Z"
   },
   {
    "duration": 6,
    "start_time": "2023-03-12T12:39:42.589Z"
   },
   {
    "duration": 5,
    "start_time": "2023-03-12T12:39:42.597Z"
   },
   {
    "duration": 12,
    "start_time": "2023-03-12T12:39:42.603Z"
   },
   {
    "duration": 5,
    "start_time": "2023-03-12T12:39:42.616Z"
   },
   {
    "duration": 9,
    "start_time": "2023-03-12T12:39:42.622Z"
   },
   {
    "duration": 26,
    "start_time": "2023-03-12T12:39:42.632Z"
   },
   {
    "duration": 6,
    "start_time": "2023-03-12T12:39:42.660Z"
   },
   {
    "duration": 7,
    "start_time": "2023-03-12T12:39:42.667Z"
   },
   {
    "duration": 7,
    "start_time": "2023-03-12T12:39:42.675Z"
   },
   {
    "duration": 5,
    "start_time": "2023-03-12T12:39:42.684Z"
   },
   {
    "duration": 6,
    "start_time": "2023-03-12T12:39:42.691Z"
   },
   {
    "duration": 14,
    "start_time": "2023-03-12T12:39:42.698Z"
   },
   {
    "duration": 7,
    "start_time": "2023-03-12T12:39:42.713Z"
   },
   {
    "duration": 8,
    "start_time": "2023-03-12T12:39:42.721Z"
   },
   {
    "duration": 26,
    "start_time": "2023-03-12T12:39:42.730Z"
   },
   {
    "duration": 8,
    "start_time": "2023-03-12T12:39:42.757Z"
   },
   {
    "duration": 14,
    "start_time": "2023-03-12T12:39:42.766Z"
   },
   {
    "duration": 121,
    "start_time": "2023-03-12T12:43:12.560Z"
   },
   {
    "duration": 21,
    "start_time": "2023-03-12T12:43:35.060Z"
   },
   {
    "duration": 5,
    "start_time": "2023-03-12T12:43:53.640Z"
   },
   {
    "duration": 5,
    "start_time": "2023-03-12T12:44:37.470Z"
   },
   {
    "duration": 7,
    "start_time": "2023-03-12T12:45:59.175Z"
   },
   {
    "duration": 88,
    "start_time": "2023-03-12T12:56:58.436Z"
   },
   {
    "duration": 112,
    "start_time": "2023-03-12T12:59:26.842Z"
   },
   {
    "duration": 1043,
    "start_time": "2023-03-12T13:01:50.831Z"
   },
   {
    "duration": 216,
    "start_time": "2023-03-12T13:01:51.876Z"
   },
   {
    "duration": 20,
    "start_time": "2023-03-12T13:01:52.094Z"
   },
   {
    "duration": 8,
    "start_time": "2023-03-12T13:01:52.115Z"
   },
   {
    "duration": 1000,
    "start_time": "2023-03-12T13:01:52.124Z"
   },
   {
    "duration": 31,
    "start_time": "2023-03-12T13:01:53.125Z"
   },
   {
    "duration": 75,
    "start_time": "2023-03-12T13:01:53.157Z"
   },
   {
    "duration": 89,
    "start_time": "2023-03-12T13:01:53.233Z"
   },
   {
    "duration": 32,
    "start_time": "2023-03-12T13:01:53.324Z"
   },
   {
    "duration": 7,
    "start_time": "2023-03-12T13:01:53.358Z"
   },
   {
    "duration": 6,
    "start_time": "2023-03-12T13:01:53.367Z"
   },
   {
    "duration": 6,
    "start_time": "2023-03-12T13:01:53.375Z"
   },
   {
    "duration": 85,
    "start_time": "2023-03-12T13:01:53.383Z"
   },
   {
    "duration": 7,
    "start_time": "2023-03-12T13:01:53.470Z"
   },
   {
    "duration": 14,
    "start_time": "2023-03-12T13:01:53.479Z"
   },
   {
    "duration": 6,
    "start_time": "2023-03-12T13:01:53.494Z"
   },
   {
    "duration": 424,
    "start_time": "2023-03-12T13:01:53.501Z"
   },
   {
    "duration": 361,
    "start_time": "2023-03-12T13:01:53.926Z"
   },
   {
    "duration": 88,
    "start_time": "2023-03-12T13:01:54.288Z"
   },
   {
    "duration": 57,
    "start_time": "2023-03-12T13:01:54.378Z"
   },
   {
    "duration": 31,
    "start_time": "2023-03-12T13:01:54.436Z"
   },
   {
    "duration": 65,
    "start_time": "2023-03-12T13:01:54.469Z"
   },
   {
    "duration": 254,
    "start_time": "2023-03-12T13:01:54.536Z"
   },
   {
    "duration": 10,
    "start_time": "2023-03-12T13:01:54.791Z"
   },
   {
    "duration": 7,
    "start_time": "2023-03-12T13:01:54.802Z"
   },
   {
    "duration": 5,
    "start_time": "2023-03-12T13:01:54.811Z"
   },
   {
    "duration": 4,
    "start_time": "2023-03-12T13:01:54.818Z"
   },
   {
    "duration": 33,
    "start_time": "2023-03-12T13:01:54.825Z"
   },
   {
    "duration": 96,
    "start_time": "2023-03-12T13:01:54.860Z"
   },
   {
    "duration": 8,
    "start_time": "2023-03-12T13:01:54.958Z"
   },
   {
    "duration": 7,
    "start_time": "2023-03-12T13:01:54.967Z"
   },
   {
    "duration": 88,
    "start_time": "2023-03-12T13:01:54.975Z"
   },
   {
    "duration": 115,
    "start_time": "2023-03-12T13:01:55.064Z"
   },
   {
    "duration": 78,
    "start_time": "2023-03-12T13:01:55.181Z"
   },
   {
    "duration": 6,
    "start_time": "2023-03-12T13:01:55.261Z"
   },
   {
    "duration": 5,
    "start_time": "2023-03-12T13:01:55.269Z"
   },
   {
    "duration": 6,
    "start_time": "2023-03-12T13:01:55.275Z"
   },
   {
    "duration": 4,
    "start_time": "2023-03-12T13:01:55.282Z"
   },
   {
    "duration": 5,
    "start_time": "2023-03-12T13:01:55.288Z"
   },
   {
    "duration": 7,
    "start_time": "2023-03-12T13:01:55.294Z"
   },
   {
    "duration": 9,
    "start_time": "2023-03-12T13:01:55.302Z"
   },
   {
    "duration": 49,
    "start_time": "2023-03-12T13:01:55.312Z"
   },
   {
    "duration": 5,
    "start_time": "2023-03-12T13:01:55.362Z"
   },
   {
    "duration": 8,
    "start_time": "2023-03-12T13:01:55.369Z"
   },
   {
    "duration": 7,
    "start_time": "2023-03-12T13:01:55.379Z"
   },
   {
    "duration": 9,
    "start_time": "2023-03-12T13:01:55.388Z"
   },
   {
    "duration": 6,
    "start_time": "2023-03-12T13:01:55.400Z"
   },
   {
    "duration": 5,
    "start_time": "2023-03-12T13:01:55.408Z"
   },
   {
    "duration": 44,
    "start_time": "2023-03-12T13:01:55.415Z"
   },
   {
    "duration": 6,
    "start_time": "2023-03-12T13:01:55.461Z"
   },
   {
    "duration": 15,
    "start_time": "2023-03-12T13:01:55.469Z"
   },
   {
    "duration": 7,
    "start_time": "2023-03-12T13:01:55.485Z"
   },
   {
    "duration": 6,
    "start_time": "2023-03-12T13:01:55.494Z"
   },
   {
    "duration": 4,
    "start_time": "2023-03-12T13:01:55.501Z"
   },
   {
    "duration": 11,
    "start_time": "2023-03-12T13:01:55.507Z"
   },
   {
    "duration": 4,
    "start_time": "2023-03-12T13:01:55.556Z"
   },
   {
    "duration": 1002,
    "start_time": "2023-03-12T13:18:06.559Z"
   },
   {
    "duration": 206,
    "start_time": "2023-03-12T13:18:07.563Z"
   },
   {
    "duration": 21,
    "start_time": "2023-03-12T13:18:07.770Z"
   },
   {
    "duration": 7,
    "start_time": "2023-03-12T13:18:07.793Z"
   },
   {
    "duration": 930,
    "start_time": "2023-03-12T13:18:07.801Z"
   },
   {
    "duration": 22,
    "start_time": "2023-03-12T13:18:08.733Z"
   },
   {
    "duration": 68,
    "start_time": "2023-03-12T13:18:08.757Z"
   },
   {
    "duration": 80,
    "start_time": "2023-03-12T13:18:08.827Z"
   },
   {
    "duration": 17,
    "start_time": "2023-03-12T13:18:08.909Z"
   },
   {
    "duration": 6,
    "start_time": "2023-03-12T13:18:08.928Z"
   },
   {
    "duration": 20,
    "start_time": "2023-03-12T13:18:08.935Z"
   },
   {
    "duration": 6,
    "start_time": "2023-03-12T13:18:08.956Z"
   },
   {
    "duration": 50,
    "start_time": "2023-03-12T13:18:08.963Z"
   },
   {
    "duration": 6,
    "start_time": "2023-03-12T13:18:09.014Z"
   },
   {
    "duration": 35,
    "start_time": "2023-03-12T13:18:09.021Z"
   },
   {
    "duration": 5,
    "start_time": "2023-03-12T13:18:09.057Z"
   },
   {
    "duration": 380,
    "start_time": "2023-03-12T13:18:09.063Z"
   },
   {
    "duration": 331,
    "start_time": "2023-03-12T13:18:09.445Z"
   },
   {
    "duration": 83,
    "start_time": "2023-03-12T13:18:09.777Z"
   },
   {
    "duration": 53,
    "start_time": "2023-03-12T13:18:09.862Z"
   },
   {
    "duration": 18,
    "start_time": "2023-03-12T13:18:09.917Z"
   },
   {
    "duration": 76,
    "start_time": "2023-03-12T13:18:09.937Z"
   },
   {
    "duration": 246,
    "start_time": "2023-03-12T13:18:10.014Z"
   },
   {
    "duration": 9,
    "start_time": "2023-03-12T13:18:10.261Z"
   },
   {
    "duration": 4,
    "start_time": "2023-03-12T13:18:10.271Z"
   },
   {
    "duration": 5,
    "start_time": "2023-03-12T13:18:10.277Z"
   },
   {
    "duration": 8,
    "start_time": "2023-03-12T13:18:10.284Z"
   },
   {
    "duration": 64,
    "start_time": "2023-03-12T13:18:10.296Z"
   },
   {
    "duration": 46,
    "start_time": "2023-03-12T13:18:10.362Z"
   },
   {
    "duration": 8,
    "start_time": "2023-03-12T13:18:10.454Z"
   },
   {
    "duration": 6,
    "start_time": "2023-03-12T13:18:10.464Z"
   },
   {
    "duration": 32,
    "start_time": "2023-03-12T13:18:10.472Z"
   },
   {
    "duration": 94,
    "start_time": "2023-03-12T13:18:10.506Z"
   },
   {
    "duration": 65,
    "start_time": "2023-03-12T13:18:10.602Z"
   },
   {
    "duration": 6,
    "start_time": "2023-03-12T13:18:10.668Z"
   },
   {
    "duration": 5,
    "start_time": "2023-03-12T13:18:10.675Z"
   },
   {
    "duration": 6,
    "start_time": "2023-03-12T13:18:10.681Z"
   },
   {
    "duration": 5,
    "start_time": "2023-03-12T13:18:10.688Z"
   },
   {
    "duration": 16,
    "start_time": "2023-03-12T13:18:10.694Z"
   },
   {
    "duration": 4,
    "start_time": "2023-03-12T13:18:10.712Z"
   },
   {
    "duration": 6,
    "start_time": "2023-03-12T13:18:10.717Z"
   },
   {
    "duration": 7,
    "start_time": "2023-03-12T13:18:10.725Z"
   },
   {
    "duration": 5,
    "start_time": "2023-03-12T13:18:10.754Z"
   },
   {
    "duration": 4,
    "start_time": "2023-03-12T13:18:10.760Z"
   },
   {
    "duration": 4,
    "start_time": "2023-03-12T13:18:10.765Z"
   },
   {
    "duration": 5,
    "start_time": "2023-03-12T13:18:10.771Z"
   },
   {
    "duration": 4,
    "start_time": "2023-03-12T13:18:10.778Z"
   },
   {
    "duration": 4,
    "start_time": "2023-03-12T13:18:10.784Z"
   },
   {
    "duration": 5,
    "start_time": "2023-03-12T13:18:10.789Z"
   },
   {
    "duration": 5,
    "start_time": "2023-03-12T13:18:10.795Z"
   },
   {
    "duration": 13,
    "start_time": "2023-03-12T13:18:10.801Z"
   },
   {
    "duration": 45,
    "start_time": "2023-03-12T13:18:10.815Z"
   },
   {
    "duration": 5,
    "start_time": "2023-03-12T13:18:10.862Z"
   },
   {
    "duration": 4,
    "start_time": "2023-03-12T13:18:10.868Z"
   },
   {
    "duration": 5,
    "start_time": "2023-03-12T13:18:10.873Z"
   },
   {
    "duration": 3,
    "start_time": "2023-03-12T13:18:10.880Z"
   },
   {
    "duration": 70,
    "start_time": "2023-03-12T13:19:25.394Z"
   },
   {
    "duration": 1026,
    "start_time": "2023-03-12T20:53:01.487Z"
   },
   {
    "duration": 203,
    "start_time": "2023-03-12T20:53:02.515Z"
   },
   {
    "duration": 19,
    "start_time": "2023-03-12T20:53:02.720Z"
   },
   {
    "duration": 48,
    "start_time": "2023-03-12T20:53:02.741Z"
   },
   {
    "duration": 1019,
    "start_time": "2023-03-12T20:53:02.791Z"
   },
   {
    "duration": 17,
    "start_time": "2023-03-12T20:53:03.811Z"
   },
   {
    "duration": 79,
    "start_time": "2023-03-12T20:53:03.830Z"
   },
   {
    "duration": 72,
    "start_time": "2023-03-12T20:53:03.911Z"
   },
   {
    "duration": 16,
    "start_time": "2023-03-12T20:53:03.985Z"
   },
   {
    "duration": 6,
    "start_time": "2023-03-12T20:53:04.003Z"
   },
   {
    "duration": 6,
    "start_time": "2023-03-12T20:53:04.010Z"
   },
   {
    "duration": 6,
    "start_time": "2023-03-12T20:53:04.018Z"
   },
   {
    "duration": 73,
    "start_time": "2023-03-12T20:53:04.025Z"
   },
   {
    "duration": 6,
    "start_time": "2023-03-12T20:53:04.101Z"
   },
   {
    "duration": 18,
    "start_time": "2023-03-12T20:53:04.109Z"
   },
   {
    "duration": 4,
    "start_time": "2023-03-12T20:53:04.129Z"
   },
   {
    "duration": 383,
    "start_time": "2023-03-12T20:53:04.134Z"
   },
   {
    "duration": 326,
    "start_time": "2023-03-12T20:53:04.519Z"
   },
   {
    "duration": 83,
    "start_time": "2023-03-12T20:53:04.846Z"
   },
   {
    "duration": 62,
    "start_time": "2023-03-12T20:53:04.931Z"
   },
   {
    "duration": 19,
    "start_time": "2023-03-12T20:53:04.995Z"
   },
   {
    "duration": 81,
    "start_time": "2023-03-12T20:53:05.015Z"
   },
   {
    "duration": 249,
    "start_time": "2023-03-12T20:53:05.098Z"
   },
   {
    "duration": 9,
    "start_time": "2023-03-12T20:53:05.349Z"
   },
   {
    "duration": 5,
    "start_time": "2023-03-12T20:53:05.359Z"
   },
   {
    "duration": 5,
    "start_time": "2023-03-12T20:53:05.379Z"
   },
   {
    "duration": 6,
    "start_time": "2023-03-12T20:53:05.385Z"
   },
   {
    "duration": 7,
    "start_time": "2023-03-12T20:53:05.392Z"
   },
   {
    "duration": 95,
    "start_time": "2023-03-12T20:53:05.400Z"
   },
   {
    "duration": 9,
    "start_time": "2023-03-12T20:53:05.496Z"
   },
   {
    "duration": 7,
    "start_time": "2023-03-12T20:53:05.506Z"
   },
   {
    "duration": 64,
    "start_time": "2023-03-12T20:53:05.515Z"
   },
   {
    "duration": 73,
    "start_time": "2023-03-12T20:53:05.581Z"
   },
   {
    "duration": 77,
    "start_time": "2023-03-12T20:53:05.656Z"
   },
   {
    "duration": 7,
    "start_time": "2023-03-12T20:53:05.735Z"
   },
   {
    "duration": 6,
    "start_time": "2023-03-12T20:53:05.744Z"
   },
   {
    "duration": 8,
    "start_time": "2023-03-12T20:53:05.751Z"
   },
   {
    "duration": 19,
    "start_time": "2023-03-12T20:53:05.761Z"
   },
   {
    "duration": 3,
    "start_time": "2023-03-12T20:53:05.781Z"
   },
   {
    "duration": 8,
    "start_time": "2023-03-12T20:53:05.786Z"
   },
   {
    "duration": 6,
    "start_time": "2023-03-12T20:53:05.798Z"
   },
   {
    "duration": 9,
    "start_time": "2023-03-12T20:53:05.805Z"
   },
   {
    "duration": 5,
    "start_time": "2023-03-12T20:53:05.815Z"
   },
   {
    "duration": 8,
    "start_time": "2023-03-12T20:53:05.821Z"
   },
   {
    "duration": 9,
    "start_time": "2023-03-12T20:53:05.831Z"
   },
   {
    "duration": 7,
    "start_time": "2023-03-12T20:53:05.842Z"
   },
   {
    "duration": 31,
    "start_time": "2023-03-12T20:53:05.850Z"
   },
   {
    "duration": 9,
    "start_time": "2023-03-12T20:53:05.882Z"
   },
   {
    "duration": 27,
    "start_time": "2023-03-12T20:53:05.893Z"
   },
   {
    "duration": 10,
    "start_time": "2023-03-12T20:53:05.922Z"
   },
   {
    "duration": 26,
    "start_time": "2023-03-12T20:53:05.934Z"
   },
   {
    "duration": 15,
    "start_time": "2023-03-12T20:53:05.961Z"
   },
   {
    "duration": 10,
    "start_time": "2023-03-12T20:53:05.978Z"
   },
   {
    "duration": 7,
    "start_time": "2023-03-12T20:53:05.990Z"
   },
   {
    "duration": 12,
    "start_time": "2023-03-12T20:53:05.999Z"
   },
   {
    "duration": 6,
    "start_time": "2023-03-12T20:53:06.014Z"
   },
   {
    "duration": 4,
    "start_time": "2023-03-12T20:57:46.984Z"
   },
   {
    "duration": 3,
    "start_time": "2023-03-12T20:57:48.384Z"
   },
   {
    "duration": 5,
    "start_time": "2023-03-12T20:57:49.837Z"
   },
   {
    "duration": 5,
    "start_time": "2023-03-12T20:59:56.817Z"
   },
   {
    "duration": 5,
    "start_time": "2023-03-12T20:59:58.481Z"
   },
   {
    "duration": 3,
    "start_time": "2023-03-12T21:00:00.044Z"
   },
   {
    "duration": 3,
    "start_time": "2023-03-12T21:00:12.876Z"
   },
   {
    "duration": 1025,
    "start_time": "2023-03-12T21:00:58.274Z"
   },
   {
    "duration": 200,
    "start_time": "2023-03-12T21:00:59.300Z"
   },
   {
    "duration": 18,
    "start_time": "2023-03-12T21:00:59.502Z"
   },
   {
    "duration": 6,
    "start_time": "2023-03-12T21:00:59.522Z"
   },
   {
    "duration": 959,
    "start_time": "2023-03-12T21:00:59.530Z"
   },
   {
    "duration": 19,
    "start_time": "2023-03-12T21:01:00.491Z"
   },
   {
    "duration": 83,
    "start_time": "2023-03-12T21:01:00.511Z"
   },
   {
    "duration": 67,
    "start_time": "2023-03-12T21:01:00.596Z"
   },
   {
    "duration": 29,
    "start_time": "2023-03-12T21:01:00.664Z"
   },
   {
    "duration": 25,
    "start_time": "2023-03-12T21:01:00.695Z"
   },
   {
    "duration": 39,
    "start_time": "2023-03-12T21:01:00.722Z"
   },
   {
    "duration": 20,
    "start_time": "2023-03-12T21:01:00.762Z"
   },
   {
    "duration": 72,
    "start_time": "2023-03-12T21:01:00.784Z"
   },
   {
    "duration": 16,
    "start_time": "2023-03-12T21:01:00.857Z"
   },
   {
    "duration": 51,
    "start_time": "2023-03-12T21:01:00.875Z"
   },
   {
    "duration": 24,
    "start_time": "2023-03-12T21:01:00.928Z"
   },
   {
    "duration": 399,
    "start_time": "2023-03-12T21:01:00.954Z"
   },
   {
    "duration": 333,
    "start_time": "2023-03-12T21:01:01.355Z"
   },
   {
    "duration": 74,
    "start_time": "2023-03-12T21:01:01.690Z"
   },
   {
    "duration": 66,
    "start_time": "2023-03-12T21:01:01.766Z"
   },
   {
    "duration": 25,
    "start_time": "2023-03-12T21:01:01.834Z"
   },
   {
    "duration": 114,
    "start_time": "2023-03-12T21:01:01.860Z"
   },
   {
    "duration": 248,
    "start_time": "2023-03-12T21:01:01.975Z"
   },
   {
    "duration": 10,
    "start_time": "2023-03-12T21:01:02.225Z"
   },
   {
    "duration": 44,
    "start_time": "2023-03-12T21:01:02.236Z"
   },
   {
    "duration": 49,
    "start_time": "2023-03-12T21:01:02.282Z"
   },
   {
    "duration": 22,
    "start_time": "2023-03-12T21:01:02.332Z"
   },
   {
    "duration": 9,
    "start_time": "2023-03-12T21:01:02.357Z"
   },
   {
    "duration": 23,
    "start_time": "2023-03-12T21:01:02.368Z"
   },
   {
    "duration": 39,
    "start_time": "2023-03-12T21:01:02.393Z"
   },
   {
    "duration": 19,
    "start_time": "2023-03-12T21:01:02.434Z"
   },
   {
    "duration": 83,
    "start_time": "2023-03-12T21:01:02.455Z"
   },
   {
    "duration": 10,
    "start_time": "2023-03-12T21:01:02.539Z"
   },
   {
    "duration": 57,
    "start_time": "2023-03-12T21:01:02.550Z"
   },
   {
    "duration": 49,
    "start_time": "2023-03-12T21:01:02.608Z"
   },
   {
    "duration": 74,
    "start_time": "2023-03-12T21:01:02.658Z"
   },
   {
    "duration": 58,
    "start_time": "2023-03-12T21:01:02.733Z"
   },
   {
    "duration": 7,
    "start_time": "2023-03-12T21:01:02.792Z"
   },
   {
    "duration": 33,
    "start_time": "2023-03-12T21:01:02.800Z"
   },
   {
    "duration": 62,
    "start_time": "2023-03-12T21:01:02.835Z"
   },
   {
    "duration": 31,
    "start_time": "2023-03-12T21:01:02.899Z"
   },
   {
    "duration": 17,
    "start_time": "2023-03-12T21:01:02.932Z"
   },
   {
    "duration": 11,
    "start_time": "2023-03-12T21:01:02.950Z"
   },
   {
    "duration": 21,
    "start_time": "2023-03-12T21:01:02.962Z"
   },
   {
    "duration": 29,
    "start_time": "2023-03-12T21:01:02.985Z"
   },
   {
    "duration": 19,
    "start_time": "2023-03-12T21:01:03.016Z"
   },
   {
    "duration": 26,
    "start_time": "2023-03-12T21:01:03.036Z"
   },
   {
    "duration": 24,
    "start_time": "2023-03-12T21:01:03.064Z"
   },
   {
    "duration": 8,
    "start_time": "2023-03-12T21:01:03.090Z"
   },
   {
    "duration": 19,
    "start_time": "2023-03-12T21:01:03.100Z"
   },
   {
    "duration": 9,
    "start_time": "2023-03-12T21:01:03.121Z"
   },
   {
    "duration": 18,
    "start_time": "2023-03-12T21:01:03.132Z"
   },
   {
    "duration": 13,
    "start_time": "2023-03-12T21:01:03.151Z"
   },
   {
    "duration": 32,
    "start_time": "2023-03-12T21:01:03.166Z"
   },
   {
    "duration": 32,
    "start_time": "2023-03-12T21:01:03.200Z"
   },
   {
    "duration": 15,
    "start_time": "2023-03-12T21:01:03.233Z"
   },
   {
    "duration": 12,
    "start_time": "2023-03-12T21:01:03.250Z"
   },
   {
    "duration": 10,
    "start_time": "2023-03-12T21:01:03.263Z"
   },
   {
    "duration": 11,
    "start_time": "2023-03-12T21:01:03.275Z"
   },
   {
    "duration": 6,
    "start_time": "2023-03-12T21:03:07.081Z"
   },
   {
    "duration": 780,
    "start_time": "2023-03-12T21:03:11.632Z"
   },
   {
    "duration": 6,
    "start_time": "2023-03-12T21:03:16.633Z"
   },
   {
    "duration": 4,
    "start_time": "2023-03-12T21:03:21.617Z"
   },
   {
    "duration": 6,
    "start_time": "2023-03-12T21:03:25.308Z"
   },
   {
    "duration": 4,
    "start_time": "2023-03-12T21:04:03.244Z"
   },
   {
    "duration": 6,
    "start_time": "2023-03-12T21:04:10.387Z"
   },
   {
    "duration": 4,
    "start_time": "2023-03-12T21:04:37.293Z"
   },
   {
    "duration": 5,
    "start_time": "2023-03-12T21:04:52.910Z"
   },
   {
    "duration": 6,
    "start_time": "2023-03-12T21:05:59.012Z"
   },
   {
    "duration": 1034,
    "start_time": "2023-03-13T05:13:20.566Z"
   },
   {
    "duration": 223,
    "start_time": "2023-03-13T05:13:21.602Z"
   },
   {
    "duration": 18,
    "start_time": "2023-03-13T05:13:21.826Z"
   },
   {
    "duration": 24,
    "start_time": "2023-03-13T05:13:21.846Z"
   },
   {
    "duration": 996,
    "start_time": "2023-03-13T05:13:21.872Z"
   },
   {
    "duration": 18,
    "start_time": "2023-03-13T05:13:22.873Z"
   },
   {
    "duration": 88,
    "start_time": "2023-03-13T05:13:22.892Z"
   },
   {
    "duration": 89,
    "start_time": "2023-03-13T05:13:22.981Z"
   },
   {
    "duration": 18,
    "start_time": "2023-03-13T05:13:23.072Z"
   },
   {
    "duration": 6,
    "start_time": "2023-03-13T05:13:23.092Z"
   },
   {
    "duration": 7,
    "start_time": "2023-03-13T05:13:23.099Z"
   },
   {
    "duration": 6,
    "start_time": "2023-03-13T05:13:23.108Z"
   },
   {
    "duration": 81,
    "start_time": "2023-03-13T05:13:23.115Z"
   },
   {
    "duration": 8,
    "start_time": "2023-03-13T05:13:23.198Z"
   },
   {
    "duration": 14,
    "start_time": "2023-03-13T05:13:23.208Z"
   },
   {
    "duration": 41,
    "start_time": "2023-03-13T05:13:23.224Z"
   },
   {
    "duration": 373,
    "start_time": "2023-03-13T05:13:23.267Z"
   },
   {
    "duration": 363,
    "start_time": "2023-03-13T05:13:23.642Z"
   },
   {
    "duration": 94,
    "start_time": "2023-03-13T05:13:24.007Z"
   },
   {
    "duration": 64,
    "start_time": "2023-03-13T05:13:24.103Z"
   },
   {
    "duration": 30,
    "start_time": "2023-03-13T05:13:24.177Z"
   },
   {
    "duration": 68,
    "start_time": "2023-03-13T05:13:24.209Z"
   },
   {
    "duration": 267,
    "start_time": "2023-03-13T05:13:24.278Z"
   },
   {
    "duration": 22,
    "start_time": "2023-03-13T05:13:24.547Z"
   },
   {
    "duration": 4,
    "start_time": "2023-03-13T05:13:24.571Z"
   },
   {
    "duration": 4,
    "start_time": "2023-03-13T05:13:24.577Z"
   },
   {
    "duration": 4,
    "start_time": "2023-03-13T05:13:24.583Z"
   },
   {
    "duration": 5,
    "start_time": "2023-03-13T05:13:24.590Z"
   },
   {
    "duration": 8,
    "start_time": "2023-03-13T05:13:24.596Z"
   },
   {
    "duration": 89,
    "start_time": "2023-03-13T05:13:24.605Z"
   },
   {
    "duration": 7,
    "start_time": "2023-03-13T05:13:24.696Z"
   },
   {
    "duration": 19,
    "start_time": "2023-03-13T05:13:24.754Z"
   },
   {
    "duration": 34,
    "start_time": "2023-03-13T05:13:24.774Z"
   },
   {
    "duration": 113,
    "start_time": "2023-03-13T05:13:24.809Z"
   },
   {
    "duration": 63,
    "start_time": "2023-03-13T05:13:24.924Z"
   },
   {
    "duration": 7,
    "start_time": "2023-03-13T05:13:24.988Z"
   },
   {
    "duration": 5,
    "start_time": "2023-03-13T05:13:24.996Z"
   },
   {
    "duration": 18,
    "start_time": "2023-03-13T05:13:25.002Z"
   },
   {
    "duration": 6,
    "start_time": "2023-03-13T05:13:25.021Z"
   },
   {
    "duration": 4,
    "start_time": "2023-03-13T05:13:25.029Z"
   },
   {
    "duration": 6,
    "start_time": "2023-03-13T05:13:25.034Z"
   },
   {
    "duration": 7,
    "start_time": "2023-03-13T05:13:25.066Z"
   },
   {
    "duration": 8,
    "start_time": "2023-03-13T05:13:25.074Z"
   },
   {
    "duration": 4,
    "start_time": "2023-03-13T05:13:25.084Z"
   },
   {
    "duration": 4,
    "start_time": "2023-03-13T05:13:25.089Z"
   },
   {
    "duration": 3,
    "start_time": "2023-03-13T05:13:25.095Z"
   },
   {
    "duration": 6,
    "start_time": "2023-03-13T05:13:25.100Z"
   },
   {
    "duration": 4,
    "start_time": "2023-03-13T05:13:25.107Z"
   },
   {
    "duration": 21,
    "start_time": "2023-03-13T05:13:25.112Z"
   },
   {
    "duration": 7,
    "start_time": "2023-03-13T05:13:25.134Z"
   },
   {
    "duration": 17,
    "start_time": "2023-03-13T05:13:25.142Z"
   },
   {
    "duration": 15,
    "start_time": "2023-03-13T05:13:25.161Z"
   },
   {
    "duration": 7,
    "start_time": "2023-03-13T05:13:25.178Z"
   },
   {
    "duration": 5,
    "start_time": "2023-03-13T05:13:25.186Z"
   },
   {
    "duration": 6,
    "start_time": "2023-03-13T05:13:25.192Z"
   },
   {
    "duration": 4,
    "start_time": "2023-03-13T05:13:25.200Z"
   },
   {
    "duration": 4,
    "start_time": "2023-03-13T05:13:25.206Z"
   },
   {
    "duration": 78,
    "start_time": "2023-03-13T05:16:27.227Z"
   },
   {
    "duration": 22,
    "start_time": "2023-03-13T05:23:21.977Z"
   },
   {
    "duration": 131,
    "start_time": "2023-03-13T05:23:45.977Z"
   },
   {
    "duration": 30,
    "start_time": "2023-03-13T05:24:29.285Z"
   },
   {
    "duration": 40,
    "start_time": "2023-03-13T05:24:47.044Z"
   },
   {
    "duration": 38,
    "start_time": "2023-03-13T05:28:09.285Z"
   },
   {
    "duration": 23,
    "start_time": "2023-03-13T05:30:07.022Z"
   },
   {
    "duration": 25,
    "start_time": "2023-03-13T05:30:31.922Z"
   },
   {
    "duration": 123,
    "start_time": "2023-03-13T05:33:49.196Z"
   },
   {
    "duration": 4139,
    "start_time": "2023-03-13T05:34:16.095Z"
   },
   {
    "duration": 125,
    "start_time": "2023-03-13T05:34:37.980Z"
   },
   {
    "duration": 14,
    "start_time": "2023-03-13T05:35:57.983Z"
   },
   {
    "duration": 6,
    "start_time": "2023-03-13T05:38:04.726Z"
   },
   {
    "duration": 6,
    "start_time": "2023-03-13T05:38:13.306Z"
   },
   {
    "duration": 11,
    "start_time": "2023-03-13T05:45:40.284Z"
   },
   {
    "duration": 9,
    "start_time": "2023-03-13T05:46:39.820Z"
   },
   {
    "duration": 23,
    "start_time": "2023-03-13T05:46:53.655Z"
   },
   {
    "duration": 17,
    "start_time": "2023-03-13T05:47:15.673Z"
   },
   {
    "duration": 1003,
    "start_time": "2023-03-13T05:47:54.322Z"
   },
   {
    "duration": 254,
    "start_time": "2023-03-13T05:47:55.327Z"
   },
   {
    "duration": 20,
    "start_time": "2023-03-13T05:47:55.582Z"
   },
   {
    "duration": 7,
    "start_time": "2023-03-13T05:47:55.604Z"
   },
   {
    "duration": 1156,
    "start_time": "2023-03-13T05:47:55.612Z"
   },
   {
    "duration": 31,
    "start_time": "2023-03-13T05:47:56.769Z"
   },
   {
    "duration": 89,
    "start_time": "2023-03-13T05:47:56.801Z"
   },
   {
    "duration": 93,
    "start_time": "2023-03-13T05:47:56.891Z"
   },
   {
    "duration": 22,
    "start_time": "2023-03-13T05:47:56.988Z"
   },
   {
    "duration": 9,
    "start_time": "2023-03-13T05:47:57.013Z"
   },
   {
    "duration": 6,
    "start_time": "2023-03-13T05:47:57.024Z"
   },
   {
    "duration": 6,
    "start_time": "2023-03-13T05:47:57.031Z"
   },
   {
    "duration": 81,
    "start_time": "2023-03-13T05:47:57.039Z"
   },
   {
    "duration": 7,
    "start_time": "2023-03-13T05:47:57.122Z"
   },
   {
    "duration": 28,
    "start_time": "2023-03-13T05:47:57.131Z"
   },
   {
    "duration": 130,
    "start_time": "2023-03-13T05:47:57.173Z"
   },
   {
    "duration": 15,
    "start_time": "2023-03-13T05:47:57.304Z"
   },
   {
    "duration": 7,
    "start_time": "2023-03-13T05:47:57.320Z"
   },
   {
    "duration": 10,
    "start_time": "2023-03-13T05:47:57.328Z"
   },
   {
    "duration": 440,
    "start_time": "2023-03-13T05:47:57.340Z"
   },
   {
    "duration": 360,
    "start_time": "2023-03-13T05:47:57.781Z"
   },
   {
    "duration": 97,
    "start_time": "2023-03-13T05:47:58.142Z"
   },
   {
    "duration": 61,
    "start_time": "2023-03-13T05:47:58.240Z"
   },
   {
    "duration": 19,
    "start_time": "2023-03-13T05:47:58.303Z"
   },
   {
    "duration": 85,
    "start_time": "2023-03-13T05:47:58.324Z"
   },
   {
    "duration": 268,
    "start_time": "2023-03-13T05:47:58.411Z"
   },
   {
    "duration": 14,
    "start_time": "2023-03-13T05:47:58.681Z"
   },
   {
    "duration": 4,
    "start_time": "2023-03-13T05:47:58.699Z"
   },
   {
    "duration": 6,
    "start_time": "2023-03-13T05:47:58.704Z"
   },
   {
    "duration": 5,
    "start_time": "2023-03-13T05:47:58.711Z"
   },
   {
    "duration": 51,
    "start_time": "2023-03-13T05:47:58.717Z"
   },
   {
    "duration": 10,
    "start_time": "2023-03-13T05:47:58.769Z"
   },
   {
    "duration": 106,
    "start_time": "2023-03-13T05:47:58.780Z"
   },
   {
    "duration": 11,
    "start_time": "2023-03-13T05:47:58.887Z"
   },
   {
    "duration": 7,
    "start_time": "2023-03-13T05:47:58.899Z"
   },
   {
    "duration": 68,
    "start_time": "2023-03-13T05:47:58.908Z"
   },
   {
    "duration": 89,
    "start_time": "2023-03-13T05:47:58.981Z"
   },
   {
    "duration": 61,
    "start_time": "2023-03-13T05:47:59.071Z"
   },
   {
    "duration": 6,
    "start_time": "2023-03-13T05:47:59.134Z"
   },
   {
    "duration": 5,
    "start_time": "2023-03-13T05:47:59.141Z"
   },
   {
    "duration": 32,
    "start_time": "2023-03-13T05:47:59.148Z"
   },
   {
    "duration": 4,
    "start_time": "2023-03-13T05:47:59.183Z"
   },
   {
    "duration": 4,
    "start_time": "2023-03-13T05:47:59.188Z"
   },
   {
    "duration": 4,
    "start_time": "2023-03-13T05:47:59.193Z"
   },
   {
    "duration": 7,
    "start_time": "2023-03-13T05:47:59.199Z"
   },
   {
    "duration": 7,
    "start_time": "2023-03-13T05:47:59.207Z"
   },
   {
    "duration": 5,
    "start_time": "2023-03-13T05:47:59.216Z"
   },
   {
    "duration": 5,
    "start_time": "2023-03-13T05:47:59.222Z"
   },
   {
    "duration": 4,
    "start_time": "2023-03-13T05:47:59.228Z"
   },
   {
    "duration": 17,
    "start_time": "2023-03-13T05:47:59.263Z"
   },
   {
    "duration": 5,
    "start_time": "2023-03-13T05:47:59.282Z"
   },
   {
    "duration": 4,
    "start_time": "2023-03-13T05:47:59.289Z"
   },
   {
    "duration": 4,
    "start_time": "2023-03-13T05:47:59.295Z"
   },
   {
    "duration": 4,
    "start_time": "2023-03-13T05:47:59.301Z"
   },
   {
    "duration": 18,
    "start_time": "2023-03-13T05:47:59.307Z"
   },
   {
    "duration": 6,
    "start_time": "2023-03-13T05:47:59.327Z"
   },
   {
    "duration": 6,
    "start_time": "2023-03-13T05:47:59.372Z"
   },
   {
    "duration": 12,
    "start_time": "2023-03-13T05:47:59.381Z"
   },
   {
    "duration": 5,
    "start_time": "2023-03-13T05:47:59.395Z"
   },
   {
    "duration": 4,
    "start_time": "2023-03-13T05:47:59.401Z"
   },
   {
    "duration": 11,
    "start_time": "2023-03-13T05:48:31.293Z"
   },
   {
    "duration": 9,
    "start_time": "2023-03-13T05:49:34.078Z"
   },
   {
    "duration": 15,
    "start_time": "2023-03-13T05:49:54.157Z"
   },
   {
    "duration": 15,
    "start_time": "2023-03-13T05:50:08.353Z"
   },
   {
    "duration": 1051,
    "start_time": "2023-03-13T05:50:22.386Z"
   },
   {
    "duration": 251,
    "start_time": "2023-03-13T05:50:23.438Z"
   },
   {
    "duration": 19,
    "start_time": "2023-03-13T05:50:23.691Z"
   },
   {
    "duration": 7,
    "start_time": "2023-03-13T05:50:23.712Z"
   },
   {
    "duration": 1025,
    "start_time": "2023-03-13T05:50:23.721Z"
   },
   {
    "duration": 25,
    "start_time": "2023-03-13T05:50:24.747Z"
   },
   {
    "duration": 99,
    "start_time": "2023-03-13T05:50:24.773Z"
   },
   {
    "duration": 73,
    "start_time": "2023-03-13T05:50:24.879Z"
   },
   {
    "duration": 32,
    "start_time": "2023-03-13T05:50:24.953Z"
   },
   {
    "duration": 7,
    "start_time": "2023-03-13T05:50:24.987Z"
   },
   {
    "duration": 6,
    "start_time": "2023-03-13T05:50:24.996Z"
   },
   {
    "duration": 6,
    "start_time": "2023-03-13T05:50:25.003Z"
   },
   {
    "duration": 89,
    "start_time": "2023-03-13T05:50:25.012Z"
   },
   {
    "duration": 7,
    "start_time": "2023-03-13T05:50:25.102Z"
   },
   {
    "duration": 12,
    "start_time": "2023-03-13T05:50:25.111Z"
   },
   {
    "duration": 135,
    "start_time": "2023-03-13T05:50:25.125Z"
   },
   {
    "duration": 29,
    "start_time": "2023-03-13T05:50:25.261Z"
   },
   {
    "duration": 13,
    "start_time": "2023-03-13T05:50:25.291Z"
   },
   {
    "duration": 6,
    "start_time": "2023-03-13T05:50:25.305Z"
   },
   {
    "duration": 418,
    "start_time": "2023-03-13T05:50:25.312Z"
   },
   {
    "duration": 360,
    "start_time": "2023-03-13T05:50:25.732Z"
   },
   {
    "duration": 91,
    "start_time": "2023-03-13T05:50:26.094Z"
   },
   {
    "duration": 55,
    "start_time": "2023-03-13T05:50:26.187Z"
   },
   {
    "duration": 43,
    "start_time": "2023-03-13T05:50:26.244Z"
   },
   {
    "duration": 63,
    "start_time": "2023-03-13T05:50:26.288Z"
   },
   {
    "duration": 260,
    "start_time": "2023-03-13T05:50:26.353Z"
   },
   {
    "duration": 13,
    "start_time": "2023-03-13T05:50:26.615Z"
   },
   {
    "duration": 4,
    "start_time": "2023-03-13T05:50:26.630Z"
   },
   {
    "duration": 41,
    "start_time": "2023-03-13T05:50:26.636Z"
   },
   {
    "duration": 6,
    "start_time": "2023-03-13T05:50:26.685Z"
   },
   {
    "duration": 9,
    "start_time": "2023-03-13T05:50:26.692Z"
   },
   {
    "duration": 8,
    "start_time": "2023-03-13T05:50:26.703Z"
   },
   {
    "duration": 88,
    "start_time": "2023-03-13T05:50:26.712Z"
   },
   {
    "duration": 11,
    "start_time": "2023-03-13T05:50:26.802Z"
   },
   {
    "duration": 54,
    "start_time": "2023-03-13T05:50:26.814Z"
   },
   {
    "duration": 41,
    "start_time": "2023-03-13T05:50:26.881Z"
   },
   {
    "duration": 90,
    "start_time": "2023-03-13T05:50:26.923Z"
   },
   {
    "duration": 69,
    "start_time": "2023-03-13T05:50:27.015Z"
   },
   {
    "duration": 7,
    "start_time": "2023-03-13T05:50:27.085Z"
   },
   {
    "duration": 5,
    "start_time": "2023-03-13T05:50:27.095Z"
   },
   {
    "duration": 8,
    "start_time": "2023-03-13T05:50:27.101Z"
   },
   {
    "duration": 4,
    "start_time": "2023-03-13T05:50:27.111Z"
   },
   {
    "duration": 7,
    "start_time": "2023-03-13T05:50:27.116Z"
   },
   {
    "duration": 4,
    "start_time": "2023-03-13T05:50:27.126Z"
   },
   {
    "duration": 45,
    "start_time": "2023-03-13T05:50:27.131Z"
   },
   {
    "duration": 5,
    "start_time": "2023-03-13T05:50:27.182Z"
   },
   {
    "duration": 5,
    "start_time": "2023-03-13T05:50:27.188Z"
   },
   {
    "duration": 5,
    "start_time": "2023-03-13T05:50:27.195Z"
   },
   {
    "duration": 5,
    "start_time": "2023-03-13T05:50:27.201Z"
   },
   {
    "duration": 6,
    "start_time": "2023-03-13T05:50:27.207Z"
   },
   {
    "duration": 5,
    "start_time": "2023-03-13T05:50:27.214Z"
   },
   {
    "duration": 4,
    "start_time": "2023-03-13T05:50:27.221Z"
   },
   {
    "duration": 5,
    "start_time": "2023-03-13T05:50:27.226Z"
   },
   {
    "duration": 40,
    "start_time": "2023-03-13T05:50:27.232Z"
   },
   {
    "duration": 14,
    "start_time": "2023-03-13T05:50:27.278Z"
   },
   {
    "duration": 8,
    "start_time": "2023-03-13T05:50:27.294Z"
   },
   {
    "duration": 6,
    "start_time": "2023-03-13T05:50:27.303Z"
   },
   {
    "duration": 6,
    "start_time": "2023-03-13T05:50:27.310Z"
   },
   {
    "duration": 5,
    "start_time": "2023-03-13T05:50:27.317Z"
   },
   {
    "duration": 9,
    "start_time": "2023-03-13T05:50:27.323Z"
   },
   {
    "duration": 6,
    "start_time": "2023-03-13T05:50:59.409Z"
   },
   {
    "duration": 44,
    "start_time": "2023-03-13T05:51:10.139Z"
   },
   {
    "duration": 1022,
    "start_time": "2023-03-13T05:59:39.459Z"
   },
   {
    "duration": 215,
    "start_time": "2023-03-13T05:59:40.484Z"
   },
   {
    "duration": 18,
    "start_time": "2023-03-13T05:59:40.701Z"
   },
   {
    "duration": 8,
    "start_time": "2023-03-13T05:59:40.721Z"
   },
   {
    "duration": 1049,
    "start_time": "2023-03-13T05:59:40.732Z"
   },
   {
    "duration": 18,
    "start_time": "2023-03-13T05:59:41.783Z"
   },
   {
    "duration": 85,
    "start_time": "2023-03-13T05:59:41.803Z"
   },
   {
    "duration": 87,
    "start_time": "2023-03-13T05:59:41.889Z"
   },
   {
    "duration": 20,
    "start_time": "2023-03-13T05:59:41.985Z"
   },
   {
    "duration": 6,
    "start_time": "2023-03-13T05:59:42.006Z"
   },
   {
    "duration": 6,
    "start_time": "2023-03-13T05:59:42.013Z"
   },
   {
    "duration": 6,
    "start_time": "2023-03-13T05:59:42.021Z"
   },
   {
    "duration": 74,
    "start_time": "2023-03-13T05:59:42.028Z"
   },
   {
    "duration": 7,
    "start_time": "2023-03-13T05:59:42.105Z"
   },
   {
    "duration": 13,
    "start_time": "2023-03-13T05:59:42.113Z"
   },
   {
    "duration": 154,
    "start_time": "2023-03-13T05:59:42.128Z"
   },
   {
    "duration": 15,
    "start_time": "2023-03-13T05:59:42.284Z"
   },
   {
    "duration": 5,
    "start_time": "2023-03-13T05:59:42.300Z"
   },
   {
    "duration": 427,
    "start_time": "2023-03-13T05:59:42.307Z"
   },
   {
    "duration": 307,
    "start_time": "2023-03-13T05:59:42.736Z"
   },
   {
    "duration": 96,
    "start_time": "2023-03-13T05:59:43.045Z"
   },
   {
    "duration": 65,
    "start_time": "2023-03-13T05:59:43.143Z"
   },
   {
    "duration": 20,
    "start_time": "2023-03-13T05:59:43.210Z"
   },
   {
    "duration": 99,
    "start_time": "2023-03-13T05:59:43.232Z"
   },
   {
    "duration": 243,
    "start_time": "2023-03-13T05:59:43.333Z"
   },
   {
    "duration": 9,
    "start_time": "2023-03-13T05:59:43.581Z"
   },
   {
    "duration": 5,
    "start_time": "2023-03-13T05:59:43.591Z"
   },
   {
    "duration": 4,
    "start_time": "2023-03-13T05:59:43.598Z"
   },
   {
    "duration": 4,
    "start_time": "2023-03-13T05:59:43.604Z"
   },
   {
    "duration": 7,
    "start_time": "2023-03-13T05:59:43.609Z"
   },
   {
    "duration": 63,
    "start_time": "2023-03-13T05:59:43.618Z"
   },
   {
    "duration": 45,
    "start_time": "2023-03-13T05:59:43.682Z"
   },
   {
    "duration": 19,
    "start_time": "2023-03-13T05:59:43.762Z"
   },
   {
    "duration": 8,
    "start_time": "2023-03-13T05:59:43.782Z"
   },
   {
    "duration": 33,
    "start_time": "2023-03-13T05:59:43.792Z"
   },
   {
    "duration": 97,
    "start_time": "2023-03-13T05:59:43.827Z"
   },
   {
    "duration": 66,
    "start_time": "2023-03-13T05:59:43.925Z"
   },
   {
    "duration": 6,
    "start_time": "2023-03-13T05:59:43.993Z"
   },
   {
    "duration": 22,
    "start_time": "2023-03-13T05:59:44.000Z"
   },
   {
    "duration": 7,
    "start_time": "2023-03-13T05:59:44.023Z"
   },
   {
    "duration": 4,
    "start_time": "2023-03-13T05:59:44.033Z"
   },
   {
    "duration": 33,
    "start_time": "2023-03-13T05:59:44.039Z"
   },
   {
    "duration": 6,
    "start_time": "2023-03-13T05:59:44.077Z"
   },
   {
    "duration": 6,
    "start_time": "2023-03-13T05:59:44.084Z"
   },
   {
    "duration": 17,
    "start_time": "2023-03-13T05:59:44.092Z"
   },
   {
    "duration": 15,
    "start_time": "2023-03-13T05:59:44.110Z"
   },
   {
    "duration": 23,
    "start_time": "2023-03-13T05:59:44.127Z"
   },
   {
    "duration": 13,
    "start_time": "2023-03-13T05:59:44.151Z"
   },
   {
    "duration": 15,
    "start_time": "2023-03-13T05:59:44.165Z"
   },
   {
    "duration": 4,
    "start_time": "2023-03-13T05:59:44.182Z"
   },
   {
    "duration": 4,
    "start_time": "2023-03-13T05:59:44.187Z"
   },
   {
    "duration": 4,
    "start_time": "2023-03-13T05:59:44.193Z"
   },
   {
    "duration": 5,
    "start_time": "2023-03-13T05:59:44.198Z"
   },
   {
    "duration": 13,
    "start_time": "2023-03-13T05:59:44.204Z"
   },
   {
    "duration": 5,
    "start_time": "2023-03-13T05:59:44.218Z"
   },
   {
    "duration": 4,
    "start_time": "2023-03-13T05:59:44.225Z"
   },
   {
    "duration": 4,
    "start_time": "2023-03-13T05:59:44.230Z"
   },
   {
    "duration": 31,
    "start_time": "2023-03-13T05:59:44.235Z"
   },
   {
    "duration": 5,
    "start_time": "2023-03-13T05:59:44.271Z"
   },
   {
    "duration": 116,
    "start_time": "2023-03-13T06:02:49.092Z"
   },
   {
    "duration": 110,
    "start_time": "2023-03-13T06:02:59.992Z"
   },
   {
    "duration": 8,
    "start_time": "2023-03-13T06:03:08.234Z"
   },
   {
    "duration": 31,
    "start_time": "2023-03-13T06:03:23.049Z"
   },
   {
    "duration": 44,
    "start_time": "2023-03-13T06:05:20.239Z"
   },
   {
    "duration": 1061,
    "start_time": "2023-03-13T06:05:32.354Z"
   },
   {
    "duration": 1137,
    "start_time": "2023-03-13T06:06:11.905Z"
   },
   {
    "duration": 1029,
    "start_time": "2023-03-13T06:06:58.990Z"
   },
   {
    "duration": 229,
    "start_time": "2023-03-13T06:07:00.021Z"
   },
   {
    "duration": 38,
    "start_time": "2023-03-13T06:07:00.251Z"
   },
   {
    "duration": 10,
    "start_time": "2023-03-13T06:07:00.291Z"
   },
   {
    "duration": 1085,
    "start_time": "2023-03-13T06:07:00.302Z"
   },
   {
    "duration": 20,
    "start_time": "2023-03-13T06:07:01.389Z"
   },
   {
    "duration": 102,
    "start_time": "2023-03-13T06:07:01.411Z"
   },
   {
    "duration": 84,
    "start_time": "2023-03-13T06:07:01.514Z"
   },
   {
    "duration": 19,
    "start_time": "2023-03-13T06:07:01.599Z"
   },
   {
    "duration": 21,
    "start_time": "2023-03-13T06:07:01.620Z"
   },
   {
    "duration": 42,
    "start_time": "2023-03-13T06:07:01.642Z"
   },
   {
    "duration": 49,
    "start_time": "2023-03-13T06:07:01.686Z"
   },
   {
    "duration": 75,
    "start_time": "2023-03-13T06:07:01.737Z"
   },
   {
    "duration": 7,
    "start_time": "2023-03-13T06:07:01.814Z"
   },
   {
    "duration": 64,
    "start_time": "2023-03-13T06:07:01.822Z"
   },
   {
    "duration": 142,
    "start_time": "2023-03-13T06:07:01.887Z"
   },
   {
    "duration": 13,
    "start_time": "2023-03-13T06:07:02.030Z"
   },
   {
    "duration": 37,
    "start_time": "2023-03-13T06:07:02.045Z"
   },
   {
    "duration": 49,
    "start_time": "2023-03-13T06:07:02.084Z"
   },
   {
    "duration": 6,
    "start_time": "2023-03-13T06:07:02.135Z"
   },
   {
    "duration": 396,
    "start_time": "2023-03-13T06:07:02.142Z"
   },
   {
    "duration": 363,
    "start_time": "2023-03-13T06:07:02.540Z"
   },
   {
    "duration": 95,
    "start_time": "2023-03-13T06:07:02.905Z"
   },
   {
    "duration": 40,
    "start_time": "2023-03-13T06:07:03.002Z"
   },
   {
    "duration": 40,
    "start_time": "2023-03-13T06:07:03.044Z"
   },
   {
    "duration": 49,
    "start_time": "2023-03-13T06:07:03.086Z"
   },
   {
    "duration": 276,
    "start_time": "2023-03-13T06:07:03.136Z"
   },
   {
    "duration": 10,
    "start_time": "2023-03-13T06:07:03.416Z"
   },
   {
    "duration": 10,
    "start_time": "2023-03-13T06:07:03.427Z"
   },
   {
    "duration": 1492,
    "start_time": "2023-03-13T06:07:03.438Z"
   },
   {
    "duration": 0,
    "start_time": "2023-03-13T06:07:04.931Z"
   },
   {
    "duration": 0,
    "start_time": "2023-03-13T06:07:04.932Z"
   },
   {
    "duration": 0,
    "start_time": "2023-03-13T06:07:04.933Z"
   },
   {
    "duration": 0,
    "start_time": "2023-03-13T06:07:04.934Z"
   },
   {
    "duration": 0,
    "start_time": "2023-03-13T06:07:04.935Z"
   },
   {
    "duration": 0,
    "start_time": "2023-03-13T06:07:04.936Z"
   },
   {
    "duration": 0,
    "start_time": "2023-03-13T06:07:04.937Z"
   },
   {
    "duration": 0,
    "start_time": "2023-03-13T06:07:04.938Z"
   },
   {
    "duration": 0,
    "start_time": "2023-03-13T06:07:04.939Z"
   },
   {
    "duration": 0,
    "start_time": "2023-03-13T06:07:04.939Z"
   },
   {
    "duration": 0,
    "start_time": "2023-03-13T06:07:04.940Z"
   },
   {
    "duration": 0,
    "start_time": "2023-03-13T06:07:04.941Z"
   },
   {
    "duration": 0,
    "start_time": "2023-03-13T06:07:04.942Z"
   },
   {
    "duration": 0,
    "start_time": "2023-03-13T06:07:04.943Z"
   },
   {
    "duration": 0,
    "start_time": "2023-03-13T06:07:04.944Z"
   },
   {
    "duration": 0,
    "start_time": "2023-03-13T06:07:04.945Z"
   },
   {
    "duration": 0,
    "start_time": "2023-03-13T06:07:04.946Z"
   },
   {
    "duration": 0,
    "start_time": "2023-03-13T06:07:04.946Z"
   },
   {
    "duration": 0,
    "start_time": "2023-03-13T06:07:04.947Z"
   },
   {
    "duration": 0,
    "start_time": "2023-03-13T06:07:04.948Z"
   },
   {
    "duration": 0,
    "start_time": "2023-03-13T06:07:04.949Z"
   },
   {
    "duration": 0,
    "start_time": "2023-03-13T06:07:04.951Z"
   },
   {
    "duration": 0,
    "start_time": "2023-03-13T06:07:04.953Z"
   },
   {
    "duration": 0,
    "start_time": "2023-03-13T06:07:04.954Z"
   },
   {
    "duration": 0,
    "start_time": "2023-03-13T06:07:04.964Z"
   },
   {
    "duration": 0,
    "start_time": "2023-03-13T06:07:04.965Z"
   },
   {
    "duration": 0,
    "start_time": "2023-03-13T06:07:04.965Z"
   },
   {
    "duration": 0,
    "start_time": "2023-03-13T06:07:04.966Z"
   },
   {
    "duration": 0,
    "start_time": "2023-03-13T06:07:04.966Z"
   },
   {
    "duration": 0,
    "start_time": "2023-03-13T06:07:04.967Z"
   },
   {
    "duration": 0,
    "start_time": "2023-03-13T06:07:04.967Z"
   },
   {
    "duration": 28,
    "start_time": "2023-03-13T06:07:39.089Z"
   },
   {
    "duration": 32,
    "start_time": "2023-03-13T06:08:06.690Z"
   },
   {
    "duration": 21,
    "start_time": "2023-03-13T06:08:28.235Z"
   },
   {
    "duration": 26,
    "start_time": "2023-03-13T06:09:00.477Z"
   },
   {
    "duration": 123,
    "start_time": "2023-03-13T06:09:23.382Z"
   },
   {
    "duration": 130,
    "start_time": "2023-03-13T06:09:41.309Z"
   },
   {
    "duration": 1062,
    "start_time": "2023-03-13T06:09:52.931Z"
   },
   {
    "duration": 255,
    "start_time": "2023-03-13T06:09:53.995Z"
   },
   {
    "duration": 49,
    "start_time": "2023-03-13T06:09:54.252Z"
   },
   {
    "duration": 8,
    "start_time": "2023-03-13T06:09:54.304Z"
   },
   {
    "duration": 1114,
    "start_time": "2023-03-13T06:09:54.314Z"
   },
   {
    "duration": 51,
    "start_time": "2023-03-13T06:09:55.429Z"
   },
   {
    "duration": 102,
    "start_time": "2023-03-13T06:09:55.485Z"
   },
   {
    "duration": 89,
    "start_time": "2023-03-13T06:09:55.591Z"
   },
   {
    "duration": 29,
    "start_time": "2023-03-13T06:09:55.681Z"
   },
   {
    "duration": 7,
    "start_time": "2023-03-13T06:09:55.713Z"
   },
   {
    "duration": 7,
    "start_time": "2023-03-13T06:09:55.721Z"
   },
   {
    "duration": 6,
    "start_time": "2023-03-13T06:09:55.729Z"
   },
   {
    "duration": 79,
    "start_time": "2023-03-13T06:09:55.736Z"
   },
   {
    "duration": 7,
    "start_time": "2023-03-13T06:09:55.816Z"
   },
   {
    "duration": 22,
    "start_time": "2023-03-13T06:09:55.824Z"
   },
   {
    "duration": 133,
    "start_time": "2023-03-13T06:09:55.847Z"
   },
   {
    "duration": 22,
    "start_time": "2023-03-13T06:09:55.982Z"
   },
   {
    "duration": 14,
    "start_time": "2023-03-13T06:09:56.006Z"
   },
   {
    "duration": 191,
    "start_time": "2023-03-13T06:09:56.021Z"
   },
   {
    "duration": 0,
    "start_time": "2023-03-13T06:09:56.214Z"
   },
   {
    "duration": 0,
    "start_time": "2023-03-13T06:09:56.216Z"
   },
   {
    "duration": 0,
    "start_time": "2023-03-13T06:09:56.217Z"
   },
   {
    "duration": 0,
    "start_time": "2023-03-13T06:09:56.218Z"
   },
   {
    "duration": 0,
    "start_time": "2023-03-13T06:09:56.219Z"
   },
   {
    "duration": 0,
    "start_time": "2023-03-13T06:09:56.220Z"
   },
   {
    "duration": 0,
    "start_time": "2023-03-13T06:09:56.221Z"
   },
   {
    "duration": 0,
    "start_time": "2023-03-13T06:09:56.223Z"
   },
   {
    "duration": 0,
    "start_time": "2023-03-13T06:09:56.224Z"
   },
   {
    "duration": 0,
    "start_time": "2023-03-13T06:09:56.225Z"
   },
   {
    "duration": 0,
    "start_time": "2023-03-13T06:09:56.226Z"
   },
   {
    "duration": 0,
    "start_time": "2023-03-13T06:09:56.227Z"
   },
   {
    "duration": 1,
    "start_time": "2023-03-13T06:09:56.227Z"
   },
   {
    "duration": 0,
    "start_time": "2023-03-13T06:09:56.229Z"
   },
   {
    "duration": 0,
    "start_time": "2023-03-13T06:09:56.229Z"
   },
   {
    "duration": 0,
    "start_time": "2023-03-13T06:09:56.231Z"
   },
   {
    "duration": 0,
    "start_time": "2023-03-13T06:09:56.256Z"
   },
   {
    "duration": 0,
    "start_time": "2023-03-13T06:09:56.257Z"
   },
   {
    "duration": 0,
    "start_time": "2023-03-13T06:09:56.258Z"
   },
   {
    "duration": 0,
    "start_time": "2023-03-13T06:09:56.258Z"
   },
   {
    "duration": 0,
    "start_time": "2023-03-13T06:09:56.259Z"
   },
   {
    "duration": 0,
    "start_time": "2023-03-13T06:09:56.259Z"
   },
   {
    "duration": 0,
    "start_time": "2023-03-13T06:09:56.259Z"
   },
   {
    "duration": 0,
    "start_time": "2023-03-13T06:09:56.275Z"
   },
   {
    "duration": 0,
    "start_time": "2023-03-13T06:09:56.275Z"
   },
   {
    "duration": 0,
    "start_time": "2023-03-13T06:09:56.276Z"
   },
   {
    "duration": 0,
    "start_time": "2023-03-13T06:09:56.276Z"
   },
   {
    "duration": 0,
    "start_time": "2023-03-13T06:09:56.277Z"
   },
   {
    "duration": 0,
    "start_time": "2023-03-13T06:09:56.277Z"
   },
   {
    "duration": 0,
    "start_time": "2023-03-13T06:09:56.278Z"
   },
   {
    "duration": 0,
    "start_time": "2023-03-13T06:09:56.278Z"
   },
   {
    "duration": 0,
    "start_time": "2023-03-13T06:09:56.280Z"
   },
   {
    "duration": 0,
    "start_time": "2023-03-13T06:09:56.280Z"
   },
   {
    "duration": 0,
    "start_time": "2023-03-13T06:09:56.281Z"
   },
   {
    "duration": 0,
    "start_time": "2023-03-13T06:09:56.282Z"
   },
   {
    "duration": 0,
    "start_time": "2023-03-13T06:09:56.283Z"
   },
   {
    "duration": 0,
    "start_time": "2023-03-13T06:09:56.283Z"
   },
   {
    "duration": 0,
    "start_time": "2023-03-13T06:09:56.288Z"
   },
   {
    "duration": 0,
    "start_time": "2023-03-13T06:09:56.289Z"
   },
   {
    "duration": 0,
    "start_time": "2023-03-13T06:09:56.290Z"
   },
   {
    "duration": 0,
    "start_time": "2023-03-13T06:09:56.290Z"
   },
   {
    "duration": 0,
    "start_time": "2023-03-13T06:09:56.291Z"
   },
   {
    "duration": 97,
    "start_time": "2023-03-13T06:10:39.401Z"
   },
   {
    "duration": 90,
    "start_time": "2023-03-13T06:11:06.954Z"
   },
   {
    "duration": 1059,
    "start_time": "2023-03-13T06:11:23.841Z"
   },
   {
    "duration": 250,
    "start_time": "2023-03-13T06:11:24.902Z"
   },
   {
    "duration": 52,
    "start_time": "2023-03-13T06:11:25.153Z"
   },
   {
    "duration": 7,
    "start_time": "2023-03-13T06:11:25.207Z"
   },
   {
    "duration": 1091,
    "start_time": "2023-03-13T06:11:25.216Z"
   },
   {
    "duration": 18,
    "start_time": "2023-03-13T06:11:26.308Z"
   },
   {
    "duration": 102,
    "start_time": "2023-03-13T06:11:26.327Z"
   },
   {
    "duration": 83,
    "start_time": "2023-03-13T06:11:26.430Z"
   },
   {
    "duration": 19,
    "start_time": "2023-03-13T06:11:26.515Z"
   },
   {
    "duration": 8,
    "start_time": "2023-03-13T06:11:26.536Z"
   },
   {
    "duration": 31,
    "start_time": "2023-03-13T06:11:26.545Z"
   },
   {
    "duration": 23,
    "start_time": "2023-03-13T06:11:26.578Z"
   },
   {
    "duration": 73,
    "start_time": "2023-03-13T06:11:26.603Z"
   },
   {
    "duration": 13,
    "start_time": "2023-03-13T06:11:26.678Z"
   },
   {
    "duration": 16,
    "start_time": "2023-03-13T06:11:26.693Z"
   },
   {
    "duration": 163,
    "start_time": "2023-03-13T06:11:26.711Z"
   },
   {
    "duration": 21,
    "start_time": "2023-03-13T06:11:26.886Z"
   },
   {
    "duration": 11,
    "start_time": "2023-03-13T06:11:26.908Z"
   },
   {
    "duration": 207,
    "start_time": "2023-03-13T06:11:26.920Z"
   },
   {
    "duration": 0,
    "start_time": "2023-03-13T06:11:27.130Z"
   },
   {
    "duration": 0,
    "start_time": "2023-03-13T06:11:27.131Z"
   },
   {
    "duration": 0,
    "start_time": "2023-03-13T06:11:27.132Z"
   },
   {
    "duration": 0,
    "start_time": "2023-03-13T06:11:27.133Z"
   },
   {
    "duration": 0,
    "start_time": "2023-03-13T06:11:27.134Z"
   },
   {
    "duration": 0,
    "start_time": "2023-03-13T06:11:27.135Z"
   },
   {
    "duration": 0,
    "start_time": "2023-03-13T06:11:27.136Z"
   },
   {
    "duration": 0,
    "start_time": "2023-03-13T06:11:27.136Z"
   },
   {
    "duration": 0,
    "start_time": "2023-03-13T06:11:27.137Z"
   },
   {
    "duration": 0,
    "start_time": "2023-03-13T06:11:27.138Z"
   },
   {
    "duration": 0,
    "start_time": "2023-03-13T06:11:27.139Z"
   },
   {
    "duration": 0,
    "start_time": "2023-03-13T06:11:27.140Z"
   },
   {
    "duration": 0,
    "start_time": "2023-03-13T06:11:27.169Z"
   },
   {
    "duration": 0,
    "start_time": "2023-03-13T06:11:27.170Z"
   },
   {
    "duration": 1,
    "start_time": "2023-03-13T06:11:27.170Z"
   },
   {
    "duration": 0,
    "start_time": "2023-03-13T06:11:27.171Z"
   },
   {
    "duration": 0,
    "start_time": "2023-03-13T06:11:27.172Z"
   },
   {
    "duration": 0,
    "start_time": "2023-03-13T06:11:27.172Z"
   },
   {
    "duration": 0,
    "start_time": "2023-03-13T06:11:27.173Z"
   },
   {
    "duration": 0,
    "start_time": "2023-03-13T06:11:27.174Z"
   },
   {
    "duration": 0,
    "start_time": "2023-03-13T06:11:27.174Z"
   },
   {
    "duration": 0,
    "start_time": "2023-03-13T06:11:27.175Z"
   },
   {
    "duration": 0,
    "start_time": "2023-03-13T06:11:27.176Z"
   },
   {
    "duration": 0,
    "start_time": "2023-03-13T06:11:27.176Z"
   },
   {
    "duration": 0,
    "start_time": "2023-03-13T06:11:27.177Z"
   },
   {
    "duration": 0,
    "start_time": "2023-03-13T06:11:27.178Z"
   },
   {
    "duration": 0,
    "start_time": "2023-03-13T06:11:27.178Z"
   },
   {
    "duration": 0,
    "start_time": "2023-03-13T06:11:27.179Z"
   },
   {
    "duration": 0,
    "start_time": "2023-03-13T06:11:27.180Z"
   },
   {
    "duration": 0,
    "start_time": "2023-03-13T06:11:27.183Z"
   },
   {
    "duration": 0,
    "start_time": "2023-03-13T06:11:27.193Z"
   },
   {
    "duration": 0,
    "start_time": "2023-03-13T06:11:27.194Z"
   },
   {
    "duration": 0,
    "start_time": "2023-03-13T06:11:27.195Z"
   },
   {
    "duration": 0,
    "start_time": "2023-03-13T06:11:27.196Z"
   },
   {
    "duration": 0,
    "start_time": "2023-03-13T06:11:27.197Z"
   },
   {
    "duration": 0,
    "start_time": "2023-03-13T06:11:27.198Z"
   },
   {
    "duration": 0,
    "start_time": "2023-03-13T06:11:27.199Z"
   },
   {
    "duration": 0,
    "start_time": "2023-03-13T06:11:27.200Z"
   },
   {
    "duration": 0,
    "start_time": "2023-03-13T06:11:27.201Z"
   },
   {
    "duration": 0,
    "start_time": "2023-03-13T06:11:27.202Z"
   },
   {
    "duration": 0,
    "start_time": "2023-03-13T06:11:27.203Z"
   },
   {
    "duration": 0,
    "start_time": "2023-03-13T06:11:27.204Z"
   },
   {
    "duration": 73,
    "start_time": "2023-03-13T06:12:04.494Z"
   },
   {
    "duration": 79,
    "start_time": "2023-03-13T06:12:28.673Z"
   },
   {
    "duration": 1004,
    "start_time": "2023-03-13T06:12:41.989Z"
   },
   {
    "duration": 255,
    "start_time": "2023-03-13T06:12:42.997Z"
   },
   {
    "duration": 26,
    "start_time": "2023-03-13T06:12:43.272Z"
   },
   {
    "duration": 7,
    "start_time": "2023-03-13T06:12:43.300Z"
   },
   {
    "duration": 1125,
    "start_time": "2023-03-13T06:12:43.308Z"
   },
   {
    "duration": 48,
    "start_time": "2023-03-13T06:12:44.434Z"
   },
   {
    "duration": 97,
    "start_time": "2023-03-13T06:12:44.493Z"
   },
   {
    "duration": 109,
    "start_time": "2023-03-13T06:12:44.592Z"
   },
   {
    "duration": 24,
    "start_time": "2023-03-13T06:12:44.703Z"
   },
   {
    "duration": 7,
    "start_time": "2023-03-13T06:12:44.729Z"
   },
   {
    "duration": 6,
    "start_time": "2023-03-13T06:12:44.737Z"
   },
   {
    "duration": 6,
    "start_time": "2023-03-13T06:12:44.745Z"
   },
   {
    "duration": 80,
    "start_time": "2023-03-13T06:12:44.753Z"
   },
   {
    "duration": 6,
    "start_time": "2023-03-13T06:12:44.835Z"
   },
   {
    "duration": 34,
    "start_time": "2023-03-13T06:12:44.842Z"
   },
   {
    "duration": 123,
    "start_time": "2023-03-13T06:12:44.889Z"
   },
   {
    "duration": 14,
    "start_time": "2023-03-13T06:12:45.014Z"
   },
   {
    "duration": 19,
    "start_time": "2023-03-13T06:12:45.029Z"
   },
   {
    "duration": 237,
    "start_time": "2023-03-13T06:12:45.049Z"
   },
   {
    "duration": 1,
    "start_time": "2023-03-13T06:12:45.292Z"
   },
   {
    "duration": 0,
    "start_time": "2023-03-13T06:12:45.297Z"
   },
   {
    "duration": 0,
    "start_time": "2023-03-13T06:12:45.299Z"
   },
   {
    "duration": 0,
    "start_time": "2023-03-13T06:12:45.300Z"
   },
   {
    "duration": 0,
    "start_time": "2023-03-13T06:12:45.301Z"
   },
   {
    "duration": 0,
    "start_time": "2023-03-13T06:12:45.303Z"
   },
   {
    "duration": 0,
    "start_time": "2023-03-13T06:12:45.305Z"
   },
   {
    "duration": 0,
    "start_time": "2023-03-13T06:12:45.306Z"
   },
   {
    "duration": 0,
    "start_time": "2023-03-13T06:12:45.307Z"
   },
   {
    "duration": 0,
    "start_time": "2023-03-13T06:12:45.308Z"
   },
   {
    "duration": 0,
    "start_time": "2023-03-13T06:12:45.310Z"
   },
   {
    "duration": 0,
    "start_time": "2023-03-13T06:12:45.311Z"
   },
   {
    "duration": 0,
    "start_time": "2023-03-13T06:12:45.313Z"
   },
   {
    "duration": 0,
    "start_time": "2023-03-13T06:12:45.314Z"
   },
   {
    "duration": 0,
    "start_time": "2023-03-13T06:12:45.315Z"
   },
   {
    "duration": 0,
    "start_time": "2023-03-13T06:12:45.317Z"
   },
   {
    "duration": 0,
    "start_time": "2023-03-13T06:12:45.318Z"
   },
   {
    "duration": 0,
    "start_time": "2023-03-13T06:12:45.319Z"
   },
   {
    "duration": 0,
    "start_time": "2023-03-13T06:12:45.320Z"
   },
   {
    "duration": 0,
    "start_time": "2023-03-13T06:12:45.321Z"
   },
   {
    "duration": 0,
    "start_time": "2023-03-13T06:12:45.322Z"
   },
   {
    "duration": 0,
    "start_time": "2023-03-13T06:12:45.323Z"
   },
   {
    "duration": 0,
    "start_time": "2023-03-13T06:12:45.324Z"
   },
   {
    "duration": 0,
    "start_time": "2023-03-13T06:12:45.324Z"
   },
   {
    "duration": 0,
    "start_time": "2023-03-13T06:12:45.325Z"
   },
   {
    "duration": 0,
    "start_time": "2023-03-13T06:12:45.326Z"
   },
   {
    "duration": 0,
    "start_time": "2023-03-13T06:12:45.327Z"
   },
   {
    "duration": 0,
    "start_time": "2023-03-13T06:12:45.328Z"
   },
   {
    "duration": 0,
    "start_time": "2023-03-13T06:12:45.329Z"
   },
   {
    "duration": 0,
    "start_time": "2023-03-13T06:12:45.364Z"
   },
   {
    "duration": 0,
    "start_time": "2023-03-13T06:12:45.365Z"
   },
   {
    "duration": 0,
    "start_time": "2023-03-13T06:12:45.366Z"
   },
   {
    "duration": 0,
    "start_time": "2023-03-13T06:12:45.367Z"
   },
   {
    "duration": 0,
    "start_time": "2023-03-13T06:12:45.367Z"
   },
   {
    "duration": 0,
    "start_time": "2023-03-13T06:12:45.368Z"
   },
   {
    "duration": 0,
    "start_time": "2023-03-13T06:12:45.369Z"
   },
   {
    "duration": 0,
    "start_time": "2023-03-13T06:12:45.370Z"
   },
   {
    "duration": 0,
    "start_time": "2023-03-13T06:12:45.370Z"
   },
   {
    "duration": 0,
    "start_time": "2023-03-13T06:12:45.371Z"
   },
   {
    "duration": 0,
    "start_time": "2023-03-13T06:12:45.372Z"
   },
   {
    "duration": 0,
    "start_time": "2023-03-13T06:12:45.381Z"
   },
   {
    "duration": 0,
    "start_time": "2023-03-13T06:12:45.382Z"
   },
   {
    "duration": 8,
    "start_time": "2023-03-13T06:14:25.574Z"
   },
   {
    "duration": 0,
    "start_time": "2023-03-13T06:14:38.577Z"
   },
   {
    "duration": 91,
    "start_time": "2023-03-13T06:15:14.225Z"
   },
   {
    "duration": 1126,
    "start_time": "2023-03-13T06:15:25.185Z"
   },
   {
    "duration": 245,
    "start_time": "2023-03-13T06:15:26.313Z"
   },
   {
    "duration": 30,
    "start_time": "2023-03-13T06:15:26.569Z"
   },
   {
    "duration": 10,
    "start_time": "2023-03-13T06:15:26.602Z"
   },
   {
    "duration": 1150,
    "start_time": "2023-03-13T06:15:26.614Z"
   },
   {
    "duration": 32,
    "start_time": "2023-03-13T06:15:27.765Z"
   },
   {
    "duration": 93,
    "start_time": "2023-03-13T06:15:27.799Z"
   },
   {
    "duration": 82,
    "start_time": "2023-03-13T06:15:27.894Z"
   },
   {
    "duration": 27,
    "start_time": "2023-03-13T06:15:27.977Z"
   },
   {
    "duration": 6,
    "start_time": "2023-03-13T06:15:28.006Z"
   },
   {
    "duration": 6,
    "start_time": "2023-03-13T06:15:28.013Z"
   },
   {
    "duration": 6,
    "start_time": "2023-03-13T06:15:28.020Z"
   },
   {
    "duration": 89,
    "start_time": "2023-03-13T06:15:28.027Z"
   },
   {
    "duration": 8,
    "start_time": "2023-03-13T06:15:28.118Z"
   },
   {
    "duration": 16,
    "start_time": "2023-03-13T06:15:28.127Z"
   },
   {
    "duration": 136,
    "start_time": "2023-03-13T06:15:28.144Z"
   },
   {
    "duration": 16,
    "start_time": "2023-03-13T06:15:28.281Z"
   },
   {
    "duration": 7,
    "start_time": "2023-03-13T06:15:28.298Z"
   },
   {
    "duration": 200,
    "start_time": "2023-03-13T06:15:28.306Z"
   },
   {
    "duration": 0,
    "start_time": "2023-03-13T06:15:28.509Z"
   },
   {
    "duration": 0,
    "start_time": "2023-03-13T06:15:28.511Z"
   },
   {
    "duration": 0,
    "start_time": "2023-03-13T06:15:28.511Z"
   },
   {
    "duration": 0,
    "start_time": "2023-03-13T06:15:28.512Z"
   },
   {
    "duration": 0,
    "start_time": "2023-03-13T06:15:28.513Z"
   },
   {
    "duration": 0,
    "start_time": "2023-03-13T06:15:28.514Z"
   },
   {
    "duration": 0,
    "start_time": "2023-03-13T06:15:28.515Z"
   },
   {
    "duration": 0,
    "start_time": "2023-03-13T06:15:28.515Z"
   },
   {
    "duration": 0,
    "start_time": "2023-03-13T06:15:28.516Z"
   },
   {
    "duration": 0,
    "start_time": "2023-03-13T06:15:28.518Z"
   },
   {
    "duration": 0,
    "start_time": "2023-03-13T06:15:28.518Z"
   },
   {
    "duration": 0,
    "start_time": "2023-03-13T06:15:28.519Z"
   },
   {
    "duration": 0,
    "start_time": "2023-03-13T06:15:28.520Z"
   },
   {
    "duration": 0,
    "start_time": "2023-03-13T06:15:28.521Z"
   },
   {
    "duration": 0,
    "start_time": "2023-03-13T06:15:28.522Z"
   },
   {
    "duration": 0,
    "start_time": "2023-03-13T06:15:28.523Z"
   },
   {
    "duration": 0,
    "start_time": "2023-03-13T06:15:28.524Z"
   },
   {
    "duration": 0,
    "start_time": "2023-03-13T06:15:28.525Z"
   },
   {
    "duration": 0,
    "start_time": "2023-03-13T06:15:28.526Z"
   },
   {
    "duration": 0,
    "start_time": "2023-03-13T06:15:28.527Z"
   },
   {
    "duration": 0,
    "start_time": "2023-03-13T06:15:28.566Z"
   },
   {
    "duration": 0,
    "start_time": "2023-03-13T06:15:28.567Z"
   },
   {
    "duration": 0,
    "start_time": "2023-03-13T06:15:28.567Z"
   },
   {
    "duration": 0,
    "start_time": "2023-03-13T06:15:28.568Z"
   },
   {
    "duration": 0,
    "start_time": "2023-03-13T06:15:28.569Z"
   },
   {
    "duration": 0,
    "start_time": "2023-03-13T06:15:28.569Z"
   },
   {
    "duration": 0,
    "start_time": "2023-03-13T06:15:28.570Z"
   },
   {
    "duration": 0,
    "start_time": "2023-03-13T06:15:28.571Z"
   },
   {
    "duration": 0,
    "start_time": "2023-03-13T06:15:28.572Z"
   },
   {
    "duration": 0,
    "start_time": "2023-03-13T06:15:28.572Z"
   },
   {
    "duration": 0,
    "start_time": "2023-03-13T06:15:28.573Z"
   },
   {
    "duration": 0,
    "start_time": "2023-03-13T06:15:28.574Z"
   },
   {
    "duration": 0,
    "start_time": "2023-03-13T06:15:28.574Z"
   },
   {
    "duration": 0,
    "start_time": "2023-03-13T06:15:28.575Z"
   },
   {
    "duration": 0,
    "start_time": "2023-03-13T06:15:28.579Z"
   },
   {
    "duration": 0,
    "start_time": "2023-03-13T06:15:28.580Z"
   },
   {
    "duration": 0,
    "start_time": "2023-03-13T06:15:28.581Z"
   },
   {
    "duration": 0,
    "start_time": "2023-03-13T06:15:28.581Z"
   },
   {
    "duration": 0,
    "start_time": "2023-03-13T06:15:28.582Z"
   },
   {
    "duration": 0,
    "start_time": "2023-03-13T06:15:28.583Z"
   },
   {
    "duration": 0,
    "start_time": "2023-03-13T06:15:28.584Z"
   },
   {
    "duration": 0,
    "start_time": "2023-03-13T06:15:28.589Z"
   },
   {
    "duration": 93,
    "start_time": "2023-03-13T06:16:25.473Z"
   },
   {
    "duration": 8,
    "start_time": "2023-03-13T06:17:05.325Z"
   },
   {
    "duration": 1091,
    "start_time": "2023-03-13T06:17:48.781Z"
   },
   {
    "duration": 246,
    "start_time": "2023-03-13T06:17:49.881Z"
   },
   {
    "duration": 18,
    "start_time": "2023-03-13T06:17:50.129Z"
   },
   {
    "duration": 16,
    "start_time": "2023-03-13T06:17:50.167Z"
   },
   {
    "duration": 1116,
    "start_time": "2023-03-13T06:17:50.185Z"
   },
   {
    "duration": 19,
    "start_time": "2023-03-13T06:17:51.302Z"
   },
   {
    "duration": 92,
    "start_time": "2023-03-13T06:17:51.323Z"
   },
   {
    "duration": 85,
    "start_time": "2023-03-13T06:17:51.417Z"
   },
   {
    "duration": 20,
    "start_time": "2023-03-13T06:17:51.504Z"
   },
   {
    "duration": 7,
    "start_time": "2023-03-13T06:17:51.525Z"
   },
   {
    "duration": 30,
    "start_time": "2023-03-13T06:17:51.534Z"
   },
   {
    "duration": 24,
    "start_time": "2023-03-13T06:17:51.565Z"
   },
   {
    "duration": 86,
    "start_time": "2023-03-13T06:17:51.590Z"
   },
   {
    "duration": 9,
    "start_time": "2023-03-13T06:17:51.686Z"
   },
   {
    "duration": 25,
    "start_time": "2023-03-13T06:17:51.697Z"
   },
   {
    "duration": 155,
    "start_time": "2023-03-13T06:17:51.723Z"
   },
   {
    "duration": 21,
    "start_time": "2023-03-13T06:17:51.880Z"
   },
   {
    "duration": 6,
    "start_time": "2023-03-13T06:17:51.902Z"
   },
   {
    "duration": 10,
    "start_time": "2023-03-13T06:17:51.910Z"
   },
   {
    "duration": 465,
    "start_time": "2023-03-13T06:17:51.922Z"
   },
   {
    "duration": 325,
    "start_time": "2023-03-13T06:17:52.393Z"
   },
   {
    "duration": 117,
    "start_time": "2023-03-13T06:17:52.720Z"
   },
   {
    "duration": 75,
    "start_time": "2023-03-13T06:17:52.839Z"
   },
   {
    "duration": 20,
    "start_time": "2023-03-13T06:17:52.915Z"
   },
   {
    "duration": 89,
    "start_time": "2023-03-13T06:17:52.936Z"
   },
   {
    "duration": 283,
    "start_time": "2023-03-13T06:17:53.026Z"
   },
   {
    "duration": 13,
    "start_time": "2023-03-13T06:17:53.311Z"
   },
   {
    "duration": 6,
    "start_time": "2023-03-13T06:17:53.325Z"
   },
   {
    "duration": 5,
    "start_time": "2023-03-13T06:17:53.333Z"
   },
   {
    "duration": 5,
    "start_time": "2023-03-13T06:17:53.340Z"
   },
   {
    "duration": 37,
    "start_time": "2023-03-13T06:17:53.346Z"
   },
   {
    "duration": 19,
    "start_time": "2023-03-13T06:17:53.385Z"
   },
   {
    "duration": 86,
    "start_time": "2023-03-13T06:17:53.406Z"
   },
   {
    "duration": 13,
    "start_time": "2023-03-13T06:17:53.494Z"
   },
   {
    "duration": 7,
    "start_time": "2023-03-13T06:17:53.508Z"
   },
   {
    "duration": 76,
    "start_time": "2023-03-13T06:17:53.517Z"
   },
   {
    "duration": 98,
    "start_time": "2023-03-13T06:17:53.595Z"
   },
   {
    "duration": 81,
    "start_time": "2023-03-13T06:17:53.701Z"
   },
   {
    "duration": 9,
    "start_time": "2023-03-13T06:17:53.789Z"
   },
   {
    "duration": 11,
    "start_time": "2023-03-13T06:17:53.800Z"
   },
   {
    "duration": 4,
    "start_time": "2023-03-13T06:17:53.815Z"
   },
   {
    "duration": 5,
    "start_time": "2023-03-13T06:17:53.821Z"
   },
   {
    "duration": 9,
    "start_time": "2023-03-13T06:17:53.827Z"
   },
   {
    "duration": 6,
    "start_time": "2023-03-13T06:17:53.838Z"
   },
   {
    "duration": 23,
    "start_time": "2023-03-13T06:17:53.845Z"
   },
   {
    "duration": 19,
    "start_time": "2023-03-13T06:17:53.869Z"
   },
   {
    "duration": 6,
    "start_time": "2023-03-13T06:17:53.889Z"
   },
   {
    "duration": 20,
    "start_time": "2023-03-13T06:17:53.896Z"
   },
   {
    "duration": 11,
    "start_time": "2023-03-13T06:17:53.918Z"
   },
   {
    "duration": 23,
    "start_time": "2023-03-13T06:17:53.931Z"
   },
   {
    "duration": 10,
    "start_time": "2023-03-13T06:17:53.961Z"
   },
   {
    "duration": 25,
    "start_time": "2023-03-13T06:17:53.972Z"
   },
   {
    "duration": 5,
    "start_time": "2023-03-13T06:17:53.999Z"
   },
   {
    "duration": 13,
    "start_time": "2023-03-13T06:17:54.005Z"
   },
   {
    "duration": 21,
    "start_time": "2023-03-13T06:17:54.019Z"
   },
   {
    "duration": 37,
    "start_time": "2023-03-13T06:17:54.042Z"
   },
   {
    "duration": 8,
    "start_time": "2023-03-13T06:17:54.085Z"
   },
   {
    "duration": 4,
    "start_time": "2023-03-13T06:17:54.098Z"
   },
   {
    "duration": 9,
    "start_time": "2023-03-13T06:17:54.103Z"
   },
   {
    "duration": 11,
    "start_time": "2023-03-13T06:17:54.113Z"
   },
   {
    "duration": 8,
    "start_time": "2023-03-13T06:18:20.440Z"
   },
   {
    "duration": 11,
    "start_time": "2023-03-13T06:18:26.714Z"
   },
   {
    "duration": 122,
    "start_time": "2023-03-13T06:18:56.285Z"
   },
   {
    "duration": 10,
    "start_time": "2023-03-13T06:22:21.890Z"
   },
   {
    "duration": 7,
    "start_time": "2023-03-13T06:22:57.033Z"
   },
   {
    "duration": 11,
    "start_time": "2023-03-13T06:24:19.780Z"
   },
   {
    "duration": 11,
    "start_time": "2023-03-13T06:24:58.121Z"
   },
   {
    "duration": 74,
    "start_time": "2023-03-13T06:25:10.977Z"
   },
   {
    "duration": 11,
    "start_time": "2023-03-13T06:25:20.831Z"
   },
   {
    "duration": 11,
    "start_time": "2023-03-13T06:25:40.594Z"
   },
   {
    "duration": 11,
    "start_time": "2023-03-13T06:26:12.598Z"
   },
   {
    "duration": 9,
    "start_time": "2023-03-13T06:26:12.685Z"
   },
   {
    "duration": 21,
    "start_time": "2023-03-13T06:26:12.706Z"
   },
   {
    "duration": 53,
    "start_time": "2023-03-13T06:26:13.284Z"
   },
   {
    "duration": 7,
    "start_time": "2023-03-13T06:26:13.339Z"
   },
   {
    "duration": 30,
    "start_time": "2023-03-13T06:26:13.348Z"
   },
   {
    "duration": 111,
    "start_time": "2023-03-13T06:26:13.392Z"
   },
   {
    "duration": 14,
    "start_time": "2023-03-13T06:26:13.505Z"
   },
   {
    "duration": 6,
    "start_time": "2023-03-13T06:26:14.204Z"
   },
   {
    "duration": 6,
    "start_time": "2023-03-13T06:26:14.211Z"
   },
   {
    "duration": 308,
    "start_time": "2023-03-13T06:26:14.931Z"
   },
   {
    "duration": 356,
    "start_time": "2023-03-13T06:26:15.240Z"
   },
   {
    "duration": 120,
    "start_time": "2023-03-13T06:26:15.599Z"
   },
   {
    "duration": 69,
    "start_time": "2023-03-13T06:26:15.721Z"
   },
   {
    "duration": 22,
    "start_time": "2023-03-13T06:26:15.794Z"
   },
   {
    "duration": 80,
    "start_time": "2023-03-13T06:26:15.817Z"
   },
   {
    "duration": 97,
    "start_time": "2023-03-13T06:26:15.899Z"
   },
   {
    "duration": 10,
    "start_time": "2023-03-13T06:26:15.998Z"
   },
   {
    "duration": 4,
    "start_time": "2023-03-13T06:26:16.009Z"
   },
   {
    "duration": 9,
    "start_time": "2023-03-13T06:26:16.014Z"
   },
   {
    "duration": 11,
    "start_time": "2023-03-13T06:26:16.025Z"
   },
   {
    "duration": 8,
    "start_time": "2023-03-13T06:26:16.037Z"
   },
   {
    "duration": 43,
    "start_time": "2023-03-13T06:26:16.046Z"
   },
   {
    "duration": 36,
    "start_time": "2023-03-13T06:26:16.094Z"
   },
   {
    "duration": 8,
    "start_time": "2023-03-13T06:26:16.131Z"
   },
   {
    "duration": 7,
    "start_time": "2023-03-13T06:26:16.141Z"
   },
   {
    "duration": 56,
    "start_time": "2023-03-13T06:26:16.150Z"
   },
   {
    "duration": 90,
    "start_time": "2023-03-13T06:26:16.207Z"
   },
   {
    "duration": 80,
    "start_time": "2023-03-13T06:26:16.299Z"
   },
   {
    "duration": 11,
    "start_time": "2023-03-13T06:26:16.381Z"
   },
   {
    "duration": 6,
    "start_time": "2023-03-13T06:26:16.393Z"
   },
   {
    "duration": 6,
    "start_time": "2023-03-13T06:26:16.400Z"
   },
   {
    "duration": 4,
    "start_time": "2023-03-13T06:26:16.408Z"
   },
   {
    "duration": 5,
    "start_time": "2023-03-13T06:26:16.413Z"
   },
   {
    "duration": 6,
    "start_time": "2023-03-13T06:26:16.419Z"
   },
   {
    "duration": 6,
    "start_time": "2023-03-13T06:26:16.426Z"
   },
   {
    "duration": 5,
    "start_time": "2023-03-13T06:26:16.434Z"
   },
   {
    "duration": 19,
    "start_time": "2023-03-13T06:26:16.441Z"
   },
   {
    "duration": 16,
    "start_time": "2023-03-13T06:26:16.468Z"
   },
   {
    "duration": 10,
    "start_time": "2023-03-13T06:26:16.485Z"
   },
   {
    "duration": 9,
    "start_time": "2023-03-13T06:26:16.496Z"
   },
   {
    "duration": 6,
    "start_time": "2023-03-13T06:26:16.506Z"
   },
   {
    "duration": 6,
    "start_time": "2023-03-13T06:26:16.513Z"
   },
   {
    "duration": 11,
    "start_time": "2023-03-13T06:26:16.521Z"
   },
   {
    "duration": 4,
    "start_time": "2023-03-13T06:26:16.534Z"
   },
   {
    "duration": 28,
    "start_time": "2023-03-13T06:26:16.540Z"
   },
   {
    "duration": 17,
    "start_time": "2023-03-13T06:26:16.569Z"
   },
   {
    "duration": 6,
    "start_time": "2023-03-13T06:26:16.593Z"
   },
   {
    "duration": 6,
    "start_time": "2023-03-13T06:26:16.602Z"
   },
   {
    "duration": 5,
    "start_time": "2023-03-13T06:26:16.738Z"
   },
   {
    "duration": 7,
    "start_time": "2023-03-13T06:26:16.745Z"
   },
   {
    "duration": 188,
    "start_time": "2023-03-13T06:28:08.192Z"
   },
   {
    "duration": 71,
    "start_time": "2023-03-13T06:29:41.210Z"
   },
   {
    "duration": 8,
    "start_time": "2023-03-13T06:29:52.670Z"
   },
   {
    "duration": 12,
    "start_time": "2023-03-13T06:32:03.109Z"
   },
   {
    "duration": 12,
    "start_time": "2023-03-13T06:32:03.779Z"
   },
   {
    "duration": 8,
    "start_time": "2023-03-13T06:32:04.393Z"
   },
   {
    "duration": 27,
    "start_time": "2023-03-13T06:35:24.311Z"
   },
   {
    "duration": 17,
    "start_time": "2023-03-13T06:35:50.011Z"
   },
   {
    "duration": 16,
    "start_time": "2023-03-13T06:48:15.776Z"
   },
   {
    "duration": 1019,
    "start_time": "2023-03-13T06:48:30.265Z"
   },
   {
    "duration": 211,
    "start_time": "2023-03-13T06:48:31.286Z"
   },
   {
    "duration": 18,
    "start_time": "2023-03-13T06:48:31.498Z"
   },
   {
    "duration": 10,
    "start_time": "2023-03-13T06:48:31.518Z"
   },
   {
    "duration": 979,
    "start_time": "2023-03-13T06:48:31.529Z"
   },
   {
    "duration": 17,
    "start_time": "2023-03-13T06:48:32.509Z"
   },
   {
    "duration": 90,
    "start_time": "2023-03-13T06:48:32.528Z"
   },
   {
    "duration": 79,
    "start_time": "2023-03-13T06:48:32.620Z"
   },
   {
    "duration": 18,
    "start_time": "2023-03-13T06:48:32.700Z"
   },
   {
    "duration": 11,
    "start_time": "2023-03-13T06:48:32.721Z"
   },
   {
    "duration": 25,
    "start_time": "2023-03-13T06:48:32.734Z"
   },
   {
    "duration": 18,
    "start_time": "2023-03-13T06:48:32.761Z"
   },
   {
    "duration": 50,
    "start_time": "2023-03-13T06:48:32.781Z"
   },
   {
    "duration": 23,
    "start_time": "2023-03-13T06:48:32.832Z"
   },
   {
    "duration": 13,
    "start_time": "2023-03-13T06:48:32.856Z"
   },
   {
    "duration": 128,
    "start_time": "2023-03-13T06:48:32.871Z"
   },
   {
    "duration": 15,
    "start_time": "2023-03-13T06:48:33.000Z"
   },
   {
    "duration": 7,
    "start_time": "2023-03-13T06:48:33.016Z"
   },
   {
    "duration": 135,
    "start_time": "2023-03-13T06:48:33.024Z"
   },
   {
    "duration": 0,
    "start_time": "2023-03-13T06:48:33.162Z"
   },
   {
    "duration": 0,
    "start_time": "2023-03-13T06:48:33.163Z"
   },
   {
    "duration": 0,
    "start_time": "2023-03-13T06:48:33.165Z"
   },
   {
    "duration": 0,
    "start_time": "2023-03-13T06:48:33.166Z"
   },
   {
    "duration": 0,
    "start_time": "2023-03-13T06:48:33.168Z"
   },
   {
    "duration": 0,
    "start_time": "2023-03-13T06:48:33.169Z"
   },
   {
    "duration": 0,
    "start_time": "2023-03-13T06:48:33.170Z"
   },
   {
    "duration": 0,
    "start_time": "2023-03-13T06:48:33.171Z"
   },
   {
    "duration": 0,
    "start_time": "2023-03-13T06:48:33.173Z"
   },
   {
    "duration": 0,
    "start_time": "2023-03-13T06:48:33.174Z"
   },
   {
    "duration": 0,
    "start_time": "2023-03-13T06:48:33.176Z"
   },
   {
    "duration": 0,
    "start_time": "2023-03-13T06:48:33.177Z"
   },
   {
    "duration": 1,
    "start_time": "2023-03-13T06:48:33.178Z"
   },
   {
    "duration": 0,
    "start_time": "2023-03-13T06:48:33.180Z"
   },
   {
    "duration": 0,
    "start_time": "2023-03-13T06:48:33.181Z"
   },
   {
    "duration": 0,
    "start_time": "2023-03-13T06:48:33.183Z"
   },
   {
    "duration": 0,
    "start_time": "2023-03-13T06:48:33.184Z"
   },
   {
    "duration": 0,
    "start_time": "2023-03-13T06:48:33.186Z"
   },
   {
    "duration": 0,
    "start_time": "2023-03-13T06:48:33.187Z"
   },
   {
    "duration": 0,
    "start_time": "2023-03-13T06:48:33.189Z"
   },
   {
    "duration": 0,
    "start_time": "2023-03-13T06:48:33.190Z"
   },
   {
    "duration": 0,
    "start_time": "2023-03-13T06:48:33.192Z"
   },
   {
    "duration": 0,
    "start_time": "2023-03-13T06:48:33.193Z"
   },
   {
    "duration": 0,
    "start_time": "2023-03-13T06:48:33.194Z"
   },
   {
    "duration": 0,
    "start_time": "2023-03-13T06:48:33.196Z"
   },
   {
    "duration": 0,
    "start_time": "2023-03-13T06:48:33.255Z"
   },
   {
    "duration": 0,
    "start_time": "2023-03-13T06:48:33.256Z"
   },
   {
    "duration": 0,
    "start_time": "2023-03-13T06:48:33.258Z"
   },
   {
    "duration": 0,
    "start_time": "2023-03-13T06:48:33.259Z"
   },
   {
    "duration": 0,
    "start_time": "2023-03-13T06:48:33.261Z"
   },
   {
    "duration": 0,
    "start_time": "2023-03-13T06:48:33.262Z"
   },
   {
    "duration": 0,
    "start_time": "2023-03-13T06:48:33.263Z"
   },
   {
    "duration": 0,
    "start_time": "2023-03-13T06:48:33.264Z"
   },
   {
    "duration": 0,
    "start_time": "2023-03-13T06:48:33.266Z"
   },
   {
    "duration": 0,
    "start_time": "2023-03-13T06:48:33.268Z"
   },
   {
    "duration": 0,
    "start_time": "2023-03-13T06:48:33.269Z"
   },
   {
    "duration": 0,
    "start_time": "2023-03-13T06:48:33.270Z"
   },
   {
    "duration": 0,
    "start_time": "2023-03-13T06:48:33.272Z"
   },
   {
    "duration": 1,
    "start_time": "2023-03-13T06:48:33.273Z"
   },
   {
    "duration": 0,
    "start_time": "2023-03-13T06:48:33.275Z"
   },
   {
    "duration": 0,
    "start_time": "2023-03-13T06:48:33.276Z"
   },
   {
    "duration": 0,
    "start_time": "2023-03-13T06:48:33.277Z"
   },
   {
    "duration": 22,
    "start_time": "2023-03-13T06:48:52.225Z"
   },
   {
    "duration": 15,
    "start_time": "2023-03-13T06:49:17.470Z"
   },
   {
    "duration": 22,
    "start_time": "2023-03-13T06:49:22.925Z"
   },
   {
    "duration": 16,
    "start_time": "2023-03-13T06:51:56.472Z"
   },
   {
    "duration": 37,
    "start_time": "2023-03-13T06:52:06.849Z"
   },
   {
    "duration": 1055,
    "start_time": "2023-03-13T06:52:24.846Z"
   },
   {
    "duration": 225,
    "start_time": "2023-03-13T06:52:25.903Z"
   },
   {
    "duration": 35,
    "start_time": "2023-03-13T06:52:26.130Z"
   },
   {
    "duration": 8,
    "start_time": "2023-03-13T06:52:26.175Z"
   },
   {
    "duration": 1278,
    "start_time": "2023-03-13T06:52:26.186Z"
   },
   {
    "duration": 22,
    "start_time": "2023-03-13T06:52:27.465Z"
   },
   {
    "duration": 86,
    "start_time": "2023-03-13T06:52:27.489Z"
   },
   {
    "duration": 87,
    "start_time": "2023-03-13T06:52:27.576Z"
   },
   {
    "duration": 26,
    "start_time": "2023-03-13T06:52:27.677Z"
   },
   {
    "duration": 12,
    "start_time": "2023-03-13T06:52:27.705Z"
   },
   {
    "duration": 7,
    "start_time": "2023-03-13T06:52:27.719Z"
   },
   {
    "duration": 11,
    "start_time": "2023-03-13T06:52:27.728Z"
   },
   {
    "duration": 60,
    "start_time": "2023-03-13T06:52:27.741Z"
   },
   {
    "duration": 7,
    "start_time": "2023-03-13T06:52:27.805Z"
   },
   {
    "duration": 15,
    "start_time": "2023-03-13T06:52:27.813Z"
   },
   {
    "duration": 150,
    "start_time": "2023-03-13T06:52:27.829Z"
   },
   {
    "duration": 15,
    "start_time": "2023-03-13T06:52:27.981Z"
   },
   {
    "duration": 7,
    "start_time": "2023-03-13T06:52:27.998Z"
   },
   {
    "duration": 82,
    "start_time": "2023-03-13T06:52:28.007Z"
   },
   {
    "duration": 5,
    "start_time": "2023-03-13T06:52:28.091Z"
   },
   {
    "duration": 435,
    "start_time": "2023-03-13T06:52:28.098Z"
   },
   {
    "duration": 313,
    "start_time": "2023-03-13T06:52:28.535Z"
   },
   {
    "duration": 87,
    "start_time": "2023-03-13T06:52:28.849Z"
   },
   {
    "duration": 68,
    "start_time": "2023-03-13T06:52:28.939Z"
   },
   {
    "duration": 19,
    "start_time": "2023-03-13T06:52:29.009Z"
   },
   {
    "duration": 96,
    "start_time": "2023-03-13T06:52:29.030Z"
   },
   {
    "duration": 261,
    "start_time": "2023-03-13T06:52:29.128Z"
   },
   {
    "duration": 10,
    "start_time": "2023-03-13T06:52:29.390Z"
   },
   {
    "duration": 5,
    "start_time": "2023-03-13T06:52:29.401Z"
   },
   {
    "duration": 7,
    "start_time": "2023-03-13T06:52:29.407Z"
   },
   {
    "duration": 6,
    "start_time": "2023-03-13T06:52:29.415Z"
   },
   {
    "duration": 39,
    "start_time": "2023-03-13T06:52:29.423Z"
   },
   {
    "duration": 14,
    "start_time": "2023-03-13T06:52:29.463Z"
   },
   {
    "duration": 113,
    "start_time": "2023-03-13T06:52:29.479Z"
   },
   {
    "duration": 11,
    "start_time": "2023-03-13T06:52:29.594Z"
   },
   {
    "duration": 7,
    "start_time": "2023-03-13T06:52:29.607Z"
   },
   {
    "duration": 74,
    "start_time": "2023-03-13T06:52:29.615Z"
   },
   {
    "duration": 101,
    "start_time": "2023-03-13T06:52:29.691Z"
   },
   {
    "duration": 67,
    "start_time": "2023-03-13T06:52:29.794Z"
   },
   {
    "duration": 7,
    "start_time": "2023-03-13T06:52:29.876Z"
   },
   {
    "duration": 6,
    "start_time": "2023-03-13T06:52:29.890Z"
   },
   {
    "duration": 8,
    "start_time": "2023-03-13T06:52:29.898Z"
   },
   {
    "duration": 6,
    "start_time": "2023-03-13T06:52:29.908Z"
   },
   {
    "duration": 4,
    "start_time": "2023-03-13T06:52:29.916Z"
   },
   {
    "duration": 7,
    "start_time": "2023-03-13T06:52:29.922Z"
   },
   {
    "duration": 38,
    "start_time": "2023-03-13T06:52:29.930Z"
   },
   {
    "duration": 8,
    "start_time": "2023-03-13T06:52:29.969Z"
   },
   {
    "duration": 6,
    "start_time": "2023-03-13T06:52:29.978Z"
   },
   {
    "duration": 6,
    "start_time": "2023-03-13T06:52:29.985Z"
   },
   {
    "duration": 4,
    "start_time": "2023-03-13T06:52:29.993Z"
   },
   {
    "duration": 7,
    "start_time": "2023-03-13T06:52:29.998Z"
   },
   {
    "duration": 23,
    "start_time": "2023-03-13T06:52:30.006Z"
   },
   {
    "duration": 6,
    "start_time": "2023-03-13T06:52:30.031Z"
   },
   {
    "duration": 33,
    "start_time": "2023-03-13T06:52:30.039Z"
   },
   {
    "duration": 12,
    "start_time": "2023-03-13T06:52:30.074Z"
   },
   {
    "duration": 16,
    "start_time": "2023-03-13T06:52:30.088Z"
   },
   {
    "duration": 26,
    "start_time": "2023-03-13T06:52:30.106Z"
   },
   {
    "duration": 8,
    "start_time": "2023-03-13T06:52:30.134Z"
   },
   {
    "duration": 25,
    "start_time": "2023-03-13T06:52:30.143Z"
   },
   {
    "duration": 5,
    "start_time": "2023-03-13T06:52:30.171Z"
   },
   {
    "duration": 8,
    "start_time": "2023-03-13T06:52:30.178Z"
   },
   {
    "duration": 36,
    "start_time": "2023-03-13T06:52:59.372Z"
   },
   {
    "duration": 1124,
    "start_time": "2023-03-13T17:25:31.269Z"
   },
   {
    "duration": 1141,
    "start_time": "2023-03-13T17:25:32.395Z"
   },
   {
    "duration": 35,
    "start_time": "2023-03-13T17:25:33.539Z"
   },
   {
    "duration": 11,
    "start_time": "2023-03-13T17:25:33.577Z"
   },
   {
    "duration": 1256,
    "start_time": "2023-03-13T17:25:33.590Z"
   },
   {
    "duration": 31,
    "start_time": "2023-03-13T17:25:34.848Z"
   },
   {
    "duration": 114,
    "start_time": "2023-03-13T17:25:34.881Z"
   },
   {
    "duration": 95,
    "start_time": "2023-03-13T17:25:34.998Z"
   },
   {
    "duration": 39,
    "start_time": "2023-03-13T17:25:35.095Z"
   },
   {
    "duration": 16,
    "start_time": "2023-03-13T17:25:35.138Z"
   },
   {
    "duration": 12,
    "start_time": "2023-03-13T17:25:35.155Z"
   },
   {
    "duration": 28,
    "start_time": "2023-03-13T17:25:35.169Z"
   },
   {
    "duration": 71,
    "start_time": "2023-03-13T17:25:35.200Z"
   },
   {
    "duration": 7,
    "start_time": "2023-03-13T17:25:35.274Z"
   },
   {
    "duration": 18,
    "start_time": "2023-03-13T17:25:35.283Z"
   },
   {
    "duration": 164,
    "start_time": "2023-03-13T17:25:35.303Z"
   },
   {
    "duration": 18,
    "start_time": "2023-03-13T17:25:35.469Z"
   },
   {
    "duration": 6,
    "start_time": "2023-03-13T17:25:35.489Z"
   },
   {
    "duration": 57,
    "start_time": "2023-03-13T17:25:35.497Z"
   },
   {
    "duration": 7,
    "start_time": "2023-03-13T17:25:35.555Z"
   },
   {
    "duration": 635,
    "start_time": "2023-03-13T17:25:35.565Z"
   },
   {
    "duration": 461,
    "start_time": "2023-03-13T17:25:36.203Z"
   },
   {
    "duration": 124,
    "start_time": "2023-03-13T17:25:36.667Z"
   },
   {
    "duration": 78,
    "start_time": "2023-03-13T17:25:36.793Z"
   },
   {
    "duration": 57,
    "start_time": "2023-03-13T17:25:36.874Z"
   },
   {
    "duration": 119,
    "start_time": "2023-03-13T17:25:36.936Z"
   },
   {
    "duration": 411,
    "start_time": "2023-03-13T17:25:37.061Z"
   },
   {
    "duration": 13,
    "start_time": "2023-03-13T17:25:37.475Z"
   },
   {
    "duration": 7,
    "start_time": "2023-03-13T17:25:37.490Z"
   },
   {
    "duration": 31,
    "start_time": "2023-03-13T17:25:37.499Z"
   },
   {
    "duration": 22,
    "start_time": "2023-03-13T17:25:37.533Z"
   },
   {
    "duration": 12,
    "start_time": "2023-03-13T17:25:37.558Z"
   },
   {
    "duration": 13,
    "start_time": "2023-03-13T17:25:37.572Z"
   },
   {
    "duration": 104,
    "start_time": "2023-03-13T17:25:37.587Z"
   },
   {
    "duration": 12,
    "start_time": "2023-03-13T17:25:37.693Z"
   },
   {
    "duration": 28,
    "start_time": "2023-03-13T17:25:37.706Z"
   },
   {
    "duration": 46,
    "start_time": "2023-03-13T17:25:37.736Z"
   },
   {
    "duration": 104,
    "start_time": "2023-03-13T17:25:37.784Z"
   },
   {
    "duration": 86,
    "start_time": "2023-03-13T17:25:37.890Z"
   },
   {
    "duration": 8,
    "start_time": "2023-03-13T17:25:37.978Z"
   },
   {
    "duration": 9,
    "start_time": "2023-03-13T17:25:37.991Z"
   },
   {
    "duration": 25,
    "start_time": "2023-03-13T17:25:38.002Z"
   },
   {
    "duration": 16,
    "start_time": "2023-03-13T17:25:38.033Z"
   },
   {
    "duration": 9,
    "start_time": "2023-03-13T17:25:38.051Z"
   },
   {
    "duration": 12,
    "start_time": "2023-03-13T17:25:38.061Z"
   },
   {
    "duration": 8,
    "start_time": "2023-03-13T17:25:38.075Z"
   },
   {
    "duration": 28,
    "start_time": "2023-03-13T17:25:38.085Z"
   },
   {
    "duration": 12,
    "start_time": "2023-03-13T17:25:38.115Z"
   },
   {
    "duration": 9,
    "start_time": "2023-03-13T17:25:38.134Z"
   },
   {
    "duration": 24,
    "start_time": "2023-03-13T17:25:38.145Z"
   },
   {
    "duration": 33,
    "start_time": "2023-03-13T17:25:38.171Z"
   },
   {
    "duration": 22,
    "start_time": "2023-03-13T17:25:38.205Z"
   },
   {
    "duration": 7,
    "start_time": "2023-03-13T17:25:38.233Z"
   },
   {
    "duration": 7,
    "start_time": "2023-03-13T17:25:38.247Z"
   },
   {
    "duration": 10,
    "start_time": "2023-03-13T17:25:38.259Z"
   },
   {
    "duration": 18,
    "start_time": "2023-03-13T17:25:38.271Z"
   },
   {
    "duration": 9,
    "start_time": "2023-03-13T17:25:38.291Z"
   },
   {
    "duration": 30,
    "start_time": "2023-03-13T17:25:38.304Z"
   },
   {
    "duration": 10,
    "start_time": "2023-03-13T17:25:38.340Z"
   },
   {
    "duration": 8,
    "start_time": "2023-03-13T17:25:38.352Z"
   },
   {
    "duration": 6,
    "start_time": "2023-03-13T17:25:38.363Z"
   },
   {
    "duration": 3,
    "start_time": "2023-03-14T04:51:21.216Z"
   },
   {
    "duration": 170,
    "start_time": "2023-03-14T04:51:21.221Z"
   },
   {
    "duration": 19,
    "start_time": "2023-03-14T04:51:21.393Z"
   },
   {
    "duration": 18,
    "start_time": "2023-03-14T04:51:21.414Z"
   },
   {
    "duration": 1139,
    "start_time": "2023-03-14T04:51:21.434Z"
   },
   {
    "duration": 21,
    "start_time": "2023-03-14T04:51:22.574Z"
   },
   {
    "duration": 86,
    "start_time": "2023-03-14T04:51:22.598Z"
   },
   {
    "duration": 74,
    "start_time": "2023-03-14T04:51:22.685Z"
   },
   {
    "duration": 22,
    "start_time": "2023-03-14T04:51:22.761Z"
   },
   {
    "duration": 11,
    "start_time": "2023-03-14T04:51:22.784Z"
   },
   {
    "duration": 8,
    "start_time": "2023-03-14T04:51:22.797Z"
   },
   {
    "duration": 33,
    "start_time": "2023-03-14T04:51:22.807Z"
   },
   {
    "duration": 57,
    "start_time": "2023-03-14T04:51:22.842Z"
   },
   {
    "duration": 9,
    "start_time": "2023-03-14T04:51:22.901Z"
   },
   {
    "duration": 37,
    "start_time": "2023-03-14T04:51:22.912Z"
   },
   {
    "duration": 132,
    "start_time": "2023-03-14T04:51:22.951Z"
   },
   {
    "duration": 17,
    "start_time": "2023-03-14T04:51:23.085Z"
   },
   {
    "duration": 8,
    "start_time": "2023-03-14T04:51:23.104Z"
   },
   {
    "duration": 53,
    "start_time": "2023-03-14T04:51:23.113Z"
   },
   {
    "duration": 6,
    "start_time": "2023-03-14T04:51:23.168Z"
   },
   {
    "duration": 359,
    "start_time": "2023-03-14T04:51:23.176Z"
   },
   {
    "duration": 326,
    "start_time": "2023-03-14T04:51:23.540Z"
   },
   {
    "duration": 97,
    "start_time": "2023-03-14T04:51:23.868Z"
   },
   {
    "duration": 53,
    "start_time": "2023-03-14T04:51:23.966Z"
   },
   {
    "duration": 34,
    "start_time": "2023-03-14T04:51:24.020Z"
   },
   {
    "duration": 70,
    "start_time": "2023-03-14T04:51:24.055Z"
   },
   {
    "duration": 76,
    "start_time": "2023-03-14T04:51:24.141Z"
   },
   {
    "duration": 23,
    "start_time": "2023-03-14T04:51:24.219Z"
   },
   {
    "duration": 4,
    "start_time": "2023-03-14T04:51:24.243Z"
   },
   {
    "duration": 7,
    "start_time": "2023-03-14T04:51:24.248Z"
   },
   {
    "duration": 7,
    "start_time": "2023-03-14T04:51:24.256Z"
   },
   {
    "duration": 6,
    "start_time": "2023-03-14T04:51:24.264Z"
   },
   {
    "duration": 7,
    "start_time": "2023-03-14T04:51:24.272Z"
   },
   {
    "duration": 61,
    "start_time": "2023-03-14T04:51:24.281Z"
   },
   {
    "duration": 7,
    "start_time": "2023-03-14T04:51:24.343Z"
   },
   {
    "duration": 7,
    "start_time": "2023-03-14T04:51:24.352Z"
   },
   {
    "duration": 27,
    "start_time": "2023-03-14T04:51:24.360Z"
   },
   {
    "duration": 91,
    "start_time": "2023-03-14T04:51:24.389Z"
   },
   {
    "duration": 60,
    "start_time": "2023-03-14T04:51:24.482Z"
   },
   {
    "duration": 8,
    "start_time": "2023-03-14T04:51:24.543Z"
   },
   {
    "duration": 5,
    "start_time": "2023-03-14T04:51:24.553Z"
   },
   {
    "duration": 29,
    "start_time": "2023-03-14T04:51:24.560Z"
   },
   {
    "duration": 12,
    "start_time": "2023-03-14T04:51:24.590Z"
   },
   {
    "duration": 9,
    "start_time": "2023-03-14T04:51:24.604Z"
   },
   {
    "duration": 8,
    "start_time": "2023-03-14T04:51:24.615Z"
   },
   {
    "duration": 9,
    "start_time": "2023-03-14T04:51:24.624Z"
   },
   {
    "duration": 20,
    "start_time": "2023-03-14T04:51:24.635Z"
   },
   {
    "duration": 6,
    "start_time": "2023-03-14T04:51:24.656Z"
   },
   {
    "duration": 5,
    "start_time": "2023-03-14T04:51:24.664Z"
   },
   {
    "duration": 5,
    "start_time": "2023-03-14T04:51:24.670Z"
   },
   {
    "duration": 7,
    "start_time": "2023-03-14T04:51:24.676Z"
   },
   {
    "duration": 8,
    "start_time": "2023-03-14T04:51:24.684Z"
   },
   {
    "duration": 6,
    "start_time": "2023-03-14T04:51:24.693Z"
   },
   {
    "duration": 6,
    "start_time": "2023-03-14T04:51:24.701Z"
   },
   {
    "duration": 35,
    "start_time": "2023-03-14T04:51:24.708Z"
   },
   {
    "duration": 16,
    "start_time": "2023-03-14T04:51:24.745Z"
   },
   {
    "duration": 9,
    "start_time": "2023-03-14T04:51:24.763Z"
   },
   {
    "duration": 9,
    "start_time": "2023-03-14T04:51:24.773Z"
   },
   {
    "duration": 5,
    "start_time": "2023-03-14T04:51:24.783Z"
   },
   {
    "duration": 6,
    "start_time": "2023-03-14T04:51:24.789Z"
   },
   {
    "duration": 6,
    "start_time": "2023-03-14T04:51:24.796Z"
   },
   {
    "duration": 83,
    "start_time": "2023-03-14T04:52:06.660Z"
   },
   {
    "duration": 1024,
    "start_time": "2023-03-14T04:52:16.193Z"
   },
   {
    "duration": 269,
    "start_time": "2023-03-14T04:52:17.219Z"
   },
   {
    "duration": 28,
    "start_time": "2023-03-14T04:52:17.490Z"
   },
   {
    "duration": 24,
    "start_time": "2023-03-14T04:52:17.520Z"
   },
   {
    "duration": 944,
    "start_time": "2023-03-14T04:52:17.547Z"
   },
   {
    "duration": 20,
    "start_time": "2023-03-14T04:52:18.493Z"
   },
   {
    "duration": 92,
    "start_time": "2023-03-14T04:52:18.515Z"
   },
   {
    "duration": 84,
    "start_time": "2023-03-14T04:52:18.609Z"
   },
   {
    "duration": 22,
    "start_time": "2023-03-14T04:52:18.694Z"
   },
   {
    "duration": 26,
    "start_time": "2023-03-14T04:52:18.717Z"
   },
   {
    "duration": 8,
    "start_time": "2023-03-14T04:52:18.744Z"
   },
   {
    "duration": 8,
    "start_time": "2023-03-14T04:52:18.753Z"
   },
   {
    "duration": 53,
    "start_time": "2023-03-14T04:52:18.763Z"
   },
   {
    "duration": 8,
    "start_time": "2023-03-14T04:52:18.840Z"
   },
   {
    "duration": 19,
    "start_time": "2023-03-14T04:52:18.849Z"
   },
   {
    "duration": 140,
    "start_time": "2023-03-14T04:52:18.870Z"
   },
   {
    "duration": 32,
    "start_time": "2023-03-14T04:52:19.012Z"
   },
   {
    "duration": 6,
    "start_time": "2023-03-14T04:52:19.046Z"
   },
   {
    "duration": 31,
    "start_time": "2023-03-14T04:52:19.053Z"
   },
   {
    "duration": 6,
    "start_time": "2023-03-14T04:52:19.086Z"
   },
   {
    "duration": 471,
    "start_time": "2023-03-14T04:52:19.094Z"
   },
   {
    "duration": 322,
    "start_time": "2023-03-14T04:52:19.567Z"
   },
   {
    "duration": 92,
    "start_time": "2023-03-14T04:52:19.890Z"
   },
   {
    "duration": 67,
    "start_time": "2023-03-14T04:52:19.983Z"
   },
   {
    "duration": 22,
    "start_time": "2023-03-14T04:52:20.052Z"
   },
   {
    "duration": 78,
    "start_time": "2023-03-14T04:52:20.075Z"
   },
   {
    "duration": 229,
    "start_time": "2023-03-14T04:52:20.155Z"
   },
   {
    "duration": 9,
    "start_time": "2023-03-14T04:52:20.386Z"
   },
   {
    "duration": 7,
    "start_time": "2023-03-14T04:52:20.397Z"
   },
   {
    "duration": 11,
    "start_time": "2023-03-14T04:52:20.405Z"
   },
   {
    "duration": 26,
    "start_time": "2023-03-14T04:52:20.417Z"
   },
   {
    "duration": 18,
    "start_time": "2023-03-14T04:52:20.444Z"
   },
   {
    "duration": 12,
    "start_time": "2023-03-14T04:52:20.464Z"
   },
   {
    "duration": 83,
    "start_time": "2023-03-14T04:52:20.477Z"
   },
   {
    "duration": 12,
    "start_time": "2023-03-14T04:52:20.562Z"
   },
   {
    "duration": 8,
    "start_time": "2023-03-14T04:52:20.575Z"
   },
   {
    "duration": 58,
    "start_time": "2023-03-14T04:52:20.585Z"
   },
   {
    "duration": 81,
    "start_time": "2023-03-14T04:52:20.644Z"
   },
   {
    "duration": 74,
    "start_time": "2023-03-14T04:52:20.727Z"
   },
   {
    "duration": 8,
    "start_time": "2023-03-14T04:52:20.802Z"
   },
   {
    "duration": 6,
    "start_time": "2023-03-14T04:52:20.813Z"
   },
   {
    "duration": 4,
    "start_time": "2023-03-14T04:52:20.842Z"
   },
   {
    "duration": 6,
    "start_time": "2023-03-14T04:52:20.848Z"
   },
   {
    "duration": 6,
    "start_time": "2023-03-14T04:52:20.855Z"
   },
   {
    "duration": 13,
    "start_time": "2023-03-14T04:52:20.863Z"
   },
   {
    "duration": 28,
    "start_time": "2023-03-14T04:52:20.878Z"
   },
   {
    "duration": 14,
    "start_time": "2023-03-14T04:52:20.907Z"
   },
   {
    "duration": 25,
    "start_time": "2023-03-14T04:52:20.922Z"
   },
   {
    "duration": 14,
    "start_time": "2023-03-14T04:52:20.948Z"
   },
   {
    "duration": 7,
    "start_time": "2023-03-14T04:52:20.964Z"
   },
   {
    "duration": 25,
    "start_time": "2023-03-14T04:52:20.972Z"
   },
   {
    "duration": 15,
    "start_time": "2023-03-14T04:52:20.999Z"
   },
   {
    "duration": 14,
    "start_time": "2023-03-14T04:52:21.016Z"
   },
   {
    "duration": 19,
    "start_time": "2023-03-14T04:52:21.032Z"
   },
   {
    "duration": 19,
    "start_time": "2023-03-14T04:52:21.053Z"
   },
   {
    "duration": 19,
    "start_time": "2023-03-14T04:52:21.074Z"
   },
   {
    "duration": 16,
    "start_time": "2023-03-14T04:52:21.095Z"
   },
   {
    "duration": 9,
    "start_time": "2023-03-14T04:52:21.112Z"
   },
   {
    "duration": 5,
    "start_time": "2023-03-14T04:52:21.123Z"
   },
   {
    "duration": 6,
    "start_time": "2023-03-14T04:52:21.130Z"
   },
   {
    "duration": 6,
    "start_time": "2023-03-14T04:52:21.137Z"
   }
  ],
  "kernelspec": {
   "display_name": "Python 3 (ipykernel)",
   "language": "python",
   "name": "python3"
  },
  "language_info": {
   "codemirror_mode": {
    "name": "ipython",
    "version": 3
   },
   "file_extension": ".py",
   "mimetype": "text/x-python",
   "name": "python",
   "nbconvert_exporter": "python",
   "pygments_lexer": "ipython3",
   "version": "3.9.13"
  },
  "toc": {
   "base_numbering": 1,
   "nav_menu": {},
   "number_sections": true,
   "sideBar": true,
   "skip_h1_title": true,
   "title_cell": "Содержание",
   "title_sidebar": "Contents",
   "toc_cell": true,
   "toc_position": {},
   "toc_section_display": true,
   "toc_window_display": false
  }
 },
 "nbformat": 4,
 "nbformat_minor": 5
}
